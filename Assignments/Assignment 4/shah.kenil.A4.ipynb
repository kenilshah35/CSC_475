{
 "cells": [
  {
   "cell_type": "code",
   "execution_count": 1,
   "metadata": {
    "deletable": false,
    "editable": false
   },
   "outputs": [],
   "source": [
    "# Initialize Otter\n",
    "import otter\n",
    "grader = otter.Notebook(\"csc475-575-Spring2022-assignment4.ipynb\")"
   ]
  },
  {
   "cell_type": "markdown",
   "metadata": {},
   "source": [
    "# CSC475/575 Spring 2022 - Assignment 4\n",
    "\n",
    "This assignment covers topics related to genre classification and collection visualizaton. Information about the course can be found at the \n",
    "[CSC475/575 Brightspace](https://bright.uvic.ca/d2l/home/196001). \n",
    "\n",
    "\n",
    "* A4.1: Genre classification   \n",
    "* A4.2: Comparison of classifiers  \n",
    "* A4.3: Mean and std of beats as features  \n",
    "* A4.4: Scattar plots using beat features, PCA, t-SNE   \n",
    "* A4.5: musicnn tags -> naive bayes classifier \n",
    "\n",
    "CSC575 only (instead of A4.1): \n",
    "* A4.G: visualization of tags and confusion matrix \n",
    "\n",
    "Each question is worth 2 points for a total of 10 points for the assignment. \n"
   ]
  },
  {
   "cell_type": "code",
   "execution_count": 2,
   "metadata": {},
   "outputs": [],
   "source": [
    "import numpy as np\n",
    "import random\n",
    "import IPython.display as ipd\n",
    "import matplotlib.pyplot as plt\n",
    "import math \n",
    "%matplotlib inline\n",
    "import otter\n",
    "grader = otter.Notebook()\n",
    "\n",
    "from sklearn.model_selection import cross_val_score\n",
    "from sklearn.neighbors import KNeighborsClassifier\n",
    "from sklearn.svm import LinearSVC\n",
    "from sklearn import preprocessing\n",
    "from sklearn.datasets import load_svmlight_file\n",
    "from sklearn import svm, metrics\n",
    "from sklearn.model_selection import cross_val_predict\n",
    "from sklearn.tree import DecisionTreeClassifier\n",
    "from sklearn.naive_bayes import GaussianNB\n",
    "import os\n",
    "from sklearn.mixture import GaussianMixture\n",
    "from sklearn.decomposition import PCA\n",
    "from sklearn.cluster import KMeans\n",
    "from sklearn.cluster import MiniBatchKMeans\n",
    "from sklearn.cluster import SpectralClustering\n",
    "from sklearn.manifold import TSNE"
   ]
  },
  {
   "cell_type": "markdown",
   "metadata": {},
   "source": [
    "#### **Question A4.1 (basic):** \n",
    " \n",
    "\n",
    "This question is based on this file containing audio features for 3 genres (classical, jazz, and metal) from the GTZAN dataset. It is in svmlight format that scikit-learn can read (the file is provided as an attachment to the assignment). \n",
    "\n",
    "\n",
    "`3genres_full.arff.libsvm`\n",
    "\n",
    "Read the file and perform a classification experiment using a K nearest neighbor classifier (K=3). Each file is represented by 124 audio features. You don't have to implement the classifier from scratch but can use the implementation provided by scikit-learn. Use a MinMaxScaler to normalize the features and perform 5-fold cross-validation. Show the resulting classification report and confusion matrix. Feel free to use any functionality provided by sklearn. \n",
    "\n",
    "\n",
    " (**Basic: 2 points**)\n"
   ]
  },
  {
   "cell_type": "code",
   "execution_count": 3,
   "metadata": {
    "tags": []
   },
   "outputs": [
    {
     "name": "stdout",
     "output_type": "stream",
     "text": [
      "(300, 124)\n",
      "Confusion matrix:\n",
      "[[91  6  3]\n",
      " [ 8 84  8]\n",
      " [ 0  1 99]]\n",
      "Classification report for classifier KNeighborsClassifier(n_neighbors=3):\n",
      "0.9133333333333333\n",
      "\n"
     ]
    }
   ],
   "source": [
    "data = load_svmlight_file('3genres_full.arff.libsvm')\n",
    "X,Y = data[0], data[1]\n",
    "X = X.toarray()\n",
    "Y = Y.astype(int)\n",
    "print(X.shape)\n",
    "\n",
    "minmaxscaler = preprocessing.MinMaxScaler()\n",
    "normalized_X = minmaxscaler.fit_transform(X)\n",
    "\n",
    "clf_knn = KNeighborsClassifier(n_neighbors=3)\n",
    "clf_knn.fit(normalized_X, Y)\n",
    "\n",
    "predicted_knn = cross_val_predict(clf_knn, normalized_X, Y, cv=5)\n",
    "\n",
    "print(\"Confusion matrix:\\n%s\" % metrics.confusion_matrix(Y, predicted_knn))\n",
    "print(\"Classification report for classifier %s:\\n%s\\n\"\n",
    "      % (clf_knn, metrics.accuracy_score(Y, predicted_knn)))"
   ]
  },
  {
   "cell_type": "markdown",
   "metadata": {},
   "source": [
    "#### **Question A4.2 (basic):** \n",
    "\n",
    "Compare the following classifiers in terms of classification accuracy using 5-fold cross-validation. \n",
    "\n",
    "1. Linear support vector machine: SVC(kernel=\"linear\", C=0.025)\n",
    "2. RBF support vector machine:  SVC(gamma=2, C=1)\n",
    "3. Decision tree: DecisionTreeClassifier(max_depth=5)\n",
    "4. Gaussian Naive Bayes classifier: GaussianNB()\n",
    "\n",
    "\n",
    "(**Basic: 2 points**)\n"
   ]
  },
  {
   "cell_type": "code",
   "execution_count": 4,
   "metadata": {},
   "outputs": [
    {
     "name": "stdout",
     "output_type": "stream",
     "text": [
      "Classification accuracy linear SVC: 0.9133333333333333\n",
      "Classification accuracy rbf SVC: 0.8066666666666666\n",
      "Classification accuracy Decision trees: 0.7933333333333333\n",
      "Classification accuracy Naive Bayes: 0.81\n"
     ]
    }
   ],
   "source": [
    "#1. Linear support vector machine: SVC(kernel=\"linear\", C=0.025)\n",
    "clf_lsvc = svm.SVC(kernel=\"linear\", C=0.025)\n",
    "clf_lsvc.fit(normalized_X, Y)\n",
    "predicted_lsvc = cross_val_predict(clf_lsvc, normalized_X, Y, cv=5)\n",
    "print(\"Classification accuracy linear SVC: \" + str(metrics.accuracy_score(Y, predicted_lsvc)))\n",
    "\n",
    "#2. RBF support vector machine:  SVC(gamma=2, C=1)\n",
    "clf_rsvc = svm.SVC(gamma=2, C=1)\n",
    "clf_rsvc.fit(normalized_X, Y)\n",
    "predicted_rsvc = cross_val_predict(clf_rsvc, normalized_X, Y, cv=5)\n",
    "print(\"Classification accuracy rbf SVC: \" + str(metrics.accuracy_score(Y, predicted_rsvc)))\n",
    "\n",
    "#3. Decision tree: DecisionTreeClassifier(max_depth=5)\n",
    "clf_dt = DecisionTreeClassifier(max_depth=5)\n",
    "clf_dt.fit(normalized_X, Y)\n",
    "predicted_dt = cross_val_predict(clf_dt, normalized_X, Y, cv=5)\n",
    "print(\"Classification accuracy Decision trees: \" + str(metrics.accuracy_score(Y, predicted_dt)))\n",
    "\n",
    "#4. Gaussian Naive Bayes classifier: GaussianNB()\n",
    "clf_nb = GaussianNB()\n",
    "clf_nb.fit(normalized_X, Y)\n",
    "predicted_nb = cross_val_predict(clf_nb, normalized_X, Y, cv=5)\n",
    "print(\"Classification accuracy Naive Bayes: \" + str(metrics.accuracy_score(Y, predicted_nb)))"
   ]
  },
  {
   "cell_type": "markdown",
   "metadata": {},
   "source": [
    "**Question A4.3 (expected):** \n",
    "\n",
    "In this question we explore the use of an alternative feature front-end based on beat tracking. \n",
    "We will use the manually annotated beats that can be found at: \n",
    "https://github.com/TempoBeatDownbeat/gtzan_tempo_beat\n",
    "\n",
    "This is a bit unrealistic as they are manually created but it will serve for illustration purposes. \n",
    "Selet the three genres (classical, jazz, metal) and represent each track using two features: \n",
    "the mean of the inter-beat durations (the beat period), and the standard deviation of the inter-beat durations. \n",
    "\n",
    "Run a classification experiment as in the previous questions using 5-fold cross-validation and classification accuracy as a metric. Compare the results obtained for the following configurations using a linear Support Vector Machine (SVM) classifier: \n",
    "\n",
    "1. The two beat-period features \n",
    "2. The first two features from the 124 feature vector loaded in question A4.1 \n",
    "3. The two beat-period features concatenated with the first two features from the 124 feature vector \n",
    "4. The 124 feature vector \n",
    "\n",
    "**(2 points)** \n"
   ]
  },
  {
   "cell_type": "code",
   "execution_count": 5,
   "metadata": {},
   "outputs": [
    {
     "name": "stdout",
     "output_type": "stream",
     "text": [
      "Classification accuracy 1. two bp feats: 0.38\n",
      "Classification accuracy 2. first 2 features out of 124: 0.5466666666666666\n",
      "Classification accuracy 3. concatenated bp and original feats: 0.9133333333333333\n",
      "Classification accuracy 4. original 124 features  : 0.9133333333333333\n"
     ]
    }
   ],
   "source": [
    "all_classical = os.listdir(\"./beats/classical\")\n",
    "all_jazz = os.listdir(\"./beats/jazz\")\n",
    "all_metal = os.listdir(\"./beats/metal\")\n",
    "\n",
    "mean_bp = []\n",
    "stddev_bp = []\n",
    "\n",
    "for file in all_classical:\n",
    "    filename = \"./beats/classical/\" + str(file)\n",
    "    beats1 = np.loadtxt(filename)\n",
    "    beats1 = beats1[:,0]\n",
    "    bp = np.zeros(len(beats1)-1)\n",
    "    \n",
    "    for i in range(0,len(beats1)-1):\n",
    "        bp[i] = beats1[i+1] - beats1[i]\n",
    "    \n",
    "    mean_bp.append(np.mean(bp))\n",
    "    stddev_bp.append(np.std(bp))\n",
    "\n",
    "for file in all_jazz:\n",
    "    filename = \"./beats/jazz/\" + str(file)\n",
    "    beats2 = np.loadtxt(filename)\n",
    "    try:\n",
    "        beats2 = beats2[:,0]\n",
    "    except:\n",
    "        beats2 = beats2\n",
    "    bp = np.zeros(len(beats2)-1)\n",
    "    \n",
    "    for i in range(0,len(beats2)-1):\n",
    "        bp[i] = beats2[i+1] - beats2[i]\n",
    "    \n",
    "    mean_bp.append(np.mean(bp))\n",
    "    stddev_bp.append(np.std(bp))\n",
    "\n",
    "for file in all_metal:\n",
    "    filename = \"./beats/metal/\" + str(file)\n",
    "    beats3 = np.loadtxt(filename)\n",
    "    beats3 = beats3[:,0]\n",
    "    bp = np.zeros(len(beats3)-1)\n",
    "    \n",
    "    for i in range(0,len(beats3)-1):\n",
    "        bp[i] = beats3[i+1] - beats3[i]\n",
    "    \n",
    "    mean_bp.append(np.mean(bp))\n",
    "    stddev_bp.append(np.std(bp))\n",
    "    \n",
    "mean_bp = np.array(mean_bp)\n",
    "stddev_bp = np.array(stddev_bp)\n",
    "\n",
    "bp_feats = np.column_stack([mean_bp, stddev_bp])\n",
    "minmaxscaler = preprocessing.MinMaxScaler()\n",
    "normalized_bp_feats = minmaxscaler.fit_transform(bp_feats)\n",
    "\n",
    "\n",
    "clf_lsvc = svm.SVC(kernel=\"linear\", C=0.025)\n",
    "\n",
    "#1. The two beat-period features \n",
    "clf_lsvc.fit(normalized_bp_feats, Y)\n",
    "predicted1 = cross_val_predict(clf_lsvc, normalized_bp_feats, Y, cv=5)\n",
    "print(\"Classification accuracy 1. two bp feats: \" + str(metrics.accuracy_score(Y, predicted1)))\n",
    "\n",
    "#2. The first two features from the 124 feature vector loaded in question A4.1 \n",
    "\n",
    "new_X = normalized_X[:,:2]\n",
    "clf_lsvc.fit(new_X, Y)\n",
    "predicted2 = cross_val_predict(clf_lsvc, new_X, Y, cv=5)\n",
    "print(\"Classification accuracy 2. first 2 features out of 124: \" + str(metrics.accuracy_score(Y, predicted2)))\n",
    "\n",
    "#3. The two beat-period features concatenated with the first two features from the 124 feature vector \n",
    "conc_X = np.column_stack([normalized_X, bp_feats])\n",
    "clf_lsvc.fit(conc_X, Y)\n",
    "predicted3 = cross_val_predict(clf_lsvc, conc_X, Y, cv=5)\n",
    "print(\"Classification accuracy 3. concatenated bp and original feats: \" + str(metrics.accuracy_score(Y, predicted3)))\n",
    "\n",
    "#4. The 124 feature vector\n",
    "clf_lsvc.fit(normalized_X, Y)\n",
    "predicted4 = cross_val_predict(clf_lsvc, normalized_X, Y, cv=5)\n",
    "print(\"Classification accuracy 4. original 124 features  : \" + str(metrics.accuracy_score(Y, predicted4)))"
   ]
  },
  {
   "cell_type": "markdown",
   "metadata": {},
   "source": [
    "<!-- BEGIN QUESTION -->\n",
    "\n",
    "#### **Question A4.4 (expected):** \n",
    "\n",
    "Show scatter plots of the following configurations using different colors for each genre (classical: blue, jazz:green and metal: red): \n",
    "\n",
    "1. The beat-period 2 features \n",
    "2. The first 2 features from the 124 feature vector \n",
    "3. The first two principal components using PCA on the 124-dimensional feature vectors \n",
    "4. A two-dimensional t-SNE plot using the 124-dimensional feature vectors \n",
    "\n",
    "You can adapt the following code for this question: \n",
    "https://github.com/gtzan/mir_program_kadenze/tree/master/course2/session6\n"
   ]
  },
  {
   "cell_type": "code",
   "execution_count": 6,
   "metadata": {
    "tags": []
   },
   "outputs": [
    {
     "data": {
      "image/png": "[encoded data removed]",
      "text/plain": [
       "<Figure size 432x288 with 1 Axes>"
      ]
     },
     "metadata": {
      "needs_background": "light"
     },
     "output_type": "display_data"
    },
    {
     "data": {
      "image/png": "[encoded data removed]",
      "text/plain": [
       "<Figure size 432x288 with 1 Axes>"
      ]
     },
     "metadata": {
      "needs_background": "light"
     },
     "output_type": "display_data"
    },
    {
     "data": {
      "image/png": "[encoded data removed]",
      "text/plain": [
       "<Figure size 432x288 with 1 Axes>"
      ]
     },
     "metadata": {
      "needs_background": "light"
     },
     "output_type": "display_data"
    },
    {
     "data": {
      "image/png": "[encoded data removed]",
      "text/plain": [
       "<Figure size 432x288 with 1 Axes>"
      ]
     },
     "metadata": {
      "needs_background": "light"
     },
     "output_type": "display_data"
    }
   ],
   "source": [
    "target_names = ['classical', 'jazz', 'metal']\n",
    "colors = ['blue', 'green', 'red']\n",
    "\n",
    "#1. The beat-period 2 features \n",
    "for n, color in enumerate(colors):\n",
    "    data = bp_feats[Y==n]\n",
    "    plt.scatter(data[:, 0], data[:, 1], s=5, color=color,\n",
    "                    label=target_names[n])\n",
    "    plt.title('Scatter plot of beat period 2 features and genres')\n",
    "    plt.legend(scatterpoints=1, loc='upper right', prop=dict(size=10))\n",
    "plt.show()\n",
    "\n",
    "#2. The first 2 features from the 124 feature vector \n",
    "for n, color in enumerate(colors):\n",
    "    new_X = normalized_X[:,:2]\n",
    "    data = new_X[Y==n]\n",
    "    plt.scatter(data[:, 0], data[:, 1], s=5, color=color,\n",
    "                    label=target_names[n])\n",
    "    plt.title('Scatter plot of first 2 features and genres')\n",
    "    plt.legend(scatterpoints=1, loc='upper right', prop=dict(size=10))\n",
    "plt.show()\n",
    "\n",
    "#3. The first two principal components using PCA on the 124-dimensional feature vectors \n",
    "data = PCA(n_components=2).fit_transform(normalized_X)\n",
    "for color, i, target_name in zip(colors, [0, 1, 2], target_names):\n",
    "    plt.scatter(data[Y == i, 0], data[Y == i, 1], color=color, \n",
    "                    lw=2, label=target_name, s=5)\n",
    "    plt.title('Scatter plot of first 2 principal components using PCA and genres')\n",
    "    plt.legend(scatterpoints=1, loc='upper right', prop=dict(size=10))\n",
    "plt.show()\n",
    "\n",
    "#4. A two-dimensional t-SNE plot using the 124-dimensional feature vectors \n",
    "data = TSNE(n_components=2, init='pca', random_state=0).fit_transform(normalized_X)\n",
    "for color, i, target_name in zip(colors, [0, 1, 2], target_names):\n",
    "    plt.scatter(data[Y == i, 0], data[Y == i, 1], color=color, \n",
    "                    lw=2, label=target_name, s=5)\n",
    "    plt.title('2D t-SNE plot')\n",
    "    plt.legend(scatterpoints=1, loc='upper right', prop=dict(size=10))\n",
    "plt.show()"
   ]
  },
  {
   "cell_type": "markdown",
   "metadata": {},
   "source": [
    "<!-- END QUESTION -->\n",
    "\n",
    "<!-- BEGIN QUESTION -->\n",
    "\n",
    "**Question A4.5 (advanced):** \n",
    "\n",
    "Extend the visualization from the previous question to visualize the prediction labels in addition to the ground truth labels. Use two concentric circles with the larger one being the ground truth and the smaller one being the prediction (classical: blue/turquoise, jazz: green/brown, country: red:yellow). For classification use a linear SVM for the four configurations from the previous question. Each scatter plot should have a title showing the corresponding classification using 5-fold cross-validation. \n",
    "\n",
    "**(2 points)**\n"
   ]
  },
  {
   "cell_type": "markdown",
   "metadata": {},
   "source": [
    "_Type your answer here, replacing this text._"
   ]
  },
  {
   "cell_type": "markdown",
   "metadata": {},
   "source": [
    "<!-- END QUESTION -->\n",
    "\n",
    "<!-- BEGIN QUESTION -->\n",
    "\n",
    "#### **Question A4.G (CSC575/advanced):** \n",
    "\n",
    "This question only needs to be answered by graduate students who are registered in CSC575 and for these students it will be graded instead of question A4.1 which is optional for them. \n",
    "\n",
    "For this question you will need to be able to run the `musicnn` auto-tagger developed by Jordi Pons: \n",
    "https://github.com/jordipons/musicnn\n",
    "\n",
    "For each track in the three genres (classical, jazz, metal) we have been exploring in this question calculate the topN (N=10) tags using the `MSD_musicnn` model. Find the 15 most 'popular' tags that is the tags that appear most times in the 300 tracks we are examining. Convert each track to a binary bag of words representation using these 15 most popular tags. Now each track should be represented by 15 binary numbers. \n",
    "\n",
    "Adapt the code from performing classification based on lyrics shown at the bottom of this notebook to perform \n",
    "Naive Bayes classification using the tag bag-of-words representation: \n",
    "\n",
    "https://github.com/gtzan/csc421_tzanetakis/blob/main/csc421_tzanetakis_quantifying_uncertainty.ipynb\n"
   ]
  },
  {
   "cell_type": "markdown",
   "metadata": {},
   "source": [
    "<!-- END QUESTION -->\n",
    "\n"
   ]
  },
  {
   "cell_type": "code",
   "execution_count": null,
   "metadata": {},
   "outputs": [],
   "source": []
  },
  {
   "cell_type": "code",
   "execution_count": null,
   "metadata": {},
   "outputs": [],
   "source": []
  },
  {
   "cell_type": "code",
   "execution_count": null,
   "metadata": {},
   "outputs": [],
   "source": []
  },
  {
   "cell_type": "markdown",
   "metadata": {
    "deletable": false,
    "editable": false
   },
   "source": [
    "---\n",
    "\n",
    "To double-check your work, the cell below will rerun all of the autograder tests."
   ]
  },
  {
   "cell_type": "code",
   "execution_count": null,
   "metadata": {
    "deletable": false,
    "editable": false
   },
   "outputs": [],
   "source": [
    "grader.check_all()"
   ]
  },
  {
   "cell_type": "markdown",
   "metadata": {
    "deletable": false,
    "editable": false
   },
   "source": [
    "## Submission\n",
    "\n",
    "Make sure you have run all cells in your notebook in order before running the cell below, so that all images/graphs appear in the output. The cell below will generate a zip file for you to submit. **Please save before exporting!**"
   ]
  },
  {
   "cell_type": "code",
   "execution_count": null,
   "metadata": {
    "deletable": false,
    "editable": false
   },
   "outputs": [],
   "source": [
    "# Save your notebook first, then run this cell to export your submission.\n",
    "grader.export()"
   ]
  },
  {
   "cell_type": "markdown",
   "metadata": {},
   "source": [
    " "
   ]
  }
 ],
 "metadata": {
  "kernelspec": {
   "display_name": "Python 3 (ipykernel)",
   "language": "python",
   "name": "python3"
  },
  "language_info": {
   "codemirror_mode": {
    "name": "ipython",
    "version": 3
   },
   "file_extension": ".py",
   "mimetype": "text/x-python",
   "name": "python",
   "nbconvert_exporter": "python",
   "pygments_lexer": "ipython3",
   "version": "3.9.7"
  },
  "varInspector": {
   "cols": {
    "lenName": 16,
    "lenType": 16,
    "lenVar": 40
   },
   "kernels_config": {
    "python": {
     "delete_cmd_postfix": "",
     "delete_cmd_prefix": "del ",
     "library": "var_list.py",
     "varRefreshCmd": "print(var_dic_list())"
    },
    "r": {
     "delete_cmd_postfix": ") ",
     "delete_cmd_prefix": "rm(",
     "library": "var_list.r",
     "varRefreshCmd": "cat(var_dic_list()) "
    }
   },
   "types_to_exclude": [
    "module",
    "function",
    "builtin_function_or_method",
    "instance",
    "_Feature"
   ],
   "window_display": false
  }
 },
 "nbformat": 4,
 "nbformat_minor": 4
}
