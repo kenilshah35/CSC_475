{
 "cells": [
  {
   "cell_type": "code",
   "execution_count": 1,
   "id": "76d03ef1",
   "metadata": {},
   "outputs": [],
   "source": [
    "import os\n",
    "import matplotlib.pyplot as plt\n",
    "import pandas as pd\n",
    "import numpy as np\n",
    "from sklearn.model_selection import train_test_split\n",
    "from sklearn.svm import LinearSVC\n",
    "from sklearn import preprocessing\n",
    "from sklearn.model_selection import cross_val_score\n",
    "from sklearn import svm\n",
    "from sklearn.feature_selection import RFECV\n",
    "from sklearn.feature_selection import RFE\n",
    "from sklearn.ensemble import RandomForestClassifier\n",
    "from sklearn.model_selection import StratifiedKFold\n",
    "from sklearn.model_selection import GridSearchCV\n",
    "from sklearn.feature_selection import SelectFromModel\n",
    "from sklearn.metrics import accuracy_score\n",
    "from sklearn.model_selection import RepeatedStratifiedKFold\n",
    "from sklearn.feature_selection import SelectKBest\n",
    "from sklearn.feature_selection import f_classif\n",
    "from sklearn.feature_selection import chi2"
   ]
  },
  {
   "cell_type": "markdown",
   "id": "d7be88b9",
   "metadata": {},
   "source": [
    "#  Saving Features as pandas dataframe"
   ]
  },
  {
   "cell_type": "code",
   "execution_count": 2,
   "id": "1d3f7994",
   "metadata": {},
   "outputs": [],
   "source": [
    "df = pd.read_csv('extracted_feature_values_midi.csv')"
   ]
  },
  {
   "cell_type": "code",
   "execution_count": 3,
   "id": "c4639529",
   "metadata": {},
   "outputs": [
    {
     "name": "stdout",
     "output_type": "stream",
     "text": [
      "cluster\n"
     ]
    }
   ],
   "source": [
    "cluster_mood_filename = df.cluster_mood_filename\n",
    "temp = []\n",
    "cluster = []\n",
    "mood = []\n",
    "filename = []\n",
    "\n",
    "for i in cluster_mood_filename:\n",
    "    temp.append(i)\n",
    "temp = [i.split('\\\\') for i in temp]\n",
    "\n",
    "for path in temp:\n",
    "    cluster.append(path[-3])\n",
    "    mood.append(path[-2])\n",
    "    filename.append(path[-1].split('.')[0])\n",
    "\n",
    "df['cluster'] = cluster\n",
    "df['mood'] = mood\n",
    "df['filename'] = filename\n",
    "\n",
    "cols = [col for col in df.columns]\n",
    "xcols = cols[1:-3]\n",
    "ycol = cols[-3]\n",
    "print(ycol)"
   ]
  },
  {
   "cell_type": "markdown",
   "id": "7a7bb58f",
   "metadata": {},
   "source": [
    "#  Applying label encoder and splitting the dataset into train and test datasets"
   ]
  },
  {
   "cell_type": "code",
   "execution_count": 4,
   "id": "93a97327",
   "metadata": {},
   "outputs": [
    {
     "name": "stdout",
     "output_type": "stream",
     "text": [
      "(156, 1495)\n",
      "(156, 1)\n"
     ]
    },
    {
     "data": {
      "text/html": [
       "<div>\n",
       "<style scoped>\n",
       "    .dataframe tbody tr th:only-of-type {\n",
       "        vertical-align: middle;\n",
       "    }\n",
       "\n",
       "    .dataframe tbody tr th {\n",
       "        vertical-align: top;\n",
       "    }\n",
       "\n",
       "    .dataframe thead th {\n",
       "        text-align: right;\n",
       "    }\n",
       "</style>\n",
       "<table border=\"1\" class=\"dataframe\">\n",
       "  <thead>\n",
       "    <tr style=\"text-align: right;\">\n",
       "      <th></th>\n",
       "      <th>Basic_Pitch_Histogram_0</th>\n",
       "      <th>Basic_Pitch_Histogram_1</th>\n",
       "      <th>Basic_Pitch_Histogram_2</th>\n",
       "      <th>Basic_Pitch_Histogram_3</th>\n",
       "      <th>Basic_Pitch_Histogram_4</th>\n",
       "      <th>Basic_Pitch_Histogram_5</th>\n",
       "      <th>Basic_Pitch_Histogram_6</th>\n",
       "      <th>Basic_Pitch_Histogram_7</th>\n",
       "      <th>Basic_Pitch_Histogram_8</th>\n",
       "      <th>Basic_Pitch_Histogram_9</th>\n",
       "      <th>...</th>\n",
       "      <th>Parallel_Motion</th>\n",
       "      <th>Similar_Motion</th>\n",
       "      <th>Contrary_Motion</th>\n",
       "      <th>Oblique_Motion</th>\n",
       "      <th>Parallel_Fifths</th>\n",
       "      <th>Parallel_Octaves</th>\n",
       "      <th>Dynamic_Range</th>\n",
       "      <th>Variation_of_Dynamics</th>\n",
       "      <th>Variation_of_Dynamics_In_Each_Voice</th>\n",
       "      <th>Average_Note_to_Note_Change_in_Dynamics</th>\n",
       "    </tr>\n",
       "  </thead>\n",
       "  <tbody>\n",
       "    <tr>\n",
       "      <th>67</th>\n",
       "      <td>0.0</td>\n",
       "      <td>0</td>\n",
       "      <td>0</td>\n",
       "      <td>0</td>\n",
       "      <td>0</td>\n",
       "      <td>0</td>\n",
       "      <td>0</td>\n",
       "      <td>0</td>\n",
       "      <td>0</td>\n",
       "      <td>0</td>\n",
       "      <td>...</td>\n",
       "      <td>0.02741</td>\n",
       "      <td>0.2489</td>\n",
       "      <td>0.06475</td>\n",
       "      <td>0.6590</td>\n",
       "      <td>0.001884</td>\n",
       "      <td>0.005481</td>\n",
       "      <td>74</td>\n",
       "      <td>18.10</td>\n",
       "      <td>6.840</td>\n",
       "      <td>8.9770</td>\n",
       "    </tr>\n",
       "    <tr>\n",
       "      <th>61</th>\n",
       "      <td>0.0</td>\n",
       "      <td>0</td>\n",
       "      <td>0</td>\n",
       "      <td>0</td>\n",
       "      <td>0</td>\n",
       "      <td>0</td>\n",
       "      <td>0</td>\n",
       "      <td>0</td>\n",
       "      <td>0</td>\n",
       "      <td>0</td>\n",
       "      <td>...</td>\n",
       "      <td>0.04335</td>\n",
       "      <td>0.3174</td>\n",
       "      <td>0.07575</td>\n",
       "      <td>0.5635</td>\n",
       "      <td>0.004548</td>\n",
       "      <td>0.007391</td>\n",
       "      <td>100</td>\n",
       "      <td>28.62</td>\n",
       "      <td>15.790</td>\n",
       "      <td>11.9600</td>\n",
       "    </tr>\n",
       "    <tr>\n",
       "      <th>27</th>\n",
       "      <td>0.0</td>\n",
       "      <td>0</td>\n",
       "      <td>0</td>\n",
       "      <td>0</td>\n",
       "      <td>0</td>\n",
       "      <td>0</td>\n",
       "      <td>0</td>\n",
       "      <td>0</td>\n",
       "      <td>0</td>\n",
       "      <td>0</td>\n",
       "      <td>...</td>\n",
       "      <td>0.05882</td>\n",
       "      <td>0.1979</td>\n",
       "      <td>0.04651</td>\n",
       "      <td>0.6968</td>\n",
       "      <td>0.000912</td>\n",
       "      <td>0.028270</td>\n",
       "      <td>127</td>\n",
       "      <td>26.74</td>\n",
       "      <td>23.560</td>\n",
       "      <td>2.8230</td>\n",
       "    </tr>\n",
       "    <tr>\n",
       "      <th>192</th>\n",
       "      <td>0.0</td>\n",
       "      <td>0</td>\n",
       "      <td>0</td>\n",
       "      <td>0</td>\n",
       "      <td>0</td>\n",
       "      <td>0</td>\n",
       "      <td>0</td>\n",
       "      <td>0</td>\n",
       "      <td>0</td>\n",
       "      <td>0</td>\n",
       "      <td>...</td>\n",
       "      <td>0.30480</td>\n",
       "      <td>0.1162</td>\n",
       "      <td>0.03947</td>\n",
       "      <td>0.5395</td>\n",
       "      <td>0.061400</td>\n",
       "      <td>0.100900</td>\n",
       "      <td>81</td>\n",
       "      <td>17.12</td>\n",
       "      <td>4.546</td>\n",
       "      <td>0.7266</td>\n",
       "    </tr>\n",
       "    <tr>\n",
       "      <th>75</th>\n",
       "      <td>0.0</td>\n",
       "      <td>0</td>\n",
       "      <td>0</td>\n",
       "      <td>0</td>\n",
       "      <td>0</td>\n",
       "      <td>0</td>\n",
       "      <td>0</td>\n",
       "      <td>0</td>\n",
       "      <td>0</td>\n",
       "      <td>0</td>\n",
       "      <td>...</td>\n",
       "      <td>0.06205</td>\n",
       "      <td>0.2979</td>\n",
       "      <td>0.09380</td>\n",
       "      <td>0.5463</td>\n",
       "      <td>0.002565</td>\n",
       "      <td>0.004970</td>\n",
       "      <td>113</td>\n",
       "      <td>19.24</td>\n",
       "      <td>9.977</td>\n",
       "      <td>4.4020</td>\n",
       "    </tr>\n",
       "  </tbody>\n",
       "</table>\n",
       "<p>5 rows × 1495 columns</p>\n",
       "</div>"
      ],
      "text/plain": [
       "     Basic_Pitch_Histogram_0  Basic_Pitch_Histogram_1  \\\n",
       "67                       0.0                        0   \n",
       "61                       0.0                        0   \n",
       "27                       0.0                        0   \n",
       "192                      0.0                        0   \n",
       "75                       0.0                        0   \n",
       "\n",
       "     Basic_Pitch_Histogram_2  Basic_Pitch_Histogram_3  \\\n",
       "67                         0                        0   \n",
       "61                         0                        0   \n",
       "27                         0                        0   \n",
       "192                        0                        0   \n",
       "75                         0                        0   \n",
       "\n",
       "     Basic_Pitch_Histogram_4  Basic_Pitch_Histogram_5  \\\n",
       "67                         0                        0   \n",
       "61                         0                        0   \n",
       "27                         0                        0   \n",
       "192                        0                        0   \n",
       "75                         0                        0   \n",
       "\n",
       "     Basic_Pitch_Histogram_6  Basic_Pitch_Histogram_7  \\\n",
       "67                         0                        0   \n",
       "61                         0                        0   \n",
       "27                         0                        0   \n",
       "192                        0                        0   \n",
       "75                         0                        0   \n",
       "\n",
       "     Basic_Pitch_Histogram_8  Basic_Pitch_Histogram_9  ...  Parallel_Motion  \\\n",
       "67                         0                        0  ...          0.02741   \n",
       "61                         0                        0  ...          0.04335   \n",
       "27                         0                        0  ...          0.05882   \n",
       "192                        0                        0  ...          0.30480   \n",
       "75                         0                        0  ...          0.06205   \n",
       "\n",
       "     Similar_Motion  Contrary_Motion  Oblique_Motion  Parallel_Fifths  \\\n",
       "67           0.2489          0.06475          0.6590         0.001884   \n",
       "61           0.3174          0.07575          0.5635         0.004548   \n",
       "27           0.1979          0.04651          0.6968         0.000912   \n",
       "192          0.1162          0.03947          0.5395         0.061400   \n",
       "75           0.2979          0.09380          0.5463         0.002565   \n",
       "\n",
       "     Parallel_Octaves  Dynamic_Range  Variation_of_Dynamics  \\\n",
       "67           0.005481             74                  18.10   \n",
       "61           0.007391            100                  28.62   \n",
       "27           0.028270            127                  26.74   \n",
       "192          0.100900             81                  17.12   \n",
       "75           0.004970            113                  19.24   \n",
       "\n",
       "     Variation_of_Dynamics_In_Each_Voice  \\\n",
       "67                                 6.840   \n",
       "61                                15.790   \n",
       "27                                23.560   \n",
       "192                                4.546   \n",
       "75                                 9.977   \n",
       "\n",
       "     Average_Note_to_Note_Change_in_Dynamics  \n",
       "67                                    8.9770  \n",
       "61                                   11.9600  \n",
       "27                                    2.8230  \n",
       "192                                   0.7266  \n",
       "75                                    4.4020  \n",
       "\n",
       "[5 rows x 1495 columns]"
      ]
     },
     "execution_count": 4,
     "metadata": {},
     "output_type": "execute_result"
    }
   ],
   "source": [
    "le = preprocessing.LabelEncoder()\n",
    "X = df[xcols]\n",
    "X = X.fillna(0)\n",
    "Y = df[ycol]\n",
    "Y = pd.DataFrame(Y)\n",
    "Y = Y.apply(lambda col: le.fit_transform(col.astype(str)), axis=0, result_type='expand')\n",
    "files = df['filename']\n",
    "X_train, X_test, Y_train, Y_test = train_test_split(X, Y, test_size=0.2)\n",
    "# print(type(df))\n",
    "# print(type(X_train))\n",
    "# print(type(Y_train))\n",
    "# print(type(xcols))\n",
    "# print(type(ycol))\n",
    "# print(X.isnull().sum())\n",
    "# print(Y.isnull().sum())\n",
    "# print(X.shape)\n",
    "# X_nonan = X.fillna(0)\n",
    "# print(X_nonan.isnull().values.any())\n",
    "# print(X_nonan.shape)\n",
    "print(X_train.shape)\n",
    "print(Y_train.shape)\n",
    "X_train.head()\n"
   ]
  },
  {
   "cell_type": "markdown",
   "id": "394bfeae",
   "metadata": {},
   "source": [
    "#  Normalizing the dataset for improved svm performance"
   ]
  },
  {
   "cell_type": "code",
   "execution_count": 5,
   "id": "7ea69e2b",
   "metadata": {},
   "outputs": [
    {
     "data": {
      "text/html": [
       "<div>\n",
       "<style scoped>\n",
       "    .dataframe tbody tr th:only-of-type {\n",
       "        vertical-align: middle;\n",
       "    }\n",
       "\n",
       "    .dataframe tbody tr th {\n",
       "        vertical-align: top;\n",
       "    }\n",
       "\n",
       "    .dataframe thead th {\n",
       "        text-align: right;\n",
       "    }\n",
       "</style>\n",
       "<table border=\"1\" class=\"dataframe\">\n",
       "  <thead>\n",
       "    <tr style=\"text-align: right;\">\n",
       "      <th></th>\n",
       "      <th>Basic_Pitch_Histogram_0</th>\n",
       "      <th>Basic_Pitch_Histogram_1</th>\n",
       "      <th>Basic_Pitch_Histogram_2</th>\n",
       "      <th>Basic_Pitch_Histogram_3</th>\n",
       "      <th>Basic_Pitch_Histogram_4</th>\n",
       "      <th>Basic_Pitch_Histogram_5</th>\n",
       "      <th>Basic_Pitch_Histogram_6</th>\n",
       "      <th>Basic_Pitch_Histogram_7</th>\n",
       "      <th>Basic_Pitch_Histogram_8</th>\n",
       "      <th>Basic_Pitch_Histogram_9</th>\n",
       "      <th>...</th>\n",
       "      <th>Parallel_Motion</th>\n",
       "      <th>Similar_Motion</th>\n",
       "      <th>Contrary_Motion</th>\n",
       "      <th>Oblique_Motion</th>\n",
       "      <th>Parallel_Fifths</th>\n",
       "      <th>Parallel_Octaves</th>\n",
       "      <th>Dynamic_Range</th>\n",
       "      <th>Variation_of_Dynamics</th>\n",
       "      <th>Variation_of_Dynamics_In_Each_Voice</th>\n",
       "      <th>Average_Note_to_Note_Change_in_Dynamics</th>\n",
       "    </tr>\n",
       "  </thead>\n",
       "  <tbody>\n",
       "    <tr>\n",
       "      <th>0</th>\n",
       "      <td>-0.071611</td>\n",
       "      <td>0.0</td>\n",
       "      <td>0.0</td>\n",
       "      <td>0.0</td>\n",
       "      <td>0.0</td>\n",
       "      <td>0.0</td>\n",
       "      <td>0.0</td>\n",
       "      <td>0.0</td>\n",
       "      <td>0.0</td>\n",
       "      <td>0.0</td>\n",
       "      <td>...</td>\n",
       "      <td>1.029958</td>\n",
       "      <td>-0.288967</td>\n",
       "      <td>0.402916</td>\n",
       "      <td>-0.870700</td>\n",
       "      <td>0.234466</td>\n",
       "      <td>1.133501</td>\n",
       "      <td>0.432650</td>\n",
       "      <td>-0.153625</td>\n",
       "      <td>-0.318140</td>\n",
       "      <td>-0.272365</td>\n",
       "    </tr>\n",
       "    <tr>\n",
       "      <th>1</th>\n",
       "      <td>-0.071611</td>\n",
       "      <td>0.0</td>\n",
       "      <td>0.0</td>\n",
       "      <td>0.0</td>\n",
       "      <td>0.0</td>\n",
       "      <td>0.0</td>\n",
       "      <td>0.0</td>\n",
       "      <td>0.0</td>\n",
       "      <td>0.0</td>\n",
       "      <td>0.0</td>\n",
       "      <td>...</td>\n",
       "      <td>-0.322842</td>\n",
       "      <td>-0.966963</td>\n",
       "      <td>-1.480627</td>\n",
       "      <td>1.640473</td>\n",
       "      <td>0.192266</td>\n",
       "      <td>-0.432250</td>\n",
       "      <td>-0.930685</td>\n",
       "      <td>1.625977</td>\n",
       "      <td>-1.484887</td>\n",
       "      <td>-1.258050</td>\n",
       "    </tr>\n",
       "    <tr>\n",
       "      <th>2</th>\n",
       "      <td>-0.071611</td>\n",
       "      <td>0.0</td>\n",
       "      <td>0.0</td>\n",
       "      <td>0.0</td>\n",
       "      <td>0.0</td>\n",
       "      <td>0.0</td>\n",
       "      <td>0.0</td>\n",
       "      <td>0.0</td>\n",
       "      <td>0.0</td>\n",
       "      <td>0.0</td>\n",
       "      <td>...</td>\n",
       "      <td>-0.763202</td>\n",
       "      <td>-0.735132</td>\n",
       "      <td>7.522922</td>\n",
       "      <td>-1.031701</td>\n",
       "      <td>-0.492572</td>\n",
       "      <td>-0.698894</td>\n",
       "      <td>3.295654</td>\n",
       "      <td>1.931535</td>\n",
       "      <td>3.223318</td>\n",
       "      <td>0.950938</td>\n",
       "    </tr>\n",
       "    <tr>\n",
       "      <th>3</th>\n",
       "      <td>-0.071611</td>\n",
       "      <td>0.0</td>\n",
       "      <td>0.0</td>\n",
       "      <td>0.0</td>\n",
       "      <td>0.0</td>\n",
       "      <td>0.0</td>\n",
       "      <td>0.0</td>\n",
       "      <td>0.0</td>\n",
       "      <td>0.0</td>\n",
       "      <td>0.0</td>\n",
       "      <td>...</td>\n",
       "      <td>-0.420798</td>\n",
       "      <td>-0.860234</td>\n",
       "      <td>0.228022</td>\n",
       "      <td>1.095548</td>\n",
       "      <td>-0.463812</td>\n",
       "      <td>-0.598059</td>\n",
       "      <td>-0.555768</td>\n",
       "      <td>0.575720</td>\n",
       "      <td>-0.355290</td>\n",
       "      <td>-0.264760</td>\n",
       "    </tr>\n",
       "    <tr>\n",
       "      <th>4</th>\n",
       "      <td>-0.071611</td>\n",
       "      <td>0.0</td>\n",
       "      <td>0.0</td>\n",
       "      <td>0.0</td>\n",
       "      <td>0.0</td>\n",
       "      <td>0.0</td>\n",
       "      <td>0.0</td>\n",
       "      <td>0.0</td>\n",
       "      <td>0.0</td>\n",
       "      <td>0.0</td>\n",
       "      <td>...</td>\n",
       "      <td>-0.187340</td>\n",
       "      <td>-0.771875</td>\n",
       "      <td>-0.317818</td>\n",
       "      <td>0.968059</td>\n",
       "      <td>-0.413584</td>\n",
       "      <td>0.121219</td>\n",
       "      <td>0.330400</td>\n",
       "      <td>-2.150035</td>\n",
       "      <td>-1.363933</td>\n",
       "      <td>-1.262548</td>\n",
       "    </tr>\n",
       "  </tbody>\n",
       "</table>\n",
       "<p>5 rows × 1495 columns</p>\n",
       "</div>"
      ],
      "text/plain": [
       "   Basic_Pitch_Histogram_0  Basic_Pitch_Histogram_1  Basic_Pitch_Histogram_2  \\\n",
       "0                -0.071611                      0.0                      0.0   \n",
       "1                -0.071611                      0.0                      0.0   \n",
       "2                -0.071611                      0.0                      0.0   \n",
       "3                -0.071611                      0.0                      0.0   \n",
       "4                -0.071611                      0.0                      0.0   \n",
       "\n",
       "   Basic_Pitch_Histogram_3  Basic_Pitch_Histogram_4  Basic_Pitch_Histogram_5  \\\n",
       "0                      0.0                      0.0                      0.0   \n",
       "1                      0.0                      0.0                      0.0   \n",
       "2                      0.0                      0.0                      0.0   \n",
       "3                      0.0                      0.0                      0.0   \n",
       "4                      0.0                      0.0                      0.0   \n",
       "\n",
       "   Basic_Pitch_Histogram_6  Basic_Pitch_Histogram_7  Basic_Pitch_Histogram_8  \\\n",
       "0                      0.0                      0.0                      0.0   \n",
       "1                      0.0                      0.0                      0.0   \n",
       "2                      0.0                      0.0                      0.0   \n",
       "3                      0.0                      0.0                      0.0   \n",
       "4                      0.0                      0.0                      0.0   \n",
       "\n",
       "   Basic_Pitch_Histogram_9  ...  Parallel_Motion  Similar_Motion  \\\n",
       "0                      0.0  ...         1.029958       -0.288967   \n",
       "1                      0.0  ...        -0.322842       -0.966963   \n",
       "2                      0.0  ...        -0.763202       -0.735132   \n",
       "3                      0.0  ...        -0.420798       -0.860234   \n",
       "4                      0.0  ...        -0.187340       -0.771875   \n",
       "\n",
       "   Contrary_Motion  Oblique_Motion  Parallel_Fifths  Parallel_Octaves  \\\n",
       "0         0.402916       -0.870700         0.234466          1.133501   \n",
       "1        -1.480627        1.640473         0.192266         -0.432250   \n",
       "2         7.522922       -1.031701        -0.492572         -0.698894   \n",
       "3         0.228022        1.095548        -0.463812         -0.598059   \n",
       "4        -0.317818        0.968059        -0.413584          0.121219   \n",
       "\n",
       "   Dynamic_Range  Variation_of_Dynamics  Variation_of_Dynamics_In_Each_Voice  \\\n",
       "0       0.432650              -0.153625                            -0.318140   \n",
       "1      -0.930685               1.625977                            -1.484887   \n",
       "2       3.295654               1.931535                             3.223318   \n",
       "3      -0.555768               0.575720                            -0.355290   \n",
       "4       0.330400              -2.150035                            -1.363933   \n",
       "\n",
       "   Average_Note_to_Note_Change_in_Dynamics  \n",
       "0                                -0.272365  \n",
       "1                                -1.258050  \n",
       "2                                 0.950938  \n",
       "3                                -0.264760  \n",
       "4                                -1.262548  \n",
       "\n",
       "[5 rows x 1495 columns]"
      ]
     },
     "execution_count": 5,
     "metadata": {},
     "output_type": "execute_result"
    }
   ],
   "source": [
    "#Normalizing using standard scalor \n",
    "normalized_X = X.values\n",
    "std_scalor = preprocessing.StandardScaler()\n",
    "X_scaled = std_scalor.fit_transform(normalized_X)\n",
    "normalized_X = pd.DataFrame(X_scaled, columns=xcols)\n",
    "X_train3, X_test3, Y_train3, Y_test3 = train_test_split(normalized_X, Y, test_size=0.3)\n",
    "normalized_X.head()"
   ]
  },
  {
   "cell_type": "markdown",
   "id": "b4eee6c7",
   "metadata": {},
   "source": [
    "# SVM classification on original dataset without feature selection"
   ]
  },
  {
   "cell_type": "code",
   "execution_count": 6,
   "id": "39252d9d",
   "metadata": {},
   "outputs": [],
   "source": [
    "# %%time\n",
    "# #clf = LinearSVC(max_iter = 10000000, verbose = 1)\n",
    "# clf = svm.SVC(C=1, kernel='linear', verbose = True)\n",
    "# clf.fit(X_train, Y_train.values.ravel())\n",
    "# cv = RepeatedStratifiedKFold(n_splits=10, n_repeats=20)\n",
    "# #cv = StratifiedKFold(5)\n",
    "# #cv = RepeatedStratifiedKFold(n_splits=10, n_repeats=20, random_state=1)\n",
    "# train_accuracy_svm = cross_val_score(clf, X_train, Y_train.values.ravel(), cv=cv, n_jobs=15).mean()\n",
    "# test_accuracy_svm = clf.score(X_test, Y_test.values.ravel())\n",
    "\n",
    "# print(\"Training accuracy \" + str(train_accuracy_svm))\n",
    "# print(\"Test accuracy \" + str(test_accuracy_svm))"
   ]
  },
  {
   "cell_type": "markdown",
   "id": "f3c5de72",
   "metadata": {},
   "source": [
    "# SVM classification on normalized dataset without feature selection"
   ]
  },
  {
   "cell_type": "code",
   "execution_count": 7,
   "id": "00f090df",
   "metadata": {},
   "outputs": [
    {
     "name": "stdout",
     "output_type": "stream",
     "text": [
      "[LibSVM]Training accuracy 0.3042307692307692\n",
      "Test accuracy 0.3389830508474576\n",
      "Wall time: 5.51 s\n"
     ]
    }
   ],
   "source": [
    "%%time\n",
    "clf = svm.SVC(C=0.1, kernel='linear', verbose = True)\n",
    "clf.fit(X_train3, Y_train3.values.ravel())\n",
    "cv = RepeatedStratifiedKFold(n_splits=10, n_repeats=20)\n",
    "#cv = StratifiedKFold(5)\n",
    "#cv = RepeatedStratifiedKFold(n_splits=10, n_repeats=20, random_state=1)\n",
    "train_accuracy_svm_norm = cross_val_score(clf, X_train3, Y_train3.values.ravel(), cv=cv, n_jobs=15).mean()\n",
    "test_accuracy_svm_norm = clf.score(X_test3, Y_test3.values.ravel())\n",
    "\n",
    "print(\"Training accuracy \" + str(train_accuracy_svm_norm))\n",
    "print(\"Test accuracy \" + str(test_accuracy_svm_norm))"
   ]
  },
  {
   "cell_type": "markdown",
   "id": "92b889fc",
   "metadata": {},
   "source": [
    "#  Feature Selection on Midi features"
   ]
  },
  {
   "cell_type": "markdown",
   "id": "c4629d40",
   "metadata": {},
   "source": [
    "Methods to employ -<br> 1) Tree based feature selection(Random Forests) <br>\n",
    "                    2) Recursive feature elimination with cross validation using SVM estimators <br>\n",
    "                    3) Anova F-measures <br>\n",
    "                    4) Chi-squared <br>\n",
    "                    5) Principal component analysis<br>\n",
    "We will apply each of them individually, evaluate performance, and choose a combination\n",
    "Principal component analysis should be performed as the dimensions of the feature vectore(1495) is more than the number of samples(196) <br>\n",
    "\n",
    "**study showed svm classification based on midi features had a test accuracy of 35%**"
   ]
  },
  {
   "cell_type": "markdown",
   "id": "ef4b16ac",
   "metadata": {},
   "source": [
    "https://www.kaggle.com/arrohit/feature-selection-and-hypertuning-svm  **tree based feature selection**"
   ]
  },
  {
   "cell_type": "code",
   "execution_count": 8,
   "id": "1dbf717e",
   "metadata": {},
   "outputs": [
    {
     "name": "stdout",
     "output_type": "stream",
     "text": [
      "<class 'pandas.core.frame.DataFrame'>\n",
      "(137, 545)\n",
      "Wall time: 171 ms\n"
     ]
    },
    {
     "data": {
      "text/html": [
       "<div>\n",
       "<style scoped>\n",
       "    .dataframe tbody tr th:only-of-type {\n",
       "        vertical-align: middle;\n",
       "    }\n",
       "\n",
       "    .dataframe tbody tr th {\n",
       "        vertical-align: top;\n",
       "    }\n",
       "\n",
       "    .dataframe thead th {\n",
       "        text-align: right;\n",
       "    }\n",
       "</style>\n",
       "<table border=\"1\" class=\"dataframe\">\n",
       "  <thead>\n",
       "    <tr style=\"text-align: right;\">\n",
       "      <th></th>\n",
       "      <th>Basic_Pitch_Histogram_23</th>\n",
       "      <th>Basic_Pitch_Histogram_28</th>\n",
       "      <th>Basic_Pitch_Histogram_31</th>\n",
       "      <th>Basic_Pitch_Histogram_32</th>\n",
       "      <th>Basic_Pitch_Histogram_33</th>\n",
       "      <th>Basic_Pitch_Histogram_34</th>\n",
       "      <th>Basic_Pitch_Histogram_35</th>\n",
       "      <th>Basic_Pitch_Histogram_36</th>\n",
       "      <th>Basic_Pitch_Histogram_38</th>\n",
       "      <th>Basic_Pitch_Histogram_39</th>\n",
       "      <th>...</th>\n",
       "      <th>Variability_of_Voice_Separation</th>\n",
       "      <th>Parallel_Motion</th>\n",
       "      <th>Similar_Motion</th>\n",
       "      <th>Contrary_Motion</th>\n",
       "      <th>Oblique_Motion</th>\n",
       "      <th>Parallel_Fifths</th>\n",
       "      <th>Parallel_Octaves</th>\n",
       "      <th>Dynamic_Range</th>\n",
       "      <th>Variation_of_Dynamics</th>\n",
       "      <th>Average_Note_to_Note_Change_in_Dynamics</th>\n",
       "    </tr>\n",
       "  </thead>\n",
       "  <tbody>\n",
       "    <tr>\n",
       "      <th>83</th>\n",
       "      <td>-0.165109</td>\n",
       "      <td>-0.356986</td>\n",
       "      <td>-0.329841</td>\n",
       "      <td>-0.309868</td>\n",
       "      <td>-0.607291</td>\n",
       "      <td>-0.411287</td>\n",
       "      <td>-0.206451</td>\n",
       "      <td>0.158301</td>\n",
       "      <td>0.176806</td>\n",
       "      <td>-0.326382</td>\n",
       "      <td>...</td>\n",
       "      <td>-0.808205</td>\n",
       "      <td>-0.403095</td>\n",
       "      <td>0.567495</td>\n",
       "      <td>-0.319619</td>\n",
       "      <td>0.066164</td>\n",
       "      <td>-0.296203</td>\n",
       "      <td>-0.301697</td>\n",
       "      <td>0.296317</td>\n",
       "      <td>-0.262643</td>\n",
       "      <td>0.305064</td>\n",
       "    </tr>\n",
       "    <tr>\n",
       "      <th>23</th>\n",
       "      <td>-0.004885</td>\n",
       "      <td>-0.326901</td>\n",
       "      <td>-0.071276</td>\n",
       "      <td>-0.268808</td>\n",
       "      <td>-0.325148</td>\n",
       "      <td>-0.290951</td>\n",
       "      <td>-0.512604</td>\n",
       "      <td>-0.479594</td>\n",
       "      <td>-0.597462</td>\n",
       "      <td>-0.334384</td>\n",
       "      <td>...</td>\n",
       "      <td>0.191633</td>\n",
       "      <td>-0.418216</td>\n",
       "      <td>0.525503</td>\n",
       "      <td>0.567456</td>\n",
       "      <td>-0.170602</td>\n",
       "      <td>-0.428859</td>\n",
       "      <td>-0.388673</td>\n",
       "      <td>1.182485</td>\n",
       "      <td>0.225634</td>\n",
       "      <td>0.354589</td>\n",
       "    </tr>\n",
       "    <tr>\n",
       "      <th>164</th>\n",
       "      <td>-0.165109</td>\n",
       "      <td>-0.356986</td>\n",
       "      <td>-0.440096</td>\n",
       "      <td>-0.309868</td>\n",
       "      <td>-0.616224</td>\n",
       "      <td>-0.411287</td>\n",
       "      <td>-0.512604</td>\n",
       "      <td>-0.339572</td>\n",
       "      <td>-0.172615</td>\n",
       "      <td>-0.334384</td>\n",
       "      <td>...</td>\n",
       "      <td>-0.554882</td>\n",
       "      <td>-0.170523</td>\n",
       "      <td>0.807200</td>\n",
       "      <td>0.553275</td>\n",
       "      <td>-0.645591</td>\n",
       "      <td>-0.230242</td>\n",
       "      <td>-0.142211</td>\n",
       "      <td>0.637151</td>\n",
       "      <td>0.787614</td>\n",
       "      <td>-1.224389</td>\n",
       "    </tr>\n",
       "    <tr>\n",
       "      <th>117</th>\n",
       "      <td>-0.165109</td>\n",
       "      <td>-0.348048</td>\n",
       "      <td>-0.239235</td>\n",
       "      <td>-0.273291</td>\n",
       "      <td>2.149520</td>\n",
       "      <td>-0.384476</td>\n",
       "      <td>-0.106932</td>\n",
       "      <td>-0.527681</td>\n",
       "      <td>0.489161</td>\n",
       "      <td>-0.334384</td>\n",
       "      <td>...</td>\n",
       "      <td>-0.303096</td>\n",
       "      <td>-0.488143</td>\n",
       "      <td>0.375032</td>\n",
       "      <td>-1.016269</td>\n",
       "      <td>0.536052</td>\n",
       "      <td>0.023006</td>\n",
       "      <td>-0.543016</td>\n",
       "      <td>-0.589851</td>\n",
       "      <td>-0.348629</td>\n",
       "      <td>1.242156</td>\n",
       "    </tr>\n",
       "    <tr>\n",
       "      <th>48</th>\n",
       "      <td>-0.165109</td>\n",
       "      <td>-0.356986</td>\n",
       "      <td>-0.133563</td>\n",
       "      <td>0.076044</td>\n",
       "      <td>-0.606992</td>\n",
       "      <td>0.822857</td>\n",
       "      <td>-0.476093</td>\n",
       "      <td>-0.330120</td>\n",
       "      <td>-0.612360</td>\n",
       "      <td>0.053341</td>\n",
       "      <td>...</td>\n",
       "      <td>-0.132805</td>\n",
       "      <td>-0.474423</td>\n",
       "      <td>0.081963</td>\n",
       "      <td>-0.614260</td>\n",
       "      <td>0.636587</td>\n",
       "      <td>-0.071807</td>\n",
       "      <td>-0.526299</td>\n",
       "      <td>0.262233</td>\n",
       "      <td>0.485128</td>\n",
       "      <td>0.706092</td>\n",
       "    </tr>\n",
       "  </tbody>\n",
       "</table>\n",
       "<p>5 rows × 545 columns</p>\n",
       "</div>"
      ],
      "text/plain": [
       "     Basic_Pitch_Histogram_23  Basic_Pitch_Histogram_28  \\\n",
       "83                  -0.165109                 -0.356986   \n",
       "23                  -0.004885                 -0.326901   \n",
       "164                 -0.165109                 -0.356986   \n",
       "117                 -0.165109                 -0.348048   \n",
       "48                  -0.165109                 -0.356986   \n",
       "\n",
       "     Basic_Pitch_Histogram_31  Basic_Pitch_Histogram_32  \\\n",
       "83                  -0.329841                 -0.309868   \n",
       "23                  -0.071276                 -0.268808   \n",
       "164                 -0.440096                 -0.309868   \n",
       "117                 -0.239235                 -0.273291   \n",
       "48                  -0.133563                  0.076044   \n",
       "\n",
       "     Basic_Pitch_Histogram_33  Basic_Pitch_Histogram_34  \\\n",
       "83                  -0.607291                 -0.411287   \n",
       "23                  -0.325148                 -0.290951   \n",
       "164                 -0.616224                 -0.411287   \n",
       "117                  2.149520                 -0.384476   \n",
       "48                  -0.606992                  0.822857   \n",
       "\n",
       "     Basic_Pitch_Histogram_35  Basic_Pitch_Histogram_36  \\\n",
       "83                  -0.206451                  0.158301   \n",
       "23                  -0.512604                 -0.479594   \n",
       "164                 -0.512604                 -0.339572   \n",
       "117                 -0.106932                 -0.527681   \n",
       "48                  -0.476093                 -0.330120   \n",
       "\n",
       "     Basic_Pitch_Histogram_38  Basic_Pitch_Histogram_39  ...  \\\n",
       "83                   0.176806                 -0.326382  ...   \n",
       "23                  -0.597462                 -0.334384  ...   \n",
       "164                 -0.172615                 -0.334384  ...   \n",
       "117                  0.489161                 -0.334384  ...   \n",
       "48                  -0.612360                  0.053341  ...   \n",
       "\n",
       "     Variability_of_Voice_Separation  Parallel_Motion  Similar_Motion  \\\n",
       "83                         -0.808205        -0.403095        0.567495   \n",
       "23                          0.191633        -0.418216        0.525503   \n",
       "164                        -0.554882        -0.170523        0.807200   \n",
       "117                        -0.303096        -0.488143        0.375032   \n",
       "48                         -0.132805        -0.474423        0.081963   \n",
       "\n",
       "     Contrary_Motion  Oblique_Motion  Parallel_Fifths  Parallel_Octaves  \\\n",
       "83         -0.319619        0.066164        -0.296203         -0.301697   \n",
       "23          0.567456       -0.170602        -0.428859         -0.388673   \n",
       "164         0.553275       -0.645591        -0.230242         -0.142211   \n",
       "117        -1.016269        0.536052         0.023006         -0.543016   \n",
       "48         -0.614260        0.636587        -0.071807         -0.526299   \n",
       "\n",
       "     Dynamic_Range  Variation_of_Dynamics  \\\n",
       "83        0.296317              -0.262643   \n",
       "23        1.182485               0.225634   \n",
       "164       0.637151               0.787614   \n",
       "117      -0.589851              -0.348629   \n",
       "48        0.262233               0.485128   \n",
       "\n",
       "     Average_Note_to_Note_Change_in_Dynamics  \n",
       "83                                  0.305064  \n",
       "23                                  0.354589  \n",
       "164                                -1.224389  \n",
       "117                                 1.242156  \n",
       "48                                  0.706092  \n",
       "\n",
       "[5 rows x 545 columns]"
      ]
     },
     "execution_count": 8,
     "metadata": {},
     "output_type": "execute_result"
    }
   ],
   "source": [
    "%%time\n",
    "rf_clf = RandomForestClassifier()\n",
    "rf_clf = rf_clf.fit(X_train3, Y_train3.values.ravel())\n",
    "model = SelectFromModel(rf_clf, prefit=True)\n",
    "\n",
    "rf_X_train = X_train3.loc[:, model.get_support()]\n",
    "rf_X_test = X_test3.loc[:, model.get_support()]\n",
    "print(type(rf_X_train))\n",
    "print(rf_X_train.shape)\n",
    "rf_X_train.head()"
   ]
  },
  {
   "cell_type": "code",
   "execution_count": 9,
   "id": "ed5c4b3c",
   "metadata": {},
   "outputs": [
    {
     "name": "stdout",
     "output_type": "stream",
     "text": [
      "[LibSVM]Training accuracy 0.3857967032967033\n",
      "Test accuracy 0.3559322033898305\n",
      "Wall time: 999 ms\n"
     ]
    }
   ],
   "source": [
    "%%time\n",
    "clf = svm.SVC(C=0.1, kernel='linear', verbose = True)\n",
    "clf.fit(rf_X_train, Y_train3.values.ravel())\n",
    "#cv = RepeatedStratifiedKFold(n_splits=10, n_repeats=20)\n",
    "#cv = StratifiedKFold(5)\n",
    "cv = RepeatedStratifiedKFold(n_splits=10, n_repeats=20, random_state=1)\n",
    "train_accuracy_svm_rf = cross_val_score(clf, rf_X_train, Y_train3.values.ravel(), cv=cv, n_jobs=15).mean()\n",
    "test_accuracy_svm_rf = clf.score(rf_X_test, Y_test3.values.ravel())\n",
    "\n",
    "print(\"Training accuracy \" + str(train_accuracy_svm_rf))\n",
    "print(\"Test accuracy \" + str(test_accuracy_svm_rf))"
   ]
  },
  {
   "cell_type": "markdown",
   "id": "372a24ca",
   "metadata": {},
   "source": [
    "https://machinelearningmastery.com/rfe-feature-selection-in-python/ **RFECV**"
   ]
  },
  {
   "cell_type": "code",
   "execution_count": 10,
   "id": "72e30b4a",
   "metadata": {},
   "outputs": [
    {
     "name": "stdout",
     "output_type": "stream",
     "text": [
      "Optimal number of features : 30\n",
      "Wall time: 2min\n"
     ]
    }
   ],
   "source": [
    "%%time\n",
    "clf = svm.SVC(C=0.1, kernel='linear')\n",
    "cv = RepeatedStratifiedKFold(n_splits=10, n_repeats=20, random_state = 1)\n",
    "#cv = StratifiedKFold(5)\n",
    "rfecv = RFECV(estimator = clf, step = 5, cv = cv, scoring='accuracy', n_jobs=15 )\n",
    "rfetrain=rfecv.fit(X_train3, Y_train3.values.ravel())\n",
    "print('Optimal number of features :', rfecv.n_features_)"
   ]
  },
  {
   "cell_type": "code",
   "execution_count": 11,
   "id": "4141f1f0",
   "metadata": {},
   "outputs": [
    {
     "name": "stdout",
     "output_type": "stream",
     "text": [
      "Wall time: 11.8 s\n"
     ]
    }
   ],
   "source": [
    "%%time\n",
    "rfe = RFE(estimator=clf, n_features_to_select=rfecv.n_features_, step=1)\n",
    "rfe = rfe.fit(X_train3, Y_train3.values.ravel())\n",
    "\n",
    "rfe_X_train = X_train3.loc[:, rfe.get_support()]\n",
    "rfe_X_test = X_test3.loc[:, rfe.get_support()]"
   ]
  },
  {
   "cell_type": "code",
   "execution_count": 12,
   "id": "de3de3ce",
   "metadata": {},
   "outputs": [
    {
     "data": {
      "text/html": [
       "<div>\n",
       "<style scoped>\n",
       "    .dataframe tbody tr th:only-of-type {\n",
       "        vertical-align: middle;\n",
       "    }\n",
       "\n",
       "    .dataframe tbody tr th {\n",
       "        vertical-align: top;\n",
       "    }\n",
       "\n",
       "    .dataframe thead th {\n",
       "        text-align: right;\n",
       "    }\n",
       "</style>\n",
       "<table border=\"1\" class=\"dataframe\">\n",
       "  <thead>\n",
       "    <tr style=\"text-align: right;\">\n",
       "      <th></th>\n",
       "      <th>Basic_Pitch_Histogram_49</th>\n",
       "      <th>Basic_Pitch_Histogram_78</th>\n",
       "      <th>Relative_Prevalence_of_Top_Pitch_Classes</th>\n",
       "      <th>Pitch_Skewness</th>\n",
       "      <th>Pitch_Class_Kurtosis</th>\n",
       "      <th>Distance_Between_Most_Prevalent_Melodic_Intervals</th>\n",
       "      <th>Relative_Prevalence_of_Most_Common_Melodic_Intervals</th>\n",
       "      <th>Melodic_Thirds</th>\n",
       "      <th>Second_Most_Common_Vertical_Interval</th>\n",
       "      <th>Prevalence_of_Second_Most_Common_Vertical_Interval</th>\n",
       "      <th>...</th>\n",
       "      <th>Mean_Tempo</th>\n",
       "      <th>Beat_Histogram_1</th>\n",
       "      <th>Pitched_Instruments_Present_0</th>\n",
       "      <th>Pitched_Instruments_Present_27</th>\n",
       "      <th>Pitched_Instruments_Present_30</th>\n",
       "      <th>Note_Prevalence_of_Unpitched_Instruments_9</th>\n",
       "      <th>Time_Prevalence_of_Pitched_Instruments_2</th>\n",
       "      <th>Time_Prevalence_of_Pitched_Instruments_30</th>\n",
       "      <th>Voice_Separation</th>\n",
       "      <th>Oblique_Motion</th>\n",
       "    </tr>\n",
       "  </thead>\n",
       "  <tbody>\n",
       "    <tr>\n",
       "      <th>83</th>\n",
       "      <td>-0.431326</td>\n",
       "      <td>0.682362</td>\n",
       "      <td>1.256822</td>\n",
       "      <td>-0.045557</td>\n",
       "      <td>0.134566</td>\n",
       "      <td>-0.356785</td>\n",
       "      <td>1.310796</td>\n",
       "      <td>1.005852</td>\n",
       "      <td>0.671383</td>\n",
       "      <td>-0.668962</td>\n",
       "      <td>...</td>\n",
       "      <td>0.133081</td>\n",
       "      <td>0.777068</td>\n",
       "      <td>-0.737094</td>\n",
       "      <td>1.601136</td>\n",
       "      <td>-0.624557</td>\n",
       "      <td>-0.332661</td>\n",
       "      <td>-0.21388</td>\n",
       "      <td>-0.54221</td>\n",
       "      <td>-1.176181</td>\n",
       "      <td>0.066164</td>\n",
       "    </tr>\n",
       "    <tr>\n",
       "      <th>23</th>\n",
       "      <td>-0.431326</td>\n",
       "      <td>-0.496824</td>\n",
       "      <td>1.319222</td>\n",
       "      <td>0.107416</td>\n",
       "      <td>-0.624190</td>\n",
       "      <td>-0.618695</td>\n",
       "      <td>0.542664</td>\n",
       "      <td>0.131424</td>\n",
       "      <td>0.671383</td>\n",
       "      <td>-0.909491</td>\n",
       "      <td>...</td>\n",
       "      <td>-0.894210</td>\n",
       "      <td>-0.364639</td>\n",
       "      <td>1.356680</td>\n",
       "      <td>-0.624557</td>\n",
       "      <td>-0.624557</td>\n",
       "      <td>-0.309569</td>\n",
       "      <td>-0.21388</td>\n",
       "      <td>-0.54221</td>\n",
       "      <td>0.004689</td>\n",
       "      <td>-0.170602</td>\n",
       "    </tr>\n",
       "    <tr>\n",
       "      <th>164</th>\n",
       "      <td>-0.431326</td>\n",
       "      <td>1.501429</td>\n",
       "      <td>-0.189735</td>\n",
       "      <td>1.680540</td>\n",
       "      <td>0.045301</td>\n",
       "      <td>2.000402</td>\n",
       "      <td>-0.652752</td>\n",
       "      <td>-0.911759</td>\n",
       "      <td>-1.182013</td>\n",
       "      <td>-0.965427</td>\n",
       "      <td>...</td>\n",
       "      <td>0.614623</td>\n",
       "      <td>-0.568087</td>\n",
       "      <td>1.356680</td>\n",
       "      <td>1.601136</td>\n",
       "      <td>-0.624557</td>\n",
       "      <td>-0.332661</td>\n",
       "      <td>-0.21388</td>\n",
       "      <td>-0.54221</td>\n",
       "      <td>0.473310</td>\n",
       "      <td>-0.645591</td>\n",
       "    </tr>\n",
       "    <tr>\n",
       "      <th>117</th>\n",
       "      <td>1.985333</td>\n",
       "      <td>-0.253338</td>\n",
       "      <td>0.454898</td>\n",
       "      <td>-1.050582</td>\n",
       "      <td>-0.487317</td>\n",
       "      <td>0.690854</td>\n",
       "      <td>1.030098</td>\n",
       "      <td>-1.302591</td>\n",
       "      <td>0.671383</td>\n",
       "      <td>0.813362</td>\n",
       "      <td>...</td>\n",
       "      <td>-0.187947</td>\n",
       "      <td>-0.517486</td>\n",
       "      <td>1.356680</td>\n",
       "      <td>-0.624557</td>\n",
       "      <td>-0.624557</td>\n",
       "      <td>-0.332661</td>\n",
       "      <td>-0.21388</td>\n",
       "      <td>-0.54221</td>\n",
       "      <td>-1.079503</td>\n",
       "      <td>0.536052</td>\n",
       "    </tr>\n",
       "    <tr>\n",
       "      <th>48</th>\n",
       "      <td>-0.177755</td>\n",
       "      <td>-0.480104</td>\n",
       "      <td>-0.408911</td>\n",
       "      <td>0.470228</td>\n",
       "      <td>-0.743211</td>\n",
       "      <td>0.690854</td>\n",
       "      <td>1.118318</td>\n",
       "      <td>1.140024</td>\n",
       "      <td>0.671383</td>\n",
       "      <td>0.810565</td>\n",
       "      <td>...</td>\n",
       "      <td>1.430035</td>\n",
       "      <td>-0.220709</td>\n",
       "      <td>-0.737094</td>\n",
       "      <td>1.601136</td>\n",
       "      <td>-0.624557</td>\n",
       "      <td>-0.332661</td>\n",
       "      <td>-0.21388</td>\n",
       "      <td>-0.54221</td>\n",
       "      <td>-0.405575</td>\n",
       "      <td>0.636587</td>\n",
       "    </tr>\n",
       "  </tbody>\n",
       "</table>\n",
       "<p>5 rows × 30 columns</p>\n",
       "</div>"
      ],
      "text/plain": [
       "     Basic_Pitch_Histogram_49  Basic_Pitch_Histogram_78  \\\n",
       "83                  -0.431326                  0.682362   \n",
       "23                  -0.431326                 -0.496824   \n",
       "164                 -0.431326                  1.501429   \n",
       "117                  1.985333                 -0.253338   \n",
       "48                  -0.177755                 -0.480104   \n",
       "\n",
       "     Relative_Prevalence_of_Top_Pitch_Classes  Pitch_Skewness  \\\n",
       "83                                   1.256822       -0.045557   \n",
       "23                                   1.319222        0.107416   \n",
       "164                                 -0.189735        1.680540   \n",
       "117                                  0.454898       -1.050582   \n",
       "48                                  -0.408911        0.470228   \n",
       "\n",
       "     Pitch_Class_Kurtosis  Distance_Between_Most_Prevalent_Melodic_Intervals  \\\n",
       "83               0.134566                                          -0.356785   \n",
       "23              -0.624190                                          -0.618695   \n",
       "164              0.045301                                           2.000402   \n",
       "117             -0.487317                                           0.690854   \n",
       "48              -0.743211                                           0.690854   \n",
       "\n",
       "     Relative_Prevalence_of_Most_Common_Melodic_Intervals  Melodic_Thirds  \\\n",
       "83                                            1.310796           1.005852   \n",
       "23                                            0.542664           0.131424   \n",
       "164                                          -0.652752          -0.911759   \n",
       "117                                           1.030098          -1.302591   \n",
       "48                                            1.118318           1.140024   \n",
       "\n",
       "     Second_Most_Common_Vertical_Interval  \\\n",
       "83                               0.671383   \n",
       "23                               0.671383   \n",
       "164                             -1.182013   \n",
       "117                              0.671383   \n",
       "48                               0.671383   \n",
       "\n",
       "     Prevalence_of_Second_Most_Common_Vertical_Interval  ...  Mean_Tempo  \\\n",
       "83                                           -0.668962   ...    0.133081   \n",
       "23                                           -0.909491   ...   -0.894210   \n",
       "164                                          -0.965427   ...    0.614623   \n",
       "117                                           0.813362   ...   -0.187947   \n",
       "48                                            0.810565   ...    1.430035   \n",
       "\n",
       "     Beat_Histogram_1  Pitched_Instruments_Present_0  \\\n",
       "83           0.777068                      -0.737094   \n",
       "23          -0.364639                       1.356680   \n",
       "164         -0.568087                       1.356680   \n",
       "117         -0.517486                       1.356680   \n",
       "48          -0.220709                      -0.737094   \n",
       "\n",
       "     Pitched_Instruments_Present_27  Pitched_Instruments_Present_30  \\\n",
       "83                         1.601136                       -0.624557   \n",
       "23                        -0.624557                       -0.624557   \n",
       "164                        1.601136                       -0.624557   \n",
       "117                       -0.624557                       -0.624557   \n",
       "48                         1.601136                       -0.624557   \n",
       "\n",
       "     Note_Prevalence_of_Unpitched_Instruments_9  \\\n",
       "83                                    -0.332661   \n",
       "23                                    -0.309569   \n",
       "164                                   -0.332661   \n",
       "117                                   -0.332661   \n",
       "48                                    -0.332661   \n",
       "\n",
       "     Time_Prevalence_of_Pitched_Instruments_2  \\\n",
       "83                                   -0.21388   \n",
       "23                                   -0.21388   \n",
       "164                                  -0.21388   \n",
       "117                                  -0.21388   \n",
       "48                                   -0.21388   \n",
       "\n",
       "     Time_Prevalence_of_Pitched_Instruments_30  Voice_Separation  \\\n",
       "83                                    -0.54221         -1.176181   \n",
       "23                                    -0.54221          0.004689   \n",
       "164                                   -0.54221          0.473310   \n",
       "117                                   -0.54221         -1.079503   \n",
       "48                                    -0.54221         -0.405575   \n",
       "\n",
       "     Oblique_Motion  \n",
       "83         0.066164  \n",
       "23        -0.170602  \n",
       "164       -0.645591  \n",
       "117        0.536052  \n",
       "48         0.636587  \n",
       "\n",
       "[5 rows x 30 columns]"
      ]
     },
     "execution_count": 12,
     "metadata": {},
     "output_type": "execute_result"
    }
   ],
   "source": [
    "rfe_X_train.head()"
   ]
  },
  {
   "cell_type": "code",
   "execution_count": 13,
   "id": "f4cc431d",
   "metadata": {},
   "outputs": [
    {
     "name": "stdout",
     "output_type": "stream",
     "text": [
      "Rank 1 feature: Basic_Pitch_Histogram_49\n",
      "Rank 1 feature: Basic_Pitch_Histogram_78\n",
      "Rank 1 feature: Relative_Prevalence_of_Top_Pitch_Classes\n",
      "Rank 1 feature: Pitch_Skewness\n",
      "Rank 1 feature: Pitch_Class_Kurtosis\n",
      "Rank 1 feature: Distance_Between_Most_Prevalent_Melodic_Intervals\n",
      "Rank 1 feature: Relative_Prevalence_of_Most_Common_Melodic_Intervals\n",
      "Rank 1 feature: Melodic_Thirds\n",
      "Rank 1 feature: Second_Most_Common_Vertical_Interval\n",
      "Rank 15 feature: Distance_Between_Two_Most_Common_Vertical_Intervals\n",
      "Rank 1 feature: Prevalence_of_Second_Most_Common_Vertical_Interval\n",
      "Rank 1 feature: Rhythmic_Value_Histogram_5\n",
      "Rank 1 feature: Difference_Between_Most_Common_Rhythmic_Values\n",
      "Rank 1 feature: Rhythmic_Value_Kurtosis\n",
      "Rank 1 feature: Rhythmic_Value_Median_Run_Lengths_Histogram_11\n",
      "Rank 1 feature: Median_Rhythmic_Value_Offset\n",
      "Rank 1 feature: Beat_Histogram_Tempo_Standardized_43\n",
      "Rank 1 feature: Beat_Histogram_Tempo_Standardized_60\n",
      "Rank 1 feature: Beat_Histogram_Tempo_Standardized_81\n",
      "Rank 1 feature: Beat_Histogram_Tempo_Standardized_92\n",
      "Rank 1 feature: Initial_Tempo\n",
      "Rank 1 feature: Mean_Tempo\n",
      "Rank 1 feature: Beat_Histogram_1\n",
      "Rank 1 feature: Pitched_Instruments_Present_0\n",
      "Rank 1 feature: Pitched_Instruments_Present_27\n",
      "Rank 1 feature: Pitched_Instruments_Present_30\n",
      "Rank 1 feature: Note_Prevalence_of_Unpitched_Instruments_9\n",
      "Rank 1 feature: Time_Prevalence_of_Pitched_Instruments_2\n",
      "Rank 1 feature: Time_Prevalence_of_Pitched_Instruments_30\n",
      "Rank 1 feature: Voice_Separation\n",
      "Rank 1 feature: Oblique_Motion\n"
     ]
    }
   ],
   "source": [
    "for index, rank in enumerate(rfe.ranking_):\n",
    "    if rank in [1,15]:\n",
    "        print(\"Rank \" + str(rank)+ \" feature: \" + xcols[index])"
   ]
  },
  {
   "cell_type": "code",
   "execution_count": 14,
   "id": "81a82a4c",
   "metadata": {},
   "outputs": [
    {
     "name": "stdout",
     "output_type": "stream",
     "text": [
      "Training accuracy 0.6853021978021977\n",
      "Test accuracy 0.4745762711864407\n",
      "Wall time: 204 ms\n"
     ]
    }
   ],
   "source": [
    "%%time\n",
    "cv = RepeatedStratifiedKFold(n_splits=10, n_repeats=20)\n",
    "#cv = RepeatedStratifiedKFold(n_splits=10, n_repeats=20, random_state = 1)\n",
    "#cv = StratifiedKFold(5)\n",
    "train_accuracy_svm_rfe = cross_val_score(estimator=clf,X=rfe_X_train,y=Y_train3.values.ravel(), cv=cv, n_jobs=15).mean()\n",
    "print(\"Training accuracy \" + str(train_accuracy_svm_rfe))\n",
    "clf = clf.fit(rfe_X_train, Y_train3.values.ravel())\n",
    "test_accuracy_svm_rfe = clf.score(rfe_X_test, Y_test3.values.ravel())\n",
    "print(\"Test accuracy \" + str(test_accuracy_svm_rfe))"
   ]
  },
  {
   "cell_type": "markdown",
   "id": "9fa59da2",
   "metadata": {},
   "source": [
    "https://machinelearningmastery.com/feature-selection-with-real-and-categorical-data/ **ANOVA F measure**"
   ]
  },
  {
   "cell_type": "code",
   "execution_count": 15,
   "id": "7570d18c",
   "metadata": {},
   "outputs": [
    {
     "name": "stdout",
     "output_type": "stream",
     "text": [
      "[LibSVM]"
     ]
    },
    {
     "name": "stderr",
     "output_type": "stream",
     "text": [
      "C:\\ProgramData\\Anaconda3\\lib\\site-packages\\sklearn\\feature_selection\\_univariate_selection.py:114: UserWarning: Features [   1    2    3    4    5    6    7    8    9   10   15   18   20  113\n",
      "  114  116  117  118  119  120  121  122  123  124  125  127  259  266\n",
      "  270  271  272  273  274  276  277  278  279  280  281  282  283  284\n",
      "  285  286  287  288  289  290  291  292  293  294  295  296  297  298\n",
      "  299  300  301  302  303  304  305  306  307  308  309  310  311  312\n",
      "  313  314  315  316  317  423  425  427  428  430  431  432  433  434\n",
      "  435  436  437  438  439  440  441  442  443  444  445  446  447  448\n",
      "  449  450  451  452  453  454  455  456  457  458  459  460  461  462\n",
      "  463  464  465  466  467  468  469  529  982 1018 1019 1044 1046 1057\n",
      " 1063 1065 1071 1075 1076 1078 1081 1082 1083 1086 1088 1095 1098 1138\n",
      " 1157 1193 1194 1219 1221 1232 1238 1240 1246 1250 1251 1253 1256 1257\n",
      " 1258 1261 1263 1270 1273 1313 1332 1368 1369 1394 1396 1407 1413 1415\n",
      " 1421 1422 1425 1426 1428 1431 1432 1433 1436 1438 1445 1448] are constant.\n",
      "  warnings.warn(\"Features %s are constant.\" % constant_features_idx,\n",
      "C:\\ProgramData\\Anaconda3\\lib\\site-packages\\sklearn\\feature_selection\\_univariate_selection.py:116: RuntimeWarning: invalid value encountered in true_divide\n",
      "  f = msb / msw\n",
      "C:\\ProgramData\\Anaconda3\\lib\\site-packages\\sklearn\\feature_selection\\_univariate_selection.py:114: UserWarning: Features [   1    2    3    4    5    6    7    8    9   10   15   18   20  113\n",
      "  114  116  117  118  119  120  121  122  123  124  125  127  259  266\n",
      "  270  271  272  273  274  276  277  278  279  280  281  282  283  284\n",
      "  285  286  287  288  289  290  291  292  293  294  295  296  297  298\n",
      "  299  300  301  302  303  304  305  306  307  308  309  310  311  312\n",
      "  313  314  315  316  317  423  425  427  428  430  431  432  433  434\n",
      "  435  436  437  438  439  440  441  442  443  444  445  446  447  448\n",
      "  449  450  451  452  453  454  455  456  457  458  459  460  461  462\n",
      "  463  464  465  466  467  468  469  529  982 1018 1019 1044 1046 1057\n",
      " 1063 1065 1071 1075 1076 1078 1081 1082 1083 1086 1088 1095 1098 1138\n",
      " 1157 1193 1194 1219 1221 1232 1238 1240 1246 1250 1251 1253 1256 1257\n",
      " 1258 1261 1263 1270 1273 1313 1332 1368 1369 1394 1396 1407 1413 1415\n",
      " 1421 1422 1425 1426 1428 1431 1432 1433 1436 1438 1445 1448] are constant.\n",
      "  warnings.warn(\"Features %s are constant.\" % constant_features_idx,\n",
      "C:\\ProgramData\\Anaconda3\\lib\\site-packages\\sklearn\\feature_selection\\_univariate_selection.py:116: RuntimeWarning: invalid value encountered in true_divide\n",
      "  f = msb / msw\n"
     ]
    },
    {
     "name": "stdout",
     "output_type": "stream",
     "text": [
      "[LibSVM]"
     ]
    },
    {
     "name": "stderr",
     "output_type": "stream",
     "text": [
      "C:\\ProgramData\\Anaconda3\\lib\\site-packages\\sklearn\\feature_selection\\_univariate_selection.py:114: UserWarning: Features [   1    2    3    4    5    6    7    8    9   10   15   18   20  113\n",
      "  114  116  117  118  119  120  121  122  123  124  125  127  259  266\n",
      "  270  271  272  273  274  276  277  278  279  280  281  282  283  284\n",
      "  285  286  287  288  289  290  291  292  293  294  295  296  297  298\n",
      "  299  300  301  302  303  304  305  306  307  308  309  310  311  312\n",
      "  313  314  315  316  317  423  425  427  428  430  431  432  433  434\n",
      "  435  436  437  438  439  440  441  442  443  444  445  446  447  448\n",
      "  449  450  451  452  453  454  455  456  457  458  459  460  461  462\n",
      "  463  464  465  466  467  468  469  529  982 1018 1019 1044 1046 1057\n",
      " 1063 1065 1071 1075 1076 1078 1081 1082 1083 1086 1088 1095 1098 1138\n",
      " 1157 1193 1194 1219 1221 1232 1238 1240 1246 1250 1251 1253 1256 1257\n",
      " 1258 1261 1263 1270 1273 1313 1332 1368 1369 1394 1396 1407 1413 1415\n",
      " 1421 1422 1425 1426 1428 1431 1432 1433 1436 1438 1445 1448] are constant.\n",
      "  warnings.warn(\"Features %s are constant.\" % constant_features_idx,\n",
      "C:\\ProgramData\\Anaconda3\\lib\\site-packages\\sklearn\\feature_selection\\_univariate_selection.py:116: RuntimeWarning: invalid value encountered in true_divide\n",
      "  f = msb / msw\n"
     ]
    },
    {
     "name": "stdout",
     "output_type": "stream",
     "text": [
      "[LibSVM]"
     ]
    },
    {
     "name": "stderr",
     "output_type": "stream",
     "text": [
      "C:\\ProgramData\\Anaconda3\\lib\\site-packages\\sklearn\\feature_selection\\_univariate_selection.py:114: UserWarning: Features [   1    2    3    4    5    6    7    8    9   10   15   18   20  113\n",
      "  114  116  117  118  119  120  121  122  123  124  125  127  259  266\n",
      "  270  271  272  273  274  276  277  278  279  280  281  282  283  284\n",
      "  285  286  287  288  289  290  291  292  293  294  295  296  297  298\n",
      "  299  300  301  302  303  304  305  306  307  308  309  310  311  312\n",
      "  313  314  315  316  317  423  425  427  428  430  431  432  433  434\n",
      "  435  436  437  438  439  440  441  442  443  444  445  446  447  448\n",
      "  449  450  451  452  453  454  455  456  457  458  459  460  461  462\n",
      "  463  464  465  466  467  468  469  529  982 1018 1019 1044 1046 1057\n",
      " 1063 1065 1071 1075 1076 1078 1081 1082 1083 1086 1088 1095 1098 1138\n",
      " 1157 1193 1194 1219 1221 1232 1238 1240 1246 1250 1251 1253 1256 1257\n",
      " 1258 1261 1263 1270 1273 1313 1332 1368 1369 1394 1396 1407 1413 1415\n",
      " 1421 1422 1425 1426 1428 1431 1432 1433 1436 1438 1445 1448] are constant.\n",
      "  warnings.warn(\"Features %s are constant.\" % constant_features_idx,\n",
      "C:\\ProgramData\\Anaconda3\\lib\\site-packages\\sklearn\\feature_selection\\_univariate_selection.py:116: RuntimeWarning: invalid value encountered in true_divide\n",
      "  f = msb / msw\n"
     ]
    },
    {
     "name": "stdout",
     "output_type": "stream",
     "text": [
      "[LibSVM]"
     ]
    },
    {
     "name": "stderr",
     "output_type": "stream",
     "text": [
      "C:\\ProgramData\\Anaconda3\\lib\\site-packages\\sklearn\\feature_selection\\_univariate_selection.py:114: UserWarning: Features [   1    2    3    4    5    6    7    8    9   10   15   18   20  113\n",
      "  114  116  117  118  119  120  121  122  123  124  125  127  259  266\n",
      "  270  271  272  273  274  276  277  278  279  280  281  282  283  284\n",
      "  285  286  287  288  289  290  291  292  293  294  295  296  297  298\n",
      "  299  300  301  302  303  304  305  306  307  308  309  310  311  312\n",
      "  313  314  315  316  317  423  425  427  428  430  431  432  433  434\n",
      "  435  436  437  438  439  440  441  442  443  444  445  446  447  448\n",
      "  449  450  451  452  453  454  455  456  457  458  459  460  461  462\n",
      "  463  464  465  466  467  468  469  529  982 1018 1019 1044 1046 1057\n",
      " 1063 1065 1071 1075 1076 1078 1081 1082 1083 1086 1088 1095 1098 1138\n",
      " 1157 1193 1194 1219 1221 1232 1238 1240 1246 1250 1251 1253 1256 1257\n",
      " 1258 1261 1263 1270 1273 1313 1332 1368 1369 1394 1396 1407 1413 1415\n",
      " 1421 1422 1425 1426 1428 1431 1432 1433 1436 1438 1445 1448] are constant.\n",
      "  warnings.warn(\"Features %s are constant.\" % constant_features_idx,\n",
      "C:\\ProgramData\\Anaconda3\\lib\\site-packages\\sklearn\\feature_selection\\_univariate_selection.py:116: RuntimeWarning: invalid value encountered in true_divide\n",
      "  f = msb / msw\n"
     ]
    },
    {
     "name": "stdout",
     "output_type": "stream",
     "text": [
      "[LibSVM]"
     ]
    },
    {
     "name": "stderr",
     "output_type": "stream",
     "text": [
      "C:\\ProgramData\\Anaconda3\\lib\\site-packages\\sklearn\\feature_selection\\_univariate_selection.py:114: UserWarning: Features [   1    2    3    4    5    6    7    8    9   10   15   18   20  113\n",
      "  114  116  117  118  119  120  121  122  123  124  125  127  259  266\n",
      "  270  271  272  273  274  276  277  278  279  280  281  282  283  284\n",
      "  285  286  287  288  289  290  291  292  293  294  295  296  297  298\n",
      "  299  300  301  302  303  304  305  306  307  308  309  310  311  312\n",
      "  313  314  315  316  317  423  425  427  428  430  431  432  433  434\n",
      "  435  436  437  438  439  440  441  442  443  444  445  446  447  448\n",
      "  449  450  451  452  453  454  455  456  457  458  459  460  461  462\n",
      "  463  464  465  466  467  468  469  529  982 1018 1019 1044 1046 1057\n",
      " 1063 1065 1071 1075 1076 1078 1081 1082 1083 1086 1088 1095 1098 1138\n",
      " 1157 1193 1194 1219 1221 1232 1238 1240 1246 1250 1251 1253 1256 1257\n",
      " 1258 1261 1263 1270 1273 1313 1332 1368 1369 1394 1396 1407 1413 1415\n",
      " 1421 1422 1425 1426 1428 1431 1432 1433 1436 1438 1445 1448] are constant.\n",
      "  warnings.warn(\"Features %s are constant.\" % constant_features_idx,\n",
      "C:\\ProgramData\\Anaconda3\\lib\\site-packages\\sklearn\\feature_selection\\_univariate_selection.py:116: RuntimeWarning: invalid value encountered in true_divide\n",
      "  f = msb / msw\n"
     ]
    },
    {
     "name": "stdout",
     "output_type": "stream",
     "text": [
      "[LibSVM]"
     ]
    },
    {
     "name": "stderr",
     "output_type": "stream",
     "text": [
      "C:\\ProgramData\\Anaconda3\\lib\\site-packages\\sklearn\\feature_selection\\_univariate_selection.py:114: UserWarning: Features [   1    2    3    4    5    6    7    8    9   10   15   18   20  113\n",
      "  114  116  117  118  119  120  121  122  123  124  125  127  259  266\n",
      "  270  271  272  273  274  276  277  278  279  280  281  282  283  284\n",
      "  285  286  287  288  289  290  291  292  293  294  295  296  297  298\n",
      "  299  300  301  302  303  304  305  306  307  308  309  310  311  312\n",
      "  313  314  315  316  317  423  425  427  428  430  431  432  433  434\n",
      "  435  436  437  438  439  440  441  442  443  444  445  446  447  448\n",
      "  449  450  451  452  453  454  455  456  457  458  459  460  461  462\n",
      "  463  464  465  466  467  468  469  529  982 1018 1019 1044 1046 1057\n",
      " 1063 1065 1071 1075 1076 1078 1081 1082 1083 1086 1088 1095 1098 1138\n",
      " 1157 1193 1194 1219 1221 1232 1238 1240 1246 1250 1251 1253 1256 1257\n",
      " 1258 1261 1263 1270 1273 1313 1332 1368 1369 1394 1396 1407 1413 1415\n",
      " 1421 1422 1425 1426 1428 1431 1432 1433 1436 1438 1445 1448] are constant.\n",
      "  warnings.warn(\"Features %s are constant.\" % constant_features_idx,\n",
      "C:\\ProgramData\\Anaconda3\\lib\\site-packages\\sklearn\\feature_selection\\_univariate_selection.py:116: RuntimeWarning: invalid value encountered in true_divide\n",
      "  f = msb / msw\n"
     ]
    },
    {
     "name": "stdout",
     "output_type": "stream",
     "text": [
      "[LibSVM]"
     ]
    },
    {
     "name": "stderr",
     "output_type": "stream",
     "text": [
      "C:\\ProgramData\\Anaconda3\\lib\\site-packages\\sklearn\\feature_selection\\_univariate_selection.py:114: UserWarning: Features [   1    2    3    4    5    6    7    8    9   10   15   18   20  113\n",
      "  114  116  117  118  119  120  121  122  123  124  125  127  259  266\n",
      "  270  271  272  273  274  276  277  278  279  280  281  282  283  284\n",
      "  285  286  287  288  289  290  291  292  293  294  295  296  297  298\n",
      "  299  300  301  302  303  304  305  306  307  308  309  310  311  312\n",
      "  313  314  315  316  317  423  425  427  428  430  431  432  433  434\n",
      "  435  436  437  438  439  440  441  442  443  444  445  446  447  448\n",
      "  449  450  451  452  453  454  455  456  457  458  459  460  461  462\n",
      "  463  464  465  466  467  468  469  529  982 1018 1019 1044 1046 1057\n",
      " 1063 1065 1071 1075 1076 1078 1081 1082 1083 1086 1088 1095 1098 1138\n",
      " 1157 1193 1194 1219 1221 1232 1238 1240 1246 1250 1251 1253 1256 1257\n",
      " 1258 1261 1263 1270 1273 1313 1332 1368 1369 1394 1396 1407 1413 1415\n",
      " 1421 1422 1425 1426 1428 1431 1432 1433 1436 1438 1445 1448] are constant.\n",
      "  warnings.warn(\"Features %s are constant.\" % constant_features_idx,\n",
      "C:\\ProgramData\\Anaconda3\\lib\\site-packages\\sklearn\\feature_selection\\_univariate_selection.py:116: RuntimeWarning: invalid value encountered in true_divide\n",
      "  f = msb / msw\n"
     ]
    },
    {
     "name": "stdout",
     "output_type": "stream",
     "text": [
      "[LibSVM]"
     ]
    },
    {
     "name": "stderr",
     "output_type": "stream",
     "text": [
      "C:\\ProgramData\\Anaconda3\\lib\\site-packages\\sklearn\\feature_selection\\_univariate_selection.py:114: UserWarning: Features [   1    2    3    4    5    6    7    8    9   10   15   18   20  113\n",
      "  114  116  117  118  119  120  121  122  123  124  125  127  259  266\n",
      "  270  271  272  273  274  276  277  278  279  280  281  282  283  284\n",
      "  285  286  287  288  289  290  291  292  293  294  295  296  297  298\n",
      "  299  300  301  302  303  304  305  306  307  308  309  310  311  312\n",
      "  313  314  315  316  317  423  425  427  428  430  431  432  433  434\n",
      "  435  436  437  438  439  440  441  442  443  444  445  446  447  448\n",
      "  449  450  451  452  453  454  455  456  457  458  459  460  461  462\n",
      "  463  464  465  466  467  468  469  529  982 1018 1019 1044 1046 1057\n",
      " 1063 1065 1071 1075 1076 1078 1081 1082 1083 1086 1088 1095 1098 1138\n",
      " 1157 1193 1194 1219 1221 1232 1238 1240 1246 1250 1251 1253 1256 1257\n",
      " 1258 1261 1263 1270 1273 1313 1332 1368 1369 1394 1396 1407 1413 1415\n",
      " 1421 1422 1425 1426 1428 1431 1432 1433 1436 1438 1445 1448] are constant.\n",
      "  warnings.warn(\"Features %s are constant.\" % constant_features_idx,\n",
      "C:\\ProgramData\\Anaconda3\\lib\\site-packages\\sklearn\\feature_selection\\_univariate_selection.py:116: RuntimeWarning: invalid value encountered in true_divide\n",
      "  f = msb / msw\n"
     ]
    },
    {
     "name": "stdout",
     "output_type": "stream",
     "text": [
      "[LibSVM]"
     ]
    },
    {
     "name": "stderr",
     "output_type": "stream",
     "text": [
      "C:\\ProgramData\\Anaconda3\\lib\\site-packages\\sklearn\\feature_selection\\_univariate_selection.py:114: UserWarning: Features [   1    2    3    4    5    6    7    8    9   10   15   18   20  113\n",
      "  114  116  117  118  119  120  121  122  123  124  125  127  259  266\n",
      "  270  271  272  273  274  276  277  278  279  280  281  282  283  284\n",
      "  285  286  287  288  289  290  291  292  293  294  295  296  297  298\n",
      "  299  300  301  302  303  304  305  306  307  308  309  310  311  312\n",
      "  313  314  315  316  317  423  425  427  428  430  431  432  433  434\n",
      "  435  436  437  438  439  440  441  442  443  444  445  446  447  448\n",
      "  449  450  451  452  453  454  455  456  457  458  459  460  461  462\n",
      "  463  464  465  466  467  468  469  529  982 1018 1019 1044 1046 1057\n",
      " 1063 1065 1071 1075 1076 1078 1081 1082 1083 1086 1088 1095 1098 1138\n",
      " 1157 1193 1194 1219 1221 1232 1238 1240 1246 1250 1251 1253 1256 1257\n",
      " 1258 1261 1263 1270 1273 1313 1332 1368 1369 1394 1396 1407 1413 1415\n",
      " 1421 1422 1425 1426 1428 1431 1432 1433 1436 1438 1445 1448] are constant.\n",
      "  warnings.warn(\"Features %s are constant.\" % constant_features_idx,\n",
      "C:\\ProgramData\\Anaconda3\\lib\\site-packages\\sklearn\\feature_selection\\_univariate_selection.py:116: RuntimeWarning: invalid value encountered in true_divide\n",
      "  f = msb / msw\n"
     ]
    },
    {
     "name": "stdout",
     "output_type": "stream",
     "text": [
      "[LibSVM]"
     ]
    },
    {
     "name": "stderr",
     "output_type": "stream",
     "text": [
      "C:\\ProgramData\\Anaconda3\\lib\\site-packages\\sklearn\\feature_selection\\_univariate_selection.py:114: UserWarning: Features [   1    2    3    4    5    6    7    8    9   10   15   18   20  113\n",
      "  114  116  117  118  119  120  121  122  123  124  125  127  259  266\n",
      "  270  271  272  273  274  276  277  278  279  280  281  282  283  284\n",
      "  285  286  287  288  289  290  291  292  293  294  295  296  297  298\n",
      "  299  300  301  302  303  304  305  306  307  308  309  310  311  312\n",
      "  313  314  315  316  317  423  425  427  428  430  431  432  433  434\n",
      "  435  436  437  438  439  440  441  442  443  444  445  446  447  448\n",
      "  449  450  451  452  453  454  455  456  457  458  459  460  461  462\n",
      "  463  464  465  466  467  468  469  529  982 1018 1019 1044 1046 1057\n",
      " 1063 1065 1071 1075 1076 1078 1081 1082 1083 1086 1088 1095 1098 1138\n",
      " 1157 1193 1194 1219 1221 1232 1238 1240 1246 1250 1251 1253 1256 1257\n",
      " 1258 1261 1263 1270 1273 1313 1332 1368 1369 1394 1396 1407 1413 1415\n",
      " 1421 1422 1425 1426 1428 1431 1432 1433 1436 1438 1445 1448] are constant.\n",
      "  warnings.warn(\"Features %s are constant.\" % constant_features_idx,\n",
      "C:\\ProgramData\\Anaconda3\\lib\\site-packages\\sklearn\\feature_selection\\_univariate_selection.py:116: RuntimeWarning: invalid value encountered in true_divide\n",
      "  f = msb / msw\n"
     ]
    },
    {
     "name": "stdout",
     "output_type": "stream",
     "text": [
      "[LibSVM]"
     ]
    },
    {
     "name": "stderr",
     "output_type": "stream",
     "text": [
      "C:\\ProgramData\\Anaconda3\\lib\\site-packages\\sklearn\\feature_selection\\_univariate_selection.py:114: UserWarning: Features [   1    2    3    4    5    6    7    8    9   10   15   18   20  113\n",
      "  114  116  117  118  119  120  121  122  123  124  125  127  259  266\n",
      "  270  271  272  273  274  276  277  278  279  280  281  282  283  284\n",
      "  285  286  287  288  289  290  291  292  293  294  295  296  297  298\n",
      "  299  300  301  302  303  304  305  306  307  308  309  310  311  312\n",
      "  313  314  315  316  317  423  425  427  428  430  431  432  433  434\n",
      "  435  436  437  438  439  440  441  442  443  444  445  446  447  448\n",
      "  449  450  451  452  453  454  455  456  457  458  459  460  461  462\n",
      "  463  464  465  466  467  468  469  529  982 1018 1019 1044 1046 1057\n",
      " 1063 1065 1071 1075 1076 1078 1081 1082 1083 1086 1088 1095 1098 1138\n",
      " 1157 1193 1194 1219 1221 1232 1238 1240 1246 1250 1251 1253 1256 1257\n",
      " 1258 1261 1263 1270 1273 1313 1332 1368 1369 1394 1396 1407 1413 1415\n",
      " 1421 1422 1425 1426 1428 1431 1432 1433 1436 1438 1445 1448] are constant.\n",
      "  warnings.warn(\"Features %s are constant.\" % constant_features_idx,\n",
      "C:\\ProgramData\\Anaconda3\\lib\\site-packages\\sklearn\\feature_selection\\_univariate_selection.py:116: RuntimeWarning: invalid value encountered in true_divide\n",
      "  f = msb / msw\n"
     ]
    },
    {
     "name": "stdout",
     "output_type": "stream",
     "text": [
      "[LibSVM]"
     ]
    },
    {
     "name": "stderr",
     "output_type": "stream",
     "text": [
      "C:\\ProgramData\\Anaconda3\\lib\\site-packages\\sklearn\\feature_selection\\_univariate_selection.py:114: UserWarning: Features [   1    2    3    4    5    6    7    8    9   10   15   18   20  113\n",
      "  114  116  117  118  119  120  121  122  123  124  125  127  259  266\n",
      "  270  271  272  273  274  276  277  278  279  280  281  282  283  284\n",
      "  285  286  287  288  289  290  291  292  293  294  295  296  297  298\n",
      "  299  300  301  302  303  304  305  306  307  308  309  310  311  312\n",
      "  313  314  315  316  317  423  425  427  428  430  431  432  433  434\n",
      "  435  436  437  438  439  440  441  442  443  444  445  446  447  448\n",
      "  449  450  451  452  453  454  455  456  457  458  459  460  461  462\n",
      "  463  464  465  466  467  468  469  529  982 1018 1019 1044 1046 1057\n",
      " 1063 1065 1071 1075 1076 1078 1081 1082 1083 1086 1088 1095 1098 1138\n",
      " 1157 1193 1194 1219 1221 1232 1238 1240 1246 1250 1251 1253 1256 1257\n",
      " 1258 1261 1263 1270 1273 1313 1332 1368 1369 1394 1396 1407 1413 1415\n",
      " 1421 1422 1425 1426 1428 1431 1432 1433 1436 1438 1445 1448] are constant.\n",
      "  warnings.warn(\"Features %s are constant.\" % constant_features_idx,\n",
      "C:\\ProgramData\\Anaconda3\\lib\\site-packages\\sklearn\\feature_selection\\_univariate_selection.py:116: RuntimeWarning: invalid value encountered in true_divide\n",
      "  f = msb / msw\n"
     ]
    },
    {
     "name": "stdout",
     "output_type": "stream",
     "text": [
      "[LibSVM]"
     ]
    },
    {
     "name": "stderr",
     "output_type": "stream",
     "text": [
      "C:\\ProgramData\\Anaconda3\\lib\\site-packages\\sklearn\\feature_selection\\_univariate_selection.py:114: UserWarning: Features [   1    2    3    4    5    6    7    8    9   10   15   18   20  113\n",
      "  114  116  117  118  119  120  121  122  123  124  125  127  259  266\n",
      "  270  271  272  273  274  276  277  278  279  280  281  282  283  284\n",
      "  285  286  287  288  289  290  291  292  293  294  295  296  297  298\n",
      "  299  300  301  302  303  304  305  306  307  308  309  310  311  312\n",
      "  313  314  315  316  317  423  425  427  428  430  431  432  433  434\n",
      "  435  436  437  438  439  440  441  442  443  444  445  446  447  448\n",
      "  449  450  451  452  453  454  455  456  457  458  459  460  461  462\n",
      "  463  464  465  466  467  468  469  529  982 1018 1019 1044 1046 1057\n",
      " 1063 1065 1071 1075 1076 1078 1081 1082 1083 1086 1088 1095 1098 1138\n",
      " 1157 1193 1194 1219 1221 1232 1238 1240 1246 1250 1251 1253 1256 1257\n",
      " 1258 1261 1263 1270 1273 1313 1332 1368 1369 1394 1396 1407 1413 1415\n",
      " 1421 1422 1425 1426 1428 1431 1432 1433 1436 1438 1445 1448] are constant.\n",
      "  warnings.warn(\"Features %s are constant.\" % constant_features_idx,\n",
      "C:\\ProgramData\\Anaconda3\\lib\\site-packages\\sklearn\\feature_selection\\_univariate_selection.py:116: RuntimeWarning: invalid value encountered in true_divide\n",
      "  f = msb / msw\n"
     ]
    },
    {
     "name": "stdout",
     "output_type": "stream",
     "text": [
      "[LibSVM]"
     ]
    },
    {
     "name": "stderr",
     "output_type": "stream",
     "text": [
      "C:\\ProgramData\\Anaconda3\\lib\\site-packages\\sklearn\\feature_selection\\_univariate_selection.py:114: UserWarning: Features [   1    2    3    4    5    6    7    8    9   10   15   18   20  113\n",
      "  114  116  117  118  119  120  121  122  123  124  125  127  259  266\n",
      "  270  271  272  273  274  276  277  278  279  280  281  282  283  284\n",
      "  285  286  287  288  289  290  291  292  293  294  295  296  297  298\n",
      "  299  300  301  302  303  304  305  306  307  308  309  310  311  312\n",
      "  313  314  315  316  317  423  425  427  428  430  431  432  433  434\n",
      "  435  436  437  438  439  440  441  442  443  444  445  446  447  448\n",
      "  449  450  451  452  453  454  455  456  457  458  459  460  461  462\n",
      "  463  464  465  466  467  468  469  529  982 1018 1019 1044 1046 1057\n",
      " 1063 1065 1071 1075 1076 1078 1081 1082 1083 1086 1088 1095 1098 1138\n",
      " 1157 1193 1194 1219 1221 1232 1238 1240 1246 1250 1251 1253 1256 1257\n",
      " 1258 1261 1263 1270 1273 1313 1332 1368 1369 1394 1396 1407 1413 1415\n",
      " 1421 1422 1425 1426 1428 1431 1432 1433 1436 1438 1445 1448] are constant.\n",
      "  warnings.warn(\"Features %s are constant.\" % constant_features_idx,\n",
      "C:\\ProgramData\\Anaconda3\\lib\\site-packages\\sklearn\\feature_selection\\_univariate_selection.py:116: RuntimeWarning: invalid value encountered in true_divide\n",
      "  f = msb / msw\n"
     ]
    },
    {
     "name": "stdout",
     "output_type": "stream",
     "text": [
      "[LibSVM]"
     ]
    },
    {
     "name": "stderr",
     "output_type": "stream",
     "text": [
      "C:\\ProgramData\\Anaconda3\\lib\\site-packages\\sklearn\\feature_selection\\_univariate_selection.py:114: UserWarning: Features [   1    2    3    4    5    6    7    8    9   10   15   18   20  113\n",
      "  114  116  117  118  119  120  121  122  123  124  125  127  259  266\n",
      "  270  271  272  273  274  276  277  278  279  280  281  282  283  284\n",
      "  285  286  287  288  289  290  291  292  293  294  295  296  297  298\n",
      "  299  300  301  302  303  304  305  306  307  308  309  310  311  312\n",
      "  313  314  315  316  317  423  425  427  428  430  431  432  433  434\n",
      "  435  436  437  438  439  440  441  442  443  444  445  446  447  448\n",
      "  449  450  451  452  453  454  455  456  457  458  459  460  461  462\n",
      "  463  464  465  466  467  468  469  529  982 1018 1019 1044 1046 1057\n",
      " 1063 1065 1071 1075 1076 1078 1081 1082 1083 1086 1088 1095 1098 1138\n",
      " 1157 1193 1194 1219 1221 1232 1238 1240 1246 1250 1251 1253 1256 1257\n",
      " 1258 1261 1263 1270 1273 1313 1332 1368 1369 1394 1396 1407 1413 1415\n",
      " 1421 1422 1425 1426 1428 1431 1432 1433 1436 1438 1445 1448] are constant.\n",
      "  warnings.warn(\"Features %s are constant.\" % constant_features_idx,\n",
      "C:\\ProgramData\\Anaconda3\\lib\\site-packages\\sklearn\\feature_selection\\_univariate_selection.py:116: RuntimeWarning: invalid value encountered in true_divide\n",
      "  f = msb / msw\n"
     ]
    },
    {
     "name": "stdout",
     "output_type": "stream",
     "text": [
      "[LibSVM]"
     ]
    },
    {
     "name": "stderr",
     "output_type": "stream",
     "text": [
      "C:\\ProgramData\\Anaconda3\\lib\\site-packages\\sklearn\\feature_selection\\_univariate_selection.py:114: UserWarning: Features [   1    2    3    4    5    6    7    8    9   10   15   18   20  113\n",
      "  114  116  117  118  119  120  121  122  123  124  125  127  259  266\n",
      "  270  271  272  273  274  276  277  278  279  280  281  282  283  284\n",
      "  285  286  287  288  289  290  291  292  293  294  295  296  297  298\n",
      "  299  300  301  302  303  304  305  306  307  308  309  310  311  312\n",
      "  313  314  315  316  317  423  425  427  428  430  431  432  433  434\n",
      "  435  436  437  438  439  440  441  442  443  444  445  446  447  448\n",
      "  449  450  451  452  453  454  455  456  457  458  459  460  461  462\n",
      "  463  464  465  466  467  468  469  529  982 1018 1019 1044 1046 1057\n",
      " 1063 1065 1071 1075 1076 1078 1081 1082 1083 1086 1088 1095 1098 1138\n",
      " 1157 1193 1194 1219 1221 1232 1238 1240 1246 1250 1251 1253 1256 1257\n",
      " 1258 1261 1263 1270 1273 1313 1332 1368 1369 1394 1396 1407 1413 1415\n",
      " 1421 1422 1425 1426 1428 1431 1432 1433 1436 1438 1445 1448] are constant.\n",
      "  warnings.warn(\"Features %s are constant.\" % constant_features_idx,\n",
      "C:\\ProgramData\\Anaconda3\\lib\\site-packages\\sklearn\\feature_selection\\_univariate_selection.py:116: RuntimeWarning: invalid value encountered in true_divide\n",
      "  f = msb / msw\n"
     ]
    },
    {
     "name": "stdout",
     "output_type": "stream",
     "text": [
      "[LibSVM]"
     ]
    },
    {
     "name": "stderr",
     "output_type": "stream",
     "text": [
      "C:\\ProgramData\\Anaconda3\\lib\\site-packages\\sklearn\\feature_selection\\_univariate_selection.py:114: UserWarning: Features [   1    2    3    4    5    6    7    8    9   10   15   18   20  113\n",
      "  114  116  117  118  119  120  121  122  123  124  125  127  259  266\n",
      "  270  271  272  273  274  276  277  278  279  280  281  282  283  284\n",
      "  285  286  287  288  289  290  291  292  293  294  295  296  297  298\n",
      "  299  300  301  302  303  304  305  306  307  308  309  310  311  312\n",
      "  313  314  315  316  317  423  425  427  428  430  431  432  433  434\n",
      "  435  436  437  438  439  440  441  442  443  444  445  446  447  448\n",
      "  449  450  451  452  453  454  455  456  457  458  459  460  461  462\n",
      "  463  464  465  466  467  468  469  529  982 1018 1019 1044 1046 1057\n",
      " 1063 1065 1071 1075 1076 1078 1081 1082 1083 1086 1088 1095 1098 1138\n",
      " 1157 1193 1194 1219 1221 1232 1238 1240 1246 1250 1251 1253 1256 1257\n",
      " 1258 1261 1263 1270 1273 1313 1332 1368 1369 1394 1396 1407 1413 1415\n",
      " 1421 1422 1425 1426 1428 1431 1432 1433 1436 1438 1445 1448] are constant.\n",
      "  warnings.warn(\"Features %s are constant.\" % constant_features_idx,\n",
      "C:\\ProgramData\\Anaconda3\\lib\\site-packages\\sklearn\\feature_selection\\_univariate_selection.py:116: RuntimeWarning: invalid value encountered in true_divide\n",
      "  f = msb / msw\n"
     ]
    },
    {
     "name": "stdout",
     "output_type": "stream",
     "text": [
      "[LibSVM]"
     ]
    },
    {
     "name": "stderr",
     "output_type": "stream",
     "text": [
      "C:\\ProgramData\\Anaconda3\\lib\\site-packages\\sklearn\\feature_selection\\_univariate_selection.py:114: UserWarning: Features [   1    2    3    4    5    6    7    8    9   10   15   18   20  113\n",
      "  114  116  117  118  119  120  121  122  123  124  125  127  259  266\n",
      "  270  271  272  273  274  276  277  278  279  280  281  282  283  284\n",
      "  285  286  287  288  289  290  291  292  293  294  295  296  297  298\n",
      "  299  300  301  302  303  304  305  306  307  308  309  310  311  312\n",
      "  313  314  315  316  317  423  425  427  428  430  431  432  433  434\n",
      "  435  436  437  438  439  440  441  442  443  444  445  446  447  448\n",
      "  449  450  451  452  453  454  455  456  457  458  459  460  461  462\n",
      "  463  464  465  466  467  468  469  529  982 1018 1019 1044 1046 1057\n",
      " 1063 1065 1071 1075 1076 1078 1081 1082 1083 1086 1088 1095 1098 1138\n",
      " 1157 1193 1194 1219 1221 1232 1238 1240 1246 1250 1251 1253 1256 1257\n",
      " 1258 1261 1263 1270 1273 1313 1332 1368 1369 1394 1396 1407 1413 1415\n",
      " 1421 1422 1425 1426 1428 1431 1432 1433 1436 1438 1445 1448] are constant.\n",
      "  warnings.warn(\"Features %s are constant.\" % constant_features_idx,\n",
      "C:\\ProgramData\\Anaconda3\\lib\\site-packages\\sklearn\\feature_selection\\_univariate_selection.py:116: RuntimeWarning: invalid value encountered in true_divide\n",
      "  f = msb / msw\n"
     ]
    },
    {
     "name": "stdout",
     "output_type": "stream",
     "text": [
      "[LibSVM]"
     ]
    },
    {
     "name": "stderr",
     "output_type": "stream",
     "text": [
      "C:\\ProgramData\\Anaconda3\\lib\\site-packages\\sklearn\\feature_selection\\_univariate_selection.py:114: UserWarning: Features [   1    2    3    4    5    6    7    8    9   10   15   18   20  113\n",
      "  114  116  117  118  119  120  121  122  123  124  125  127  259  266\n",
      "  270  271  272  273  274  276  277  278  279  280  281  282  283  284\n",
      "  285  286  287  288  289  290  291  292  293  294  295  296  297  298\n",
      "  299  300  301  302  303  304  305  306  307  308  309  310  311  312\n",
      "  313  314  315  316  317  423  425  427  428  430  431  432  433  434\n",
      "  435  436  437  438  439  440  441  442  443  444  445  446  447  448\n",
      "  449  450  451  452  453  454  455  456  457  458  459  460  461  462\n",
      "  463  464  465  466  467  468  469  529  982 1018 1019 1044 1046 1057\n",
      " 1063 1065 1071 1075 1076 1078 1081 1082 1083 1086 1088 1095 1098 1138\n",
      " 1157 1193 1194 1219 1221 1232 1238 1240 1246 1250 1251 1253 1256 1257\n",
      " 1258 1261 1263 1270 1273 1313 1332 1368 1369 1394 1396 1407 1413 1415\n",
      " 1421 1422 1425 1426 1428 1431 1432 1433 1436 1438 1445 1448] are constant.\n",
      "  warnings.warn(\"Features %s are constant.\" % constant_features_idx,\n",
      "C:\\ProgramData\\Anaconda3\\lib\\site-packages\\sklearn\\feature_selection\\_univariate_selection.py:116: RuntimeWarning: invalid value encountered in true_divide\n",
      "  f = msb / msw\n"
     ]
    },
    {
     "name": "stdout",
     "output_type": "stream",
     "text": [
      "[LibSVM]"
     ]
    },
    {
     "name": "stderr",
     "output_type": "stream",
     "text": [
      "C:\\ProgramData\\Anaconda3\\lib\\site-packages\\sklearn\\feature_selection\\_univariate_selection.py:114: UserWarning: Features [   1    2    3    4    5    6    7    8    9   10   15   18   20  113\n",
      "  114  116  117  118  119  120  121  122  123  124  125  127  259  266\n",
      "  270  271  272  273  274  276  277  278  279  280  281  282  283  284\n",
      "  285  286  287  288  289  290  291  292  293  294  295  296  297  298\n",
      "  299  300  301  302  303  304  305  306  307  308  309  310  311  312\n",
      "  313  314  315  316  317  423  425  427  428  430  431  432  433  434\n",
      "  435  436  437  438  439  440  441  442  443  444  445  446  447  448\n",
      "  449  450  451  452  453  454  455  456  457  458  459  460  461  462\n",
      "  463  464  465  466  467  468  469  529  982 1018 1019 1044 1046 1057\n",
      " 1063 1065 1071 1075 1076 1078 1081 1082 1083 1086 1088 1095 1098 1138\n",
      " 1157 1193 1194 1219 1221 1232 1238 1240 1246 1250 1251 1253 1256 1257\n",
      " 1258 1261 1263 1270 1273 1313 1332 1368 1369 1394 1396 1407 1413 1415\n",
      " 1421 1422 1425 1426 1428 1431 1432 1433 1436 1438 1445 1448] are constant.\n",
      "  warnings.warn(\"Features %s are constant.\" % constant_features_idx,\n",
      "C:\\ProgramData\\Anaconda3\\lib\\site-packages\\sklearn\\feature_selection\\_univariate_selection.py:116: RuntimeWarning: invalid value encountered in true_divide\n",
      "  f = msb / msw\n"
     ]
    },
    {
     "name": "stdout",
     "output_type": "stream",
     "text": [
      "[LibSVM]"
     ]
    },
    {
     "name": "stderr",
     "output_type": "stream",
     "text": [
      "C:\\ProgramData\\Anaconda3\\lib\\site-packages\\sklearn\\feature_selection\\_univariate_selection.py:114: UserWarning: Features [   1    2    3    4    5    6    7    8    9   10   15   18   20  113\n",
      "  114  116  117  118  119  120  121  122  123  124  125  127  259  266\n",
      "  270  271  272  273  274  276  277  278  279  280  281  282  283  284\n",
      "  285  286  287  288  289  290  291  292  293  294  295  296  297  298\n",
      "  299  300  301  302  303  304  305  306  307  308  309  310  311  312\n",
      "  313  314  315  316  317  423  425  427  428  430  431  432  433  434\n",
      "  435  436  437  438  439  440  441  442  443  444  445  446  447  448\n",
      "  449  450  451  452  453  454  455  456  457  458  459  460  461  462\n",
      "  463  464  465  466  467  468  469  529  982 1018 1019 1044 1046 1057\n",
      " 1063 1065 1071 1075 1076 1078 1081 1082 1083 1086 1088 1095 1098 1138\n",
      " 1157 1193 1194 1219 1221 1232 1238 1240 1246 1250 1251 1253 1256 1257\n",
      " 1258 1261 1263 1270 1273 1313 1332 1368 1369 1394 1396 1407 1413 1415\n",
      " 1421 1422 1425 1426 1428 1431 1432 1433 1436 1438 1445 1448] are constant.\n",
      "  warnings.warn(\"Features %s are constant.\" % constant_features_idx,\n",
      "C:\\ProgramData\\Anaconda3\\lib\\site-packages\\sklearn\\feature_selection\\_univariate_selection.py:116: RuntimeWarning: invalid value encountered in true_divide\n",
      "  f = msb / msw\n"
     ]
    },
    {
     "name": "stdout",
     "output_type": "stream",
     "text": [
      "[LibSVM]"
     ]
    },
    {
     "name": "stderr",
     "output_type": "stream",
     "text": [
      "C:\\ProgramData\\Anaconda3\\lib\\site-packages\\sklearn\\feature_selection\\_univariate_selection.py:114: UserWarning: Features [   1    2    3    4    5    6    7    8    9   10   15   18   20  113\n",
      "  114  116  117  118  119  120  121  122  123  124  125  127  259  266\n",
      "  270  271  272  273  274  276  277  278  279  280  281  282  283  284\n",
      "  285  286  287  288  289  290  291  292  293  294  295  296  297  298\n",
      "  299  300  301  302  303  304  305  306  307  308  309  310  311  312\n",
      "  313  314  315  316  317  423  425  427  428  430  431  432  433  434\n",
      "  435  436  437  438  439  440  441  442  443  444  445  446  447  448\n",
      "  449  450  451  452  453  454  455  456  457  458  459  460  461  462\n",
      "  463  464  465  466  467  468  469  529  982 1018 1019 1044 1046 1057\n",
      " 1063 1065 1071 1075 1076 1078 1081 1082 1083 1086 1088 1095 1098 1138\n",
      " 1157 1193 1194 1219 1221 1232 1238 1240 1246 1250 1251 1253 1256 1257\n",
      " 1258 1261 1263 1270 1273 1313 1332 1368 1369 1394 1396 1407 1413 1415\n",
      " 1421 1422 1425 1426 1428 1431 1432 1433 1436 1438 1445 1448] are constant.\n",
      "  warnings.warn(\"Features %s are constant.\" % constant_features_idx,\n",
      "C:\\ProgramData\\Anaconda3\\lib\\site-packages\\sklearn\\feature_selection\\_univariate_selection.py:116: RuntimeWarning: invalid value encountered in true_divide\n",
      "  f = msb / msw\n"
     ]
    },
    {
     "name": "stdout",
     "output_type": "stream",
     "text": [
      "[LibSVM]"
     ]
    },
    {
     "name": "stderr",
     "output_type": "stream",
     "text": [
      "C:\\ProgramData\\Anaconda3\\lib\\site-packages\\sklearn\\feature_selection\\_univariate_selection.py:114: UserWarning: Features [   1    2    3    4    5    6    7    8    9   10   15   18   20  113\n",
      "  114  116  117  118  119  120  121  122  123  124  125  127  259  266\n",
      "  270  271  272  273  274  276  277  278  279  280  281  282  283  284\n",
      "  285  286  287  288  289  290  291  292  293  294  295  296  297  298\n",
      "  299  300  301  302  303  304  305  306  307  308  309  310  311  312\n",
      "  313  314  315  316  317  423  425  427  428  430  431  432  433  434\n",
      "  435  436  437  438  439  440  441  442  443  444  445  446  447  448\n",
      "  449  450  451  452  453  454  455  456  457  458  459  460  461  462\n",
      "  463  464  465  466  467  468  469  529  982 1018 1019 1044 1046 1057\n",
      " 1063 1065 1071 1075 1076 1078 1081 1082 1083 1086 1088 1095 1098 1138\n",
      " 1157 1193 1194 1219 1221 1232 1238 1240 1246 1250 1251 1253 1256 1257\n",
      " 1258 1261 1263 1270 1273 1313 1332 1368 1369 1394 1396 1407 1413 1415\n",
      " 1421 1422 1425 1426 1428 1431 1432 1433 1436 1438 1445 1448] are constant.\n",
      "  warnings.warn(\"Features %s are constant.\" % constant_features_idx,\n",
      "C:\\ProgramData\\Anaconda3\\lib\\site-packages\\sklearn\\feature_selection\\_univariate_selection.py:116: RuntimeWarning: invalid value encountered in true_divide\n",
      "  f = msb / msw\n"
     ]
    },
    {
     "name": "stdout",
     "output_type": "stream",
     "text": [
      "[LibSVM]"
     ]
    },
    {
     "name": "stderr",
     "output_type": "stream",
     "text": [
      "C:\\ProgramData\\Anaconda3\\lib\\site-packages\\sklearn\\feature_selection\\_univariate_selection.py:114: UserWarning: Features [   1    2    3    4    5    6    7    8    9   10   15   18   20  113\n",
      "  114  116  117  118  119  120  121  122  123  124  125  127  259  266\n",
      "  270  271  272  273  274  276  277  278  279  280  281  282  283  284\n",
      "  285  286  287  288  289  290  291  292  293  294  295  296  297  298\n",
      "  299  300  301  302  303  304  305  306  307  308  309  310  311  312\n",
      "  313  314  315  316  317  423  425  427  428  430  431  432  433  434\n",
      "  435  436  437  438  439  440  441  442  443  444  445  446  447  448\n",
      "  449  450  451  452  453  454  455  456  457  458  459  460  461  462\n",
      "  463  464  465  466  467  468  469  529  982 1018 1019 1044 1046 1057\n",
      " 1063 1065 1071 1075 1076 1078 1081 1082 1083 1086 1088 1095 1098 1138\n",
      " 1157 1193 1194 1219 1221 1232 1238 1240 1246 1250 1251 1253 1256 1257\n",
      " 1258 1261 1263 1270 1273 1313 1332 1368 1369 1394 1396 1407 1413 1415\n",
      " 1421 1422 1425 1426 1428 1431 1432 1433 1436 1438 1445 1448] are constant.\n",
      "  warnings.warn(\"Features %s are constant.\" % constant_features_idx,\n",
      "C:\\ProgramData\\Anaconda3\\lib\\site-packages\\sklearn\\feature_selection\\_univariate_selection.py:116: RuntimeWarning: invalid value encountered in true_divide\n",
      "  f = msb / msw\n"
     ]
    },
    {
     "name": "stdout",
     "output_type": "stream",
     "text": [
      "[LibSVM]"
     ]
    },
    {
     "name": "stderr",
     "output_type": "stream",
     "text": [
      "C:\\ProgramData\\Anaconda3\\lib\\site-packages\\sklearn\\feature_selection\\_univariate_selection.py:114: UserWarning: Features [   1    2    3    4    5    6    7    8    9   10   15   18   20  113\n",
      "  114  116  117  118  119  120  121  122  123  124  125  127  259  266\n",
      "  270  271  272  273  274  276  277  278  279  280  281  282  283  284\n",
      "  285  286  287  288  289  290  291  292  293  294  295  296  297  298\n",
      "  299  300  301  302  303  304  305  306  307  308  309  310  311  312\n",
      "  313  314  315  316  317  423  425  427  428  430  431  432  433  434\n",
      "  435  436  437  438  439  440  441  442  443  444  445  446  447  448\n",
      "  449  450  451  452  453  454  455  456  457  458  459  460  461  462\n",
      "  463  464  465  466  467  468  469  529  982 1018 1019 1044 1046 1057\n",
      " 1063 1065 1071 1075 1076 1078 1081 1082 1083 1086 1088 1095 1098 1138\n",
      " 1157 1193 1194 1219 1221 1232 1238 1240 1246 1250 1251 1253 1256 1257\n",
      " 1258 1261 1263 1270 1273 1313 1332 1368 1369 1394 1396 1407 1413 1415\n",
      " 1421 1422 1425 1426 1428 1431 1432 1433 1436 1438 1445 1448] are constant.\n",
      "  warnings.warn(\"Features %s are constant.\" % constant_features_idx,\n",
      "C:\\ProgramData\\Anaconda3\\lib\\site-packages\\sklearn\\feature_selection\\_univariate_selection.py:116: RuntimeWarning: invalid value encountered in true_divide\n",
      "  f = msb / msw\n"
     ]
    },
    {
     "name": "stdout",
     "output_type": "stream",
     "text": [
      "[LibSVM]"
     ]
    },
    {
     "name": "stderr",
     "output_type": "stream",
     "text": [
      "C:\\ProgramData\\Anaconda3\\lib\\site-packages\\sklearn\\feature_selection\\_univariate_selection.py:114: UserWarning: Features [   1    2    3    4    5    6    7    8    9   10   15   18   20  113\n",
      "  114  116  117  118  119  120  121  122  123  124  125  127  259  266\n",
      "  270  271  272  273  274  276  277  278  279  280  281  282  283  284\n",
      "  285  286  287  288  289  290  291  292  293  294  295  296  297  298\n",
      "  299  300  301  302  303  304  305  306  307  308  309  310  311  312\n",
      "  313  314  315  316  317  423  425  427  428  430  431  432  433  434\n",
      "  435  436  437  438  439  440  441  442  443  444  445  446  447  448\n",
      "  449  450  451  452  453  454  455  456  457  458  459  460  461  462\n",
      "  463  464  465  466  467  468  469  529  982 1018 1019 1044 1046 1057\n",
      " 1063 1065 1071 1075 1076 1078 1081 1082 1083 1086 1088 1095 1098 1138\n",
      " 1157 1193 1194 1219 1221 1232 1238 1240 1246 1250 1251 1253 1256 1257\n",
      " 1258 1261 1263 1270 1273 1313 1332 1368 1369 1394 1396 1407 1413 1415\n",
      " 1421 1422 1425 1426 1428 1431 1432 1433 1436 1438 1445 1448] are constant.\n",
      "  warnings.warn(\"Features %s are constant.\" % constant_features_idx,\n",
      "C:\\ProgramData\\Anaconda3\\lib\\site-packages\\sklearn\\feature_selection\\_univariate_selection.py:116: RuntimeWarning: invalid value encountered in true_divide\n",
      "  f = msb / msw\n"
     ]
    },
    {
     "name": "stdout",
     "output_type": "stream",
     "text": [
      "[LibSVM]"
     ]
    },
    {
     "name": "stderr",
     "output_type": "stream",
     "text": [
      "C:\\ProgramData\\Anaconda3\\lib\\site-packages\\sklearn\\feature_selection\\_univariate_selection.py:114: UserWarning: Features [   1    2    3    4    5    6    7    8    9   10   15   18   20  113\n",
      "  114  116  117  118  119  120  121  122  123  124  125  127  259  266\n",
      "  270  271  272  273  274  276  277  278  279  280  281  282  283  284\n",
      "  285  286  287  288  289  290  291  292  293  294  295  296  297  298\n",
      "  299  300  301  302  303  304  305  306  307  308  309  310  311  312\n",
      "  313  314  315  316  317  423  425  427  428  430  431  432  433  434\n",
      "  435  436  437  438  439  440  441  442  443  444  445  446  447  448\n",
      "  449  450  451  452  453  454  455  456  457  458  459  460  461  462\n",
      "  463  464  465  466  467  468  469  529  982 1018 1019 1044 1046 1057\n",
      " 1063 1065 1071 1075 1076 1078 1081 1082 1083 1086 1088 1095 1098 1138\n",
      " 1157 1193 1194 1219 1221 1232 1238 1240 1246 1250 1251 1253 1256 1257\n",
      " 1258 1261 1263 1270 1273 1313 1332 1368 1369 1394 1396 1407 1413 1415\n",
      " 1421 1422 1425 1426 1428 1431 1432 1433 1436 1438 1445 1448] are constant.\n",
      "  warnings.warn(\"Features %s are constant.\" % constant_features_idx,\n",
      "C:\\ProgramData\\Anaconda3\\lib\\site-packages\\sklearn\\feature_selection\\_univariate_selection.py:116: RuntimeWarning: invalid value encountered in true_divide\n",
      "  f = msb / msw\n"
     ]
    },
    {
     "name": "stdout",
     "output_type": "stream",
     "text": [
      "[LibSVM]"
     ]
    },
    {
     "name": "stderr",
     "output_type": "stream",
     "text": [
      "C:\\ProgramData\\Anaconda3\\lib\\site-packages\\sklearn\\feature_selection\\_univariate_selection.py:114: UserWarning: Features [   1    2    3    4    5    6    7    8    9   10   15   18   20  113\n",
      "  114  116  117  118  119  120  121  122  123  124  125  127  259  266\n",
      "  270  271  272  273  274  276  277  278  279  280  281  282  283  284\n",
      "  285  286  287  288  289  290  291  292  293  294  295  296  297  298\n",
      "  299  300  301  302  303  304  305  306  307  308  309  310  311  312\n",
      "  313  314  315  316  317  423  425  427  428  430  431  432  433  434\n",
      "  435  436  437  438  439  440  441  442  443  444  445  446  447  448\n",
      "  449  450  451  452  453  454  455  456  457  458  459  460  461  462\n",
      "  463  464  465  466  467  468  469  529  982 1018 1019 1044 1046 1057\n",
      " 1063 1065 1071 1075 1076 1078 1081 1082 1083 1086 1088 1095 1098 1138\n",
      " 1157 1193 1194 1219 1221 1232 1238 1240 1246 1250 1251 1253 1256 1257\n",
      " 1258 1261 1263 1270 1273 1313 1332 1368 1369 1394 1396 1407 1413 1415\n",
      " 1421 1422 1425 1426 1428 1431 1432 1433 1436 1438 1445 1448] are constant.\n",
      "  warnings.warn(\"Features %s are constant.\" % constant_features_idx,\n",
      "C:\\ProgramData\\Anaconda3\\lib\\site-packages\\sklearn\\feature_selection\\_univariate_selection.py:116: RuntimeWarning: invalid value encountered in true_divide\n",
      "  f = msb / msw\n"
     ]
    },
    {
     "name": "stdout",
     "output_type": "stream",
     "text": [
      "[LibSVM]"
     ]
    },
    {
     "name": "stderr",
     "output_type": "stream",
     "text": [
      "C:\\ProgramData\\Anaconda3\\lib\\site-packages\\sklearn\\feature_selection\\_univariate_selection.py:114: UserWarning: Features [   1    2    3    4    5    6    7    8    9   10   15   18   20  113\n",
      "  114  116  117  118  119  120  121  122  123  124  125  127  259  266\n",
      "  270  271  272  273  274  276  277  278  279  280  281  282  283  284\n",
      "  285  286  287  288  289  290  291  292  293  294  295  296  297  298\n",
      "  299  300  301  302  303  304  305  306  307  308  309  310  311  312\n",
      "  313  314  315  316  317  423  425  427  428  430  431  432  433  434\n",
      "  435  436  437  438  439  440  441  442  443  444  445  446  447  448\n",
      "  449  450  451  452  453  454  455  456  457  458  459  460  461  462\n",
      "  463  464  465  466  467  468  469  529  982 1018 1019 1044 1046 1057\n",
      " 1063 1065 1071 1075 1076 1078 1081 1082 1083 1086 1088 1095 1098 1138\n",
      " 1157 1193 1194 1219 1221 1232 1238 1240 1246 1250 1251 1253 1256 1257\n",
      " 1258 1261 1263 1270 1273 1313 1332 1368 1369 1394 1396 1407 1413 1415\n",
      " 1421 1422 1425 1426 1428 1431 1432 1433 1436 1438 1445 1448] are constant.\n",
      "  warnings.warn(\"Features %s are constant.\" % constant_features_idx,\n",
      "C:\\ProgramData\\Anaconda3\\lib\\site-packages\\sklearn\\feature_selection\\_univariate_selection.py:116: RuntimeWarning: invalid value encountered in true_divide\n",
      "  f = msb / msw\n"
     ]
    },
    {
     "name": "stdout",
     "output_type": "stream",
     "text": [
      "[LibSVM]"
     ]
    },
    {
     "name": "stderr",
     "output_type": "stream",
     "text": [
      "C:\\ProgramData\\Anaconda3\\lib\\site-packages\\sklearn\\feature_selection\\_univariate_selection.py:114: UserWarning: Features [   1    2    3    4    5    6    7    8    9   10   15   18   20  113\n",
      "  114  116  117  118  119  120  121  122  123  124  125  127  259  266\n",
      "  270  271  272  273  274  276  277  278  279  280  281  282  283  284\n",
      "  285  286  287  288  289  290  291  292  293  294  295  296  297  298\n",
      "  299  300  301  302  303  304  305  306  307  308  309  310  311  312\n",
      "  313  314  315  316  317  423  425  427  428  430  431  432  433  434\n",
      "  435  436  437  438  439  440  441  442  443  444  445  446  447  448\n",
      "  449  450  451  452  453  454  455  456  457  458  459  460  461  462\n",
      "  463  464  465  466  467  468  469  529  982 1018 1019 1044 1046 1057\n",
      " 1063 1065 1071 1075 1076 1078 1081 1082 1083 1086 1088 1095 1098 1138\n",
      " 1157 1193 1194 1219 1221 1232 1238 1240 1246 1250 1251 1253 1256 1257\n",
      " 1258 1261 1263 1270 1273 1313 1332 1368 1369 1394 1396 1407 1413 1415\n",
      " 1421 1422 1425 1426 1428 1431 1432 1433 1436 1438 1445 1448] are constant.\n",
      "  warnings.warn(\"Features %s are constant.\" % constant_features_idx,\n",
      "C:\\ProgramData\\Anaconda3\\lib\\site-packages\\sklearn\\feature_selection\\_univariate_selection.py:116: RuntimeWarning: invalid value encountered in true_divide\n",
      "  f = msb / msw\n"
     ]
    },
    {
     "name": "stdout",
     "output_type": "stream",
     "text": [
      "[LibSVM]"
     ]
    },
    {
     "name": "stderr",
     "output_type": "stream",
     "text": [
      "C:\\ProgramData\\Anaconda3\\lib\\site-packages\\sklearn\\feature_selection\\_univariate_selection.py:114: UserWarning: Features [   1    2    3    4    5    6    7    8    9   10   15   18   20  113\n",
      "  114  116  117  118  119  120  121  122  123  124  125  127  259  266\n",
      "  270  271  272  273  274  276  277  278  279  280  281  282  283  284\n",
      "  285  286  287  288  289  290  291  292  293  294  295  296  297  298\n",
      "  299  300  301  302  303  304  305  306  307  308  309  310  311  312\n",
      "  313  314  315  316  317  423  425  427  428  430  431  432  433  434\n",
      "  435  436  437  438  439  440  441  442  443  444  445  446  447  448\n",
      "  449  450  451  452  453  454  455  456  457  458  459  460  461  462\n",
      "  463  464  465  466  467  468  469  529  982 1018 1019 1044 1046 1057\n",
      " 1063 1065 1071 1075 1076 1078 1081 1082 1083 1086 1088 1095 1098 1138\n",
      " 1157 1193 1194 1219 1221 1232 1238 1240 1246 1250 1251 1253 1256 1257\n",
      " 1258 1261 1263 1270 1273 1313 1332 1368 1369 1394 1396 1407 1413 1415\n",
      " 1421 1422 1425 1426 1428 1431 1432 1433 1436 1438 1445 1448] are constant.\n",
      "  warnings.warn(\"Features %s are constant.\" % constant_features_idx,\n",
      "C:\\ProgramData\\Anaconda3\\lib\\site-packages\\sklearn\\feature_selection\\_univariate_selection.py:116: RuntimeWarning: invalid value encountered in true_divide\n",
      "  f = msb / msw\n"
     ]
    },
    {
     "name": "stdout",
     "output_type": "stream",
     "text": [
      "[LibSVM]"
     ]
    },
    {
     "name": "stderr",
     "output_type": "stream",
     "text": [
      "C:\\ProgramData\\Anaconda3\\lib\\site-packages\\sklearn\\feature_selection\\_univariate_selection.py:114: UserWarning: Features [   1    2    3    4    5    6    7    8    9   10   15   18   20  113\n",
      "  114  116  117  118  119  120  121  122  123  124  125  127  259  266\n",
      "  270  271  272  273  274  276  277  278  279  280  281  282  283  284\n",
      "  285  286  287  288  289  290  291  292  293  294  295  296  297  298\n",
      "  299  300  301  302  303  304  305  306  307  308  309  310  311  312\n",
      "  313  314  315  316  317  423  425  427  428  430  431  432  433  434\n",
      "  435  436  437  438  439  440  441  442  443  444  445  446  447  448\n",
      "  449  450  451  452  453  454  455  456  457  458  459  460  461  462\n",
      "  463  464  465  466  467  468  469  529  982 1018 1019 1044 1046 1057\n",
      " 1063 1065 1071 1075 1076 1078 1081 1082 1083 1086 1088 1095 1098 1138\n",
      " 1157 1193 1194 1219 1221 1232 1238 1240 1246 1250 1251 1253 1256 1257\n",
      " 1258 1261 1263 1270 1273 1313 1332 1368 1369 1394 1396 1407 1413 1415\n",
      " 1421 1422 1425 1426 1428 1431 1432 1433 1436 1438 1445 1448] are constant.\n",
      "  warnings.warn(\"Features %s are constant.\" % constant_features_idx,\n",
      "C:\\ProgramData\\Anaconda3\\lib\\site-packages\\sklearn\\feature_selection\\_univariate_selection.py:116: RuntimeWarning: invalid value encountered in true_divide\n",
      "  f = msb / msw\n"
     ]
    },
    {
     "name": "stdout",
     "output_type": "stream",
     "text": [
      "[LibSVM]"
     ]
    },
    {
     "name": "stderr",
     "output_type": "stream",
     "text": [
      "C:\\ProgramData\\Anaconda3\\lib\\site-packages\\sklearn\\feature_selection\\_univariate_selection.py:114: UserWarning: Features [   1    2    3    4    5    6    7    8    9   10   15   18   20  113\n",
      "  114  116  117  118  119  120  121  122  123  124  125  127  259  266\n",
      "  270  271  272  273  274  276  277  278  279  280  281  282  283  284\n",
      "  285  286  287  288  289  290  291  292  293  294  295  296  297  298\n",
      "  299  300  301  302  303  304  305  306  307  308  309  310  311  312\n",
      "  313  314  315  316  317  423  425  427  428  430  431  432  433  434\n",
      "  435  436  437  438  439  440  441  442  443  444  445  446  447  448\n",
      "  449  450  451  452  453  454  455  456  457  458  459  460  461  462\n",
      "  463  464  465  466  467  468  469  529  982 1018 1019 1044 1046 1057\n",
      " 1063 1065 1071 1075 1076 1078 1081 1082 1083 1086 1088 1095 1098 1138\n",
      " 1157 1193 1194 1219 1221 1232 1238 1240 1246 1250 1251 1253 1256 1257\n",
      " 1258 1261 1263 1270 1273 1313 1332 1368 1369 1394 1396 1407 1413 1415\n",
      " 1421 1422 1425 1426 1428 1431 1432 1433 1436 1438 1445 1448] are constant.\n",
      "  warnings.warn(\"Features %s are constant.\" % constant_features_idx,\n",
      "C:\\ProgramData\\Anaconda3\\lib\\site-packages\\sklearn\\feature_selection\\_univariate_selection.py:116: RuntimeWarning: invalid value encountered in true_divide\n",
      "  f = msb / msw\n"
     ]
    },
    {
     "name": "stdout",
     "output_type": "stream",
     "text": [
      "[LibSVM]"
     ]
    },
    {
     "name": "stderr",
     "output_type": "stream",
     "text": [
      "C:\\ProgramData\\Anaconda3\\lib\\site-packages\\sklearn\\feature_selection\\_univariate_selection.py:114: UserWarning: Features [   1    2    3    4    5    6    7    8    9   10   15   18   20  113\n",
      "  114  116  117  118  119  120  121  122  123  124  125  127  259  266\n",
      "  270  271  272  273  274  276  277  278  279  280  281  282  283  284\n",
      "  285  286  287  288  289  290  291  292  293  294  295  296  297  298\n",
      "  299  300  301  302  303  304  305  306  307  308  309  310  311  312\n",
      "  313  314  315  316  317  423  425  427  428  430  431  432  433  434\n",
      "  435  436  437  438  439  440  441  442  443  444  445  446  447  448\n",
      "  449  450  451  452  453  454  455  456  457  458  459  460  461  462\n",
      "  463  464  465  466  467  468  469  529  982 1018 1019 1044 1046 1057\n",
      " 1063 1065 1071 1075 1076 1078 1081 1082 1083 1086 1088 1095 1098 1138\n",
      " 1157 1193 1194 1219 1221 1232 1238 1240 1246 1250 1251 1253 1256 1257\n",
      " 1258 1261 1263 1270 1273 1313 1332 1368 1369 1394 1396 1407 1413 1415\n",
      " 1421 1422 1425 1426 1428 1431 1432 1433 1436 1438 1445 1448] are constant.\n",
      "  warnings.warn(\"Features %s are constant.\" % constant_features_idx,\n",
      "C:\\ProgramData\\Anaconda3\\lib\\site-packages\\sklearn\\feature_selection\\_univariate_selection.py:116: RuntimeWarning: invalid value encountered in true_divide\n",
      "  f = msb / msw\n"
     ]
    },
    {
     "name": "stdout",
     "output_type": "stream",
     "text": [
      "[LibSVM]"
     ]
    },
    {
     "name": "stderr",
     "output_type": "stream",
     "text": [
      "C:\\ProgramData\\Anaconda3\\lib\\site-packages\\sklearn\\feature_selection\\_univariate_selection.py:114: UserWarning: Features [   1    2    3    4    5    6    7    8    9   10   15   18   20  113\n",
      "  114  116  117  118  119  120  121  122  123  124  125  127  259  266\n",
      "  270  271  272  273  274  276  277  278  279  280  281  282  283  284\n",
      "  285  286  287  288  289  290  291  292  293  294  295  296  297  298\n",
      "  299  300  301  302  303  304  305  306  307  308  309  310  311  312\n",
      "  313  314  315  316  317  423  425  427  428  430  431  432  433  434\n",
      "  435  436  437  438  439  440  441  442  443  444  445  446  447  448\n",
      "  449  450  451  452  453  454  455  456  457  458  459  460  461  462\n",
      "  463  464  465  466  467  468  469  529  982 1018 1019 1044 1046 1057\n",
      " 1063 1065 1071 1075 1076 1078 1081 1082 1083 1086 1088 1095 1098 1138\n",
      " 1157 1193 1194 1219 1221 1232 1238 1240 1246 1250 1251 1253 1256 1257\n",
      " 1258 1261 1263 1270 1273 1313 1332 1368 1369 1394 1396 1407 1413 1415\n",
      " 1421 1422 1425 1426 1428 1431 1432 1433 1436 1438 1445 1448] are constant.\n",
      "  warnings.warn(\"Features %s are constant.\" % constant_features_idx,\n",
      "C:\\ProgramData\\Anaconda3\\lib\\site-packages\\sklearn\\feature_selection\\_univariate_selection.py:116: RuntimeWarning: invalid value encountered in true_divide\n",
      "  f = msb / msw\n"
     ]
    },
    {
     "name": "stdout",
     "output_type": "stream",
     "text": [
      "[LibSVM]"
     ]
    },
    {
     "name": "stderr",
     "output_type": "stream",
     "text": [
      "C:\\ProgramData\\Anaconda3\\lib\\site-packages\\sklearn\\feature_selection\\_univariate_selection.py:114: UserWarning: Features [   1    2    3    4    5    6    7    8    9   10   15   18   20  113\n",
      "  114  116  117  118  119  120  121  122  123  124  125  127  259  266\n",
      "  270  271  272  273  274  276  277  278  279  280  281  282  283  284\n",
      "  285  286  287  288  289  290  291  292  293  294  295  296  297  298\n",
      "  299  300  301  302  303  304  305  306  307  308  309  310  311  312\n",
      "  313  314  315  316  317  423  425  427  428  430  431  432  433  434\n",
      "  435  436  437  438  439  440  441  442  443  444  445  446  447  448\n",
      "  449  450  451  452  453  454  455  456  457  458  459  460  461  462\n",
      "  463  464  465  466  467  468  469  529  982 1018 1019 1044 1046 1057\n",
      " 1063 1065 1071 1075 1076 1078 1081 1082 1083 1086 1088 1095 1098 1138\n",
      " 1157 1193 1194 1219 1221 1232 1238 1240 1246 1250 1251 1253 1256 1257\n",
      " 1258 1261 1263 1270 1273 1313 1332 1368 1369 1394 1396 1407 1413 1415\n",
      " 1421 1422 1425 1426 1428 1431 1432 1433 1436 1438 1445 1448] are constant.\n",
      "  warnings.warn(\"Features %s are constant.\" % constant_features_idx,\n",
      "C:\\ProgramData\\Anaconda3\\lib\\site-packages\\sklearn\\feature_selection\\_univariate_selection.py:116: RuntimeWarning: invalid value encountered in true_divide\n",
      "  f = msb / msw\n"
     ]
    },
    {
     "name": "stdout",
     "output_type": "stream",
     "text": [
      "[LibSVM]"
     ]
    },
    {
     "name": "stderr",
     "output_type": "stream",
     "text": [
      "C:\\ProgramData\\Anaconda3\\lib\\site-packages\\sklearn\\feature_selection\\_univariate_selection.py:114: UserWarning: Features [   1    2    3    4    5    6    7    8    9   10   15   18   20  113\n",
      "  114  116  117  118  119  120  121  122  123  124  125  127  259  266\n",
      "  270  271  272  273  274  276  277  278  279  280  281  282  283  284\n",
      "  285  286  287  288  289  290  291  292  293  294  295  296  297  298\n",
      "  299  300  301  302  303  304  305  306  307  308  309  310  311  312\n",
      "  313  314  315  316  317  423  425  427  428  430  431  432  433  434\n",
      "  435  436  437  438  439  440  441  442  443  444  445  446  447  448\n",
      "  449  450  451  452  453  454  455  456  457  458  459  460  461  462\n",
      "  463  464  465  466  467  468  469  529  982 1018 1019 1044 1046 1057\n",
      " 1063 1065 1071 1075 1076 1078 1081 1082 1083 1086 1088 1095 1098 1138\n",
      " 1157 1193 1194 1219 1221 1232 1238 1240 1246 1250 1251 1253 1256 1257\n",
      " 1258 1261 1263 1270 1273 1313 1332 1368 1369 1394 1396 1407 1413 1415\n",
      " 1421 1422 1425 1426 1428 1431 1432 1433 1436 1438 1445 1448] are constant.\n",
      "  warnings.warn(\"Features %s are constant.\" % constant_features_idx,\n",
      "C:\\ProgramData\\Anaconda3\\lib\\site-packages\\sklearn\\feature_selection\\_univariate_selection.py:116: RuntimeWarning: invalid value encountered in true_divide\n",
      "  f = msb / msw\n"
     ]
    },
    {
     "name": "stdout",
     "output_type": "stream",
     "text": [
      "[LibSVM]"
     ]
    },
    {
     "name": "stderr",
     "output_type": "stream",
     "text": [
      "C:\\ProgramData\\Anaconda3\\lib\\site-packages\\sklearn\\feature_selection\\_univariate_selection.py:114: UserWarning: Features [   1    2    3    4    5    6    7    8    9   10   15   18   20  113\n",
      "  114  116  117  118  119  120  121  122  123  124  125  127  259  266\n",
      "  270  271  272  273  274  276  277  278  279  280  281  282  283  284\n",
      "  285  286  287  288  289  290  291  292  293  294  295  296  297  298\n",
      "  299  300  301  302  303  304  305  306  307  308  309  310  311  312\n",
      "  313  314  315  316  317  423  425  427  428  430  431  432  433  434\n",
      "  435  436  437  438  439  440  441  442  443  444  445  446  447  448\n",
      "  449  450  451  452  453  454  455  456  457  458  459  460  461  462\n",
      "  463  464  465  466  467  468  469  529  982 1018 1019 1044 1046 1057\n",
      " 1063 1065 1071 1075 1076 1078 1081 1082 1083 1086 1088 1095 1098 1138\n",
      " 1157 1193 1194 1219 1221 1232 1238 1240 1246 1250 1251 1253 1256 1257\n",
      " 1258 1261 1263 1270 1273 1313 1332 1368 1369 1394 1396 1407 1413 1415\n",
      " 1421 1422 1425 1426 1428 1431 1432 1433 1436 1438 1445 1448] are constant.\n",
      "  warnings.warn(\"Features %s are constant.\" % constant_features_idx,\n",
      "C:\\ProgramData\\Anaconda3\\lib\\site-packages\\sklearn\\feature_selection\\_univariate_selection.py:116: RuntimeWarning: invalid value encountered in true_divide\n",
      "  f = msb / msw\n"
     ]
    },
    {
     "name": "stdout",
     "output_type": "stream",
     "text": [
      "[LibSVM]"
     ]
    },
    {
     "name": "stderr",
     "output_type": "stream",
     "text": [
      "C:\\ProgramData\\Anaconda3\\lib\\site-packages\\sklearn\\feature_selection\\_univariate_selection.py:114: UserWarning: Features [   1    2    3    4    5    6    7    8    9   10   15   18   20  113\n",
      "  114  116  117  118  119  120  121  122  123  124  125  127  259  266\n",
      "  270  271  272  273  274  276  277  278  279  280  281  282  283  284\n",
      "  285  286  287  288  289  290  291  292  293  294  295  296  297  298\n",
      "  299  300  301  302  303  304  305  306  307  308  309  310  311  312\n",
      "  313  314  315  316  317  423  425  427  428  430  431  432  433  434\n",
      "  435  436  437  438  439  440  441  442  443  444  445  446  447  448\n",
      "  449  450  451  452  453  454  455  456  457  458  459  460  461  462\n",
      "  463  464  465  466  467  468  469  529  982 1018 1019 1044 1046 1057\n",
      " 1063 1065 1071 1075 1076 1078 1081 1082 1083 1086 1088 1095 1098 1138\n",
      " 1157 1193 1194 1219 1221 1232 1238 1240 1246 1250 1251 1253 1256 1257\n",
      " 1258 1261 1263 1270 1273 1313 1332 1368 1369 1394 1396 1407 1413 1415\n",
      " 1421 1422 1425 1426 1428 1431 1432 1433 1436 1438 1445 1448] are constant.\n",
      "  warnings.warn(\"Features %s are constant.\" % constant_features_idx,\n",
      "C:\\ProgramData\\Anaconda3\\lib\\site-packages\\sklearn\\feature_selection\\_univariate_selection.py:116: RuntimeWarning: invalid value encountered in true_divide\n",
      "  f = msb / msw\n"
     ]
    },
    {
     "name": "stdout",
     "output_type": "stream",
     "text": [
      "[LibSVM]"
     ]
    },
    {
     "name": "stderr",
     "output_type": "stream",
     "text": [
      "C:\\ProgramData\\Anaconda3\\lib\\site-packages\\sklearn\\feature_selection\\_univariate_selection.py:114: UserWarning: Features [   1    2    3    4    5    6    7    8    9   10   15   18   20  113\n",
      "  114  116  117  118  119  120  121  122  123  124  125  127  259  266\n",
      "  270  271  272  273  274  276  277  278  279  280  281  282  283  284\n",
      "  285  286  287  288  289  290  291  292  293  294  295  296  297  298\n",
      "  299  300  301  302  303  304  305  306  307  308  309  310  311  312\n",
      "  313  314  315  316  317  423  425  427  428  430  431  432  433  434\n",
      "  435  436  437  438  439  440  441  442  443  444  445  446  447  448\n",
      "  449  450  451  452  453  454  455  456  457  458  459  460  461  462\n",
      "  463  464  465  466  467  468  469  529  982 1018 1019 1044 1046 1057\n",
      " 1063 1065 1071 1075 1076 1078 1081 1082 1083 1086 1088 1095 1098 1138\n",
      " 1157 1193 1194 1219 1221 1232 1238 1240 1246 1250 1251 1253 1256 1257\n",
      " 1258 1261 1263 1270 1273 1313 1332 1368 1369 1394 1396 1407 1413 1415\n",
      " 1421 1422 1425 1426 1428 1431 1432 1433 1436 1438 1445 1448] are constant.\n",
      "  warnings.warn(\"Features %s are constant.\" % constant_features_idx,\n",
      "C:\\ProgramData\\Anaconda3\\lib\\site-packages\\sklearn\\feature_selection\\_univariate_selection.py:116: RuntimeWarning: invalid value encountered in true_divide\n",
      "  f = msb / msw\n"
     ]
    },
    {
     "name": "stdout",
     "output_type": "stream",
     "text": [
      "[LibSVM]"
     ]
    },
    {
     "name": "stderr",
     "output_type": "stream",
     "text": [
      "C:\\ProgramData\\Anaconda3\\lib\\site-packages\\sklearn\\feature_selection\\_univariate_selection.py:114: UserWarning: Features [   1    2    3    4    5    6    7    8    9   10   15   18   20  113\n",
      "  114  116  117  118  119  120  121  122  123  124  125  127  259  266\n",
      "  270  271  272  273  274  276  277  278  279  280  281  282  283  284\n",
      "  285  286  287  288  289  290  291  292  293  294  295  296  297  298\n",
      "  299  300  301  302  303  304  305  306  307  308  309  310  311  312\n",
      "  313  314  315  316  317  423  425  427  428  430  431  432  433  434\n",
      "  435  436  437  438  439  440  441  442  443  444  445  446  447  448\n",
      "  449  450  451  452  453  454  455  456  457  458  459  460  461  462\n",
      "  463  464  465  466  467  468  469  529  982 1018 1019 1044 1046 1057\n",
      " 1063 1065 1071 1075 1076 1078 1081 1082 1083 1086 1088 1095 1098 1138\n",
      " 1157 1193 1194 1219 1221 1232 1238 1240 1246 1250 1251 1253 1256 1257\n",
      " 1258 1261 1263 1270 1273 1313 1332 1368 1369 1394 1396 1407 1413 1415\n",
      " 1421 1422 1425 1426 1428 1431 1432 1433 1436 1438 1445 1448] are constant.\n",
      "  warnings.warn(\"Features %s are constant.\" % constant_features_idx,\n",
      "C:\\ProgramData\\Anaconda3\\lib\\site-packages\\sklearn\\feature_selection\\_univariate_selection.py:116: RuntimeWarning: invalid value encountered in true_divide\n",
      "  f = msb / msw\n"
     ]
    },
    {
     "name": "stdout",
     "output_type": "stream",
     "text": [
      "[LibSVM]"
     ]
    },
    {
     "name": "stderr",
     "output_type": "stream",
     "text": [
      "C:\\ProgramData\\Anaconda3\\lib\\site-packages\\sklearn\\feature_selection\\_univariate_selection.py:114: UserWarning: Features [   1    2    3    4    5    6    7    8    9   10   15   18   20  113\n",
      "  114  116  117  118  119  120  121  122  123  124  125  127  259  266\n",
      "  270  271  272  273  274  276  277  278  279  280  281  282  283  284\n",
      "  285  286  287  288  289  290  291  292  293  294  295  296  297  298\n",
      "  299  300  301  302  303  304  305  306  307  308  309  310  311  312\n",
      "  313  314  315  316  317  423  425  427  428  430  431  432  433  434\n",
      "  435  436  437  438  439  440  441  442  443  444  445  446  447  448\n",
      "  449  450  451  452  453  454  455  456  457  458  459  460  461  462\n",
      "  463  464  465  466  467  468  469  529  982 1018 1019 1044 1046 1057\n",
      " 1063 1065 1071 1075 1076 1078 1081 1082 1083 1086 1088 1095 1098 1138\n",
      " 1157 1193 1194 1219 1221 1232 1238 1240 1246 1250 1251 1253 1256 1257\n",
      " 1258 1261 1263 1270 1273 1313 1332 1368 1369 1394 1396 1407 1413 1415\n",
      " 1421 1422 1425 1426 1428 1431 1432 1433 1436 1438 1445 1448] are constant.\n",
      "  warnings.warn(\"Features %s are constant.\" % constant_features_idx,\n",
      "C:\\ProgramData\\Anaconda3\\lib\\site-packages\\sklearn\\feature_selection\\_univariate_selection.py:116: RuntimeWarning: invalid value encountered in true_divide\n",
      "  f = msb / msw\n"
     ]
    },
    {
     "name": "stdout",
     "output_type": "stream",
     "text": [
      "[LibSVM]"
     ]
    },
    {
     "name": "stderr",
     "output_type": "stream",
     "text": [
      "C:\\ProgramData\\Anaconda3\\lib\\site-packages\\sklearn\\feature_selection\\_univariate_selection.py:114: UserWarning: Features [   1    2    3    4    5    6    7    8    9   10   15   18   20  113\n",
      "  114  116  117  118  119  120  121  122  123  124  125  127  259  266\n",
      "  270  271  272  273  274  276  277  278  279  280  281  282  283  284\n",
      "  285  286  287  288  289  290  291  292  293  294  295  296  297  298\n",
      "  299  300  301  302  303  304  305  306  307  308  309  310  311  312\n",
      "  313  314  315  316  317  423  425  427  428  430  431  432  433  434\n",
      "  435  436  437  438  439  440  441  442  443  444  445  446  447  448\n",
      "  449  450  451  452  453  454  455  456  457  458  459  460  461  462\n",
      "  463  464  465  466  467  468  469  529  982 1018 1019 1044 1046 1057\n",
      " 1063 1065 1071 1075 1076 1078 1081 1082 1083 1086 1088 1095 1098 1138\n",
      " 1157 1193 1194 1219 1221 1232 1238 1240 1246 1250 1251 1253 1256 1257\n",
      " 1258 1261 1263 1270 1273 1313 1332 1368 1369 1394 1396 1407 1413 1415\n",
      " 1421 1422 1425 1426 1428 1431 1432 1433 1436 1438 1445 1448] are constant.\n",
      "  warnings.warn(\"Features %s are constant.\" % constant_features_idx,\n",
      "C:\\ProgramData\\Anaconda3\\lib\\site-packages\\sklearn\\feature_selection\\_univariate_selection.py:116: RuntimeWarning: invalid value encountered in true_divide\n",
      "  f = msb / msw\n"
     ]
    },
    {
     "name": "stdout",
     "output_type": "stream",
     "text": [
      "[LibSVM]"
     ]
    },
    {
     "name": "stderr",
     "output_type": "stream",
     "text": [
      "C:\\ProgramData\\Anaconda3\\lib\\site-packages\\sklearn\\feature_selection\\_univariate_selection.py:114: UserWarning: Features [   1    2    3    4    5    6    7    8    9   10   15   18   20  113\n",
      "  114  116  117  118  119  120  121  122  123  124  125  127  259  266\n",
      "  270  271  272  273  274  276  277  278  279  280  281  282  283  284\n",
      "  285  286  287  288  289  290  291  292  293  294  295  296  297  298\n",
      "  299  300  301  302  303  304  305  306  307  308  309  310  311  312\n",
      "  313  314  315  316  317  423  425  427  428  430  431  432  433  434\n",
      "  435  436  437  438  439  440  441  442  443  444  445  446  447  448\n",
      "  449  450  451  452  453  454  455  456  457  458  459  460  461  462\n",
      "  463  464  465  466  467  468  469  529  982 1018 1019 1044 1046 1057\n",
      " 1063 1065 1071 1075 1076 1078 1081 1082 1083 1086 1088 1095 1098 1138\n",
      " 1157 1193 1194 1219 1221 1232 1238 1240 1246 1250 1251 1253 1256 1257\n",
      " 1258 1261 1263 1270 1273 1313 1332 1368 1369 1394 1396 1407 1413 1415\n",
      " 1421 1422 1425 1426 1428 1431 1432 1433 1436 1438 1445 1448] are constant.\n",
      "  warnings.warn(\"Features %s are constant.\" % constant_features_idx,\n",
      "C:\\ProgramData\\Anaconda3\\lib\\site-packages\\sklearn\\feature_selection\\_univariate_selection.py:116: RuntimeWarning: invalid value encountered in true_divide\n",
      "  f = msb / msw\n"
     ]
    },
    {
     "name": "stdout",
     "output_type": "stream",
     "text": [
      "[LibSVM]"
     ]
    },
    {
     "name": "stderr",
     "output_type": "stream",
     "text": [
      "C:\\ProgramData\\Anaconda3\\lib\\site-packages\\sklearn\\feature_selection\\_univariate_selection.py:114: UserWarning: Features [   1    2    3    4    5    6    7    8    9   10   15   18   20  113\n",
      "  114  116  117  118  119  120  121  122  123  124  125  127  259  266\n",
      "  270  271  272  273  274  276  277  278  279  280  281  282  283  284\n",
      "  285  286  287  288  289  290  291  292  293  294  295  296  297  298\n",
      "  299  300  301  302  303  304  305  306  307  308  309  310  311  312\n",
      "  313  314  315  316  317  423  425  427  428  430  431  432  433  434\n",
      "  435  436  437  438  439  440  441  442  443  444  445  446  447  448\n",
      "  449  450  451  452  453  454  455  456  457  458  459  460  461  462\n",
      "  463  464  465  466  467  468  469  529  982 1018 1019 1044 1046 1057\n",
      " 1063 1065 1071 1075 1076 1078 1081 1082 1083 1086 1088 1095 1098 1138\n",
      " 1157 1193 1194 1219 1221 1232 1238 1240 1246 1250 1251 1253 1256 1257\n",
      " 1258 1261 1263 1270 1273 1313 1332 1368 1369 1394 1396 1407 1413 1415\n",
      " 1421 1422 1425 1426 1428 1431 1432 1433 1436 1438 1445 1448] are constant.\n",
      "  warnings.warn(\"Features %s are constant.\" % constant_features_idx,\n",
      "C:\\ProgramData\\Anaconda3\\lib\\site-packages\\sklearn\\feature_selection\\_univariate_selection.py:116: RuntimeWarning: invalid value encountered in true_divide\n",
      "  f = msb / msw\n"
     ]
    },
    {
     "name": "stdout",
     "output_type": "stream",
     "text": [
      "[LibSVM]"
     ]
    },
    {
     "name": "stderr",
     "output_type": "stream",
     "text": [
      "C:\\ProgramData\\Anaconda3\\lib\\site-packages\\sklearn\\feature_selection\\_univariate_selection.py:114: UserWarning: Features [   1    2    3    4    5    6    7    8    9   10   15   18   20  113\n",
      "  114  116  117  118  119  120  121  122  123  124  125  127  259  266\n",
      "  270  271  272  273  274  276  277  278  279  280  281  282  283  284\n",
      "  285  286  287  288  289  290  291  292  293  294  295  296  297  298\n",
      "  299  300  301  302  303  304  305  306  307  308  309  310  311  312\n",
      "  313  314  315  316  317  423  425  427  428  430  431  432  433  434\n",
      "  435  436  437  438  439  440  441  442  443  444  445  446  447  448\n",
      "  449  450  451  452  453  454  455  456  457  458  459  460  461  462\n",
      "  463  464  465  466  467  468  469  529  982 1018 1019 1044 1046 1057\n",
      " 1063 1065 1071 1075 1076 1078 1081 1082 1083 1086 1088 1095 1098 1138\n",
      " 1157 1193 1194 1219 1221 1232 1238 1240 1246 1250 1251 1253 1256 1257\n",
      " 1258 1261 1263 1270 1273 1313 1332 1368 1369 1394 1396 1407 1413 1415\n",
      " 1421 1422 1425 1426 1428 1431 1432 1433 1436 1438 1445 1448] are constant.\n",
      "  warnings.warn(\"Features %s are constant.\" % constant_features_idx,\n",
      "C:\\ProgramData\\Anaconda3\\lib\\site-packages\\sklearn\\feature_selection\\_univariate_selection.py:116: RuntimeWarning: invalid value encountered in true_divide\n",
      "  f = msb / msw\n"
     ]
    },
    {
     "name": "stdout",
     "output_type": "stream",
     "text": [
      "[LibSVM]"
     ]
    },
    {
     "name": "stderr",
     "output_type": "stream",
     "text": [
      "C:\\ProgramData\\Anaconda3\\lib\\site-packages\\sklearn\\feature_selection\\_univariate_selection.py:114: UserWarning: Features [   1    2    3    4    5    6    7    8    9   10   15   18   20  113\n",
      "  114  116  117  118  119  120  121  122  123  124  125  127  259  266\n",
      "  270  271  272  273  274  276  277  278  279  280  281  282  283  284\n",
      "  285  286  287  288  289  290  291  292  293  294  295  296  297  298\n",
      "  299  300  301  302  303  304  305  306  307  308  309  310  311  312\n",
      "  313  314  315  316  317  423  425  427  428  430  431  432  433  434\n",
      "  435  436  437  438  439  440  441  442  443  444  445  446  447  448\n",
      "  449  450  451  452  453  454  455  456  457  458  459  460  461  462\n",
      "  463  464  465  466  467  468  469  529  982 1018 1019 1044 1046 1057\n",
      " 1063 1065 1071 1075 1076 1078 1081 1082 1083 1086 1088 1095 1098 1138\n",
      " 1157 1193 1194 1219 1221 1232 1238 1240 1246 1250 1251 1253 1256 1257\n",
      " 1258 1261 1263 1270 1273 1313 1332 1368 1369 1394 1396 1407 1413 1415\n",
      " 1421 1422 1425 1426 1428 1431 1432 1433 1436 1438 1445 1448] are constant.\n",
      "  warnings.warn(\"Features %s are constant.\" % constant_features_idx,\n",
      "C:\\ProgramData\\Anaconda3\\lib\\site-packages\\sklearn\\feature_selection\\_univariate_selection.py:116: RuntimeWarning: invalid value encountered in true_divide\n",
      "  f = msb / msw\n"
     ]
    },
    {
     "name": "stdout",
     "output_type": "stream",
     "text": [
      "[LibSVM]"
     ]
    },
    {
     "name": "stderr",
     "output_type": "stream",
     "text": [
      "C:\\ProgramData\\Anaconda3\\lib\\site-packages\\sklearn\\feature_selection\\_univariate_selection.py:114: UserWarning: Features [   1    2    3    4    5    6    7    8    9   10   15   18   20  113\n",
      "  114  116  117  118  119  120  121  122  123  124  125  127  259  266\n",
      "  270  271  272  273  274  276  277  278  279  280  281  282  283  284\n",
      "  285  286  287  288  289  290  291  292  293  294  295  296  297  298\n",
      "  299  300  301  302  303  304  305  306  307  308  309  310  311  312\n",
      "  313  314  315  316  317  423  425  427  428  430  431  432  433  434\n",
      "  435  436  437  438  439  440  441  442  443  444  445  446  447  448\n",
      "  449  450  451  452  453  454  455  456  457  458  459  460  461  462\n",
      "  463  464  465  466  467  468  469  529  982 1018 1019 1044 1046 1057\n",
      " 1063 1065 1071 1075 1076 1078 1081 1082 1083 1086 1088 1095 1098 1138\n",
      " 1157 1193 1194 1219 1221 1232 1238 1240 1246 1250 1251 1253 1256 1257\n",
      " 1258 1261 1263 1270 1273 1313 1332 1368 1369 1394 1396 1407 1413 1415\n",
      " 1421 1422 1425 1426 1428 1431 1432 1433 1436 1438 1445 1448] are constant.\n",
      "  warnings.warn(\"Features %s are constant.\" % constant_features_idx,\n",
      "C:\\ProgramData\\Anaconda3\\lib\\site-packages\\sklearn\\feature_selection\\_univariate_selection.py:116: RuntimeWarning: invalid value encountered in true_divide\n",
      "  f = msb / msw\n"
     ]
    },
    {
     "name": "stdout",
     "output_type": "stream",
     "text": [
      "[LibSVM]"
     ]
    },
    {
     "name": "stderr",
     "output_type": "stream",
     "text": [
      "C:\\ProgramData\\Anaconda3\\lib\\site-packages\\sklearn\\feature_selection\\_univariate_selection.py:114: UserWarning: Features [   1    2    3    4    5    6    7    8    9   10   15   18   20  113\n",
      "  114  116  117  118  119  120  121  122  123  124  125  127  259  266\n",
      "  270  271  272  273  274  276  277  278  279  280  281  282  283  284\n",
      "  285  286  287  288  289  290  291  292  293  294  295  296  297  298\n",
      "  299  300  301  302  303  304  305  306  307  308  309  310  311  312\n",
      "  313  314  315  316  317  423  425  427  428  430  431  432  433  434\n",
      "  435  436  437  438  439  440  441  442  443  444  445  446  447  448\n",
      "  449  450  451  452  453  454  455  456  457  458  459  460  461  462\n",
      "  463  464  465  466  467  468  469  529  982 1018 1019 1044 1046 1057\n",
      " 1063 1065 1071 1075 1076 1078 1081 1082 1083 1086 1088 1095 1098 1138\n",
      " 1157 1193 1194 1219 1221 1232 1238 1240 1246 1250 1251 1253 1256 1257\n",
      " 1258 1261 1263 1270 1273 1313 1332 1368 1369 1394 1396 1407 1413 1415\n",
      " 1421 1422 1425 1426 1428 1431 1432 1433 1436 1438 1445 1448] are constant.\n",
      "  warnings.warn(\"Features %s are constant.\" % constant_features_idx,\n",
      "C:\\ProgramData\\Anaconda3\\lib\\site-packages\\sklearn\\feature_selection\\_univariate_selection.py:116: RuntimeWarning: invalid value encountered in true_divide\n",
      "  f = msb / msw\n"
     ]
    },
    {
     "name": "stdout",
     "output_type": "stream",
     "text": [
      "[LibSVM]"
     ]
    },
    {
     "name": "stderr",
     "output_type": "stream",
     "text": [
      "C:\\ProgramData\\Anaconda3\\lib\\site-packages\\sklearn\\feature_selection\\_univariate_selection.py:114: UserWarning: Features [   1    2    3    4    5    6    7    8    9   10   15   18   20  113\n",
      "  114  116  117  118  119  120  121  122  123  124  125  127  259  266\n",
      "  270  271  272  273  274  276  277  278  279  280  281  282  283  284\n",
      "  285  286  287  288  289  290  291  292  293  294  295  296  297  298\n",
      "  299  300  301  302  303  304  305  306  307  308  309  310  311  312\n",
      "  313  314  315  316  317  423  425  427  428  430  431  432  433  434\n",
      "  435  436  437  438  439  440  441  442  443  444  445  446  447  448\n",
      "  449  450  451  452  453  454  455  456  457  458  459  460  461  462\n",
      "  463  464  465  466  467  468  469  529  982 1018 1019 1044 1046 1057\n",
      " 1063 1065 1071 1075 1076 1078 1081 1082 1083 1086 1088 1095 1098 1138\n",
      " 1157 1193 1194 1219 1221 1232 1238 1240 1246 1250 1251 1253 1256 1257\n",
      " 1258 1261 1263 1270 1273 1313 1332 1368 1369 1394 1396 1407 1413 1415\n",
      " 1421 1422 1425 1426 1428 1431 1432 1433 1436 1438 1445 1448] are constant.\n",
      "  warnings.warn(\"Features %s are constant.\" % constant_features_idx,\n",
      "C:\\ProgramData\\Anaconda3\\lib\\site-packages\\sklearn\\feature_selection\\_univariate_selection.py:116: RuntimeWarning: invalid value encountered in true_divide\n",
      "  f = msb / msw\n"
     ]
    },
    {
     "name": "stdout",
     "output_type": "stream",
     "text": [
      "[LibSVM]"
     ]
    },
    {
     "name": "stderr",
     "output_type": "stream",
     "text": [
      "C:\\ProgramData\\Anaconda3\\lib\\site-packages\\sklearn\\feature_selection\\_univariate_selection.py:114: UserWarning: Features [   1    2    3    4    5    6    7    8    9   10   15   18   20  113\n",
      "  114  116  117  118  119  120  121  122  123  124  125  127  259  266\n",
      "  270  271  272  273  274  276  277  278  279  280  281  282  283  284\n",
      "  285  286  287  288  289  290  291  292  293  294  295  296  297  298\n",
      "  299  300  301  302  303  304  305  306  307  308  309  310  311  312\n",
      "  313  314  315  316  317  423  425  427  428  430  431  432  433  434\n",
      "  435  436  437  438  439  440  441  442  443  444  445  446  447  448\n",
      "  449  450  451  452  453  454  455  456  457  458  459  460  461  462\n",
      "  463  464  465  466  467  468  469  529  982 1018 1019 1044 1046 1057\n",
      " 1063 1065 1071 1075 1076 1078 1081 1082 1083 1086 1088 1095 1098 1138\n",
      " 1157 1193 1194 1219 1221 1232 1238 1240 1246 1250 1251 1253 1256 1257\n",
      " 1258 1261 1263 1270 1273 1313 1332 1368 1369 1394 1396 1407 1413 1415\n",
      " 1421 1422 1425 1426 1428 1431 1432 1433 1436 1438 1445 1448] are constant.\n",
      "  warnings.warn(\"Features %s are constant.\" % constant_features_idx,\n",
      "C:\\ProgramData\\Anaconda3\\lib\\site-packages\\sklearn\\feature_selection\\_univariate_selection.py:116: RuntimeWarning: invalid value encountered in true_divide\n",
      "  f = msb / msw\n"
     ]
    },
    {
     "name": "stdout",
     "output_type": "stream",
     "text": [
      "[LibSVM]"
     ]
    },
    {
     "name": "stderr",
     "output_type": "stream",
     "text": [
      "C:\\ProgramData\\Anaconda3\\lib\\site-packages\\sklearn\\feature_selection\\_univariate_selection.py:114: UserWarning: Features [   1    2    3    4    5    6    7    8    9   10   15   18   20  113\n",
      "  114  116  117  118  119  120  121  122  123  124  125  127  259  266\n",
      "  270  271  272  273  274  276  277  278  279  280  281  282  283  284\n",
      "  285  286  287  288  289  290  291  292  293  294  295  296  297  298\n",
      "  299  300  301  302  303  304  305  306  307  308  309  310  311  312\n",
      "  313  314  315  316  317  423  425  427  428  430  431  432  433  434\n",
      "  435  436  437  438  439  440  441  442  443  444  445  446  447  448\n",
      "  449  450  451  452  453  454  455  456  457  458  459  460  461  462\n",
      "  463  464  465  466  467  468  469  529  982 1018 1019 1044 1046 1057\n",
      " 1063 1065 1071 1075 1076 1078 1081 1082 1083 1086 1088 1095 1098 1138\n",
      " 1157 1193 1194 1219 1221 1232 1238 1240 1246 1250 1251 1253 1256 1257\n",
      " 1258 1261 1263 1270 1273 1313 1332 1368 1369 1394 1396 1407 1413 1415\n",
      " 1421 1422 1425 1426 1428 1431 1432 1433 1436 1438 1445 1448] are constant.\n",
      "  warnings.warn(\"Features %s are constant.\" % constant_features_idx,\n",
      "C:\\ProgramData\\Anaconda3\\lib\\site-packages\\sklearn\\feature_selection\\_univariate_selection.py:116: RuntimeWarning: invalid value encountered in true_divide\n",
      "  f = msb / msw\n"
     ]
    },
    {
     "name": "stdout",
     "output_type": "stream",
     "text": [
      "[LibSVM]"
     ]
    },
    {
     "name": "stderr",
     "output_type": "stream",
     "text": [
      "C:\\ProgramData\\Anaconda3\\lib\\site-packages\\sklearn\\feature_selection\\_univariate_selection.py:114: UserWarning: Features [   1    2    3    4    5    6    7    8    9   10   15   18   20  113\n",
      "  114  116  117  118  119  120  121  122  123  124  125  127  259  266\n",
      "  270  271  272  273  274  276  277  278  279  280  281  282  283  284\n",
      "  285  286  287  288  289  290  291  292  293  294  295  296  297  298\n",
      "  299  300  301  302  303  304  305  306  307  308  309  310  311  312\n",
      "  313  314  315  316  317  423  425  427  428  430  431  432  433  434\n",
      "  435  436  437  438  439  440  441  442  443  444  445  446  447  448\n",
      "  449  450  451  452  453  454  455  456  457  458  459  460  461  462\n",
      "  463  464  465  466  467  468  469  529  982 1018 1019 1044 1046 1057\n",
      " 1063 1065 1071 1075 1076 1078 1081 1082 1083 1086 1088 1095 1098 1138\n",
      " 1157 1193 1194 1219 1221 1232 1238 1240 1246 1250 1251 1253 1256 1257\n",
      " 1258 1261 1263 1270 1273 1313 1332 1368 1369 1394 1396 1407 1413 1415\n",
      " 1421 1422 1425 1426 1428 1431 1432 1433 1436 1438 1445 1448] are constant.\n",
      "  warnings.warn(\"Features %s are constant.\" % constant_features_idx,\n",
      "C:\\ProgramData\\Anaconda3\\lib\\site-packages\\sklearn\\feature_selection\\_univariate_selection.py:116: RuntimeWarning: invalid value encountered in true_divide\n",
      "  f = msb / msw\n"
     ]
    },
    {
     "name": "stdout",
     "output_type": "stream",
     "text": [
      "[LibSVM]"
     ]
    },
    {
     "name": "stderr",
     "output_type": "stream",
     "text": [
      "C:\\ProgramData\\Anaconda3\\lib\\site-packages\\sklearn\\feature_selection\\_univariate_selection.py:114: UserWarning: Features [   1    2    3    4    5    6    7    8    9   10   15   18   20  113\n",
      "  114  116  117  118  119  120  121  122  123  124  125  127  259  266\n",
      "  270  271  272  273  274  276  277  278  279  280  281  282  283  284\n",
      "  285  286  287  288  289  290  291  292  293  294  295  296  297  298\n",
      "  299  300  301  302  303  304  305  306  307  308  309  310  311  312\n",
      "  313  314  315  316  317  423  425  427  428  430  431  432  433  434\n",
      "  435  436  437  438  439  440  441  442  443  444  445  446  447  448\n",
      "  449  450  451  452  453  454  455  456  457  458  459  460  461  462\n",
      "  463  464  465  466  467  468  469  529  982 1018 1019 1044 1046 1057\n",
      " 1063 1065 1071 1075 1076 1078 1081 1082 1083 1086 1088 1095 1098 1138\n",
      " 1157 1193 1194 1219 1221 1232 1238 1240 1246 1250 1251 1253 1256 1257\n",
      " 1258 1261 1263 1270 1273 1313 1332 1368 1369 1394 1396 1407 1413 1415\n",
      " 1421 1422 1425 1426 1428 1431 1432 1433 1436 1438 1445 1448] are constant.\n",
      "  warnings.warn(\"Features %s are constant.\" % constant_features_idx,\n",
      "C:\\ProgramData\\Anaconda3\\lib\\site-packages\\sklearn\\feature_selection\\_univariate_selection.py:116: RuntimeWarning: invalid value encountered in true_divide\n",
      "  f = msb / msw\n"
     ]
    },
    {
     "name": "stdout",
     "output_type": "stream",
     "text": [
      "[LibSVM]"
     ]
    },
    {
     "name": "stderr",
     "output_type": "stream",
     "text": [
      "C:\\ProgramData\\Anaconda3\\lib\\site-packages\\sklearn\\feature_selection\\_univariate_selection.py:114: UserWarning: Features [   1    2    3    4    5    6    7    8    9   10   15   18   20  113\n",
      "  114  116  117  118  119  120  121  122  123  124  125  127  259  266\n",
      "  270  271  272  273  274  276  277  278  279  280  281  282  283  284\n",
      "  285  286  287  288  289  290  291  292  293  294  295  296  297  298\n",
      "  299  300  301  302  303  304  305  306  307  308  309  310  311  312\n",
      "  313  314  315  316  317  423  425  427  428  430  431  432  433  434\n",
      "  435  436  437  438  439  440  441  442  443  444  445  446  447  448\n",
      "  449  450  451  452  453  454  455  456  457  458  459  460  461  462\n",
      "  463  464  465  466  467  468  469  529  982 1018 1019 1044 1046 1057\n",
      " 1063 1065 1071 1075 1076 1078 1081 1082 1083 1086 1088 1095 1098 1138\n",
      " 1157 1193 1194 1219 1221 1232 1238 1240 1246 1250 1251 1253 1256 1257\n",
      " 1258 1261 1263 1270 1273 1313 1332 1368 1369 1394 1396 1407 1413 1415\n",
      " 1421 1422 1425 1426 1428 1431 1432 1433 1436 1438 1445 1448] are constant.\n",
      "  warnings.warn(\"Features %s are constant.\" % constant_features_idx,\n",
      "C:\\ProgramData\\Anaconda3\\lib\\site-packages\\sklearn\\feature_selection\\_univariate_selection.py:116: RuntimeWarning: invalid value encountered in true_divide\n",
      "  f = msb / msw\n"
     ]
    },
    {
     "name": "stdout",
     "output_type": "stream",
     "text": [
      "[LibSVM]"
     ]
    },
    {
     "name": "stderr",
     "output_type": "stream",
     "text": [
      "C:\\ProgramData\\Anaconda3\\lib\\site-packages\\sklearn\\feature_selection\\_univariate_selection.py:114: UserWarning: Features [   1    2    3    4    5    6    7    8    9   10   15   18   20  113\n",
      "  114  116  117  118  119  120  121  122  123  124  125  127  259  266\n",
      "  270  271  272  273  274  276  277  278  279  280  281  282  283  284\n",
      "  285  286  287  288  289  290  291  292  293  294  295  296  297  298\n",
      "  299  300  301  302  303  304  305  306  307  308  309  310  311  312\n",
      "  313  314  315  316  317  423  425  427  428  430  431  432  433  434\n",
      "  435  436  437  438  439  440  441  442  443  444  445  446  447  448\n",
      "  449  450  451  452  453  454  455  456  457  458  459  460  461  462\n",
      "  463  464  465  466  467  468  469  529  982 1018 1019 1044 1046 1057\n",
      " 1063 1065 1071 1075 1076 1078 1081 1082 1083 1086 1088 1095 1098 1138\n",
      " 1157 1193 1194 1219 1221 1232 1238 1240 1246 1250 1251 1253 1256 1257\n",
      " 1258 1261 1263 1270 1273 1313 1332 1368 1369 1394 1396 1407 1413 1415\n",
      " 1421 1422 1425 1426 1428 1431 1432 1433 1436 1438 1445 1448] are constant.\n",
      "  warnings.warn(\"Features %s are constant.\" % constant_features_idx,\n",
      "C:\\ProgramData\\Anaconda3\\lib\\site-packages\\sklearn\\feature_selection\\_univariate_selection.py:116: RuntimeWarning: invalid value encountered in true_divide\n",
      "  f = msb / msw\n"
     ]
    },
    {
     "name": "stdout",
     "output_type": "stream",
     "text": [
      "[LibSVM]"
     ]
    },
    {
     "name": "stderr",
     "output_type": "stream",
     "text": [
      "C:\\ProgramData\\Anaconda3\\lib\\site-packages\\sklearn\\feature_selection\\_univariate_selection.py:114: UserWarning: Features [   1    2    3    4    5    6    7    8    9   10   15   18   20  113\n",
      "  114  116  117  118  119  120  121  122  123  124  125  127  259  266\n",
      "  270  271  272  273  274  276  277  278  279  280  281  282  283  284\n",
      "  285  286  287  288  289  290  291  292  293  294  295  296  297  298\n",
      "  299  300  301  302  303  304  305  306  307  308  309  310  311  312\n",
      "  313  314  315  316  317  423  425  427  428  430  431  432  433  434\n",
      "  435  436  437  438  439  440  441  442  443  444  445  446  447  448\n",
      "  449  450  451  452  453  454  455  456  457  458  459  460  461  462\n",
      "  463  464  465  466  467  468  469  529  982 1018 1019 1044 1046 1057\n",
      " 1063 1065 1071 1075 1076 1078 1081 1082 1083 1086 1088 1095 1098 1138\n",
      " 1157 1193 1194 1219 1221 1232 1238 1240 1246 1250 1251 1253 1256 1257\n",
      " 1258 1261 1263 1270 1273 1313 1332 1368 1369 1394 1396 1407 1413 1415\n",
      " 1421 1422 1425 1426 1428 1431 1432 1433 1436 1438 1445 1448] are constant.\n",
      "  warnings.warn(\"Features %s are constant.\" % constant_features_idx,\n",
      "C:\\ProgramData\\Anaconda3\\lib\\site-packages\\sklearn\\feature_selection\\_univariate_selection.py:116: RuntimeWarning: invalid value encountered in true_divide\n",
      "  f = msb / msw\n"
     ]
    },
    {
     "name": "stdout",
     "output_type": "stream",
     "text": [
      "[LibSVM]"
     ]
    },
    {
     "name": "stderr",
     "output_type": "stream",
     "text": [
      "C:\\ProgramData\\Anaconda3\\lib\\site-packages\\sklearn\\feature_selection\\_univariate_selection.py:114: UserWarning: Features [   1    2    3    4    5    6    7    8    9   10   15   18   20  113\n",
      "  114  116  117  118  119  120  121  122  123  124  125  127  259  266\n",
      "  270  271  272  273  274  276  277  278  279  280  281  282  283  284\n",
      "  285  286  287  288  289  290  291  292  293  294  295  296  297  298\n",
      "  299  300  301  302  303  304  305  306  307  308  309  310  311  312\n",
      "  313  314  315  316  317  423  425  427  428  430  431  432  433  434\n",
      "  435  436  437  438  439  440  441  442  443  444  445  446  447  448\n",
      "  449  450  451  452  453  454  455  456  457  458  459  460  461  462\n",
      "  463  464  465  466  467  468  469  529  982 1018 1019 1044 1046 1057\n",
      " 1063 1065 1071 1075 1076 1078 1081 1082 1083 1086 1088 1095 1098 1138\n",
      " 1157 1193 1194 1219 1221 1232 1238 1240 1246 1250 1251 1253 1256 1257\n",
      " 1258 1261 1263 1270 1273 1313 1332 1368 1369 1394 1396 1407 1413 1415\n",
      " 1421 1422 1425 1426 1428 1431 1432 1433 1436 1438 1445 1448] are constant.\n",
      "  warnings.warn(\"Features %s are constant.\" % constant_features_idx,\n",
      "C:\\ProgramData\\Anaconda3\\lib\\site-packages\\sklearn\\feature_selection\\_univariate_selection.py:116: RuntimeWarning: invalid value encountered in true_divide\n",
      "  f = msb / msw\n"
     ]
    },
    {
     "name": "stdout",
     "output_type": "stream",
     "text": [
      "[LibSVM]"
     ]
    },
    {
     "name": "stderr",
     "output_type": "stream",
     "text": [
      "C:\\ProgramData\\Anaconda3\\lib\\site-packages\\sklearn\\feature_selection\\_univariate_selection.py:114: UserWarning: Features [   1    2    3    4    5    6    7    8    9   10   15   18   20  113\n",
      "  114  116  117  118  119  120  121  122  123  124  125  127  259  266\n",
      "  270  271  272  273  274  276  277  278  279  280  281  282  283  284\n",
      "  285  286  287  288  289  290  291  292  293  294  295  296  297  298\n",
      "  299  300  301  302  303  304  305  306  307  308  309  310  311  312\n",
      "  313  314  315  316  317  423  425  427  428  430  431  432  433  434\n",
      "  435  436  437  438  439  440  441  442  443  444  445  446  447  448\n",
      "  449  450  451  452  453  454  455  456  457  458  459  460  461  462\n",
      "  463  464  465  466  467  468  469  529  982 1018 1019 1044 1046 1057\n",
      " 1063 1065 1071 1075 1076 1078 1081 1082 1083 1086 1088 1095 1098 1138\n",
      " 1157 1193 1194 1219 1221 1232 1238 1240 1246 1250 1251 1253 1256 1257\n",
      " 1258 1261 1263 1270 1273 1313 1332 1368 1369 1394 1396 1407 1413 1415\n",
      " 1421 1422 1425 1426 1428 1431 1432 1433 1436 1438 1445 1448] are constant.\n",
      "  warnings.warn(\"Features %s are constant.\" % constant_features_idx,\n",
      "C:\\ProgramData\\Anaconda3\\lib\\site-packages\\sklearn\\feature_selection\\_univariate_selection.py:116: RuntimeWarning: invalid value encountered in true_divide\n",
      "  f = msb / msw\n"
     ]
    },
    {
     "name": "stdout",
     "output_type": "stream",
     "text": [
      "[LibSVM]"
     ]
    },
    {
     "name": "stderr",
     "output_type": "stream",
     "text": [
      "C:\\ProgramData\\Anaconda3\\lib\\site-packages\\sklearn\\feature_selection\\_univariate_selection.py:114: UserWarning: Features [   1    2    3    4    5    6    7    8    9   10   15   18   20  113\n",
      "  114  116  117  118  119  120  121  122  123  124  125  127  259  266\n",
      "  270  271  272  273  274  276  277  278  279  280  281  282  283  284\n",
      "  285  286  287  288  289  290  291  292  293  294  295  296  297  298\n",
      "  299  300  301  302  303  304  305  306  307  308  309  310  311  312\n",
      "  313  314  315  316  317  423  425  427  428  430  431  432  433  434\n",
      "  435  436  437  438  439  440  441  442  443  444  445  446  447  448\n",
      "  449  450  451  452  453  454  455  456  457  458  459  460  461  462\n",
      "  463  464  465  466  467  468  469  529  982 1018 1019 1044 1046 1057\n",
      " 1063 1065 1071 1075 1076 1078 1081 1082 1083 1086 1088 1095 1098 1138\n",
      " 1157 1193 1194 1219 1221 1232 1238 1240 1246 1250 1251 1253 1256 1257\n",
      " 1258 1261 1263 1270 1273 1313 1332 1368 1369 1394 1396 1407 1413 1415\n",
      " 1421 1422 1425 1426 1428 1431 1432 1433 1436 1438 1445 1448] are constant.\n",
      "  warnings.warn(\"Features %s are constant.\" % constant_features_idx,\n",
      "C:\\ProgramData\\Anaconda3\\lib\\site-packages\\sklearn\\feature_selection\\_univariate_selection.py:116: RuntimeWarning: invalid value encountered in true_divide\n",
      "  f = msb / msw\n"
     ]
    },
    {
     "name": "stdout",
     "output_type": "stream",
     "text": [
      "[LibSVM]"
     ]
    },
    {
     "name": "stderr",
     "output_type": "stream",
     "text": [
      "C:\\ProgramData\\Anaconda3\\lib\\site-packages\\sklearn\\feature_selection\\_univariate_selection.py:114: UserWarning: Features [   1    2    3    4    5    6    7    8    9   10   15   18   20  113\n",
      "  114  116  117  118  119  120  121  122  123  124  125  127  259  266\n",
      "  270  271  272  273  274  276  277  278  279  280  281  282  283  284\n",
      "  285  286  287  288  289  290  291  292  293  294  295  296  297  298\n",
      "  299  300  301  302  303  304  305  306  307  308  309  310  311  312\n",
      "  313  314  315  316  317  423  425  427  428  430  431  432  433  434\n",
      "  435  436  437  438  439  440  441  442  443  444  445  446  447  448\n",
      "  449  450  451  452  453  454  455  456  457  458  459  460  461  462\n",
      "  463  464  465  466  467  468  469  529  982 1018 1019 1044 1046 1057\n",
      " 1063 1065 1071 1075 1076 1078 1081 1082 1083 1086 1088 1095 1098 1138\n",
      " 1157 1193 1194 1219 1221 1232 1238 1240 1246 1250 1251 1253 1256 1257\n",
      " 1258 1261 1263 1270 1273 1313 1332 1368 1369 1394 1396 1407 1413 1415\n",
      " 1421 1422 1425 1426 1428 1431 1432 1433 1436 1438 1445 1448] are constant.\n",
      "  warnings.warn(\"Features %s are constant.\" % constant_features_idx,\n",
      "C:\\ProgramData\\Anaconda3\\lib\\site-packages\\sklearn\\feature_selection\\_univariate_selection.py:116: RuntimeWarning: invalid value encountered in true_divide\n",
      "  f = msb / msw\n"
     ]
    },
    {
     "name": "stdout",
     "output_type": "stream",
     "text": [
      "[LibSVM]"
     ]
    },
    {
     "name": "stderr",
     "output_type": "stream",
     "text": [
      "C:\\ProgramData\\Anaconda3\\lib\\site-packages\\sklearn\\feature_selection\\_univariate_selection.py:114: UserWarning: Features [   1    2    3    4    5    6    7    8    9   10   15   18   20  113\n",
      "  114  116  117  118  119  120  121  122  123  124  125  127  259  266\n",
      "  270  271  272  273  274  276  277  278  279  280  281  282  283  284\n",
      "  285  286  287  288  289  290  291  292  293  294  295  296  297  298\n",
      "  299  300  301  302  303  304  305  306  307  308  309  310  311  312\n",
      "  313  314  315  316  317  423  425  427  428  430  431  432  433  434\n",
      "  435  436  437  438  439  440  441  442  443  444  445  446  447  448\n",
      "  449  450  451  452  453  454  455  456  457  458  459  460  461  462\n",
      "  463  464  465  466  467  468  469  529  982 1018 1019 1044 1046 1057\n",
      " 1063 1065 1071 1075 1076 1078 1081 1082 1083 1086 1088 1095 1098 1138\n",
      " 1157 1193 1194 1219 1221 1232 1238 1240 1246 1250 1251 1253 1256 1257\n",
      " 1258 1261 1263 1270 1273 1313 1332 1368 1369 1394 1396 1407 1413 1415\n",
      " 1421 1422 1425 1426 1428 1431 1432 1433 1436 1438 1445 1448] are constant.\n",
      "  warnings.warn(\"Features %s are constant.\" % constant_features_idx,\n",
      "C:\\ProgramData\\Anaconda3\\lib\\site-packages\\sklearn\\feature_selection\\_univariate_selection.py:116: RuntimeWarning: invalid value encountered in true_divide\n",
      "  f = msb / msw\n"
     ]
    },
    {
     "name": "stdout",
     "output_type": "stream",
     "text": [
      "[LibSVM]"
     ]
    },
    {
     "name": "stderr",
     "output_type": "stream",
     "text": [
      "C:\\ProgramData\\Anaconda3\\lib\\site-packages\\sklearn\\feature_selection\\_univariate_selection.py:114: UserWarning: Features [   1    2    3    4    5    6    7    8    9   10   15   18   20  113\n",
      "  114  116  117  118  119  120  121  122  123  124  125  127  259  266\n",
      "  270  271  272  273  274  276  277  278  279  280  281  282  283  284\n",
      "  285  286  287  288  289  290  291  292  293  294  295  296  297  298\n",
      "  299  300  301  302  303  304  305  306  307  308  309  310  311  312\n",
      "  313  314  315  316  317  423  425  427  428  430  431  432  433  434\n",
      "  435  436  437  438  439  440  441  442  443  444  445  446  447  448\n",
      "  449  450  451  452  453  454  455  456  457  458  459  460  461  462\n",
      "  463  464  465  466  467  468  469  529  982 1018 1019 1044 1046 1057\n",
      " 1063 1065 1071 1075 1076 1078 1081 1082 1083 1086 1088 1095 1098 1138\n",
      " 1157 1193 1194 1219 1221 1232 1238 1240 1246 1250 1251 1253 1256 1257\n",
      " 1258 1261 1263 1270 1273 1313 1332 1368 1369 1394 1396 1407 1413 1415\n",
      " 1421 1422 1425 1426 1428 1431 1432 1433 1436 1438 1445 1448] are constant.\n",
      "  warnings.warn(\"Features %s are constant.\" % constant_features_idx,\n",
      "C:\\ProgramData\\Anaconda3\\lib\\site-packages\\sklearn\\feature_selection\\_univariate_selection.py:116: RuntimeWarning: invalid value encountered in true_divide\n",
      "  f = msb / msw\n"
     ]
    },
    {
     "name": "stdout",
     "output_type": "stream",
     "text": [
      "[LibSVM]"
     ]
    },
    {
     "name": "stderr",
     "output_type": "stream",
     "text": [
      "C:\\ProgramData\\Anaconda3\\lib\\site-packages\\sklearn\\feature_selection\\_univariate_selection.py:114: UserWarning: Features [   1    2    3    4    5    6    7    8    9   10   15   18   20  113\n",
      "  114  116  117  118  119  120  121  122  123  124  125  127  259  266\n",
      "  270  271  272  273  274  276  277  278  279  280  281  282  283  284\n",
      "  285  286  287  288  289  290  291  292  293  294  295  296  297  298\n",
      "  299  300  301  302  303  304  305  306  307  308  309  310  311  312\n",
      "  313  314  315  316  317  423  425  427  428  430  431  432  433  434\n",
      "  435  436  437  438  439  440  441  442  443  444  445  446  447  448\n",
      "  449  450  451  452  453  454  455  456  457  458  459  460  461  462\n",
      "  463  464  465  466  467  468  469  529  982 1018 1019 1044 1046 1057\n",
      " 1063 1065 1071 1075 1076 1078 1081 1082 1083 1086 1088 1095 1098 1138\n",
      " 1157 1193 1194 1219 1221 1232 1238 1240 1246 1250 1251 1253 1256 1257\n",
      " 1258 1261 1263 1270 1273 1313 1332 1368 1369 1394 1396 1407 1413 1415\n",
      " 1421 1422 1425 1426 1428 1431 1432 1433 1436 1438 1445 1448] are constant.\n",
      "  warnings.warn(\"Features %s are constant.\" % constant_features_idx,\n",
      "C:\\ProgramData\\Anaconda3\\lib\\site-packages\\sklearn\\feature_selection\\_univariate_selection.py:116: RuntimeWarning: invalid value encountered in true_divide\n",
      "  f = msb / msw\n"
     ]
    },
    {
     "name": "stdout",
     "output_type": "stream",
     "text": [
      "[LibSVM]"
     ]
    },
    {
     "name": "stderr",
     "output_type": "stream",
     "text": [
      "C:\\ProgramData\\Anaconda3\\lib\\site-packages\\sklearn\\feature_selection\\_univariate_selection.py:114: UserWarning: Features [   1    2    3    4    5    6    7    8    9   10   15   18   20  113\n",
      "  114  116  117  118  119  120  121  122  123  124  125  127  259  266\n",
      "  270  271  272  273  274  276  277  278  279  280  281  282  283  284\n",
      "  285  286  287  288  289  290  291  292  293  294  295  296  297  298\n",
      "  299  300  301  302  303  304  305  306  307  308  309  310  311  312\n",
      "  313  314  315  316  317  423  425  427  428  430  431  432  433  434\n",
      "  435  436  437  438  439  440  441  442  443  444  445  446  447  448\n",
      "  449  450  451  452  453  454  455  456  457  458  459  460  461  462\n",
      "  463  464  465  466  467  468  469  529  982 1018 1019 1044 1046 1057\n",
      " 1063 1065 1071 1075 1076 1078 1081 1082 1083 1086 1088 1095 1098 1138\n",
      " 1157 1193 1194 1219 1221 1232 1238 1240 1246 1250 1251 1253 1256 1257\n",
      " 1258 1261 1263 1270 1273 1313 1332 1368 1369 1394 1396 1407 1413 1415\n",
      " 1421 1422 1425 1426 1428 1431 1432 1433 1436 1438 1445 1448] are constant.\n",
      "  warnings.warn(\"Features %s are constant.\" % constant_features_idx,\n",
      "C:\\ProgramData\\Anaconda3\\lib\\site-packages\\sklearn\\feature_selection\\_univariate_selection.py:116: RuntimeWarning: invalid value encountered in true_divide\n",
      "  f = msb / msw\n"
     ]
    },
    {
     "name": "stdout",
     "output_type": "stream",
     "text": [
      "[LibSVM]"
     ]
    },
    {
     "name": "stderr",
     "output_type": "stream",
     "text": [
      "C:\\ProgramData\\Anaconda3\\lib\\site-packages\\sklearn\\feature_selection\\_univariate_selection.py:114: UserWarning: Features [   1    2    3    4    5    6    7    8    9   10   15   18   20  113\n",
      "  114  116  117  118  119  120  121  122  123  124  125  127  259  266\n",
      "  270  271  272  273  274  276  277  278  279  280  281  282  283  284\n",
      "  285  286  287  288  289  290  291  292  293  294  295  296  297  298\n",
      "  299  300  301  302  303  304  305  306  307  308  309  310  311  312\n",
      "  313  314  315  316  317  423  425  427  428  430  431  432  433  434\n",
      "  435  436  437  438  439  440  441  442  443  444  445  446  447  448\n",
      "  449  450  451  452  453  454  455  456  457  458  459  460  461  462\n",
      "  463  464  465  466  467  468  469  529  982 1018 1019 1044 1046 1057\n",
      " 1063 1065 1071 1075 1076 1078 1081 1082 1083 1086 1088 1095 1098 1138\n",
      " 1157 1193 1194 1219 1221 1232 1238 1240 1246 1250 1251 1253 1256 1257\n",
      " 1258 1261 1263 1270 1273 1313 1332 1368 1369 1394 1396 1407 1413 1415\n",
      " 1421 1422 1425 1426 1428 1431 1432 1433 1436 1438 1445 1448] are constant.\n",
      "  warnings.warn(\"Features %s are constant.\" % constant_features_idx,\n",
      "C:\\ProgramData\\Anaconda3\\lib\\site-packages\\sklearn\\feature_selection\\_univariate_selection.py:116: RuntimeWarning: invalid value encountered in true_divide\n",
      "  f = msb / msw\n"
     ]
    },
    {
     "name": "stdout",
     "output_type": "stream",
     "text": [
      "[LibSVM]"
     ]
    },
    {
     "name": "stderr",
     "output_type": "stream",
     "text": [
      "C:\\ProgramData\\Anaconda3\\lib\\site-packages\\sklearn\\feature_selection\\_univariate_selection.py:114: UserWarning: Features [   1    2    3    4    5    6    7    8    9   10   15   18   20  113\n",
      "  114  116  117  118  119  120  121  122  123  124  125  127  259  266\n",
      "  270  271  272  273  274  276  277  278  279  280  281  282  283  284\n",
      "  285  286  287  288  289  290  291  292  293  294  295  296  297  298\n",
      "  299  300  301  302  303  304  305  306  307  308  309  310  311  312\n",
      "  313  314  315  316  317  423  425  427  428  430  431  432  433  434\n",
      "  435  436  437  438  439  440  441  442  443  444  445  446  447  448\n",
      "  449  450  451  452  453  454  455  456  457  458  459  460  461  462\n",
      "  463  464  465  466  467  468  469  529  982 1018 1019 1044 1046 1057\n",
      " 1063 1065 1071 1075 1076 1078 1081 1082 1083 1086 1088 1095 1098 1138\n",
      " 1157 1193 1194 1219 1221 1232 1238 1240 1246 1250 1251 1253 1256 1257\n",
      " 1258 1261 1263 1270 1273 1313 1332 1368 1369 1394 1396 1407 1413 1415\n",
      " 1421 1422 1425 1426 1428 1431 1432 1433 1436 1438 1445 1448] are constant.\n",
      "  warnings.warn(\"Features %s are constant.\" % constant_features_idx,\n",
      "C:\\ProgramData\\Anaconda3\\lib\\site-packages\\sklearn\\feature_selection\\_univariate_selection.py:116: RuntimeWarning: invalid value encountered in true_divide\n",
      "  f = msb / msw\n"
     ]
    },
    {
     "name": "stdout",
     "output_type": "stream",
     "text": [
      "[LibSVM]"
     ]
    },
    {
     "name": "stderr",
     "output_type": "stream",
     "text": [
      "C:\\ProgramData\\Anaconda3\\lib\\site-packages\\sklearn\\feature_selection\\_univariate_selection.py:114: UserWarning: Features [   1    2    3    4    5    6    7    8    9   10   15   18   20  113\n",
      "  114  116  117  118  119  120  121  122  123  124  125  127  259  266\n",
      "  270  271  272  273  274  276  277  278  279  280  281  282  283  284\n",
      "  285  286  287  288  289  290  291  292  293  294  295  296  297  298\n",
      "  299  300  301  302  303  304  305  306  307  308  309  310  311  312\n",
      "  313  314  315  316  317  423  425  427  428  430  431  432  433  434\n",
      "  435  436  437  438  439  440  441  442  443  444  445  446  447  448\n",
      "  449  450  451  452  453  454  455  456  457  458  459  460  461  462\n",
      "  463  464  465  466  467  468  469  529  982 1018 1019 1044 1046 1057\n",
      " 1063 1065 1071 1075 1076 1078 1081 1082 1083 1086 1088 1095 1098 1138\n",
      " 1157 1193 1194 1219 1221 1232 1238 1240 1246 1250 1251 1253 1256 1257\n",
      " 1258 1261 1263 1270 1273 1313 1332 1368 1369 1394 1396 1407 1413 1415\n",
      " 1421 1422 1425 1426 1428 1431 1432 1433 1436 1438 1445 1448] are constant.\n",
      "  warnings.warn(\"Features %s are constant.\" % constant_features_idx,\n",
      "C:\\ProgramData\\Anaconda3\\lib\\site-packages\\sklearn\\feature_selection\\_univariate_selection.py:116: RuntimeWarning: invalid value encountered in true_divide\n",
      "  f = msb / msw\n"
     ]
    },
    {
     "name": "stdout",
     "output_type": "stream",
     "text": [
      "[LibSVM]"
     ]
    },
    {
     "name": "stderr",
     "output_type": "stream",
     "text": [
      "C:\\ProgramData\\Anaconda3\\lib\\site-packages\\sklearn\\feature_selection\\_univariate_selection.py:114: UserWarning: Features [   1    2    3    4    5    6    7    8    9   10   15   18   20  113\n",
      "  114  116  117  118  119  120  121  122  123  124  125  127  259  266\n",
      "  270  271  272  273  274  276  277  278  279  280  281  282  283  284\n",
      "  285  286  287  288  289  290  291  292  293  294  295  296  297  298\n",
      "  299  300  301  302  303  304  305  306  307  308  309  310  311  312\n",
      "  313  314  315  316  317  423  425  427  428  430  431  432  433  434\n",
      "  435  436  437  438  439  440  441  442  443  444  445  446  447  448\n",
      "  449  450  451  452  453  454  455  456  457  458  459  460  461  462\n",
      "  463  464  465  466  467  468  469  529  982 1018 1019 1044 1046 1057\n",
      " 1063 1065 1071 1075 1076 1078 1081 1082 1083 1086 1088 1095 1098 1138\n",
      " 1157 1193 1194 1219 1221 1232 1238 1240 1246 1250 1251 1253 1256 1257\n",
      " 1258 1261 1263 1270 1273 1313 1332 1368 1369 1394 1396 1407 1413 1415\n",
      " 1421 1422 1425 1426 1428 1431 1432 1433 1436 1438 1445 1448] are constant.\n",
      "  warnings.warn(\"Features %s are constant.\" % constant_features_idx,\n",
      "C:\\ProgramData\\Anaconda3\\lib\\site-packages\\sklearn\\feature_selection\\_univariate_selection.py:116: RuntimeWarning: invalid value encountered in true_divide\n",
      "  f = msb / msw\n"
     ]
    },
    {
     "name": "stdout",
     "output_type": "stream",
     "text": [
      "[LibSVM]"
     ]
    },
    {
     "name": "stderr",
     "output_type": "stream",
     "text": [
      "C:\\ProgramData\\Anaconda3\\lib\\site-packages\\sklearn\\feature_selection\\_univariate_selection.py:114: UserWarning: Features [   1    2    3    4    5    6    7    8    9   10   15   18   20  113\n",
      "  114  116  117  118  119  120  121  122  123  124  125  127  259  266\n",
      "  270  271  272  273  274  276  277  278  279  280  281  282  283  284\n",
      "  285  286  287  288  289  290  291  292  293  294  295  296  297  298\n",
      "  299  300  301  302  303  304  305  306  307  308  309  310  311  312\n",
      "  313  314  315  316  317  423  425  427  428  430  431  432  433  434\n",
      "  435  436  437  438  439  440  441  442  443  444  445  446  447  448\n",
      "  449  450  451  452  453  454  455  456  457  458  459  460  461  462\n",
      "  463  464  465  466  467  468  469  529  982 1018 1019 1044 1046 1057\n",
      " 1063 1065 1071 1075 1076 1078 1081 1082 1083 1086 1088 1095 1098 1138\n",
      " 1157 1193 1194 1219 1221 1232 1238 1240 1246 1250 1251 1253 1256 1257\n",
      " 1258 1261 1263 1270 1273 1313 1332 1368 1369 1394 1396 1407 1413 1415\n",
      " 1421 1422 1425 1426 1428 1431 1432 1433 1436 1438 1445 1448] are constant.\n",
      "  warnings.warn(\"Features %s are constant.\" % constant_features_idx,\n",
      "C:\\ProgramData\\Anaconda3\\lib\\site-packages\\sklearn\\feature_selection\\_univariate_selection.py:116: RuntimeWarning: invalid value encountered in true_divide\n",
      "  f = msb / msw\n"
     ]
    },
    {
     "name": "stdout",
     "output_type": "stream",
     "text": [
      "[LibSVM]"
     ]
    },
    {
     "name": "stderr",
     "output_type": "stream",
     "text": [
      "C:\\ProgramData\\Anaconda3\\lib\\site-packages\\sklearn\\feature_selection\\_univariate_selection.py:114: UserWarning: Features [   1    2    3    4    5    6    7    8    9   10   15   18   20  113\n",
      "  114  116  117  118  119  120  121  122  123  124  125  127  259  266\n",
      "  270  271  272  273  274  276  277  278  279  280  281  282  283  284\n",
      "  285  286  287  288  289  290  291  292  293  294  295  296  297  298\n",
      "  299  300  301  302  303  304  305  306  307  308  309  310  311  312\n",
      "  313  314  315  316  317  423  425  427  428  430  431  432  433  434\n",
      "  435  436  437  438  439  440  441  442  443  444  445  446  447  448\n",
      "  449  450  451  452  453  454  455  456  457  458  459  460  461  462\n",
      "  463  464  465  466  467  468  469  529  982 1018 1019 1044 1046 1057\n",
      " 1063 1065 1071 1075 1076 1078 1081 1082 1083 1086 1088 1095 1098 1138\n",
      " 1157 1193 1194 1219 1221 1232 1238 1240 1246 1250 1251 1253 1256 1257\n",
      " 1258 1261 1263 1270 1273 1313 1332 1368 1369 1394 1396 1407 1413 1415\n",
      " 1421 1422 1425 1426 1428 1431 1432 1433 1436 1438 1445 1448] are constant.\n",
      "  warnings.warn(\"Features %s are constant.\" % constant_features_idx,\n",
      "C:\\ProgramData\\Anaconda3\\lib\\site-packages\\sklearn\\feature_selection\\_univariate_selection.py:116: RuntimeWarning: invalid value encountered in true_divide\n",
      "  f = msb / msw\n"
     ]
    },
    {
     "name": "stdout",
     "output_type": "stream",
     "text": [
      "[LibSVM]"
     ]
    },
    {
     "name": "stderr",
     "output_type": "stream",
     "text": [
      "C:\\ProgramData\\Anaconda3\\lib\\site-packages\\sklearn\\feature_selection\\_univariate_selection.py:114: UserWarning: Features [   1    2    3    4    5    6    7    8    9   10   15   18   20  113\n",
      "  114  116  117  118  119  120  121  122  123  124  125  127  259  266\n",
      "  270  271  272  273  274  276  277  278  279  280  281  282  283  284\n",
      "  285  286  287  288  289  290  291  292  293  294  295  296  297  298\n",
      "  299  300  301  302  303  304  305  306  307  308  309  310  311  312\n",
      "  313  314  315  316  317  423  425  427  428  430  431  432  433  434\n",
      "  435  436  437  438  439  440  441  442  443  444  445  446  447  448\n",
      "  449  450  451  452  453  454  455  456  457  458  459  460  461  462\n",
      "  463  464  465  466  467  468  469  529  982 1018 1019 1044 1046 1057\n",
      " 1063 1065 1071 1075 1076 1078 1081 1082 1083 1086 1088 1095 1098 1138\n",
      " 1157 1193 1194 1219 1221 1232 1238 1240 1246 1250 1251 1253 1256 1257\n",
      " 1258 1261 1263 1270 1273 1313 1332 1368 1369 1394 1396 1407 1413 1415\n",
      " 1421 1422 1425 1426 1428 1431 1432 1433 1436 1438 1445 1448] are constant.\n",
      "  warnings.warn(\"Features %s are constant.\" % constant_features_idx,\n",
      "C:\\ProgramData\\Anaconda3\\lib\\site-packages\\sklearn\\feature_selection\\_univariate_selection.py:116: RuntimeWarning: invalid value encountered in true_divide\n",
      "  f = msb / msw\n"
     ]
    },
    {
     "name": "stdout",
     "output_type": "stream",
     "text": [
      "[LibSVM]"
     ]
    },
    {
     "name": "stderr",
     "output_type": "stream",
     "text": [
      "C:\\ProgramData\\Anaconda3\\lib\\site-packages\\sklearn\\feature_selection\\_univariate_selection.py:114: UserWarning: Features [   1    2    3    4    5    6    7    8    9   10   15   18   20  113\n",
      "  114  116  117  118  119  120  121  122  123  124  125  127  259  266\n",
      "  270  271  272  273  274  276  277  278  279  280  281  282  283  284\n",
      "  285  286  287  288  289  290  291  292  293  294  295  296  297  298\n",
      "  299  300  301  302  303  304  305  306  307  308  309  310  311  312\n",
      "  313  314  315  316  317  423  425  427  428  430  431  432  433  434\n",
      "  435  436  437  438  439  440  441  442  443  444  445  446  447  448\n",
      "  449  450  451  452  453  454  455  456  457  458  459  460  461  462\n",
      "  463  464  465  466  467  468  469  529  982 1018 1019 1044 1046 1057\n",
      " 1063 1065 1071 1075 1076 1078 1081 1082 1083 1086 1088 1095 1098 1138\n",
      " 1157 1193 1194 1219 1221 1232 1238 1240 1246 1250 1251 1253 1256 1257\n",
      " 1258 1261 1263 1270 1273 1313 1332 1368 1369 1394 1396 1407 1413 1415\n",
      " 1421 1422 1425 1426 1428 1431 1432 1433 1436 1438 1445 1448] are constant.\n",
      "  warnings.warn(\"Features %s are constant.\" % constant_features_idx,\n",
      "C:\\ProgramData\\Anaconda3\\lib\\site-packages\\sklearn\\feature_selection\\_univariate_selection.py:116: RuntimeWarning: invalid value encountered in true_divide\n",
      "  f = msb / msw\n"
     ]
    },
    {
     "name": "stdout",
     "output_type": "stream",
     "text": [
      "[LibSVM]"
     ]
    },
    {
     "name": "stderr",
     "output_type": "stream",
     "text": [
      "C:\\ProgramData\\Anaconda3\\lib\\site-packages\\sklearn\\feature_selection\\_univariate_selection.py:114: UserWarning: Features [   1    2    3    4    5    6    7    8    9   10   15   18   20  113\n",
      "  114  116  117  118  119  120  121  122  123  124  125  127  259  266\n",
      "  270  271  272  273  274  276  277  278  279  280  281  282  283  284\n",
      "  285  286  287  288  289  290  291  292  293  294  295  296  297  298\n",
      "  299  300  301  302  303  304  305  306  307  308  309  310  311  312\n",
      "  313  314  315  316  317  423  425  427  428  430  431  432  433  434\n",
      "  435  436  437  438  439  440  441  442  443  444  445  446  447  448\n",
      "  449  450  451  452  453  454  455  456  457  458  459  460  461  462\n",
      "  463  464  465  466  467  468  469  529  982 1018 1019 1044 1046 1057\n",
      " 1063 1065 1071 1075 1076 1078 1081 1082 1083 1086 1088 1095 1098 1138\n",
      " 1157 1193 1194 1219 1221 1232 1238 1240 1246 1250 1251 1253 1256 1257\n",
      " 1258 1261 1263 1270 1273 1313 1332 1368 1369 1394 1396 1407 1413 1415\n",
      " 1421 1422 1425 1426 1428 1431 1432 1433 1436 1438 1445 1448] are constant.\n",
      "  warnings.warn(\"Features %s are constant.\" % constant_features_idx,\n",
      "C:\\ProgramData\\Anaconda3\\lib\\site-packages\\sklearn\\feature_selection\\_univariate_selection.py:116: RuntimeWarning: invalid value encountered in true_divide\n",
      "  f = msb / msw\n"
     ]
    },
    {
     "name": "stdout",
     "output_type": "stream",
     "text": [
      "[LibSVM]"
     ]
    },
    {
     "name": "stderr",
     "output_type": "stream",
     "text": [
      "C:\\ProgramData\\Anaconda3\\lib\\site-packages\\sklearn\\feature_selection\\_univariate_selection.py:114: UserWarning: Features [   1    2    3    4    5    6    7    8    9   10   15   18   20  113\n",
      "  114  116  117  118  119  120  121  122  123  124  125  127  259  266\n",
      "  270  271  272  273  274  276  277  278  279  280  281  282  283  284\n",
      "  285  286  287  288  289  290  291  292  293  294  295  296  297  298\n",
      "  299  300  301  302  303  304  305  306  307  308  309  310  311  312\n",
      "  313  314  315  316  317  423  425  427  428  430  431  432  433  434\n",
      "  435  436  437  438  439  440  441  442  443  444  445  446  447  448\n",
      "  449  450  451  452  453  454  455  456  457  458  459  460  461  462\n",
      "  463  464  465  466  467  468  469  529  982 1018 1019 1044 1046 1057\n",
      " 1063 1065 1071 1075 1076 1078 1081 1082 1083 1086 1088 1095 1098 1138\n",
      " 1157 1193 1194 1219 1221 1232 1238 1240 1246 1250 1251 1253 1256 1257\n",
      " 1258 1261 1263 1270 1273 1313 1332 1368 1369 1394 1396 1407 1413 1415\n",
      " 1421 1422 1425 1426 1428 1431 1432 1433 1436 1438 1445 1448] are constant.\n",
      "  warnings.warn(\"Features %s are constant.\" % constant_features_idx,\n",
      "C:\\ProgramData\\Anaconda3\\lib\\site-packages\\sklearn\\feature_selection\\_univariate_selection.py:116: RuntimeWarning: invalid value encountered in true_divide\n",
      "  f = msb / msw\n"
     ]
    },
    {
     "name": "stdout",
     "output_type": "stream",
     "text": [
      "[LibSVM]"
     ]
    },
    {
     "name": "stderr",
     "output_type": "stream",
     "text": [
      "C:\\ProgramData\\Anaconda3\\lib\\site-packages\\sklearn\\feature_selection\\_univariate_selection.py:114: UserWarning: Features [   1    2    3    4    5    6    7    8    9   10   15   18   20  113\n",
      "  114  116  117  118  119  120  121  122  123  124  125  127  259  266\n",
      "  270  271  272  273  274  276  277  278  279  280  281  282  283  284\n",
      "  285  286  287  288  289  290  291  292  293  294  295  296  297  298\n",
      "  299  300  301  302  303  304  305  306  307  308  309  310  311  312\n",
      "  313  314  315  316  317  423  425  427  428  430  431  432  433  434\n",
      "  435  436  437  438  439  440  441  442  443  444  445  446  447  448\n",
      "  449  450  451  452  453  454  455  456  457  458  459  460  461  462\n",
      "  463  464  465  466  467  468  469  529  982 1018 1019 1044 1046 1057\n",
      " 1063 1065 1071 1075 1076 1078 1081 1082 1083 1086 1088 1095 1098 1138\n",
      " 1157 1193 1194 1219 1221 1232 1238 1240 1246 1250 1251 1253 1256 1257\n",
      " 1258 1261 1263 1270 1273 1313 1332 1368 1369 1394 1396 1407 1413 1415\n",
      " 1421 1422 1425 1426 1428 1431 1432 1433 1436 1438 1445 1448] are constant.\n",
      "  warnings.warn(\"Features %s are constant.\" % constant_features_idx,\n",
      "C:\\ProgramData\\Anaconda3\\lib\\site-packages\\sklearn\\feature_selection\\_univariate_selection.py:116: RuntimeWarning: invalid value encountered in true_divide\n",
      "  f = msb / msw\n"
     ]
    },
    {
     "name": "stdout",
     "output_type": "stream",
     "text": [
      "[LibSVM]"
     ]
    },
    {
     "name": "stderr",
     "output_type": "stream",
     "text": [
      "C:\\ProgramData\\Anaconda3\\lib\\site-packages\\sklearn\\feature_selection\\_univariate_selection.py:114: UserWarning: Features [   1    2    3    4    5    6    7    8    9   10   15   18   20  113\n",
      "  114  116  117  118  119  120  121  122  123  124  125  127  259  266\n",
      "  270  271  272  273  274  276  277  278  279  280  281  282  283  284\n",
      "  285  286  287  288  289  290  291  292  293  294  295  296  297  298\n",
      "  299  300  301  302  303  304  305  306  307  308  309  310  311  312\n",
      "  313  314  315  316  317  423  425  427  428  430  431  432  433  434\n",
      "  435  436  437  438  439  440  441  442  443  444  445  446  447  448\n",
      "  449  450  451  452  453  454  455  456  457  458  459  460  461  462\n",
      "  463  464  465  466  467  468  469  529  982 1018 1019 1044 1046 1057\n",
      " 1063 1065 1071 1075 1076 1078 1081 1082 1083 1086 1088 1095 1098 1138\n",
      " 1157 1193 1194 1219 1221 1232 1238 1240 1246 1250 1251 1253 1256 1257\n",
      " 1258 1261 1263 1270 1273 1313 1332 1368 1369 1394 1396 1407 1413 1415\n",
      " 1421 1422 1425 1426 1428 1431 1432 1433 1436 1438 1445 1448] are constant.\n",
      "  warnings.warn(\"Features %s are constant.\" % constant_features_idx,\n",
      "C:\\ProgramData\\Anaconda3\\lib\\site-packages\\sklearn\\feature_selection\\_univariate_selection.py:116: RuntimeWarning: invalid value encountered in true_divide\n",
      "  f = msb / msw\n"
     ]
    },
    {
     "name": "stdout",
     "output_type": "stream",
     "text": [
      "[LibSVM]"
     ]
    },
    {
     "name": "stderr",
     "output_type": "stream",
     "text": [
      "C:\\ProgramData\\Anaconda3\\lib\\site-packages\\sklearn\\feature_selection\\_univariate_selection.py:114: UserWarning: Features [   1    2    3    4    5    6    7    8    9   10   15   18   20  113\n",
      "  114  116  117  118  119  120  121  122  123  124  125  127  259  266\n",
      "  270  271  272  273  274  276  277  278  279  280  281  282  283  284\n",
      "  285  286  287  288  289  290  291  292  293  294  295  296  297  298\n",
      "  299  300  301  302  303  304  305  306  307  308  309  310  311  312\n",
      "  313  314  315  316  317  423  425  427  428  430  431  432  433  434\n",
      "  435  436  437  438  439  440  441  442  443  444  445  446  447  448\n",
      "  449  450  451  452  453  454  455  456  457  458  459  460  461  462\n",
      "  463  464  465  466  467  468  469  529  982 1018 1019 1044 1046 1057\n",
      " 1063 1065 1071 1075 1076 1078 1081 1082 1083 1086 1088 1095 1098 1138\n",
      " 1157 1193 1194 1219 1221 1232 1238 1240 1246 1250 1251 1253 1256 1257\n",
      " 1258 1261 1263 1270 1273 1313 1332 1368 1369 1394 1396 1407 1413 1415\n",
      " 1421 1422 1425 1426 1428 1431 1432 1433 1436 1438 1445 1448] are constant.\n",
      "  warnings.warn(\"Features %s are constant.\" % constant_features_idx,\n",
      "C:\\ProgramData\\Anaconda3\\lib\\site-packages\\sklearn\\feature_selection\\_univariate_selection.py:116: RuntimeWarning: invalid value encountered in true_divide\n",
      "  f = msb / msw\n"
     ]
    },
    {
     "name": "stdout",
     "output_type": "stream",
     "text": [
      "[LibSVM]"
     ]
    },
    {
     "name": "stderr",
     "output_type": "stream",
     "text": [
      "C:\\ProgramData\\Anaconda3\\lib\\site-packages\\sklearn\\feature_selection\\_univariate_selection.py:114: UserWarning: Features [   1    2    3    4    5    6    7    8    9   10   15   18   20  113\n",
      "  114  116  117  118  119  120  121  122  123  124  125  127  259  266\n",
      "  270  271  272  273  274  276  277  278  279  280  281  282  283  284\n",
      "  285  286  287  288  289  290  291  292  293  294  295  296  297  298\n",
      "  299  300  301  302  303  304  305  306  307  308  309  310  311  312\n",
      "  313  314  315  316  317  423  425  427  428  430  431  432  433  434\n",
      "  435  436  437  438  439  440  441  442  443  444  445  446  447  448\n",
      "  449  450  451  452  453  454  455  456  457  458  459  460  461  462\n",
      "  463  464  465  466  467  468  469  529  982 1018 1019 1044 1046 1057\n",
      " 1063 1065 1071 1075 1076 1078 1081 1082 1083 1086 1088 1095 1098 1138\n",
      " 1157 1193 1194 1219 1221 1232 1238 1240 1246 1250 1251 1253 1256 1257\n",
      " 1258 1261 1263 1270 1273 1313 1332 1368 1369 1394 1396 1407 1413 1415\n",
      " 1421 1422 1425 1426 1428 1431 1432 1433 1436 1438 1445 1448] are constant.\n",
      "  warnings.warn(\"Features %s are constant.\" % constant_features_idx,\n",
      "C:\\ProgramData\\Anaconda3\\lib\\site-packages\\sklearn\\feature_selection\\_univariate_selection.py:116: RuntimeWarning: invalid value encountered in true_divide\n",
      "  f = msb / msw\n"
     ]
    },
    {
     "name": "stdout",
     "output_type": "stream",
     "text": [
      "[LibSVM]"
     ]
    },
    {
     "name": "stderr",
     "output_type": "stream",
     "text": [
      "C:\\ProgramData\\Anaconda3\\lib\\site-packages\\sklearn\\feature_selection\\_univariate_selection.py:114: UserWarning: Features [   1    2    3    4    5    6    7    8    9   10   15   18   20  113\n",
      "  114  116  117  118  119  120  121  122  123  124  125  127  259  266\n",
      "  270  271  272  273  274  276  277  278  279  280  281  282  283  284\n",
      "  285  286  287  288  289  290  291  292  293  294  295  296  297  298\n",
      "  299  300  301  302  303  304  305  306  307  308  309  310  311  312\n",
      "  313  314  315  316  317  423  425  427  428  430  431  432  433  434\n",
      "  435  436  437  438  439  440  441  442  443  444  445  446  447  448\n",
      "  449  450  451  452  453  454  455  456  457  458  459  460  461  462\n",
      "  463  464  465  466  467  468  469  529  982 1018 1019 1044 1046 1057\n",
      " 1063 1065 1071 1075 1076 1078 1081 1082 1083 1086 1088 1095 1098 1138\n",
      " 1157 1193 1194 1219 1221 1232 1238 1240 1246 1250 1251 1253 1256 1257\n",
      " 1258 1261 1263 1270 1273 1313 1332 1368 1369 1394 1396 1407 1413 1415\n",
      " 1421 1422 1425 1426 1428 1431 1432 1433 1436 1438 1445 1448] are constant.\n",
      "  warnings.warn(\"Features %s are constant.\" % constant_features_idx,\n",
      "C:\\ProgramData\\Anaconda3\\lib\\site-packages\\sklearn\\feature_selection\\_univariate_selection.py:116: RuntimeWarning: invalid value encountered in true_divide\n",
      "  f = msb / msw\n"
     ]
    },
    {
     "name": "stdout",
     "output_type": "stream",
     "text": [
      "[LibSVM]"
     ]
    },
    {
     "name": "stderr",
     "output_type": "stream",
     "text": [
      "C:\\ProgramData\\Anaconda3\\lib\\site-packages\\sklearn\\feature_selection\\_univariate_selection.py:114: UserWarning: Features [   1    2    3    4    5    6    7    8    9   10   15   18   20  113\n",
      "  114  116  117  118  119  120  121  122  123  124  125  127  259  266\n",
      "  270  271  272  273  274  276  277  278  279  280  281  282  283  284\n",
      "  285  286  287  288  289  290  291  292  293  294  295  296  297  298\n",
      "  299  300  301  302  303  304  305  306  307  308  309  310  311  312\n",
      "  313  314  315  316  317  423  425  427  428  430  431  432  433  434\n",
      "  435  436  437  438  439  440  441  442  443  444  445  446  447  448\n",
      "  449  450  451  452  453  454  455  456  457  458  459  460  461  462\n",
      "  463  464  465  466  467  468  469  529  982 1018 1019 1044 1046 1057\n",
      " 1063 1065 1071 1075 1076 1078 1081 1082 1083 1086 1088 1095 1098 1138\n",
      " 1157 1193 1194 1219 1221 1232 1238 1240 1246 1250 1251 1253 1256 1257\n",
      " 1258 1261 1263 1270 1273 1313 1332 1368 1369 1394 1396 1407 1413 1415\n",
      " 1421 1422 1425 1426 1428 1431 1432 1433 1436 1438 1445 1448] are constant.\n",
      "  warnings.warn(\"Features %s are constant.\" % constant_features_idx,\n",
      "C:\\ProgramData\\Anaconda3\\lib\\site-packages\\sklearn\\feature_selection\\_univariate_selection.py:116: RuntimeWarning: invalid value encountered in true_divide\n",
      "  f = msb / msw\n"
     ]
    },
    {
     "name": "stdout",
     "output_type": "stream",
     "text": [
      "[LibSVM]"
     ]
    },
    {
     "name": "stderr",
     "output_type": "stream",
     "text": [
      "C:\\ProgramData\\Anaconda3\\lib\\site-packages\\sklearn\\feature_selection\\_univariate_selection.py:114: UserWarning: Features [   1    2    3    4    5    6    7    8    9   10   15   18   20  113\n",
      "  114  116  117  118  119  120  121  122  123  124  125  127  259  266\n",
      "  270  271  272  273  274  276  277  278  279  280  281  282  283  284\n",
      "  285  286  287  288  289  290  291  292  293  294  295  296  297  298\n",
      "  299  300  301  302  303  304  305  306  307  308  309  310  311  312\n",
      "  313  314  315  316  317  423  425  427  428  430  431  432  433  434\n",
      "  435  436  437  438  439  440  441  442  443  444  445  446  447  448\n",
      "  449  450  451  452  453  454  455  456  457  458  459  460  461  462\n",
      "  463  464  465  466  467  468  469  529  982 1018 1019 1044 1046 1057\n",
      " 1063 1065 1071 1075 1076 1078 1081 1082 1083 1086 1088 1095 1098 1138\n",
      " 1157 1193 1194 1219 1221 1232 1238 1240 1246 1250 1251 1253 1256 1257\n",
      " 1258 1261 1263 1270 1273 1313 1332 1368 1369 1394 1396 1407 1413 1415\n",
      " 1421 1422 1425 1426 1428 1431 1432 1433 1436 1438 1445 1448] are constant.\n",
      "  warnings.warn(\"Features %s are constant.\" % constant_features_idx,\n",
      "C:\\ProgramData\\Anaconda3\\lib\\site-packages\\sklearn\\feature_selection\\_univariate_selection.py:116: RuntimeWarning: invalid value encountered in true_divide\n",
      "  f = msb / msw\n"
     ]
    },
    {
     "name": "stdout",
     "output_type": "stream",
     "text": [
      "[LibSVM]"
     ]
    },
    {
     "name": "stderr",
     "output_type": "stream",
     "text": [
      "C:\\ProgramData\\Anaconda3\\lib\\site-packages\\sklearn\\feature_selection\\_univariate_selection.py:114: UserWarning: Features [   1    2    3    4    5    6    7    8    9   10   15   18   20  113\n",
      "  114  116  117  118  119  120  121  122  123  124  125  127  259  266\n",
      "  270  271  272  273  274  276  277  278  279  280  281  282  283  284\n",
      "  285  286  287  288  289  290  291  292  293  294  295  296  297  298\n",
      "  299  300  301  302  303  304  305  306  307  308  309  310  311  312\n",
      "  313  314  315  316  317  423  425  427  428  430  431  432  433  434\n",
      "  435  436  437  438  439  440  441  442  443  444  445  446  447  448\n",
      "  449  450  451  452  453  454  455  456  457  458  459  460  461  462\n",
      "  463  464  465  466  467  468  469  529  982 1018 1019 1044 1046 1057\n",
      " 1063 1065 1071 1075 1076 1078 1081 1082 1083 1086 1088 1095 1098 1138\n",
      " 1157 1193 1194 1219 1221 1232 1238 1240 1246 1250 1251 1253 1256 1257\n",
      " 1258 1261 1263 1270 1273 1313 1332 1368 1369 1394 1396 1407 1413 1415\n",
      " 1421 1422 1425 1426 1428 1431 1432 1433 1436 1438 1445 1448] are constant.\n",
      "  warnings.warn(\"Features %s are constant.\" % constant_features_idx,\n",
      "C:\\ProgramData\\Anaconda3\\lib\\site-packages\\sklearn\\feature_selection\\_univariate_selection.py:116: RuntimeWarning: invalid value encountered in true_divide\n",
      "  f = msb / msw\n"
     ]
    },
    {
     "name": "stdout",
     "output_type": "stream",
     "text": [
      "[LibSVM]"
     ]
    },
    {
     "name": "stderr",
     "output_type": "stream",
     "text": [
      "C:\\ProgramData\\Anaconda3\\lib\\site-packages\\sklearn\\feature_selection\\_univariate_selection.py:114: UserWarning: Features [   1    2    3    4    5    6    7    8    9   10   15   18   20  113\n",
      "  114  116  117  118  119  120  121  122  123  124  125  127  259  266\n",
      "  270  271  272  273  274  276  277  278  279  280  281  282  283  284\n",
      "  285  286  287  288  289  290  291  292  293  294  295  296  297  298\n",
      "  299  300  301  302  303  304  305  306  307  308  309  310  311  312\n",
      "  313  314  315  316  317  423  425  427  428  430  431  432  433  434\n",
      "  435  436  437  438  439  440  441  442  443  444  445  446  447  448\n",
      "  449  450  451  452  453  454  455  456  457  458  459  460  461  462\n",
      "  463  464  465  466  467  468  469  529  982 1018 1019 1044 1046 1057\n",
      " 1063 1065 1071 1075 1076 1078 1081 1082 1083 1086 1088 1095 1098 1138\n",
      " 1157 1193 1194 1219 1221 1232 1238 1240 1246 1250 1251 1253 1256 1257\n",
      " 1258 1261 1263 1270 1273 1313 1332 1368 1369 1394 1396 1407 1413 1415\n",
      " 1421 1422 1425 1426 1428 1431 1432 1433 1436 1438 1445 1448] are constant.\n",
      "  warnings.warn(\"Features %s are constant.\" % constant_features_idx,\n",
      "C:\\ProgramData\\Anaconda3\\lib\\site-packages\\sklearn\\feature_selection\\_univariate_selection.py:116: RuntimeWarning: invalid value encountered in true_divide\n",
      "  f = msb / msw\n"
     ]
    },
    {
     "name": "stdout",
     "output_type": "stream",
     "text": [
      "[LibSVM]"
     ]
    },
    {
     "name": "stderr",
     "output_type": "stream",
     "text": [
      "C:\\ProgramData\\Anaconda3\\lib\\site-packages\\sklearn\\feature_selection\\_univariate_selection.py:114: UserWarning: Features [   1    2    3    4    5    6    7    8    9   10   15   18   20  113\n",
      "  114  116  117  118  119  120  121  122  123  124  125  127  259  266\n",
      "  270  271  272  273  274  276  277  278  279  280  281  282  283  284\n",
      "  285  286  287  288  289  290  291  292  293  294  295  296  297  298\n",
      "  299  300  301  302  303  304  305  306  307  308  309  310  311  312\n",
      "  313  314  315  316  317  423  425  427  428  430  431  432  433  434\n",
      "  435  436  437  438  439  440  441  442  443  444  445  446  447  448\n",
      "  449  450  451  452  453  454  455  456  457  458  459  460  461  462\n",
      "  463  464  465  466  467  468  469  529  982 1018 1019 1044 1046 1057\n",
      " 1063 1065 1071 1075 1076 1078 1081 1082 1083 1086 1088 1095 1098 1138\n",
      " 1157 1193 1194 1219 1221 1232 1238 1240 1246 1250 1251 1253 1256 1257\n",
      " 1258 1261 1263 1270 1273 1313 1332 1368 1369 1394 1396 1407 1413 1415\n",
      " 1421 1422 1425 1426 1428 1431 1432 1433 1436 1438 1445 1448] are constant.\n",
      "  warnings.warn(\"Features %s are constant.\" % constant_features_idx,\n",
      "C:\\ProgramData\\Anaconda3\\lib\\site-packages\\sklearn\\feature_selection\\_univariate_selection.py:116: RuntimeWarning: invalid value encountered in true_divide\n",
      "  f = msb / msw\n"
     ]
    },
    {
     "name": "stdout",
     "output_type": "stream",
     "text": [
      "[LibSVM]"
     ]
    },
    {
     "name": "stderr",
     "output_type": "stream",
     "text": [
      "C:\\ProgramData\\Anaconda3\\lib\\site-packages\\sklearn\\feature_selection\\_univariate_selection.py:114: UserWarning: Features [   1    2    3    4    5    6    7    8    9   10   15   18   20  113\n",
      "  114  116  117  118  119  120  121  122  123  124  125  127  259  266\n",
      "  270  271  272  273  274  276  277  278  279  280  281  282  283  284\n",
      "  285  286  287  288  289  290  291  292  293  294  295  296  297  298\n",
      "  299  300  301  302  303  304  305  306  307  308  309  310  311  312\n",
      "  313  314  315  316  317  423  425  427  428  430  431  432  433  434\n",
      "  435  436  437  438  439  440  441  442  443  444  445  446  447  448\n",
      "  449  450  451  452  453  454  455  456  457  458  459  460  461  462\n",
      "  463  464  465  466  467  468  469  529  982 1018 1019 1044 1046 1057\n",
      " 1063 1065 1071 1075 1076 1078 1081 1082 1083 1086 1088 1095 1098 1138\n",
      " 1157 1193 1194 1219 1221 1232 1238 1240 1246 1250 1251 1253 1256 1257\n",
      " 1258 1261 1263 1270 1273 1313 1332 1368 1369 1394 1396 1407 1413 1415\n",
      " 1421 1422 1425 1426 1428 1431 1432 1433 1436 1438 1445 1448] are constant.\n",
      "  warnings.warn(\"Features %s are constant.\" % constant_features_idx,\n",
      "C:\\ProgramData\\Anaconda3\\lib\\site-packages\\sklearn\\feature_selection\\_univariate_selection.py:116: RuntimeWarning: invalid value encountered in true_divide\n",
      "  f = msb / msw\n"
     ]
    },
    {
     "name": "stdout",
     "output_type": "stream",
     "text": [
      "[LibSVM]"
     ]
    },
    {
     "name": "stderr",
     "output_type": "stream",
     "text": [
      "C:\\ProgramData\\Anaconda3\\lib\\site-packages\\sklearn\\feature_selection\\_univariate_selection.py:114: UserWarning: Features [   1    2    3    4    5    6    7    8    9   10   15   18   20  113\n",
      "  114  116  117  118  119  120  121  122  123  124  125  127  259  266\n",
      "  270  271  272  273  274  276  277  278  279  280  281  282  283  284\n",
      "  285  286  287  288  289  290  291  292  293  294  295  296  297  298\n",
      "  299  300  301  302  303  304  305  306  307  308  309  310  311  312\n",
      "  313  314  315  316  317  423  425  427  428  430  431  432  433  434\n",
      "  435  436  437  438  439  440  441  442  443  444  445  446  447  448\n",
      "  449  450  451  452  453  454  455  456  457  458  459  460  461  462\n",
      "  463  464  465  466  467  468  469  529  982 1018 1019 1044 1046 1057\n",
      " 1063 1065 1071 1075 1076 1078 1081 1082 1083 1086 1088 1095 1098 1138\n",
      " 1157 1193 1194 1219 1221 1232 1238 1240 1246 1250 1251 1253 1256 1257\n",
      " 1258 1261 1263 1270 1273 1313 1332 1368 1369 1394 1396 1407 1413 1415\n",
      " 1421 1422 1425 1426 1428 1431 1432 1433 1436 1438 1445 1448] are constant.\n",
      "  warnings.warn(\"Features %s are constant.\" % constant_features_idx,\n",
      "C:\\ProgramData\\Anaconda3\\lib\\site-packages\\sklearn\\feature_selection\\_univariate_selection.py:116: RuntimeWarning: invalid value encountered in true_divide\n",
      "  f = msb / msw\n"
     ]
    },
    {
     "name": "stdout",
     "output_type": "stream",
     "text": [
      "[LibSVM]"
     ]
    },
    {
     "name": "stderr",
     "output_type": "stream",
     "text": [
      "C:\\ProgramData\\Anaconda3\\lib\\site-packages\\sklearn\\feature_selection\\_univariate_selection.py:114: UserWarning: Features [   1    2    3    4    5    6    7    8    9   10   15   18   20  113\n",
      "  114  116  117  118  119  120  121  122  123  124  125  127  259  266\n",
      "  270  271  272  273  274  276  277  278  279  280  281  282  283  284\n",
      "  285  286  287  288  289  290  291  292  293  294  295  296  297  298\n",
      "  299  300  301  302  303  304  305  306  307  308  309  310  311  312\n",
      "  313  314  315  316  317  423  425  427  428  430  431  432  433  434\n",
      "  435  436  437  438  439  440  441  442  443  444  445  446  447  448\n",
      "  449  450  451  452  453  454  455  456  457  458  459  460  461  462\n",
      "  463  464  465  466  467  468  469  529  982 1018 1019 1044 1046 1057\n",
      " 1063 1065 1071 1075 1076 1078 1081 1082 1083 1086 1088 1095 1098 1138\n",
      " 1157 1193 1194 1219 1221 1232 1238 1240 1246 1250 1251 1253 1256 1257\n",
      " 1258 1261 1263 1270 1273 1313 1332 1368 1369 1394 1396 1407 1413 1415\n",
      " 1421 1422 1425 1426 1428 1431 1432 1433 1436 1438 1445 1448] are constant.\n",
      "  warnings.warn(\"Features %s are constant.\" % constant_features_idx,\n",
      "C:\\ProgramData\\Anaconda3\\lib\\site-packages\\sklearn\\feature_selection\\_univariate_selection.py:116: RuntimeWarning: invalid value encountered in true_divide\n",
      "  f = msb / msw\n"
     ]
    },
    {
     "name": "stdout",
     "output_type": "stream",
     "text": [
      "[LibSVM]"
     ]
    },
    {
     "name": "stderr",
     "output_type": "stream",
     "text": [
      "C:\\ProgramData\\Anaconda3\\lib\\site-packages\\sklearn\\feature_selection\\_univariate_selection.py:114: UserWarning: Features [   1    2    3    4    5    6    7    8    9   10   15   18   20  113\n",
      "  114  116  117  118  119  120  121  122  123  124  125  127  259  266\n",
      "  270  271  272  273  274  276  277  278  279  280  281  282  283  284\n",
      "  285  286  287  288  289  290  291  292  293  294  295  296  297  298\n",
      "  299  300  301  302  303  304  305  306  307  308  309  310  311  312\n",
      "  313  314  315  316  317  423  425  427  428  430  431  432  433  434\n",
      "  435  436  437  438  439  440  441  442  443  444  445  446  447  448\n",
      "  449  450  451  452  453  454  455  456  457  458  459  460  461  462\n",
      "  463  464  465  466  467  468  469  529  982 1018 1019 1044 1046 1057\n",
      " 1063 1065 1071 1075 1076 1078 1081 1082 1083 1086 1088 1095 1098 1138\n",
      " 1157 1193 1194 1219 1221 1232 1238 1240 1246 1250 1251 1253 1256 1257\n",
      " 1258 1261 1263 1270 1273 1313 1332 1368 1369 1394 1396 1407 1413 1415\n",
      " 1421 1422 1425 1426 1428 1431 1432 1433 1436 1438 1445 1448] are constant.\n",
      "  warnings.warn(\"Features %s are constant.\" % constant_features_idx,\n",
      "C:\\ProgramData\\Anaconda3\\lib\\site-packages\\sklearn\\feature_selection\\_univariate_selection.py:116: RuntimeWarning: invalid value encountered in true_divide\n",
      "  f = msb / msw\n"
     ]
    },
    {
     "name": "stdout",
     "output_type": "stream",
     "text": [
      "[LibSVM]"
     ]
    },
    {
     "name": "stderr",
     "output_type": "stream",
     "text": [
      "C:\\ProgramData\\Anaconda3\\lib\\site-packages\\sklearn\\feature_selection\\_univariate_selection.py:114: UserWarning: Features [   1    2    3    4    5    6    7    8    9   10   15   18   20  113\n",
      "  114  116  117  118  119  120  121  122  123  124  125  127  259  266\n",
      "  270  271  272  273  274  276  277  278  279  280  281  282  283  284\n",
      "  285  286  287  288  289  290  291  292  293  294  295  296  297  298\n",
      "  299  300  301  302  303  304  305  306  307  308  309  310  311  312\n",
      "  313  314  315  316  317  423  425  427  428  430  431  432  433  434\n",
      "  435  436  437  438  439  440  441  442  443  444  445  446  447  448\n",
      "  449  450  451  452  453  454  455  456  457  458  459  460  461  462\n",
      "  463  464  465  466  467  468  469  529  982 1018 1019 1044 1046 1057\n",
      " 1063 1065 1071 1075 1076 1078 1081 1082 1083 1086 1088 1095 1098 1138\n",
      " 1157 1193 1194 1219 1221 1232 1238 1240 1246 1250 1251 1253 1256 1257\n",
      " 1258 1261 1263 1270 1273 1313 1332 1368 1369 1394 1396 1407 1413 1415\n",
      " 1421 1422 1425 1426 1428 1431 1432 1433 1436 1438 1445 1448] are constant.\n",
      "  warnings.warn(\"Features %s are constant.\" % constant_features_idx,\n",
      "C:\\ProgramData\\Anaconda3\\lib\\site-packages\\sklearn\\feature_selection\\_univariate_selection.py:116: RuntimeWarning: invalid value encountered in true_divide\n",
      "  f = msb / msw\n"
     ]
    },
    {
     "name": "stdout",
     "output_type": "stream",
     "text": [
      "[LibSVM]"
     ]
    },
    {
     "name": "stderr",
     "output_type": "stream",
     "text": [
      "C:\\ProgramData\\Anaconda3\\lib\\site-packages\\sklearn\\feature_selection\\_univariate_selection.py:114: UserWarning: Features [   1    2    3    4    5    6    7    8    9   10   15   18   20  113\n",
      "  114  116  117  118  119  120  121  122  123  124  125  127  259  266\n",
      "  270  271  272  273  274  276  277  278  279  280  281  282  283  284\n",
      "  285  286  287  288  289  290  291  292  293  294  295  296  297  298\n",
      "  299  300  301  302  303  304  305  306  307  308  309  310  311  312\n",
      "  313  314  315  316  317  423  425  427  428  430  431  432  433  434\n",
      "  435  436  437  438  439  440  441  442  443  444  445  446  447  448\n",
      "  449  450  451  452  453  454  455  456  457  458  459  460  461  462\n",
      "  463  464  465  466  467  468  469  529  982 1018 1019 1044 1046 1057\n",
      " 1063 1065 1071 1075 1076 1078 1081 1082 1083 1086 1088 1095 1098 1138\n",
      " 1157 1193 1194 1219 1221 1232 1238 1240 1246 1250 1251 1253 1256 1257\n",
      " 1258 1261 1263 1270 1273 1313 1332 1368 1369 1394 1396 1407 1413 1415\n",
      " 1421 1422 1425 1426 1428 1431 1432 1433 1436 1438 1445 1448] are constant.\n",
      "  warnings.warn(\"Features %s are constant.\" % constant_features_idx,\n",
      "C:\\ProgramData\\Anaconda3\\lib\\site-packages\\sklearn\\feature_selection\\_univariate_selection.py:116: RuntimeWarning: invalid value encountered in true_divide\n",
      "  f = msb / msw\n"
     ]
    },
    {
     "name": "stdout",
     "output_type": "stream",
     "text": [
      "[LibSVM]"
     ]
    },
    {
     "name": "stderr",
     "output_type": "stream",
     "text": [
      "C:\\ProgramData\\Anaconda3\\lib\\site-packages\\sklearn\\feature_selection\\_univariate_selection.py:114: UserWarning: Features [   1    2    3    4    5    6    7    8    9   10   15   18   20  113\n",
      "  114  116  117  118  119  120  121  122  123  124  125  127  259  266\n",
      "  270  271  272  273  274  276  277  278  279  280  281  282  283  284\n",
      "  285  286  287  288  289  290  291  292  293  294  295  296  297  298\n",
      "  299  300  301  302  303  304  305  306  307  308  309  310  311  312\n",
      "  313  314  315  316  317  423  425  427  428  430  431  432  433  434\n",
      "  435  436  437  438  439  440  441  442  443  444  445  446  447  448\n",
      "  449  450  451  452  453  454  455  456  457  458  459  460  461  462\n",
      "  463  464  465  466  467  468  469  529  982 1018 1019 1044 1046 1057\n",
      " 1063 1065 1071 1075 1076 1078 1081 1082 1083 1086 1088 1095 1098 1138\n",
      " 1157 1193 1194 1219 1221 1232 1238 1240 1246 1250 1251 1253 1256 1257\n",
      " 1258 1261 1263 1270 1273 1313 1332 1368 1369 1394 1396 1407 1413 1415\n",
      " 1421 1422 1425 1426 1428 1431 1432 1433 1436 1438 1445 1448] are constant.\n",
      "  warnings.warn(\"Features %s are constant.\" % constant_features_idx,\n",
      "C:\\ProgramData\\Anaconda3\\lib\\site-packages\\sklearn\\feature_selection\\_univariate_selection.py:116: RuntimeWarning: invalid value encountered in true_divide\n",
      "  f = msb / msw\n"
     ]
    },
    {
     "name": "stdout",
     "output_type": "stream",
     "text": [
      "[LibSVM]"
     ]
    },
    {
     "name": "stderr",
     "output_type": "stream",
     "text": [
      "C:\\ProgramData\\Anaconda3\\lib\\site-packages\\sklearn\\feature_selection\\_univariate_selection.py:114: UserWarning: Features [   1    2    3    4    5    6    7    8    9   10   15   18   20  113\n",
      "  114  116  117  118  119  120  121  122  123  124  125  127  259  266\n",
      "  270  271  272  273  274  276  277  278  279  280  281  282  283  284\n",
      "  285  286  287  288  289  290  291  292  293  294  295  296  297  298\n",
      "  299  300  301  302  303  304  305  306  307  308  309  310  311  312\n",
      "  313  314  315  316  317  423  425  427  428  430  431  432  433  434\n",
      "  435  436  437  438  439  440  441  442  443  444  445  446  447  448\n",
      "  449  450  451  452  453  454  455  456  457  458  459  460  461  462\n",
      "  463  464  465  466  467  468  469  529  982 1018 1019 1044 1046 1057\n",
      " 1063 1065 1071 1075 1076 1078 1081 1082 1083 1086 1088 1095 1098 1138\n",
      " 1157 1193 1194 1219 1221 1232 1238 1240 1246 1250 1251 1253 1256 1257\n",
      " 1258 1261 1263 1270 1273 1313 1332 1368 1369 1394 1396 1407 1413 1415\n",
      " 1421 1422 1425 1426 1428 1431 1432 1433 1436 1438 1445 1448] are constant.\n",
      "  warnings.warn(\"Features %s are constant.\" % constant_features_idx,\n",
      "C:\\ProgramData\\Anaconda3\\lib\\site-packages\\sklearn\\feature_selection\\_univariate_selection.py:116: RuntimeWarning: invalid value encountered in true_divide\n",
      "  f = msb / msw\n"
     ]
    },
    {
     "name": "stdout",
     "output_type": "stream",
     "text": [
      "[LibSVM]"
     ]
    },
    {
     "name": "stderr",
     "output_type": "stream",
     "text": [
      "C:\\ProgramData\\Anaconda3\\lib\\site-packages\\sklearn\\feature_selection\\_univariate_selection.py:114: UserWarning: Features [   1    2    3    4    5    6    7    8    9   10   15   18   20  113\n",
      "  114  116  117  118  119  120  121  122  123  124  125  127  259  266\n",
      "  270  271  272  273  274  276  277  278  279  280  281  282  283  284\n",
      "  285  286  287  288  289  290  291  292  293  294  295  296  297  298\n",
      "  299  300  301  302  303  304  305  306  307  308  309  310  311  312\n",
      "  313  314  315  316  317  423  425  427  428  430  431  432  433  434\n",
      "  435  436  437  438  439  440  441  442  443  444  445  446  447  448\n",
      "  449  450  451  452  453  454  455  456  457  458  459  460  461  462\n",
      "  463  464  465  466  467  468  469  529  982 1018 1019 1044 1046 1057\n",
      " 1063 1065 1071 1075 1076 1078 1081 1082 1083 1086 1088 1095 1098 1138\n",
      " 1157 1193 1194 1219 1221 1232 1238 1240 1246 1250 1251 1253 1256 1257\n",
      " 1258 1261 1263 1270 1273 1313 1332 1368 1369 1394 1396 1407 1413 1415\n",
      " 1421 1422 1425 1426 1428 1431 1432 1433 1436 1438 1445 1448] are constant.\n",
      "  warnings.warn(\"Features %s are constant.\" % constant_features_idx,\n",
      "C:\\ProgramData\\Anaconda3\\lib\\site-packages\\sklearn\\feature_selection\\_univariate_selection.py:116: RuntimeWarning: invalid value encountered in true_divide\n",
      "  f = msb / msw\n"
     ]
    },
    {
     "name": "stdout",
     "output_type": "stream",
     "text": [
      "[LibSVM]"
     ]
    },
    {
     "name": "stderr",
     "output_type": "stream",
     "text": [
      "C:\\ProgramData\\Anaconda3\\lib\\site-packages\\sklearn\\feature_selection\\_univariate_selection.py:114: UserWarning: Features [   1    2    3    4    5    6    7    8    9   10   15   18   20  113\n",
      "  114  116  117  118  119  120  121  122  123  124  125  127  259  266\n",
      "  270  271  272  273  274  276  277  278  279  280  281  282  283  284\n",
      "  285  286  287  288  289  290  291  292  293  294  295  296  297  298\n",
      "  299  300  301  302  303  304  305  306  307  308  309  310  311  312\n",
      "  313  314  315  316  317  423  425  427  428  430  431  432  433  434\n",
      "  435  436  437  438  439  440  441  442  443  444  445  446  447  448\n",
      "  449  450  451  452  453  454  455  456  457  458  459  460  461  462\n",
      "  463  464  465  466  467  468  469  529  982 1018 1019 1044 1046 1057\n",
      " 1063 1065 1071 1075 1076 1078 1081 1082 1083 1086 1088 1095 1098 1138\n",
      " 1157 1193 1194 1219 1221 1232 1238 1240 1246 1250 1251 1253 1256 1257\n",
      " 1258 1261 1263 1270 1273 1313 1332 1368 1369 1394 1396 1407 1413 1415\n",
      " 1421 1422 1425 1426 1428 1431 1432 1433 1436 1438 1445 1448] are constant.\n",
      "  warnings.warn(\"Features %s are constant.\" % constant_features_idx,\n",
      "C:\\ProgramData\\Anaconda3\\lib\\site-packages\\sklearn\\feature_selection\\_univariate_selection.py:116: RuntimeWarning: invalid value encountered in true_divide\n",
      "  f = msb / msw\n"
     ]
    },
    {
     "name": "stdout",
     "output_type": "stream",
     "text": [
      "[LibSVM]"
     ]
    },
    {
     "name": "stderr",
     "output_type": "stream",
     "text": [
      "C:\\ProgramData\\Anaconda3\\lib\\site-packages\\sklearn\\feature_selection\\_univariate_selection.py:114: UserWarning: Features [   1    2    3    4    5    6    7    8    9   10   15   18   20  113\n",
      "  114  116  117  118  119  120  121  122  123  124  125  127  259  266\n",
      "  270  271  272  273  274  276  277  278  279  280  281  282  283  284\n",
      "  285  286  287  288  289  290  291  292  293  294  295  296  297  298\n",
      "  299  300  301  302  303  304  305  306  307  308  309  310  311  312\n",
      "  313  314  315  316  317  423  425  427  428  430  431  432  433  434\n",
      "  435  436  437  438  439  440  441  442  443  444  445  446  447  448\n",
      "  449  450  451  452  453  454  455  456  457  458  459  460  461  462\n",
      "  463  464  465  466  467  468  469  529  982 1018 1019 1044 1046 1057\n",
      " 1063 1065 1071 1075 1076 1078 1081 1082 1083 1086 1088 1095 1098 1138\n",
      " 1157 1193 1194 1219 1221 1232 1238 1240 1246 1250 1251 1253 1256 1257\n",
      " 1258 1261 1263 1270 1273 1313 1332 1368 1369 1394 1396 1407 1413 1415\n",
      " 1421 1422 1425 1426 1428 1431 1432 1433 1436 1438 1445 1448] are constant.\n",
      "  warnings.warn(\"Features %s are constant.\" % constant_features_idx,\n",
      "C:\\ProgramData\\Anaconda3\\lib\\site-packages\\sklearn\\feature_selection\\_univariate_selection.py:116: RuntimeWarning: invalid value encountered in true_divide\n",
      "  f = msb / msw\n"
     ]
    },
    {
     "name": "stdout",
     "output_type": "stream",
     "text": [
      "[LibSVM]"
     ]
    },
    {
     "name": "stderr",
     "output_type": "stream",
     "text": [
      "C:\\ProgramData\\Anaconda3\\lib\\site-packages\\sklearn\\feature_selection\\_univariate_selection.py:114: UserWarning: Features [   1    2    3    4    5    6    7    8    9   10   15   18   20  113\n",
      "  114  116  117  118  119  120  121  122  123  124  125  127  259  266\n",
      "  270  271  272  273  274  276  277  278  279  280  281  282  283  284\n",
      "  285  286  287  288  289  290  291  292  293  294  295  296  297  298\n",
      "  299  300  301  302  303  304  305  306  307  308  309  310  311  312\n",
      "  313  314  315  316  317  423  425  427  428  430  431  432  433  434\n",
      "  435  436  437  438  439  440  441  442  443  444  445  446  447  448\n",
      "  449  450  451  452  453  454  455  456  457  458  459  460  461  462\n",
      "  463  464  465  466  467  468  469  529  982 1018 1019 1044 1046 1057\n",
      " 1063 1065 1071 1075 1076 1078 1081 1082 1083 1086 1088 1095 1098 1138\n",
      " 1157 1193 1194 1219 1221 1232 1238 1240 1246 1250 1251 1253 1256 1257\n",
      " 1258 1261 1263 1270 1273 1313 1332 1368 1369 1394 1396 1407 1413 1415\n",
      " 1421 1422 1425 1426 1428 1431 1432 1433 1436 1438 1445 1448] are constant.\n",
      "  warnings.warn(\"Features %s are constant.\" % constant_features_idx,\n",
      "C:\\ProgramData\\Anaconda3\\lib\\site-packages\\sklearn\\feature_selection\\_univariate_selection.py:116: RuntimeWarning: invalid value encountered in true_divide\n",
      "  f = msb / msw\n"
     ]
    },
    {
     "name": "stdout",
     "output_type": "stream",
     "text": [
      "[LibSVM]"
     ]
    },
    {
     "name": "stderr",
     "output_type": "stream",
     "text": [
      "C:\\ProgramData\\Anaconda3\\lib\\site-packages\\sklearn\\feature_selection\\_univariate_selection.py:114: UserWarning: Features [   1    2    3    4    5    6    7    8    9   10   15   18   20  113\n",
      "  114  116  117  118  119  120  121  122  123  124  125  127  259  266\n",
      "  270  271  272  273  274  276  277  278  279  280  281  282  283  284\n",
      "  285  286  287  288  289  290  291  292  293  294  295  296  297  298\n",
      "  299  300  301  302  303  304  305  306  307  308  309  310  311  312\n",
      "  313  314  315  316  317  423  425  427  428  430  431  432  433  434\n",
      "  435  436  437  438  439  440  441  442  443  444  445  446  447  448\n",
      "  449  450  451  452  453  454  455  456  457  458  459  460  461  462\n",
      "  463  464  465  466  467  468  469  529  982 1018 1019 1044 1046 1057\n",
      " 1063 1065 1071 1075 1076 1078 1081 1082 1083 1086 1088 1095 1098 1138\n",
      " 1157 1193 1194 1219 1221 1232 1238 1240 1246 1250 1251 1253 1256 1257\n",
      " 1258 1261 1263 1270 1273 1313 1332 1368 1369 1394 1396 1407 1413 1415\n",
      " 1421 1422 1425 1426 1428 1431 1432 1433 1436 1438 1445 1448] are constant.\n",
      "  warnings.warn(\"Features %s are constant.\" % constant_features_idx,\n",
      "C:\\ProgramData\\Anaconda3\\lib\\site-packages\\sklearn\\feature_selection\\_univariate_selection.py:116: RuntimeWarning: invalid value encountered in true_divide\n",
      "  f = msb / msw\n"
     ]
    },
    {
     "name": "stdout",
     "output_type": "stream",
     "text": [
      "[LibSVM]"
     ]
    },
    {
     "name": "stderr",
     "output_type": "stream",
     "text": [
      "C:\\ProgramData\\Anaconda3\\lib\\site-packages\\sklearn\\feature_selection\\_univariate_selection.py:114: UserWarning: Features [   1    2    3    4    5    6    7    8    9   10   15   18   20  113\n",
      "  114  116  117  118  119  120  121  122  123  124  125  127  259  266\n",
      "  270  271  272  273  274  276  277  278  279  280  281  282  283  284\n",
      "  285  286  287  288  289  290  291  292  293  294  295  296  297  298\n",
      "  299  300  301  302  303  304  305  306  307  308  309  310  311  312\n",
      "  313  314  315  316  317  423  425  427  428  430  431  432  433  434\n",
      "  435  436  437  438  439  440  441  442  443  444  445  446  447  448\n",
      "  449  450  451  452  453  454  455  456  457  458  459  460  461  462\n",
      "  463  464  465  466  467  468  469  529  982 1018 1019 1044 1046 1057\n",
      " 1063 1065 1071 1075 1076 1078 1081 1082 1083 1086 1088 1095 1098 1138\n",
      " 1157 1193 1194 1219 1221 1232 1238 1240 1246 1250 1251 1253 1256 1257\n",
      " 1258 1261 1263 1270 1273 1313 1332 1368 1369 1394 1396 1407 1413 1415\n",
      " 1421 1422 1425 1426 1428 1431 1432 1433 1436 1438 1445 1448] are constant.\n",
      "  warnings.warn(\"Features %s are constant.\" % constant_features_idx,\n",
      "C:\\ProgramData\\Anaconda3\\lib\\site-packages\\sklearn\\feature_selection\\_univariate_selection.py:116: RuntimeWarning: invalid value encountered in true_divide\n",
      "  f = msb / msw\n"
     ]
    },
    {
     "name": "stdout",
     "output_type": "stream",
     "text": [
      "[LibSVM]"
     ]
    },
    {
     "name": "stderr",
     "output_type": "stream",
     "text": [
      "C:\\ProgramData\\Anaconda3\\lib\\site-packages\\sklearn\\feature_selection\\_univariate_selection.py:114: UserWarning: Features [   1    2    3    4    5    6    7    8    9   10   15   18   20  113\n",
      "  114  116  117  118  119  120  121  122  123  124  125  127  259  266\n",
      "  270  271  272  273  274  276  277  278  279  280  281  282  283  284\n",
      "  285  286  287  288  289  290  291  292  293  294  295  296  297  298\n",
      "  299  300  301  302  303  304  305  306  307  308  309  310  311  312\n",
      "  313  314  315  316  317  423  425  427  428  430  431  432  433  434\n",
      "  435  436  437  438  439  440  441  442  443  444  445  446  447  448\n",
      "  449  450  451  452  453  454  455  456  457  458  459  460  461  462\n",
      "  463  464  465  466  467  468  469  529  982 1018 1019 1044 1046 1057\n",
      " 1063 1065 1071 1075 1076 1078 1081 1082 1083 1086 1088 1095 1098 1138\n",
      " 1157 1193 1194 1219 1221 1232 1238 1240 1246 1250 1251 1253 1256 1257\n",
      " 1258 1261 1263 1270 1273 1313 1332 1368 1369 1394 1396 1407 1413 1415\n",
      " 1421 1422 1425 1426 1428 1431 1432 1433 1436 1438 1445 1448] are constant.\n",
      "  warnings.warn(\"Features %s are constant.\" % constant_features_idx,\n",
      "C:\\ProgramData\\Anaconda3\\lib\\site-packages\\sklearn\\feature_selection\\_univariate_selection.py:116: RuntimeWarning: invalid value encountered in true_divide\n",
      "  f = msb / msw\n"
     ]
    },
    {
     "name": "stdout",
     "output_type": "stream",
     "text": [
      "[LibSVM]"
     ]
    },
    {
     "name": "stderr",
     "output_type": "stream",
     "text": [
      "C:\\ProgramData\\Anaconda3\\lib\\site-packages\\sklearn\\feature_selection\\_univariate_selection.py:114: UserWarning: Features [   1    2    3    4    5    6    7    8    9   10   15   18   20  113\n",
      "  114  116  117  118  119  120  121  122  123  124  125  127  259  266\n",
      "  270  271  272  273  274  276  277  278  279  280  281  282  283  284\n",
      "  285  286  287  288  289  290  291  292  293  294  295  296  297  298\n",
      "  299  300  301  302  303  304  305  306  307  308  309  310  311  312\n",
      "  313  314  315  316  317  423  425  427  428  430  431  432  433  434\n",
      "  435  436  437  438  439  440  441  442  443  444  445  446  447  448\n",
      "  449  450  451  452  453  454  455  456  457  458  459  460  461  462\n",
      "  463  464  465  466  467  468  469  529  982 1018 1019 1044 1046 1057\n",
      " 1063 1065 1071 1075 1076 1078 1081 1082 1083 1086 1088 1095 1098 1138\n",
      " 1157 1193 1194 1219 1221 1232 1238 1240 1246 1250 1251 1253 1256 1257\n",
      " 1258 1261 1263 1270 1273 1313 1332 1368 1369 1394 1396 1407 1413 1415\n",
      " 1421 1422 1425 1426 1428 1431 1432 1433 1436 1438 1445 1448] are constant.\n",
      "  warnings.warn(\"Features %s are constant.\" % constant_features_idx,\n",
      "C:\\ProgramData\\Anaconda3\\lib\\site-packages\\sklearn\\feature_selection\\_univariate_selection.py:116: RuntimeWarning: invalid value encountered in true_divide\n",
      "  f = msb / msw\n"
     ]
    },
    {
     "name": "stdout",
     "output_type": "stream",
     "text": [
      "[LibSVM]"
     ]
    },
    {
     "name": "stderr",
     "output_type": "stream",
     "text": [
      "C:\\ProgramData\\Anaconda3\\lib\\site-packages\\sklearn\\feature_selection\\_univariate_selection.py:114: UserWarning: Features [   1    2    3    4    5    6    7    8    9   10   15   18   20  113\n",
      "  114  116  117  118  119  120  121  122  123  124  125  127  259  266\n",
      "  270  271  272  273  274  276  277  278  279  280  281  282  283  284\n",
      "  285  286  287  288  289  290  291  292  293  294  295  296  297  298\n",
      "  299  300  301  302  303  304  305  306  307  308  309  310  311  312\n",
      "  313  314  315  316  317  423  425  427  428  430  431  432  433  434\n",
      "  435  436  437  438  439  440  441  442  443  444  445  446  447  448\n",
      "  449  450  451  452  453  454  455  456  457  458  459  460  461  462\n",
      "  463  464  465  466  467  468  469  529  982 1018 1019 1044 1046 1057\n",
      " 1063 1065 1071 1075 1076 1078 1081 1082 1083 1086 1088 1095 1098 1138\n",
      " 1157 1193 1194 1219 1221 1232 1238 1240 1246 1250 1251 1253 1256 1257\n",
      " 1258 1261 1263 1270 1273 1313 1332 1368 1369 1394 1396 1407 1413 1415\n",
      " 1421 1422 1425 1426 1428 1431 1432 1433 1436 1438 1445 1448] are constant.\n",
      "  warnings.warn(\"Features %s are constant.\" % constant_features_idx,\n",
      "C:\\ProgramData\\Anaconda3\\lib\\site-packages\\sklearn\\feature_selection\\_univariate_selection.py:116: RuntimeWarning: invalid value encountered in true_divide\n",
      "  f = msb / msw\n"
     ]
    },
    {
     "name": "stdout",
     "output_type": "stream",
     "text": [
      "[LibSVM]"
     ]
    },
    {
     "name": "stderr",
     "output_type": "stream",
     "text": [
      "C:\\ProgramData\\Anaconda3\\lib\\site-packages\\sklearn\\feature_selection\\_univariate_selection.py:114: UserWarning: Features [   1    2    3    4    5    6    7    8    9   10   15   18   20  113\n",
      "  114  116  117  118  119  120  121  122  123  124  125  127  259  266\n",
      "  270  271  272  273  274  276  277  278  279  280  281  282  283  284\n",
      "  285  286  287  288  289  290  291  292  293  294  295  296  297  298\n",
      "  299  300  301  302  303  304  305  306  307  308  309  310  311  312\n",
      "  313  314  315  316  317  423  425  427  428  430  431  432  433  434\n",
      "  435  436  437  438  439  440  441  442  443  444  445  446  447  448\n",
      "  449  450  451  452  453  454  455  456  457  458  459  460  461  462\n",
      "  463  464  465  466  467  468  469  529  982 1018 1019 1044 1046 1057\n",
      " 1063 1065 1071 1075 1076 1078 1081 1082 1083 1086 1088 1095 1098 1138\n",
      " 1157 1193 1194 1219 1221 1232 1238 1240 1246 1250 1251 1253 1256 1257\n",
      " 1258 1261 1263 1270 1273 1313 1332 1368 1369 1394 1396 1407 1413 1415\n",
      " 1421 1422 1425 1426 1428 1431 1432 1433 1436 1438 1445 1448] are constant.\n",
      "  warnings.warn(\"Features %s are constant.\" % constant_features_idx,\n",
      "C:\\ProgramData\\Anaconda3\\lib\\site-packages\\sklearn\\feature_selection\\_univariate_selection.py:116: RuntimeWarning: invalid value encountered in true_divide\n",
      "  f = msb / msw\n"
     ]
    },
    {
     "name": "stdout",
     "output_type": "stream",
     "text": [
      "[LibSVM]"
     ]
    },
    {
     "name": "stderr",
     "output_type": "stream",
     "text": [
      "C:\\ProgramData\\Anaconda3\\lib\\site-packages\\sklearn\\feature_selection\\_univariate_selection.py:114: UserWarning: Features [   1    2    3    4    5    6    7    8    9   10   15   18   20  113\n",
      "  114  116  117  118  119  120  121  122  123  124  125  127  259  266\n",
      "  270  271  272  273  274  276  277  278  279  280  281  282  283  284\n",
      "  285  286  287  288  289  290  291  292  293  294  295  296  297  298\n",
      "  299  300  301  302  303  304  305  306  307  308  309  310  311  312\n",
      "  313  314  315  316  317  423  425  427  428  430  431  432  433  434\n",
      "  435  436  437  438  439  440  441  442  443  444  445  446  447  448\n",
      "  449  450  451  452  453  454  455  456  457  458  459  460  461  462\n",
      "  463  464  465  466  467  468  469  529  982 1018 1019 1044 1046 1057\n",
      " 1063 1065 1071 1075 1076 1078 1081 1082 1083 1086 1088 1095 1098 1138\n",
      " 1157 1193 1194 1219 1221 1232 1238 1240 1246 1250 1251 1253 1256 1257\n",
      " 1258 1261 1263 1270 1273 1313 1332 1368 1369 1394 1396 1407 1413 1415\n",
      " 1421 1422 1425 1426 1428 1431 1432 1433 1436 1438 1445 1448] are constant.\n",
      "  warnings.warn(\"Features %s are constant.\" % constant_features_idx,\n",
      "C:\\ProgramData\\Anaconda3\\lib\\site-packages\\sklearn\\feature_selection\\_univariate_selection.py:116: RuntimeWarning: invalid value encountered in true_divide\n",
      "  f = msb / msw\n"
     ]
    },
    {
     "name": "stdout",
     "output_type": "stream",
     "text": [
      "[LibSVM]"
     ]
    },
    {
     "name": "stderr",
     "output_type": "stream",
     "text": [
      "C:\\ProgramData\\Anaconda3\\lib\\site-packages\\sklearn\\feature_selection\\_univariate_selection.py:114: UserWarning: Features [   1    2    3    4    5    6    7    8    9   10   15   18   20  113\n",
      "  114  116  117  118  119  120  121  122  123  124  125  127  259  266\n",
      "  270  271  272  273  274  276  277  278  279  280  281  282  283  284\n",
      "  285  286  287  288  289  290  291  292  293  294  295  296  297  298\n",
      "  299  300  301  302  303  304  305  306  307  308  309  310  311  312\n",
      "  313  314  315  316  317  423  425  427  428  430  431  432  433  434\n",
      "  435  436  437  438  439  440  441  442  443  444  445  446  447  448\n",
      "  449  450  451  452  453  454  455  456  457  458  459  460  461  462\n",
      "  463  464  465  466  467  468  469  529  982 1018 1019 1044 1046 1057\n",
      " 1063 1065 1071 1075 1076 1078 1081 1082 1083 1086 1088 1095 1098 1138\n",
      " 1157 1193 1194 1219 1221 1232 1238 1240 1246 1250 1251 1253 1256 1257\n",
      " 1258 1261 1263 1270 1273 1313 1332 1368 1369 1394 1396 1407 1413 1415\n",
      " 1421 1422 1425 1426 1428 1431 1432 1433 1436 1438 1445 1448] are constant.\n",
      "  warnings.warn(\"Features %s are constant.\" % constant_features_idx,\n",
      "C:\\ProgramData\\Anaconda3\\lib\\site-packages\\sklearn\\feature_selection\\_univariate_selection.py:116: RuntimeWarning: invalid value encountered in true_divide\n",
      "  f = msb / msw\n"
     ]
    },
    {
     "name": "stdout",
     "output_type": "stream",
     "text": [
      "[LibSVM]"
     ]
    },
    {
     "name": "stderr",
     "output_type": "stream",
     "text": [
      "C:\\ProgramData\\Anaconda3\\lib\\site-packages\\sklearn\\feature_selection\\_univariate_selection.py:114: UserWarning: Features [   1    2    3    4    5    6    7    8    9   10   15   18   20  113\n",
      "  114  116  117  118  119  120  121  122  123  124  125  127  259  266\n",
      "  270  271  272  273  274  276  277  278  279  280  281  282  283  284\n",
      "  285  286  287  288  289  290  291  292  293  294  295  296  297  298\n",
      "  299  300  301  302  303  304  305  306  307  308  309  310  311  312\n",
      "  313  314  315  316  317  423  425  427  428  430  431  432  433  434\n",
      "  435  436  437  438  439  440  441  442  443  444  445  446  447  448\n",
      "  449  450  451  452  453  454  455  456  457  458  459  460  461  462\n",
      "  463  464  465  466  467  468  469  529  982 1018 1019 1044 1046 1057\n",
      " 1063 1065 1071 1075 1076 1078 1081 1082 1083 1086 1088 1095 1098 1138\n",
      " 1157 1193 1194 1219 1221 1232 1238 1240 1246 1250 1251 1253 1256 1257\n",
      " 1258 1261 1263 1270 1273 1313 1332 1368 1369 1394 1396 1407 1413 1415\n",
      " 1421 1422 1425 1426 1428 1431 1432 1433 1436 1438 1445 1448] are constant.\n",
      "  warnings.warn(\"Features %s are constant.\" % constant_features_idx,\n",
      "C:\\ProgramData\\Anaconda3\\lib\\site-packages\\sklearn\\feature_selection\\_univariate_selection.py:116: RuntimeWarning: invalid value encountered in true_divide\n",
      "  f = msb / msw\n"
     ]
    },
    {
     "name": "stdout",
     "output_type": "stream",
     "text": [
      "[LibSVM]"
     ]
    },
    {
     "name": "stderr",
     "output_type": "stream",
     "text": [
      "C:\\ProgramData\\Anaconda3\\lib\\site-packages\\sklearn\\feature_selection\\_univariate_selection.py:114: UserWarning: Features [   1    2    3    4    5    6    7    8    9   10   15   18   20  113\n",
      "  114  116  117  118  119  120  121  122  123  124  125  127  259  266\n",
      "  270  271  272  273  274  276  277  278  279  280  281  282  283  284\n",
      "  285  286  287  288  289  290  291  292  293  294  295  296  297  298\n",
      "  299  300  301  302  303  304  305  306  307  308  309  310  311  312\n",
      "  313  314  315  316  317  423  425  427  428  430  431  432  433  434\n",
      "  435  436  437  438  439  440  441  442  443  444  445  446  447  448\n",
      "  449  450  451  452  453  454  455  456  457  458  459  460  461  462\n",
      "  463  464  465  466  467  468  469  529  982 1018 1019 1044 1046 1057\n",
      " 1063 1065 1071 1075 1076 1078 1081 1082 1083 1086 1088 1095 1098 1138\n",
      " 1157 1193 1194 1219 1221 1232 1238 1240 1246 1250 1251 1253 1256 1257\n",
      " 1258 1261 1263 1270 1273 1313 1332 1368 1369 1394 1396 1407 1413 1415\n",
      " 1421 1422 1425 1426 1428 1431 1432 1433 1436 1438 1445 1448] are constant.\n",
      "  warnings.warn(\"Features %s are constant.\" % constant_features_idx,\n",
      "C:\\ProgramData\\Anaconda3\\lib\\site-packages\\sklearn\\feature_selection\\_univariate_selection.py:116: RuntimeWarning: invalid value encountered in true_divide\n",
      "  f = msb / msw\n"
     ]
    },
    {
     "name": "stdout",
     "output_type": "stream",
     "text": [
      "[LibSVM]"
     ]
    },
    {
     "name": "stderr",
     "output_type": "stream",
     "text": [
      "C:\\ProgramData\\Anaconda3\\lib\\site-packages\\sklearn\\feature_selection\\_univariate_selection.py:114: UserWarning: Features [   1    2    3    4    5    6    7    8    9   10   15   18   20  113\n",
      "  114  116  117  118  119  120  121  122  123  124  125  127  259  266\n",
      "  270  271  272  273  274  276  277  278  279  280  281  282  283  284\n",
      "  285  286  287  288  289  290  291  292  293  294  295  296  297  298\n",
      "  299  300  301  302  303  304  305  306  307  308  309  310  311  312\n",
      "  313  314  315  316  317  423  425  427  428  430  431  432  433  434\n",
      "  435  436  437  438  439  440  441  442  443  444  445  446  447  448\n",
      "  449  450  451  452  453  454  455  456  457  458  459  460  461  462\n",
      "  463  464  465  466  467  468  469  529  982 1018 1019 1044 1046 1057\n",
      " 1063 1065 1071 1075 1076 1078 1081 1082 1083 1086 1088 1095 1098 1138\n",
      " 1157 1193 1194 1219 1221 1232 1238 1240 1246 1250 1251 1253 1256 1257\n",
      " 1258 1261 1263 1270 1273 1313 1332 1368 1369 1394 1396 1407 1413 1415\n",
      " 1421 1422 1425 1426 1428 1431 1432 1433 1436 1438 1445 1448] are constant.\n",
      "  warnings.warn(\"Features %s are constant.\" % constant_features_idx,\n",
      "C:\\ProgramData\\Anaconda3\\lib\\site-packages\\sklearn\\feature_selection\\_univariate_selection.py:116: RuntimeWarning: invalid value encountered in true_divide\n",
      "  f = msb / msw\n"
     ]
    },
    {
     "name": "stdout",
     "output_type": "stream",
     "text": [
      "[LibSVM]"
     ]
    },
    {
     "name": "stderr",
     "output_type": "stream",
     "text": [
      "C:\\ProgramData\\Anaconda3\\lib\\site-packages\\sklearn\\feature_selection\\_univariate_selection.py:114: UserWarning: Features [   1    2    3    4    5    6    7    8    9   10   15   18   20  113\n",
      "  114  116  117  118  119  120  121  122  123  124  125  127  259  266\n",
      "  270  271  272  273  274  276  277  278  279  280  281  282  283  284\n",
      "  285  286  287  288  289  290  291  292  293  294  295  296  297  298\n",
      "  299  300  301  302  303  304  305  306  307  308  309  310  311  312\n",
      "  313  314  315  316  317  423  425  427  428  430  431  432  433  434\n",
      "  435  436  437  438  439  440  441  442  443  444  445  446  447  448\n",
      "  449  450  451  452  453  454  455  456  457  458  459  460  461  462\n",
      "  463  464  465  466  467  468  469  529  982 1018 1019 1044 1046 1057\n",
      " 1063 1065 1071 1075 1076 1078 1081 1082 1083 1086 1088 1095 1098 1138\n",
      " 1157 1193 1194 1219 1221 1232 1238 1240 1246 1250 1251 1253 1256 1257\n",
      " 1258 1261 1263 1270 1273 1313 1332 1368 1369 1394 1396 1407 1413 1415\n",
      " 1421 1422 1425 1426 1428 1431 1432 1433 1436 1438 1445 1448] are constant.\n",
      "  warnings.warn(\"Features %s are constant.\" % constant_features_idx,\n",
      "C:\\ProgramData\\Anaconda3\\lib\\site-packages\\sklearn\\feature_selection\\_univariate_selection.py:116: RuntimeWarning: invalid value encountered in true_divide\n",
      "  f = msb / msw\n"
     ]
    },
    {
     "name": "stdout",
     "output_type": "stream",
     "text": [
      "[LibSVM]"
     ]
    },
    {
     "name": "stderr",
     "output_type": "stream",
     "text": [
      "C:\\ProgramData\\Anaconda3\\lib\\site-packages\\sklearn\\feature_selection\\_univariate_selection.py:114: UserWarning: Features [   1    2    3    4    5    6    7    8    9   10   15   18   20  113\n",
      "  114  116  117  118  119  120  121  122  123  124  125  127  259  266\n",
      "  270  271  272  273  274  276  277  278  279  280  281  282  283  284\n",
      "  285  286  287  288  289  290  291  292  293  294  295  296  297  298\n",
      "  299  300  301  302  303  304  305  306  307  308  309  310  311  312\n",
      "  313  314  315  316  317  423  425  427  428  430  431  432  433  434\n",
      "  435  436  437  438  439  440  441  442  443  444  445  446  447  448\n",
      "  449  450  451  452  453  454  455  456  457  458  459  460  461  462\n",
      "  463  464  465  466  467  468  469  529  982 1018 1019 1044 1046 1057\n",
      " 1063 1065 1071 1075 1076 1078 1081 1082 1083 1086 1088 1095 1098 1138\n",
      " 1157 1193 1194 1219 1221 1232 1238 1240 1246 1250 1251 1253 1256 1257\n",
      " 1258 1261 1263 1270 1273 1313 1332 1368 1369 1394 1396 1407 1413 1415\n",
      " 1421 1422 1425 1426 1428 1431 1432 1433 1436 1438 1445 1448] are constant.\n",
      "  warnings.warn(\"Features %s are constant.\" % constant_features_idx,\n",
      "C:\\ProgramData\\Anaconda3\\lib\\site-packages\\sklearn\\feature_selection\\_univariate_selection.py:116: RuntimeWarning: invalid value encountered in true_divide\n",
      "  f = msb / msw\n"
     ]
    },
    {
     "name": "stdout",
     "output_type": "stream",
     "text": [
      "[LibSVM]"
     ]
    },
    {
     "name": "stderr",
     "output_type": "stream",
     "text": [
      "C:\\ProgramData\\Anaconda3\\lib\\site-packages\\sklearn\\feature_selection\\_univariate_selection.py:114: UserWarning: Features [   1    2    3    4    5    6    7    8    9   10   15   18   20  113\n",
      "  114  116  117  118  119  120  121  122  123  124  125  127  259  266\n",
      "  270  271  272  273  274  276  277  278  279  280  281  282  283  284\n",
      "  285  286  287  288  289  290  291  292  293  294  295  296  297  298\n",
      "  299  300  301  302  303  304  305  306  307  308  309  310  311  312\n",
      "  313  314  315  316  317  423  425  427  428  430  431  432  433  434\n",
      "  435  436  437  438  439  440  441  442  443  444  445  446  447  448\n",
      "  449  450  451  452  453  454  455  456  457  458  459  460  461  462\n",
      "  463  464  465  466  467  468  469  529  982 1018 1019 1044 1046 1057\n",
      " 1063 1065 1071 1075 1076 1078 1081 1082 1083 1086 1088 1095 1098 1138\n",
      " 1157 1193 1194 1219 1221 1232 1238 1240 1246 1250 1251 1253 1256 1257\n",
      " 1258 1261 1263 1270 1273 1313 1332 1368 1369 1394 1396 1407 1413 1415\n",
      " 1421 1422 1425 1426 1428 1431 1432 1433 1436 1438 1445 1448] are constant.\n",
      "  warnings.warn(\"Features %s are constant.\" % constant_features_idx,\n",
      "C:\\ProgramData\\Anaconda3\\lib\\site-packages\\sklearn\\feature_selection\\_univariate_selection.py:116: RuntimeWarning: invalid value encountered in true_divide\n",
      "  f = msb / msw\n"
     ]
    },
    {
     "name": "stdout",
     "output_type": "stream",
     "text": [
      "[LibSVM]"
     ]
    },
    {
     "name": "stderr",
     "output_type": "stream",
     "text": [
      "C:\\ProgramData\\Anaconda3\\lib\\site-packages\\sklearn\\feature_selection\\_univariate_selection.py:114: UserWarning: Features [   1    2    3    4    5    6    7    8    9   10   15   18   20  113\n",
      "  114  116  117  118  119  120  121  122  123  124  125  127  259  266\n",
      "  270  271  272  273  274  276  277  278  279  280  281  282  283  284\n",
      "  285  286  287  288  289  290  291  292  293  294  295  296  297  298\n",
      "  299  300  301  302  303  304  305  306  307  308  309  310  311  312\n",
      "  313  314  315  316  317  423  425  427  428  430  431  432  433  434\n",
      "  435  436  437  438  439  440  441  442  443  444  445  446  447  448\n",
      "  449  450  451  452  453  454  455  456  457  458  459  460  461  462\n",
      "  463  464  465  466  467  468  469  529  982 1018 1019 1044 1046 1057\n",
      " 1063 1065 1071 1075 1076 1078 1081 1082 1083 1086 1088 1095 1098 1138\n",
      " 1157 1193 1194 1219 1221 1232 1238 1240 1246 1250 1251 1253 1256 1257\n",
      " 1258 1261 1263 1270 1273 1313 1332 1368 1369 1394 1396 1407 1413 1415\n",
      " 1421 1422 1425 1426 1428 1431 1432 1433 1436 1438 1445 1448] are constant.\n",
      "  warnings.warn(\"Features %s are constant.\" % constant_features_idx,\n",
      "C:\\ProgramData\\Anaconda3\\lib\\site-packages\\sklearn\\feature_selection\\_univariate_selection.py:116: RuntimeWarning: invalid value encountered in true_divide\n",
      "  f = msb / msw\n"
     ]
    },
    {
     "name": "stdout",
     "output_type": "stream",
     "text": [
      "[LibSVM]"
     ]
    },
    {
     "name": "stderr",
     "output_type": "stream",
     "text": [
      "C:\\ProgramData\\Anaconda3\\lib\\site-packages\\sklearn\\feature_selection\\_univariate_selection.py:114: UserWarning: Features [   1    2    3    4    5    6    7    8    9   10   15   18   20  113\n",
      "  114  116  117  118  119  120  121  122  123  124  125  127  259  266\n",
      "  270  271  272  273  274  276  277  278  279  280  281  282  283  284\n",
      "  285  286  287  288  289  290  291  292  293  294  295  296  297  298\n",
      "  299  300  301  302  303  304  305  306  307  308  309  310  311  312\n",
      "  313  314  315  316  317  423  425  427  428  430  431  432  433  434\n",
      "  435  436  437  438  439  440  441  442  443  444  445  446  447  448\n",
      "  449  450  451  452  453  454  455  456  457  458  459  460  461  462\n",
      "  463  464  465  466  467  468  469  529  982 1018 1019 1044 1046 1057\n",
      " 1063 1065 1071 1075 1076 1078 1081 1082 1083 1086 1088 1095 1098 1138\n",
      " 1157 1193 1194 1219 1221 1232 1238 1240 1246 1250 1251 1253 1256 1257\n",
      " 1258 1261 1263 1270 1273 1313 1332 1368 1369 1394 1396 1407 1413 1415\n",
      " 1421 1422 1425 1426 1428 1431 1432 1433 1436 1438 1445 1448] are constant.\n",
      "  warnings.warn(\"Features %s are constant.\" % constant_features_idx,\n",
      "C:\\ProgramData\\Anaconda3\\lib\\site-packages\\sklearn\\feature_selection\\_univariate_selection.py:116: RuntimeWarning: invalid value encountered in true_divide\n",
      "  f = msb / msw\n"
     ]
    },
    {
     "name": "stdout",
     "output_type": "stream",
     "text": [
      "[LibSVM]"
     ]
    },
    {
     "name": "stderr",
     "output_type": "stream",
     "text": [
      "C:\\ProgramData\\Anaconda3\\lib\\site-packages\\sklearn\\feature_selection\\_univariate_selection.py:114: UserWarning: Features [   1    2    3    4    5    6    7    8    9   10   15   18   20  113\n",
      "  114  116  117  118  119  120  121  122  123  124  125  127  259  266\n",
      "  270  271  272  273  274  276  277  278  279  280  281  282  283  284\n",
      "  285  286  287  288  289  290  291  292  293  294  295  296  297  298\n",
      "  299  300  301  302  303  304  305  306  307  308  309  310  311  312\n",
      "  313  314  315  316  317  423  425  427  428  430  431  432  433  434\n",
      "  435  436  437  438  439  440  441  442  443  444  445  446  447  448\n",
      "  449  450  451  452  453  454  455  456  457  458  459  460  461  462\n",
      "  463  464  465  466  467  468  469  529  982 1018 1019 1044 1046 1057\n",
      " 1063 1065 1071 1075 1076 1078 1081 1082 1083 1086 1088 1095 1098 1138\n",
      " 1157 1193 1194 1219 1221 1232 1238 1240 1246 1250 1251 1253 1256 1257\n",
      " 1258 1261 1263 1270 1273 1313 1332 1368 1369 1394 1396 1407 1413 1415\n",
      " 1421 1422 1425 1426 1428 1431 1432 1433 1436 1438 1445 1448] are constant.\n",
      "  warnings.warn(\"Features %s are constant.\" % constant_features_idx,\n",
      "C:\\ProgramData\\Anaconda3\\lib\\site-packages\\sklearn\\feature_selection\\_univariate_selection.py:116: RuntimeWarning: invalid value encountered in true_divide\n",
      "  f = msb / msw\n"
     ]
    },
    {
     "name": "stdout",
     "output_type": "stream",
     "text": [
      "[LibSVM]"
     ]
    },
    {
     "name": "stderr",
     "output_type": "stream",
     "text": [
      "C:\\ProgramData\\Anaconda3\\lib\\site-packages\\sklearn\\feature_selection\\_univariate_selection.py:114: UserWarning: Features [   1    2    3    4    5    6    7    8    9   10   15   18   20  113\n",
      "  114  116  117  118  119  120  121  122  123  124  125  127  259  266\n",
      "  270  271  272  273  274  276  277  278  279  280  281  282  283  284\n",
      "  285  286  287  288  289  290  291  292  293  294  295  296  297  298\n",
      "  299  300  301  302  303  304  305  306  307  308  309  310  311  312\n",
      "  313  314  315  316  317  423  425  427  428  430  431  432  433  434\n",
      "  435  436  437  438  439  440  441  442  443  444  445  446  447  448\n",
      "  449  450  451  452  453  454  455  456  457  458  459  460  461  462\n",
      "  463  464  465  466  467  468  469  529  982 1018 1019 1044 1046 1057\n",
      " 1063 1065 1071 1075 1076 1078 1081 1082 1083 1086 1088 1095 1098 1138\n",
      " 1157 1193 1194 1219 1221 1232 1238 1240 1246 1250 1251 1253 1256 1257\n",
      " 1258 1261 1263 1270 1273 1313 1332 1368 1369 1394 1396 1407 1413 1415\n",
      " 1421 1422 1425 1426 1428 1431 1432 1433 1436 1438 1445 1448] are constant.\n",
      "  warnings.warn(\"Features %s are constant.\" % constant_features_idx,\n",
      "C:\\ProgramData\\Anaconda3\\lib\\site-packages\\sklearn\\feature_selection\\_univariate_selection.py:116: RuntimeWarning: invalid value encountered in true_divide\n",
      "  f = msb / msw\n"
     ]
    },
    {
     "name": "stdout",
     "output_type": "stream",
     "text": [
      "[LibSVM]"
     ]
    },
    {
     "name": "stderr",
     "output_type": "stream",
     "text": [
      "C:\\ProgramData\\Anaconda3\\lib\\site-packages\\sklearn\\feature_selection\\_univariate_selection.py:114: UserWarning: Features [   1    2    3    4    5    6    7    8    9   10   15   18   20  113\n",
      "  114  116  117  118  119  120  121  122  123  124  125  127  259  266\n",
      "  270  271  272  273  274  276  277  278  279  280  281  282  283  284\n",
      "  285  286  287  288  289  290  291  292  293  294  295  296  297  298\n",
      "  299  300  301  302  303  304  305  306  307  308  309  310  311  312\n",
      "  313  314  315  316  317  423  425  427  428  430  431  432  433  434\n",
      "  435  436  437  438  439  440  441  442  443  444  445  446  447  448\n",
      "  449  450  451  452  453  454  455  456  457  458  459  460  461  462\n",
      "  463  464  465  466  467  468  469  529  982 1018 1019 1044 1046 1057\n",
      " 1063 1065 1071 1075 1076 1078 1081 1082 1083 1086 1088 1095 1098 1138\n",
      " 1157 1193 1194 1219 1221 1232 1238 1240 1246 1250 1251 1253 1256 1257\n",
      " 1258 1261 1263 1270 1273 1313 1332 1368 1369 1394 1396 1407 1413 1415\n",
      " 1421 1422 1425 1426 1428 1431 1432 1433 1436 1438 1445 1448] are constant.\n",
      "  warnings.warn(\"Features %s are constant.\" % constant_features_idx,\n",
      "C:\\ProgramData\\Anaconda3\\lib\\site-packages\\sklearn\\feature_selection\\_univariate_selection.py:116: RuntimeWarning: invalid value encountered in true_divide\n",
      "  f = msb / msw\n"
     ]
    },
    {
     "name": "stdout",
     "output_type": "stream",
     "text": [
      "[LibSVM]"
     ]
    },
    {
     "name": "stderr",
     "output_type": "stream",
     "text": [
      "C:\\ProgramData\\Anaconda3\\lib\\site-packages\\sklearn\\feature_selection\\_univariate_selection.py:114: UserWarning: Features [   1    2    3    4    5    6    7    8    9   10   15   18   20  113\n",
      "  114  116  117  118  119  120  121  122  123  124  125  127  259  266\n",
      "  270  271  272  273  274  276  277  278  279  280  281  282  283  284\n",
      "  285  286  287  288  289  290  291  292  293  294  295  296  297  298\n",
      "  299  300  301  302  303  304  305  306  307  308  309  310  311  312\n",
      "  313  314  315  316  317  423  425  427  428  430  431  432  433  434\n",
      "  435  436  437  438  439  440  441  442  443  444  445  446  447  448\n",
      "  449  450  451  452  453  454  455  456  457  458  459  460  461  462\n",
      "  463  464  465  466  467  468  469  529  982 1018 1019 1044 1046 1057\n",
      " 1063 1065 1071 1075 1076 1078 1081 1082 1083 1086 1088 1095 1098 1138\n",
      " 1157 1193 1194 1219 1221 1232 1238 1240 1246 1250 1251 1253 1256 1257\n",
      " 1258 1261 1263 1270 1273 1313 1332 1368 1369 1394 1396 1407 1413 1415\n",
      " 1421 1422 1425 1426 1428 1431 1432 1433 1436 1438 1445 1448] are constant.\n",
      "  warnings.warn(\"Features %s are constant.\" % constant_features_idx,\n",
      "C:\\ProgramData\\Anaconda3\\lib\\site-packages\\sklearn\\feature_selection\\_univariate_selection.py:116: RuntimeWarning: invalid value encountered in true_divide\n",
      "  f = msb / msw\n"
     ]
    },
    {
     "name": "stdout",
     "output_type": "stream",
     "text": [
      "[LibSVM]"
     ]
    },
    {
     "name": "stderr",
     "output_type": "stream",
     "text": [
      "C:\\ProgramData\\Anaconda3\\lib\\site-packages\\sklearn\\feature_selection\\_univariate_selection.py:114: UserWarning: Features [   1    2    3    4    5    6    7    8    9   10   15   18   20  113\n",
      "  114  116  117  118  119  120  121  122  123  124  125  127  259  266\n",
      "  270  271  272  273  274  276  277  278  279  280  281  282  283  284\n",
      "  285  286  287  288  289  290  291  292  293  294  295  296  297  298\n",
      "  299  300  301  302  303  304  305  306  307  308  309  310  311  312\n",
      "  313  314  315  316  317  423  425  427  428  430  431  432  433  434\n",
      "  435  436  437  438  439  440  441  442  443  444  445  446  447  448\n",
      "  449  450  451  452  453  454  455  456  457  458  459  460  461  462\n",
      "  463  464  465  466  467  468  469  529  982 1018 1019 1044 1046 1057\n",
      " 1063 1065 1071 1075 1076 1078 1081 1082 1083 1086 1088 1095 1098 1138\n",
      " 1157 1193 1194 1219 1221 1232 1238 1240 1246 1250 1251 1253 1256 1257\n",
      " 1258 1261 1263 1270 1273 1313 1332 1368 1369 1394 1396 1407 1413 1415\n",
      " 1421 1422 1425 1426 1428 1431 1432 1433 1436 1438 1445 1448] are constant.\n",
      "  warnings.warn(\"Features %s are constant.\" % constant_features_idx,\n",
      "C:\\ProgramData\\Anaconda3\\lib\\site-packages\\sklearn\\feature_selection\\_univariate_selection.py:116: RuntimeWarning: invalid value encountered in true_divide\n",
      "  f = msb / msw\n"
     ]
    },
    {
     "name": "stdout",
     "output_type": "stream",
     "text": [
      "[LibSVM]"
     ]
    },
    {
     "name": "stderr",
     "output_type": "stream",
     "text": [
      "C:\\ProgramData\\Anaconda3\\lib\\site-packages\\sklearn\\feature_selection\\_univariate_selection.py:114: UserWarning: Features [   1    2    3    4    5    6    7    8    9   10   15   18   20  113\n",
      "  114  116  117  118  119  120  121  122  123  124  125  127  259  266\n",
      "  270  271  272  273  274  276  277  278  279  280  281  282  283  284\n",
      "  285  286  287  288  289  290  291  292  293  294  295  296  297  298\n",
      "  299  300  301  302  303  304  305  306  307  308  309  310  311  312\n",
      "  313  314  315  316  317  423  425  427  428  430  431  432  433  434\n",
      "  435  436  437  438  439  440  441  442  443  444  445  446  447  448\n",
      "  449  450  451  452  453  454  455  456  457  458  459  460  461  462\n",
      "  463  464  465  466  467  468  469  529  982 1018 1019 1044 1046 1057\n",
      " 1063 1065 1071 1075 1076 1078 1081 1082 1083 1086 1088 1095 1098 1138\n",
      " 1157 1193 1194 1219 1221 1232 1238 1240 1246 1250 1251 1253 1256 1257\n",
      " 1258 1261 1263 1270 1273 1313 1332 1368 1369 1394 1396 1407 1413 1415\n",
      " 1421 1422 1425 1426 1428 1431 1432 1433 1436 1438 1445 1448] are constant.\n",
      "  warnings.warn(\"Features %s are constant.\" % constant_features_idx,\n",
      "C:\\ProgramData\\Anaconda3\\lib\\site-packages\\sklearn\\feature_selection\\_univariate_selection.py:116: RuntimeWarning: invalid value encountered in true_divide\n",
      "  f = msb / msw\n"
     ]
    },
    {
     "name": "stdout",
     "output_type": "stream",
     "text": [
      "[LibSVM]"
     ]
    },
    {
     "name": "stderr",
     "output_type": "stream",
     "text": [
      "C:\\ProgramData\\Anaconda3\\lib\\site-packages\\sklearn\\feature_selection\\_univariate_selection.py:114: UserWarning: Features [   1    2    3    4    5    6    7    8    9   10   15   18   20  113\n",
      "  114  116  117  118  119  120  121  122  123  124  125  127  259  266\n",
      "  270  271  272  273  274  276  277  278  279  280  281  282  283  284\n",
      "  285  286  287  288  289  290  291  292  293  294  295  296  297  298\n",
      "  299  300  301  302  303  304  305  306  307  308  309  310  311  312\n",
      "  313  314  315  316  317  423  425  427  428  430  431  432  433  434\n",
      "  435  436  437  438  439  440  441  442  443  444  445  446  447  448\n",
      "  449  450  451  452  453  454  455  456  457  458  459  460  461  462\n",
      "  463  464  465  466  467  468  469  529  982 1018 1019 1044 1046 1057\n",
      " 1063 1065 1071 1075 1076 1078 1081 1082 1083 1086 1088 1095 1098 1138\n",
      " 1157 1193 1194 1219 1221 1232 1238 1240 1246 1250 1251 1253 1256 1257\n",
      " 1258 1261 1263 1270 1273 1313 1332 1368 1369 1394 1396 1407 1413 1415\n",
      " 1421 1422 1425 1426 1428 1431 1432 1433 1436 1438 1445 1448] are constant.\n",
      "  warnings.warn(\"Features %s are constant.\" % constant_features_idx,\n",
      "C:\\ProgramData\\Anaconda3\\lib\\site-packages\\sklearn\\feature_selection\\_univariate_selection.py:116: RuntimeWarning: invalid value encountered in true_divide\n",
      "  f = msb / msw\n"
     ]
    },
    {
     "name": "stdout",
     "output_type": "stream",
     "text": [
      "[LibSVM]"
     ]
    },
    {
     "name": "stderr",
     "output_type": "stream",
     "text": [
      "C:\\ProgramData\\Anaconda3\\lib\\site-packages\\sklearn\\feature_selection\\_univariate_selection.py:114: UserWarning: Features [   1    2    3    4    5    6    7    8    9   10   15   18   20  113\n",
      "  114  116  117  118  119  120  121  122  123  124  125  127  259  266\n",
      "  270  271  272  273  274  276  277  278  279  280  281  282  283  284\n",
      "  285  286  287  288  289  290  291  292  293  294  295  296  297  298\n",
      "  299  300  301  302  303  304  305  306  307  308  309  310  311  312\n",
      "  313  314  315  316  317  423  425  427  428  430  431  432  433  434\n",
      "  435  436  437  438  439  440  441  442  443  444  445  446  447  448\n",
      "  449  450  451  452  453  454  455  456  457  458  459  460  461  462\n",
      "  463  464  465  466  467  468  469  529  982 1018 1019 1044 1046 1057\n",
      " 1063 1065 1071 1075 1076 1078 1081 1082 1083 1086 1088 1095 1098 1138\n",
      " 1157 1193 1194 1219 1221 1232 1238 1240 1246 1250 1251 1253 1256 1257\n",
      " 1258 1261 1263 1270 1273 1313 1332 1368 1369 1394 1396 1407 1413 1415\n",
      " 1421 1422 1425 1426 1428 1431 1432 1433 1436 1438 1445 1448] are constant.\n",
      "  warnings.warn(\"Features %s are constant.\" % constant_features_idx,\n",
      "C:\\ProgramData\\Anaconda3\\lib\\site-packages\\sklearn\\feature_selection\\_univariate_selection.py:116: RuntimeWarning: invalid value encountered in true_divide\n",
      "  f = msb / msw\n"
     ]
    },
    {
     "name": "stdout",
     "output_type": "stream",
     "text": [
      "[LibSVM]"
     ]
    },
    {
     "name": "stderr",
     "output_type": "stream",
     "text": [
      "C:\\ProgramData\\Anaconda3\\lib\\site-packages\\sklearn\\feature_selection\\_univariate_selection.py:114: UserWarning: Features [   1    2    3    4    5    6    7    8    9   10   15   18   20  113\n",
      "  114  116  117  118  119  120  121  122  123  124  125  127  259  266\n",
      "  270  271  272  273  274  276  277  278  279  280  281  282  283  284\n",
      "  285  286  287  288  289  290  291  292  293  294  295  296  297  298\n",
      "  299  300  301  302  303  304  305  306  307  308  309  310  311  312\n",
      "  313  314  315  316  317  423  425  427  428  430  431  432  433  434\n",
      "  435  436  437  438  439  440  441  442  443  444  445  446  447  448\n",
      "  449  450  451  452  453  454  455  456  457  458  459  460  461  462\n",
      "  463  464  465  466  467  468  469  529  982 1018 1019 1044 1046 1057\n",
      " 1063 1065 1071 1075 1076 1078 1081 1082 1083 1086 1088 1095 1098 1138\n",
      " 1157 1193 1194 1219 1221 1232 1238 1240 1246 1250 1251 1253 1256 1257\n",
      " 1258 1261 1263 1270 1273 1313 1332 1368 1369 1394 1396 1407 1413 1415\n",
      " 1421 1422 1425 1426 1428 1431 1432 1433 1436 1438 1445 1448] are constant.\n",
      "  warnings.warn(\"Features %s are constant.\" % constant_features_idx,\n",
      "C:\\ProgramData\\Anaconda3\\lib\\site-packages\\sklearn\\feature_selection\\_univariate_selection.py:116: RuntimeWarning: invalid value encountered in true_divide\n",
      "  f = msb / msw\n"
     ]
    },
    {
     "name": "stdout",
     "output_type": "stream",
     "text": [
      "[LibSVM]"
     ]
    },
    {
     "name": "stderr",
     "output_type": "stream",
     "text": [
      "C:\\ProgramData\\Anaconda3\\lib\\site-packages\\sklearn\\feature_selection\\_univariate_selection.py:114: UserWarning: Features [   1    2    3    4    5    6    7    8    9   10   15   18   20  113\n",
      "  114  116  117  118  119  120  121  122  123  124  125  127  259  266\n",
      "  270  271  272  273  274  276  277  278  279  280  281  282  283  284\n",
      "  285  286  287  288  289  290  291  292  293  294  295  296  297  298\n",
      "  299  300  301  302  303  304  305  306  307  308  309  310  311  312\n",
      "  313  314  315  316  317  423  425  427  428  430  431  432  433  434\n",
      "  435  436  437  438  439  440  441  442  443  444  445  446  447  448\n",
      "  449  450  451  452  453  454  455  456  457  458  459  460  461  462\n",
      "  463  464  465  466  467  468  469  529  982 1018 1019 1044 1046 1057\n",
      " 1063 1065 1071 1075 1076 1078 1081 1082 1083 1086 1088 1095 1098 1138\n",
      " 1157 1193 1194 1219 1221 1232 1238 1240 1246 1250 1251 1253 1256 1257\n",
      " 1258 1261 1263 1270 1273 1313 1332 1368 1369 1394 1396 1407 1413 1415\n",
      " 1421 1422 1425 1426 1428 1431 1432 1433 1436 1438 1445 1448] are constant.\n",
      "  warnings.warn(\"Features %s are constant.\" % constant_features_idx,\n",
      "C:\\ProgramData\\Anaconda3\\lib\\site-packages\\sklearn\\feature_selection\\_univariate_selection.py:116: RuntimeWarning: invalid value encountered in true_divide\n",
      "  f = msb / msw\n"
     ]
    },
    {
     "name": "stdout",
     "output_type": "stream",
     "text": [
      "[LibSVM]"
     ]
    },
    {
     "name": "stderr",
     "output_type": "stream",
     "text": [
      "C:\\ProgramData\\Anaconda3\\lib\\site-packages\\sklearn\\feature_selection\\_univariate_selection.py:114: UserWarning: Features [   1    2    3    4    5    6    7    8    9   10   15   18   20  113\n",
      "  114  116  117  118  119  120  121  122  123  124  125  127  259  266\n",
      "  270  271  272  273  274  276  277  278  279  280  281  282  283  284\n",
      "  285  286  287  288  289  290  291  292  293  294  295  296  297  298\n",
      "  299  300  301  302  303  304  305  306  307  308  309  310  311  312\n",
      "  313  314  315  316  317  423  425  427  428  430  431  432  433  434\n",
      "  435  436  437  438  439  440  441  442  443  444  445  446  447  448\n",
      "  449  450  451  452  453  454  455  456  457  458  459  460  461  462\n",
      "  463  464  465  466  467  468  469  529  982 1018 1019 1044 1046 1057\n",
      " 1063 1065 1071 1075 1076 1078 1081 1082 1083 1086 1088 1095 1098 1138\n",
      " 1157 1193 1194 1219 1221 1232 1238 1240 1246 1250 1251 1253 1256 1257\n",
      " 1258 1261 1263 1270 1273 1313 1332 1368 1369 1394 1396 1407 1413 1415\n",
      " 1421 1422 1425 1426 1428 1431 1432 1433 1436 1438 1445 1448] are constant.\n",
      "  warnings.warn(\"Features %s are constant.\" % constant_features_idx,\n",
      "C:\\ProgramData\\Anaconda3\\lib\\site-packages\\sklearn\\feature_selection\\_univariate_selection.py:116: RuntimeWarning: invalid value encountered in true_divide\n",
      "  f = msb / msw\n"
     ]
    },
    {
     "name": "stdout",
     "output_type": "stream",
     "text": [
      "[LibSVM]"
     ]
    },
    {
     "name": "stderr",
     "output_type": "stream",
     "text": [
      "C:\\ProgramData\\Anaconda3\\lib\\site-packages\\sklearn\\feature_selection\\_univariate_selection.py:114: UserWarning: Features [   1    2    3    4    5    6    7    8    9   10   15   18   20  113\n",
      "  114  116  117  118  119  120  121  122  123  124  125  127  259  266\n",
      "  270  271  272  273  274  276  277  278  279  280  281  282  283  284\n",
      "  285  286  287  288  289  290  291  292  293  294  295  296  297  298\n",
      "  299  300  301  302  303  304  305  306  307  308  309  310  311  312\n",
      "  313  314  315  316  317  423  425  427  428  430  431  432  433  434\n",
      "  435  436  437  438  439  440  441  442  443  444  445  446  447  448\n",
      "  449  450  451  452  453  454  455  456  457  458  459  460  461  462\n",
      "  463  464  465  466  467  468  469  529  982 1018 1019 1044 1046 1057\n",
      " 1063 1065 1071 1075 1076 1078 1081 1082 1083 1086 1088 1095 1098 1138\n",
      " 1157 1193 1194 1219 1221 1232 1238 1240 1246 1250 1251 1253 1256 1257\n",
      " 1258 1261 1263 1270 1273 1313 1332 1368 1369 1394 1396 1407 1413 1415\n",
      " 1421 1422 1425 1426 1428 1431 1432 1433 1436 1438 1445 1448] are constant.\n",
      "  warnings.warn(\"Features %s are constant.\" % constant_features_idx,\n",
      "C:\\ProgramData\\Anaconda3\\lib\\site-packages\\sklearn\\feature_selection\\_univariate_selection.py:116: RuntimeWarning: invalid value encountered in true_divide\n",
      "  f = msb / msw\n"
     ]
    },
    {
     "name": "stdout",
     "output_type": "stream",
     "text": [
      "[LibSVM]"
     ]
    },
    {
     "name": "stderr",
     "output_type": "stream",
     "text": [
      "C:\\ProgramData\\Anaconda3\\lib\\site-packages\\sklearn\\feature_selection\\_univariate_selection.py:114: UserWarning: Features [   1    2    3    4    5    6    7    8    9   10   15   18   20  113\n",
      "  114  116  117  118  119  120  121  122  123  124  125  127  259  266\n",
      "  270  271  272  273  274  276  277  278  279  280  281  282  283  284\n",
      "  285  286  287  288  289  290  291  292  293  294  295  296  297  298\n",
      "  299  300  301  302  303  304  305  306  307  308  309  310  311  312\n",
      "  313  314  315  316  317  423  425  427  428  430  431  432  433  434\n",
      "  435  436  437  438  439  440  441  442  443  444  445  446  447  448\n",
      "  449  450  451  452  453  454  455  456  457  458  459  460  461  462\n",
      "  463  464  465  466  467  468  469  529  982 1018 1019 1044 1046 1057\n",
      " 1063 1065 1071 1075 1076 1078 1081 1082 1083 1086 1088 1095 1098 1138\n",
      " 1157 1193 1194 1219 1221 1232 1238 1240 1246 1250 1251 1253 1256 1257\n",
      " 1258 1261 1263 1270 1273 1313 1332 1368 1369 1394 1396 1407 1413 1415\n",
      " 1421 1422 1425 1426 1428 1431 1432 1433 1436 1438 1445 1448] are constant.\n",
      "  warnings.warn(\"Features %s are constant.\" % constant_features_idx,\n",
      "C:\\ProgramData\\Anaconda3\\lib\\site-packages\\sklearn\\feature_selection\\_univariate_selection.py:116: RuntimeWarning: invalid value encountered in true_divide\n",
      "  f = msb / msw\n"
     ]
    },
    {
     "name": "stdout",
     "output_type": "stream",
     "text": [
      "[LibSVM]"
     ]
    },
    {
     "name": "stderr",
     "output_type": "stream",
     "text": [
      "C:\\ProgramData\\Anaconda3\\lib\\site-packages\\sklearn\\feature_selection\\_univariate_selection.py:114: UserWarning: Features [   1    2    3    4    5    6    7    8    9   10   15   18   20  113\n",
      "  114  116  117  118  119  120  121  122  123  124  125  127  259  266\n",
      "  270  271  272  273  274  276  277  278  279  280  281  282  283  284\n",
      "  285  286  287  288  289  290  291  292  293  294  295  296  297  298\n",
      "  299  300  301  302  303  304  305  306  307  308  309  310  311  312\n",
      "  313  314  315  316  317  423  425  427  428  430  431  432  433  434\n",
      "  435  436  437  438  439  440  441  442  443  444  445  446  447  448\n",
      "  449  450  451  452  453  454  455  456  457  458  459  460  461  462\n",
      "  463  464  465  466  467  468  469  529  982 1018 1019 1044 1046 1057\n",
      " 1063 1065 1071 1075 1076 1078 1081 1082 1083 1086 1088 1095 1098 1138\n",
      " 1157 1193 1194 1219 1221 1232 1238 1240 1246 1250 1251 1253 1256 1257\n",
      " 1258 1261 1263 1270 1273 1313 1332 1368 1369 1394 1396 1407 1413 1415\n",
      " 1421 1422 1425 1426 1428 1431 1432 1433 1436 1438 1445 1448] are constant.\n",
      "  warnings.warn(\"Features %s are constant.\" % constant_features_idx,\n",
      "C:\\ProgramData\\Anaconda3\\lib\\site-packages\\sklearn\\feature_selection\\_univariate_selection.py:116: RuntimeWarning: invalid value encountered in true_divide\n",
      "  f = msb / msw\n"
     ]
    },
    {
     "name": "stdout",
     "output_type": "stream",
     "text": [
      "[LibSVM]"
     ]
    },
    {
     "name": "stderr",
     "output_type": "stream",
     "text": [
      "C:\\ProgramData\\Anaconda3\\lib\\site-packages\\sklearn\\feature_selection\\_univariate_selection.py:114: UserWarning: Features [   1    2    3    4    5    6    7    8    9   10   15   18   20  113\n",
      "  114  116  117  118  119  120  121  122  123  124  125  127  259  266\n",
      "  270  271  272  273  274  276  277  278  279  280  281  282  283  284\n",
      "  285  286  287  288  289  290  291  292  293  294  295  296  297  298\n",
      "  299  300  301  302  303  304  305  306  307  308  309  310  311  312\n",
      "  313  314  315  316  317  423  425  427  428  430  431  432  433  434\n",
      "  435  436  437  438  439  440  441  442  443  444  445  446  447  448\n",
      "  449  450  451  452  453  454  455  456  457  458  459  460  461  462\n",
      "  463  464  465  466  467  468  469  529  982 1018 1019 1044 1046 1057\n",
      " 1063 1065 1071 1075 1076 1078 1081 1082 1083 1086 1088 1095 1098 1138\n",
      " 1157 1193 1194 1219 1221 1232 1238 1240 1246 1250 1251 1253 1256 1257\n",
      " 1258 1261 1263 1270 1273 1313 1332 1368 1369 1394 1396 1407 1413 1415\n",
      " 1421 1422 1425 1426 1428 1431 1432 1433 1436 1438 1445 1448] are constant.\n",
      "  warnings.warn(\"Features %s are constant.\" % constant_features_idx,\n",
      "C:\\ProgramData\\Anaconda3\\lib\\site-packages\\sklearn\\feature_selection\\_univariate_selection.py:116: RuntimeWarning: invalid value encountered in true_divide\n",
      "  f = msb / msw\n"
     ]
    },
    {
     "name": "stdout",
     "output_type": "stream",
     "text": [
      "[LibSVM]"
     ]
    },
    {
     "name": "stderr",
     "output_type": "stream",
     "text": [
      "C:\\ProgramData\\Anaconda3\\lib\\site-packages\\sklearn\\feature_selection\\_univariate_selection.py:114: UserWarning: Features [   1    2    3    4    5    6    7    8    9   10   15   18   20  113\n",
      "  114  116  117  118  119  120  121  122  123  124  125  127  259  266\n",
      "  270  271  272  273  274  276  277  278  279  280  281  282  283  284\n",
      "  285  286  287  288  289  290  291  292  293  294  295  296  297  298\n",
      "  299  300  301  302  303  304  305  306  307  308  309  310  311  312\n",
      "  313  314  315  316  317  423  425  427  428  430  431  432  433  434\n",
      "  435  436  437  438  439  440  441  442  443  444  445  446  447  448\n",
      "  449  450  451  452  453  454  455  456  457  458  459  460  461  462\n",
      "  463  464  465  466  467  468  469  529  982 1018 1019 1044 1046 1057\n",
      " 1063 1065 1071 1075 1076 1078 1081 1082 1083 1086 1088 1095 1098 1138\n",
      " 1157 1193 1194 1219 1221 1232 1238 1240 1246 1250 1251 1253 1256 1257\n",
      " 1258 1261 1263 1270 1273 1313 1332 1368 1369 1394 1396 1407 1413 1415\n",
      " 1421 1422 1425 1426 1428 1431 1432 1433 1436 1438 1445 1448] are constant.\n",
      "  warnings.warn(\"Features %s are constant.\" % constant_features_idx,\n",
      "C:\\ProgramData\\Anaconda3\\lib\\site-packages\\sklearn\\feature_selection\\_univariate_selection.py:116: RuntimeWarning: invalid value encountered in true_divide\n",
      "  f = msb / msw\n"
     ]
    },
    {
     "name": "stdout",
     "output_type": "stream",
     "text": [
      "[LibSVM]"
     ]
    },
    {
     "name": "stderr",
     "output_type": "stream",
     "text": [
      "C:\\ProgramData\\Anaconda3\\lib\\site-packages\\sklearn\\feature_selection\\_univariate_selection.py:114: UserWarning: Features [   1    2    3    4    5    6    7    8    9   10   15   18   20  113\n",
      "  114  116  117  118  119  120  121  122  123  124  125  127  259  266\n",
      "  270  271  272  273  274  276  277  278  279  280  281  282  283  284\n",
      "  285  286  287  288  289  290  291  292  293  294  295  296  297  298\n",
      "  299  300  301  302  303  304  305  306  307  308  309  310  311  312\n",
      "  313  314  315  316  317  423  425  427  428  430  431  432  433  434\n",
      "  435  436  437  438  439  440  441  442  443  444  445  446  447  448\n",
      "  449  450  451  452  453  454  455  456  457  458  459  460  461  462\n",
      "  463  464  465  466  467  468  469  529  982 1018 1019 1044 1046 1057\n",
      " 1063 1065 1071 1075 1076 1078 1081 1082 1083 1086 1088 1095 1098 1138\n",
      " 1157 1193 1194 1219 1221 1232 1238 1240 1246 1250 1251 1253 1256 1257\n",
      " 1258 1261 1263 1270 1273 1313 1332 1368 1369 1394 1396 1407 1413 1415\n",
      " 1421 1422 1425 1426 1428 1431 1432 1433 1436 1438 1445 1448] are constant.\n",
      "  warnings.warn(\"Features %s are constant.\" % constant_features_idx,\n",
      "C:\\ProgramData\\Anaconda3\\lib\\site-packages\\sklearn\\feature_selection\\_univariate_selection.py:116: RuntimeWarning: invalid value encountered in true_divide\n",
      "  f = msb / msw\n"
     ]
    },
    {
     "name": "stdout",
     "output_type": "stream",
     "text": [
      "[LibSVM]"
     ]
    },
    {
     "name": "stderr",
     "output_type": "stream",
     "text": [
      "C:\\ProgramData\\Anaconda3\\lib\\site-packages\\sklearn\\feature_selection\\_univariate_selection.py:114: UserWarning: Features [   1    2    3    4    5    6    7    8    9   10   15   18   20  113\n",
      "  114  116  117  118  119  120  121  122  123  124  125  127  259  266\n",
      "  270  271  272  273  274  276  277  278  279  280  281  282  283  284\n",
      "  285  286  287  288  289  290  291  292  293  294  295  296  297  298\n",
      "  299  300  301  302  303  304  305  306  307  308  309  310  311  312\n",
      "  313  314  315  316  317  423  425  427  428  430  431  432  433  434\n",
      "  435  436  437  438  439  440  441  442  443  444  445  446  447  448\n",
      "  449  450  451  452  453  454  455  456  457  458  459  460  461  462\n",
      "  463  464  465  466  467  468  469  529  982 1018 1019 1044 1046 1057\n",
      " 1063 1065 1071 1075 1076 1078 1081 1082 1083 1086 1088 1095 1098 1138\n",
      " 1157 1193 1194 1219 1221 1232 1238 1240 1246 1250 1251 1253 1256 1257\n",
      " 1258 1261 1263 1270 1273 1313 1332 1368 1369 1394 1396 1407 1413 1415\n",
      " 1421 1422 1425 1426 1428 1431 1432 1433 1436 1438 1445 1448] are constant.\n",
      "  warnings.warn(\"Features %s are constant.\" % constant_features_idx,\n",
      "C:\\ProgramData\\Anaconda3\\lib\\site-packages\\sklearn\\feature_selection\\_univariate_selection.py:116: RuntimeWarning: invalid value encountered in true_divide\n",
      "  f = msb / msw\n"
     ]
    },
    {
     "name": "stdout",
     "output_type": "stream",
     "text": [
      "[LibSVM]"
     ]
    },
    {
     "name": "stderr",
     "output_type": "stream",
     "text": [
      "C:\\ProgramData\\Anaconda3\\lib\\site-packages\\sklearn\\feature_selection\\_univariate_selection.py:114: UserWarning: Features [   1    2    3    4    5    6    7    8    9   10   15   18   20  113\n",
      "  114  116  117  118  119  120  121  122  123  124  125  127  259  266\n",
      "  270  271  272  273  274  276  277  278  279  280  281  282  283  284\n",
      "  285  286  287  288  289  290  291  292  293  294  295  296  297  298\n",
      "  299  300  301  302  303  304  305  306  307  308  309  310  311  312\n",
      "  313  314  315  316  317  423  425  427  428  430  431  432  433  434\n",
      "  435  436  437  438  439  440  441  442  443  444  445  446  447  448\n",
      "  449  450  451  452  453  454  455  456  457  458  459  460  461  462\n",
      "  463  464  465  466  467  468  469  529  982 1018 1019 1044 1046 1057\n",
      " 1063 1065 1071 1075 1076 1078 1081 1082 1083 1086 1088 1095 1098 1138\n",
      " 1157 1193 1194 1219 1221 1232 1238 1240 1246 1250 1251 1253 1256 1257\n",
      " 1258 1261 1263 1270 1273 1313 1332 1368 1369 1394 1396 1407 1413 1415\n",
      " 1421 1422 1425 1426 1428 1431 1432 1433 1436 1438 1445 1448] are constant.\n",
      "  warnings.warn(\"Features %s are constant.\" % constant_features_idx,\n",
      "C:\\ProgramData\\Anaconda3\\lib\\site-packages\\sklearn\\feature_selection\\_univariate_selection.py:116: RuntimeWarning: invalid value encountered in true_divide\n",
      "  f = msb / msw\n"
     ]
    },
    {
     "name": "stdout",
     "output_type": "stream",
     "text": [
      "[LibSVM]"
     ]
    },
    {
     "name": "stderr",
     "output_type": "stream",
     "text": [
      "C:\\ProgramData\\Anaconda3\\lib\\site-packages\\sklearn\\feature_selection\\_univariate_selection.py:114: UserWarning: Features [   1    2    3    4    5    6    7    8    9   10   15   18   20  113\n",
      "  114  116  117  118  119  120  121  122  123  124  125  127  259  266\n",
      "  270  271  272  273  274  276  277  278  279  280  281  282  283  284\n",
      "  285  286  287  288  289  290  291  292  293  294  295  296  297  298\n",
      "  299  300  301  302  303  304  305  306  307  308  309  310  311  312\n",
      "  313  314  315  316  317  423  425  427  428  430  431  432  433  434\n",
      "  435  436  437  438  439  440  441  442  443  444  445  446  447  448\n",
      "  449  450  451  452  453  454  455  456  457  458  459  460  461  462\n",
      "  463  464  465  466  467  468  469  529  982 1018 1019 1044 1046 1057\n",
      " 1063 1065 1071 1075 1076 1078 1081 1082 1083 1086 1088 1095 1098 1138\n",
      " 1157 1193 1194 1219 1221 1232 1238 1240 1246 1250 1251 1253 1256 1257\n",
      " 1258 1261 1263 1270 1273 1313 1332 1368 1369 1394 1396 1407 1413 1415\n",
      " 1421 1422 1425 1426 1428 1431 1432 1433 1436 1438 1445 1448] are constant.\n",
      "  warnings.warn(\"Features %s are constant.\" % constant_features_idx,\n",
      "C:\\ProgramData\\Anaconda3\\lib\\site-packages\\sklearn\\feature_selection\\_univariate_selection.py:116: RuntimeWarning: invalid value encountered in true_divide\n",
      "  f = msb / msw\n"
     ]
    },
    {
     "name": "stdout",
     "output_type": "stream",
     "text": [
      "[LibSVM]"
     ]
    },
    {
     "name": "stderr",
     "output_type": "stream",
     "text": [
      "C:\\ProgramData\\Anaconda3\\lib\\site-packages\\sklearn\\feature_selection\\_univariate_selection.py:114: UserWarning: Features [   1    2    3    4    5    6    7    8    9   10   15   18   20  113\n",
      "  114  116  117  118  119  120  121  122  123  124  125  127  259  266\n",
      "  270  271  272  273  274  276  277  278  279  280  281  282  283  284\n",
      "  285  286  287  288  289  290  291  292  293  294  295  296  297  298\n",
      "  299  300  301  302  303  304  305  306  307  308  309  310  311  312\n",
      "  313  314  315  316  317  423  425  427  428  430  431  432  433  434\n",
      "  435  436  437  438  439  440  441  442  443  444  445  446  447  448\n",
      "  449  450  451  452  453  454  455  456  457  458  459  460  461  462\n",
      "  463  464  465  466  467  468  469  529  982 1018 1019 1044 1046 1057\n",
      " 1063 1065 1071 1075 1076 1078 1081 1082 1083 1086 1088 1095 1098 1138\n",
      " 1157 1193 1194 1219 1221 1232 1238 1240 1246 1250 1251 1253 1256 1257\n",
      " 1258 1261 1263 1270 1273 1313 1332 1368 1369 1394 1396 1407 1413 1415\n",
      " 1421 1422 1425 1426 1428 1431 1432 1433 1436 1438 1445 1448] are constant.\n",
      "  warnings.warn(\"Features %s are constant.\" % constant_features_idx,\n",
      "C:\\ProgramData\\Anaconda3\\lib\\site-packages\\sklearn\\feature_selection\\_univariate_selection.py:116: RuntimeWarning: invalid value encountered in true_divide\n",
      "  f = msb / msw\n"
     ]
    },
    {
     "name": "stdout",
     "output_type": "stream",
     "text": [
      "[LibSVM]"
     ]
    },
    {
     "name": "stderr",
     "output_type": "stream",
     "text": [
      "C:\\ProgramData\\Anaconda3\\lib\\site-packages\\sklearn\\feature_selection\\_univariate_selection.py:114: UserWarning: Features [   1    2    3    4    5    6    7    8    9   10   15   18   20  113\n",
      "  114  116  117  118  119  120  121  122  123  124  125  127  259  266\n",
      "  270  271  272  273  274  276  277  278  279  280  281  282  283  284\n",
      "  285  286  287  288  289  290  291  292  293  294  295  296  297  298\n",
      "  299  300  301  302  303  304  305  306  307  308  309  310  311  312\n",
      "  313  314  315  316  317  423  425  427  428  430  431  432  433  434\n",
      "  435  436  437  438  439  440  441  442  443  444  445  446  447  448\n",
      "  449  450  451  452  453  454  455  456  457  458  459  460  461  462\n",
      "  463  464  465  466  467  468  469  529  982 1018 1019 1044 1046 1057\n",
      " 1063 1065 1071 1075 1076 1078 1081 1082 1083 1086 1088 1095 1098 1138\n",
      " 1157 1193 1194 1219 1221 1232 1238 1240 1246 1250 1251 1253 1256 1257\n",
      " 1258 1261 1263 1270 1273 1313 1332 1368 1369 1394 1396 1407 1413 1415\n",
      " 1421 1422 1425 1426 1428 1431 1432 1433 1436 1438 1445 1448] are constant.\n",
      "  warnings.warn(\"Features %s are constant.\" % constant_features_idx,\n",
      "C:\\ProgramData\\Anaconda3\\lib\\site-packages\\sklearn\\feature_selection\\_univariate_selection.py:116: RuntimeWarning: invalid value encountered in true_divide\n",
      "  f = msb / msw\n"
     ]
    },
    {
     "name": "stdout",
     "output_type": "stream",
     "text": [
      "[LibSVM]"
     ]
    },
    {
     "name": "stderr",
     "output_type": "stream",
     "text": [
      "C:\\ProgramData\\Anaconda3\\lib\\site-packages\\sklearn\\feature_selection\\_univariate_selection.py:114: UserWarning: Features [   1    2    3    4    5    6    7    8    9   10   15   18   20  113\n",
      "  114  116  117  118  119  120  121  122  123  124  125  127  259  266\n",
      "  270  271  272  273  274  276  277  278  279  280  281  282  283  284\n",
      "  285  286  287  288  289  290  291  292  293  294  295  296  297  298\n",
      "  299  300  301  302  303  304  305  306  307  308  309  310  311  312\n",
      "  313  314  315  316  317  423  425  427  428  430  431  432  433  434\n",
      "  435  436  437  438  439  440  441  442  443  444  445  446  447  448\n",
      "  449  450  451  452  453  454  455  456  457  458  459  460  461  462\n",
      "  463  464  465  466  467  468  469  529  982 1018 1019 1044 1046 1057\n",
      " 1063 1065 1071 1075 1076 1078 1081 1082 1083 1086 1088 1095 1098 1138\n",
      " 1157 1193 1194 1219 1221 1232 1238 1240 1246 1250 1251 1253 1256 1257\n",
      " 1258 1261 1263 1270 1273 1313 1332 1368 1369 1394 1396 1407 1413 1415\n",
      " 1421 1422 1425 1426 1428 1431 1432 1433 1436 1438 1445 1448] are constant.\n",
      "  warnings.warn(\"Features %s are constant.\" % constant_features_idx,\n",
      "C:\\ProgramData\\Anaconda3\\lib\\site-packages\\sklearn\\feature_selection\\_univariate_selection.py:116: RuntimeWarning: invalid value encountered in true_divide\n",
      "  f = msb / msw\n"
     ]
    },
    {
     "name": "stdout",
     "output_type": "stream",
     "text": [
      "[LibSVM]"
     ]
    },
    {
     "name": "stderr",
     "output_type": "stream",
     "text": [
      "C:\\ProgramData\\Anaconda3\\lib\\site-packages\\sklearn\\feature_selection\\_univariate_selection.py:114: UserWarning: Features [   1    2    3    4    5    6    7    8    9   10   15   18   20  113\n",
      "  114  116  117  118  119  120  121  122  123  124  125  127  259  266\n",
      "  270  271  272  273  274  276  277  278  279  280  281  282  283  284\n",
      "  285  286  287  288  289  290  291  292  293  294  295  296  297  298\n",
      "  299  300  301  302  303  304  305  306  307  308  309  310  311  312\n",
      "  313  314  315  316  317  423  425  427  428  430  431  432  433  434\n",
      "  435  436  437  438  439  440  441  442  443  444  445  446  447  448\n",
      "  449  450  451  452  453  454  455  456  457  458  459  460  461  462\n",
      "  463  464  465  466  467  468  469  529  982 1018 1019 1044 1046 1057\n",
      " 1063 1065 1071 1075 1076 1078 1081 1082 1083 1086 1088 1095 1098 1138\n",
      " 1157 1193 1194 1219 1221 1232 1238 1240 1246 1250 1251 1253 1256 1257\n",
      " 1258 1261 1263 1270 1273 1313 1332 1368 1369 1394 1396 1407 1413 1415\n",
      " 1421 1422 1425 1426 1428 1431 1432 1433 1436 1438 1445 1448] are constant.\n",
      "  warnings.warn(\"Features %s are constant.\" % constant_features_idx,\n",
      "C:\\ProgramData\\Anaconda3\\lib\\site-packages\\sklearn\\feature_selection\\_univariate_selection.py:116: RuntimeWarning: invalid value encountered in true_divide\n",
      "  f = msb / msw\n"
     ]
    },
    {
     "name": "stdout",
     "output_type": "stream",
     "text": [
      "[LibSVM]"
     ]
    },
    {
     "name": "stderr",
     "output_type": "stream",
     "text": [
      "C:\\ProgramData\\Anaconda3\\lib\\site-packages\\sklearn\\feature_selection\\_univariate_selection.py:114: UserWarning: Features [   1    2    3    4    5    6    7    8    9   10   15   18   20  113\n",
      "  114  116  117  118  119  120  121  122  123  124  125  127  259  266\n",
      "  270  271  272  273  274  276  277  278  279  280  281  282  283  284\n",
      "  285  286  287  288  289  290  291  292  293  294  295  296  297  298\n",
      "  299  300  301  302  303  304  305  306  307  308  309  310  311  312\n",
      "  313  314  315  316  317  423  425  427  428  430  431  432  433  434\n",
      "  435  436  437  438  439  440  441  442  443  444  445  446  447  448\n",
      "  449  450  451  452  453  454  455  456  457  458  459  460  461  462\n",
      "  463  464  465  466  467  468  469  529  982 1018 1019 1044 1046 1057\n",
      " 1063 1065 1071 1075 1076 1078 1081 1082 1083 1086 1088 1095 1098 1138\n",
      " 1157 1193 1194 1219 1221 1232 1238 1240 1246 1250 1251 1253 1256 1257\n",
      " 1258 1261 1263 1270 1273 1313 1332 1368 1369 1394 1396 1407 1413 1415\n",
      " 1421 1422 1425 1426 1428 1431 1432 1433 1436 1438 1445 1448] are constant.\n",
      "  warnings.warn(\"Features %s are constant.\" % constant_features_idx,\n",
      "C:\\ProgramData\\Anaconda3\\lib\\site-packages\\sklearn\\feature_selection\\_univariate_selection.py:116: RuntimeWarning: invalid value encountered in true_divide\n",
      "  f = msb / msw\n"
     ]
    },
    {
     "name": "stdout",
     "output_type": "stream",
     "text": [
      "[LibSVM]"
     ]
    },
    {
     "name": "stderr",
     "output_type": "stream",
     "text": [
      "C:\\ProgramData\\Anaconda3\\lib\\site-packages\\sklearn\\feature_selection\\_univariate_selection.py:114: UserWarning: Features [   1    2    3    4    5    6    7    8    9   10   15   18   20  113\n",
      "  114  116  117  118  119  120  121  122  123  124  125  127  259  266\n",
      "  270  271  272  273  274  276  277  278  279  280  281  282  283  284\n",
      "  285  286  287  288  289  290  291  292  293  294  295  296  297  298\n",
      "  299  300  301  302  303  304  305  306  307  308  309  310  311  312\n",
      "  313  314  315  316  317  423  425  427  428  430  431  432  433  434\n",
      "  435  436  437  438  439  440  441  442  443  444  445  446  447  448\n",
      "  449  450  451  452  453  454  455  456  457  458  459  460  461  462\n",
      "  463  464  465  466  467  468  469  529  982 1018 1019 1044 1046 1057\n",
      " 1063 1065 1071 1075 1076 1078 1081 1082 1083 1086 1088 1095 1098 1138\n",
      " 1157 1193 1194 1219 1221 1232 1238 1240 1246 1250 1251 1253 1256 1257\n",
      " 1258 1261 1263 1270 1273 1313 1332 1368 1369 1394 1396 1407 1413 1415\n",
      " 1421 1422 1425 1426 1428 1431 1432 1433 1436 1438 1445 1448] are constant.\n",
      "  warnings.warn(\"Features %s are constant.\" % constant_features_idx,\n",
      "C:\\ProgramData\\Anaconda3\\lib\\site-packages\\sklearn\\feature_selection\\_univariate_selection.py:116: RuntimeWarning: invalid value encountered in true_divide\n",
      "  f = msb / msw\n"
     ]
    },
    {
     "name": "stdout",
     "output_type": "stream",
     "text": [
      "[LibSVM]"
     ]
    },
    {
     "name": "stderr",
     "output_type": "stream",
     "text": [
      "C:\\ProgramData\\Anaconda3\\lib\\site-packages\\sklearn\\feature_selection\\_univariate_selection.py:114: UserWarning: Features [   1    2    3    4    5    6    7    8    9   10   15   18   20  113\n",
      "  114  116  117  118  119  120  121  122  123  124  125  127  259  266\n",
      "  270  271  272  273  274  276  277  278  279  280  281  282  283  284\n",
      "  285  286  287  288  289  290  291  292  293  294  295  296  297  298\n",
      "  299  300  301  302  303  304  305  306  307  308  309  310  311  312\n",
      "  313  314  315  316  317  423  425  427  428  430  431  432  433  434\n",
      "  435  436  437  438  439  440  441  442  443  444  445  446  447  448\n",
      "  449  450  451  452  453  454  455  456  457  458  459  460  461  462\n",
      "  463  464  465  466  467  468  469  529  982 1018 1019 1044 1046 1057\n",
      " 1063 1065 1071 1075 1076 1078 1081 1082 1083 1086 1088 1095 1098 1138\n",
      " 1157 1193 1194 1219 1221 1232 1238 1240 1246 1250 1251 1253 1256 1257\n",
      " 1258 1261 1263 1270 1273 1313 1332 1368 1369 1394 1396 1407 1413 1415\n",
      " 1421 1422 1425 1426 1428 1431 1432 1433 1436 1438 1445 1448] are constant.\n",
      "  warnings.warn(\"Features %s are constant.\" % constant_features_idx,\n",
      "C:\\ProgramData\\Anaconda3\\lib\\site-packages\\sklearn\\feature_selection\\_univariate_selection.py:116: RuntimeWarning: invalid value encountered in true_divide\n",
      "  f = msb / msw\n"
     ]
    },
    {
     "name": "stdout",
     "output_type": "stream",
     "text": [
      "[LibSVM]"
     ]
    },
    {
     "name": "stderr",
     "output_type": "stream",
     "text": [
      "C:\\ProgramData\\Anaconda3\\lib\\site-packages\\sklearn\\feature_selection\\_univariate_selection.py:114: UserWarning: Features [   1    2    3    4    5    6    7    8    9   10   15   18   20  113\n",
      "  114  116  117  118  119  120  121  122  123  124  125  127  259  266\n",
      "  270  271  272  273  274  276  277  278  279  280  281  282  283  284\n",
      "  285  286  287  288  289  290  291  292  293  294  295  296  297  298\n",
      "  299  300  301  302  303  304  305  306  307  308  309  310  311  312\n",
      "  313  314  315  316  317  423  425  427  428  430  431  432  433  434\n",
      "  435  436  437  438  439  440  441  442  443  444  445  446  447  448\n",
      "  449  450  451  452  453  454  455  456  457  458  459  460  461  462\n",
      "  463  464  465  466  467  468  469  529  982 1018 1019 1044 1046 1057\n",
      " 1063 1065 1071 1075 1076 1078 1081 1082 1083 1086 1088 1095 1098 1138\n",
      " 1157 1193 1194 1219 1221 1232 1238 1240 1246 1250 1251 1253 1256 1257\n",
      " 1258 1261 1263 1270 1273 1313 1332 1368 1369 1394 1396 1407 1413 1415\n",
      " 1421 1422 1425 1426 1428 1431 1432 1433 1436 1438 1445 1448] are constant.\n",
      "  warnings.warn(\"Features %s are constant.\" % constant_features_idx,\n",
      "C:\\ProgramData\\Anaconda3\\lib\\site-packages\\sklearn\\feature_selection\\_univariate_selection.py:116: RuntimeWarning: invalid value encountered in true_divide\n",
      "  f = msb / msw\n"
     ]
    },
    {
     "name": "stdout",
     "output_type": "stream",
     "text": [
      "[LibSVM]"
     ]
    },
    {
     "name": "stderr",
     "output_type": "stream",
     "text": [
      "C:\\ProgramData\\Anaconda3\\lib\\site-packages\\sklearn\\feature_selection\\_univariate_selection.py:114: UserWarning: Features [   1    2    3    4    5    6    7    8    9   10   15   18   20  113\n",
      "  114  116  117  118  119  120  121  122  123  124  125  127  259  266\n",
      "  270  271  272  273  274  276  277  278  279  280  281  282  283  284\n",
      "  285  286  287  288  289  290  291  292  293  294  295  296  297  298\n",
      "  299  300  301  302  303  304  305  306  307  308  309  310  311  312\n",
      "  313  314  315  316  317  423  425  427  428  430  431  432  433  434\n",
      "  435  436  437  438  439  440  441  442  443  444  445  446  447  448\n",
      "  449  450  451  452  453  454  455  456  457  458  459  460  461  462\n",
      "  463  464  465  466  467  468  469  529  982 1018 1019 1044 1046 1057\n",
      " 1063 1065 1071 1075 1076 1078 1081 1082 1083 1086 1088 1095 1098 1138\n",
      " 1157 1193 1194 1219 1221 1232 1238 1240 1246 1250 1251 1253 1256 1257\n",
      " 1258 1261 1263 1270 1273 1313 1332 1368 1369 1394 1396 1407 1413 1415\n",
      " 1421 1422 1425 1426 1428 1431 1432 1433 1436 1438 1445 1448] are constant.\n",
      "  warnings.warn(\"Features %s are constant.\" % constant_features_idx,\n",
      "C:\\ProgramData\\Anaconda3\\lib\\site-packages\\sklearn\\feature_selection\\_univariate_selection.py:116: RuntimeWarning: invalid value encountered in true_divide\n",
      "  f = msb / msw\n"
     ]
    },
    {
     "name": "stdout",
     "output_type": "stream",
     "text": [
      "[LibSVM]"
     ]
    },
    {
     "name": "stderr",
     "output_type": "stream",
     "text": [
      "C:\\ProgramData\\Anaconda3\\lib\\site-packages\\sklearn\\feature_selection\\_univariate_selection.py:114: UserWarning: Features [   1    2    3    4    5    6    7    8    9   10   15   18   20  113\n",
      "  114  116  117  118  119  120  121  122  123  124  125  127  259  266\n",
      "  270  271  272  273  274  276  277  278  279  280  281  282  283  284\n",
      "  285  286  287  288  289  290  291  292  293  294  295  296  297  298\n",
      "  299  300  301  302  303  304  305  306  307  308  309  310  311  312\n",
      "  313  314  315  316  317  423  425  427  428  430  431  432  433  434\n",
      "  435  436  437  438  439  440  441  442  443  444  445  446  447  448\n",
      "  449  450  451  452  453  454  455  456  457  458  459  460  461  462\n",
      "  463  464  465  466  467  468  469  529  982 1018 1019 1044 1046 1057\n",
      " 1063 1065 1071 1075 1076 1078 1081 1082 1083 1086 1088 1095 1098 1138\n",
      " 1157 1193 1194 1219 1221 1232 1238 1240 1246 1250 1251 1253 1256 1257\n",
      " 1258 1261 1263 1270 1273 1313 1332 1368 1369 1394 1396 1407 1413 1415\n",
      " 1421 1422 1425 1426 1428 1431 1432 1433 1436 1438 1445 1448] are constant.\n",
      "  warnings.warn(\"Features %s are constant.\" % constant_features_idx,\n",
      "C:\\ProgramData\\Anaconda3\\lib\\site-packages\\sklearn\\feature_selection\\_univariate_selection.py:116: RuntimeWarning: invalid value encountered in true_divide\n",
      "  f = msb / msw\n"
     ]
    },
    {
     "name": "stdout",
     "output_type": "stream",
     "text": [
      "[LibSVM]"
     ]
    },
    {
     "name": "stderr",
     "output_type": "stream",
     "text": [
      "C:\\ProgramData\\Anaconda3\\lib\\site-packages\\sklearn\\feature_selection\\_univariate_selection.py:114: UserWarning: Features [   1    2    3    4    5    6    7    8    9   10   15   18   20  113\n",
      "  114  116  117  118  119  120  121  122  123  124  125  127  259  266\n",
      "  270  271  272  273  274  276  277  278  279  280  281  282  283  284\n",
      "  285  286  287  288  289  290  291  292  293  294  295  296  297  298\n",
      "  299  300  301  302  303  304  305  306  307  308  309  310  311  312\n",
      "  313  314  315  316  317  423  425  427  428  430  431  432  433  434\n",
      "  435  436  437  438  439  440  441  442  443  444  445  446  447  448\n",
      "  449  450  451  452  453  454  455  456  457  458  459  460  461  462\n",
      "  463  464  465  466  467  468  469  529  982 1018 1019 1044 1046 1057\n",
      " 1063 1065 1071 1075 1076 1078 1081 1082 1083 1086 1088 1095 1098 1138\n",
      " 1157 1193 1194 1219 1221 1232 1238 1240 1246 1250 1251 1253 1256 1257\n",
      " 1258 1261 1263 1270 1273 1313 1332 1368 1369 1394 1396 1407 1413 1415\n",
      " 1421 1422 1425 1426 1428 1431 1432 1433 1436 1438 1445 1448] are constant.\n",
      "  warnings.warn(\"Features %s are constant.\" % constant_features_idx,\n",
      "C:\\ProgramData\\Anaconda3\\lib\\site-packages\\sklearn\\feature_selection\\_univariate_selection.py:116: RuntimeWarning: invalid value encountered in true_divide\n",
      "  f = msb / msw\n"
     ]
    },
    {
     "name": "stdout",
     "output_type": "stream",
     "text": [
      "[LibSVM]"
     ]
    },
    {
     "name": "stderr",
     "output_type": "stream",
     "text": [
      "C:\\ProgramData\\Anaconda3\\lib\\site-packages\\sklearn\\feature_selection\\_univariate_selection.py:114: UserWarning: Features [   1    2    3    4    5    6    7    8    9   10   15   18   20  113\n",
      "  114  116  117  118  119  120  121  122  123  124  125  127  259  266\n",
      "  270  271  272  273  274  276  277  278  279  280  281  282  283  284\n",
      "  285  286  287  288  289  290  291  292  293  294  295  296  297  298\n",
      "  299  300  301  302  303  304  305  306  307  308  309  310  311  312\n",
      "  313  314  315  316  317  423  425  427  428  430  431  432  433  434\n",
      "  435  436  437  438  439  440  441  442  443  444  445  446  447  448\n",
      "  449  450  451  452  453  454  455  456  457  458  459  460  461  462\n",
      "  463  464  465  466  467  468  469  529  982 1018 1019 1044 1046 1057\n",
      " 1063 1065 1071 1075 1076 1078 1081 1082 1083 1086 1088 1095 1098 1138\n",
      " 1157 1193 1194 1219 1221 1232 1238 1240 1246 1250 1251 1253 1256 1257\n",
      " 1258 1261 1263 1270 1273 1313 1332 1368 1369 1394 1396 1407 1413 1415\n",
      " 1421 1422 1425 1426 1428 1431 1432 1433 1436 1438 1445 1448] are constant.\n",
      "  warnings.warn(\"Features %s are constant.\" % constant_features_idx,\n",
      "C:\\ProgramData\\Anaconda3\\lib\\site-packages\\sklearn\\feature_selection\\_univariate_selection.py:116: RuntimeWarning: invalid value encountered in true_divide\n",
      "  f = msb / msw\n"
     ]
    },
    {
     "name": "stdout",
     "output_type": "stream",
     "text": [
      "[LibSVM]"
     ]
    },
    {
     "name": "stderr",
     "output_type": "stream",
     "text": [
      "C:\\ProgramData\\Anaconda3\\lib\\site-packages\\sklearn\\feature_selection\\_univariate_selection.py:114: UserWarning: Features [   1    2    3    4    5    6    7    8    9   10   15   18   20  113\n",
      "  114  116  117  118  119  120  121  122  123  124  125  127  259  266\n",
      "  270  271  272  273  274  276  277  278  279  280  281  282  283  284\n",
      "  285  286  287  288  289  290  291  292  293  294  295  296  297  298\n",
      "  299  300  301  302  303  304  305  306  307  308  309  310  311  312\n",
      "  313  314  315  316  317  423  425  427  428  430  431  432  433  434\n",
      "  435  436  437  438  439  440  441  442  443  444  445  446  447  448\n",
      "  449  450  451  452  453  454  455  456  457  458  459  460  461  462\n",
      "  463  464  465  466  467  468  469  529  982 1018 1019 1044 1046 1057\n",
      " 1063 1065 1071 1075 1076 1078 1081 1082 1083 1086 1088 1095 1098 1138\n",
      " 1157 1193 1194 1219 1221 1232 1238 1240 1246 1250 1251 1253 1256 1257\n",
      " 1258 1261 1263 1270 1273 1313 1332 1368 1369 1394 1396 1407 1413 1415\n",
      " 1421 1422 1425 1426 1428 1431 1432 1433 1436 1438 1445 1448] are constant.\n",
      "  warnings.warn(\"Features %s are constant.\" % constant_features_idx,\n",
      "C:\\ProgramData\\Anaconda3\\lib\\site-packages\\sklearn\\feature_selection\\_univariate_selection.py:116: RuntimeWarning: invalid value encountered in true_divide\n",
      "  f = msb / msw\n"
     ]
    },
    {
     "name": "stdout",
     "output_type": "stream",
     "text": [
      "[LibSVM]"
     ]
    },
    {
     "name": "stderr",
     "output_type": "stream",
     "text": [
      "C:\\ProgramData\\Anaconda3\\lib\\site-packages\\sklearn\\feature_selection\\_univariate_selection.py:114: UserWarning: Features [   1    2    3    4    5    6    7    8    9   10   15   18   20  113\n",
      "  114  116  117  118  119  120  121  122  123  124  125  127  259  266\n",
      "  270  271  272  273  274  276  277  278  279  280  281  282  283  284\n",
      "  285  286  287  288  289  290  291  292  293  294  295  296  297  298\n",
      "  299  300  301  302  303  304  305  306  307  308  309  310  311  312\n",
      "  313  314  315  316  317  423  425  427  428  430  431  432  433  434\n",
      "  435  436  437  438  439  440  441  442  443  444  445  446  447  448\n",
      "  449  450  451  452  453  454  455  456  457  458  459  460  461  462\n",
      "  463  464  465  466  467  468  469  529  982 1018 1019 1044 1046 1057\n",
      " 1063 1065 1071 1075 1076 1078 1081 1082 1083 1086 1088 1095 1098 1138\n",
      " 1157 1193 1194 1219 1221 1232 1238 1240 1246 1250 1251 1253 1256 1257\n",
      " 1258 1261 1263 1270 1273 1313 1332 1368 1369 1394 1396 1407 1413 1415\n",
      " 1421 1422 1425 1426 1428 1431 1432 1433 1436 1438 1445 1448] are constant.\n",
      "  warnings.warn(\"Features %s are constant.\" % constant_features_idx,\n",
      "C:\\ProgramData\\Anaconda3\\lib\\site-packages\\sklearn\\feature_selection\\_univariate_selection.py:116: RuntimeWarning: invalid value encountered in true_divide\n",
      "  f = msb / msw\n"
     ]
    },
    {
     "name": "stdout",
     "output_type": "stream",
     "text": [
      "[LibSVM]"
     ]
    },
    {
     "name": "stderr",
     "output_type": "stream",
     "text": [
      "C:\\ProgramData\\Anaconda3\\lib\\site-packages\\sklearn\\feature_selection\\_univariate_selection.py:114: UserWarning: Features [   1    2    3    4    5    6    7    8    9   10   15   18   20  113\n",
      "  114  116  117  118  119  120  121  122  123  124  125  127  259  266\n",
      "  270  271  272  273  274  276  277  278  279  280  281  282  283  284\n",
      "  285  286  287  288  289  290  291  292  293  294  295  296  297  298\n",
      "  299  300  301  302  303  304  305  306  307  308  309  310  311  312\n",
      "  313  314  315  316  317  423  425  427  428  430  431  432  433  434\n",
      "  435  436  437  438  439  440  441  442  443  444  445  446  447  448\n",
      "  449  450  451  452  453  454  455  456  457  458  459  460  461  462\n",
      "  463  464  465  466  467  468  469  529  982 1018 1019 1044 1046 1057\n",
      " 1063 1065 1071 1075 1076 1078 1081 1082 1083 1086 1088 1095 1098 1138\n",
      " 1157 1193 1194 1219 1221 1232 1238 1240 1246 1250 1251 1253 1256 1257\n",
      " 1258 1261 1263 1270 1273 1313 1332 1368 1369 1394 1396 1407 1413 1415\n",
      " 1421 1422 1425 1426 1428 1431 1432 1433 1436 1438 1445 1448] are constant.\n",
      "  warnings.warn(\"Features %s are constant.\" % constant_features_idx,\n",
      "C:\\ProgramData\\Anaconda3\\lib\\site-packages\\sklearn\\feature_selection\\_univariate_selection.py:116: RuntimeWarning: invalid value encountered in true_divide\n",
      "  f = msb / msw\n"
     ]
    },
    {
     "name": "stdout",
     "output_type": "stream",
     "text": [
      "[LibSVM]"
     ]
    },
    {
     "name": "stderr",
     "output_type": "stream",
     "text": [
      "C:\\ProgramData\\Anaconda3\\lib\\site-packages\\sklearn\\feature_selection\\_univariate_selection.py:114: UserWarning: Features [   1    2    3    4    5    6    7    8    9   10   15   18   20  113\n",
      "  114  116  117  118  119  120  121  122  123  124  125  127  259  266\n",
      "  270  271  272  273  274  276  277  278  279  280  281  282  283  284\n",
      "  285  286  287  288  289  290  291  292  293  294  295  296  297  298\n",
      "  299  300  301  302  303  304  305  306  307  308  309  310  311  312\n",
      "  313  314  315  316  317  423  425  427  428  430  431  432  433  434\n",
      "  435  436  437  438  439  440  441  442  443  444  445  446  447  448\n",
      "  449  450  451  452  453  454  455  456  457  458  459  460  461  462\n",
      "  463  464  465  466  467  468  469  529  982 1018 1019 1044 1046 1057\n",
      " 1063 1065 1071 1075 1076 1078 1081 1082 1083 1086 1088 1095 1098 1138\n",
      " 1157 1193 1194 1219 1221 1232 1238 1240 1246 1250 1251 1253 1256 1257\n",
      " 1258 1261 1263 1270 1273 1313 1332 1368 1369 1394 1396 1407 1413 1415\n",
      " 1421 1422 1425 1426 1428 1431 1432 1433 1436 1438 1445 1448] are constant.\n",
      "  warnings.warn(\"Features %s are constant.\" % constant_features_idx,\n",
      "C:\\ProgramData\\Anaconda3\\lib\\site-packages\\sklearn\\feature_selection\\_univariate_selection.py:116: RuntimeWarning: invalid value encountered in true_divide\n",
      "  f = msb / msw\n"
     ]
    },
    {
     "name": "stdout",
     "output_type": "stream",
     "text": [
      "[LibSVM]"
     ]
    },
    {
     "name": "stderr",
     "output_type": "stream",
     "text": [
      "C:\\ProgramData\\Anaconda3\\lib\\site-packages\\sklearn\\feature_selection\\_univariate_selection.py:114: UserWarning: Features [   1    2    3    4    5    6    7    8    9   10   15   18   20  113\n",
      "  114  116  117  118  119  120  121  122  123  124  125  127  259  266\n",
      "  270  271  272  273  274  276  277  278  279  280  281  282  283  284\n",
      "  285  286  287  288  289  290  291  292  293  294  295  296  297  298\n",
      "  299  300  301  302  303  304  305  306  307  308  309  310  311  312\n",
      "  313  314  315  316  317  423  425  427  428  430  431  432  433  434\n",
      "  435  436  437  438  439  440  441  442  443  444  445  446  447  448\n",
      "  449  450  451  452  453  454  455  456  457  458  459  460  461  462\n",
      "  463  464  465  466  467  468  469  529  982 1018 1019 1044 1046 1057\n",
      " 1063 1065 1071 1075 1076 1078 1081 1082 1083 1086 1088 1095 1098 1138\n",
      " 1157 1193 1194 1219 1221 1232 1238 1240 1246 1250 1251 1253 1256 1257\n",
      " 1258 1261 1263 1270 1273 1313 1332 1368 1369 1394 1396 1407 1413 1415\n",
      " 1421 1422 1425 1426 1428 1431 1432 1433 1436 1438 1445 1448] are constant.\n",
      "  warnings.warn(\"Features %s are constant.\" % constant_features_idx,\n",
      "C:\\ProgramData\\Anaconda3\\lib\\site-packages\\sklearn\\feature_selection\\_univariate_selection.py:116: RuntimeWarning: invalid value encountered in true_divide\n",
      "  f = msb / msw\n"
     ]
    },
    {
     "name": "stdout",
     "output_type": "stream",
     "text": [
      "[LibSVM]"
     ]
    },
    {
     "name": "stderr",
     "output_type": "stream",
     "text": [
      "C:\\ProgramData\\Anaconda3\\lib\\site-packages\\sklearn\\feature_selection\\_univariate_selection.py:114: UserWarning: Features [   1    2    3    4    5    6    7    8    9   10   15   18   20  113\n",
      "  114  116  117  118  119  120  121  122  123  124  125  127  259  266\n",
      "  270  271  272  273  274  276  277  278  279  280  281  282  283  284\n",
      "  285  286  287  288  289  290  291  292  293  294  295  296  297  298\n",
      "  299  300  301  302  303  304  305  306  307  308  309  310  311  312\n",
      "  313  314  315  316  317  423  425  427  428  430  431  432  433  434\n",
      "  435  436  437  438  439  440  441  442  443  444  445  446  447  448\n",
      "  449  450  451  452  453  454  455  456  457  458  459  460  461  462\n",
      "  463  464  465  466  467  468  469  529  982 1018 1019 1044 1046 1057\n",
      " 1063 1065 1071 1075 1076 1078 1081 1082 1083 1086 1088 1095 1098 1138\n",
      " 1157 1193 1194 1219 1221 1232 1238 1240 1246 1250 1251 1253 1256 1257\n",
      " 1258 1261 1263 1270 1273 1313 1332 1368 1369 1394 1396 1407 1413 1415\n",
      " 1421 1422 1425 1426 1428 1431 1432 1433 1436 1438 1445 1448] are constant.\n",
      "  warnings.warn(\"Features %s are constant.\" % constant_features_idx,\n",
      "C:\\ProgramData\\Anaconda3\\lib\\site-packages\\sklearn\\feature_selection\\_univariate_selection.py:116: RuntimeWarning: invalid value encountered in true_divide\n",
      "  f = msb / msw\n"
     ]
    },
    {
     "name": "stdout",
     "output_type": "stream",
     "text": [
      "[LibSVM]"
     ]
    },
    {
     "name": "stderr",
     "output_type": "stream",
     "text": [
      "C:\\ProgramData\\Anaconda3\\lib\\site-packages\\sklearn\\feature_selection\\_univariate_selection.py:114: UserWarning: Features [   1    2    3    4    5    6    7    8    9   10   15   18   20  113\n",
      "  114  116  117  118  119  120  121  122  123  124  125  127  259  266\n",
      "  270  271  272  273  274  276  277  278  279  280  281  282  283  284\n",
      "  285  286  287  288  289  290  291  292  293  294  295  296  297  298\n",
      "  299  300  301  302  303  304  305  306  307  308  309  310  311  312\n",
      "  313  314  315  316  317  423  425  427  428  430  431  432  433  434\n",
      "  435  436  437  438  439  440  441  442  443  444  445  446  447  448\n",
      "  449  450  451  452  453  454  455  456  457  458  459  460  461  462\n",
      "  463  464  465  466  467  468  469  529  982 1018 1019 1044 1046 1057\n",
      " 1063 1065 1071 1075 1076 1078 1081 1082 1083 1086 1088 1095 1098 1138\n",
      " 1157 1193 1194 1219 1221 1232 1238 1240 1246 1250 1251 1253 1256 1257\n",
      " 1258 1261 1263 1270 1273 1313 1332 1368 1369 1394 1396 1407 1413 1415\n",
      " 1421 1422 1425 1426 1428 1431 1432 1433 1436 1438 1445 1448] are constant.\n",
      "  warnings.warn(\"Features %s are constant.\" % constant_features_idx,\n",
      "C:\\ProgramData\\Anaconda3\\lib\\site-packages\\sklearn\\feature_selection\\_univariate_selection.py:116: RuntimeWarning: invalid value encountered in true_divide\n",
      "  f = msb / msw\n"
     ]
    },
    {
     "name": "stdout",
     "output_type": "stream",
     "text": [
      "[LibSVM]"
     ]
    },
    {
     "name": "stderr",
     "output_type": "stream",
     "text": [
      "C:\\ProgramData\\Anaconda3\\lib\\site-packages\\sklearn\\feature_selection\\_univariate_selection.py:114: UserWarning: Features [   1    2    3    4    5    6    7    8    9   10   15   18   20  113\n",
      "  114  116  117  118  119  120  121  122  123  124  125  127  259  266\n",
      "  270  271  272  273  274  276  277  278  279  280  281  282  283  284\n",
      "  285  286  287  288  289  290  291  292  293  294  295  296  297  298\n",
      "  299  300  301  302  303  304  305  306  307  308  309  310  311  312\n",
      "  313  314  315  316  317  423  425  427  428  430  431  432  433  434\n",
      "  435  436  437  438  439  440  441  442  443  444  445  446  447  448\n",
      "  449  450  451  452  453  454  455  456  457  458  459  460  461  462\n",
      "  463  464  465  466  467  468  469  529  982 1018 1019 1044 1046 1057\n",
      " 1063 1065 1071 1075 1076 1078 1081 1082 1083 1086 1088 1095 1098 1138\n",
      " 1157 1193 1194 1219 1221 1232 1238 1240 1246 1250 1251 1253 1256 1257\n",
      " 1258 1261 1263 1270 1273 1313 1332 1368 1369 1394 1396 1407 1413 1415\n",
      " 1421 1422 1425 1426 1428 1431 1432 1433 1436 1438 1445 1448] are constant.\n",
      "  warnings.warn(\"Features %s are constant.\" % constant_features_idx,\n",
      "C:\\ProgramData\\Anaconda3\\lib\\site-packages\\sklearn\\feature_selection\\_univariate_selection.py:116: RuntimeWarning: invalid value encountered in true_divide\n",
      "  f = msb / msw\n"
     ]
    },
    {
     "name": "stdout",
     "output_type": "stream",
     "text": [
      "[LibSVM]"
     ]
    },
    {
     "name": "stderr",
     "output_type": "stream",
     "text": [
      "C:\\ProgramData\\Anaconda3\\lib\\site-packages\\sklearn\\feature_selection\\_univariate_selection.py:114: UserWarning: Features [   1    2    3    4    5    6    7    8    9   10   15   18   20  113\n",
      "  114  116  117  118  119  120  121  122  123  124  125  127  259  266\n",
      "  270  271  272  273  274  276  277  278  279  280  281  282  283  284\n",
      "  285  286  287  288  289  290  291  292  293  294  295  296  297  298\n",
      "  299  300  301  302  303  304  305  306  307  308  309  310  311  312\n",
      "  313  314  315  316  317  423  425  427  428  430  431  432  433  434\n",
      "  435  436  437  438  439  440  441  442  443  444  445  446  447  448\n",
      "  449  450  451  452  453  454  455  456  457  458  459  460  461  462\n",
      "  463  464  465  466  467  468  469  529  982 1018 1019 1044 1046 1057\n",
      " 1063 1065 1071 1075 1076 1078 1081 1082 1083 1086 1088 1095 1098 1138\n",
      " 1157 1193 1194 1219 1221 1232 1238 1240 1246 1250 1251 1253 1256 1257\n",
      " 1258 1261 1263 1270 1273 1313 1332 1368 1369 1394 1396 1407 1413 1415\n",
      " 1421 1422 1425 1426 1428 1431 1432 1433 1436 1438 1445 1448] are constant.\n",
      "  warnings.warn(\"Features %s are constant.\" % constant_features_idx,\n",
      "C:\\ProgramData\\Anaconda3\\lib\\site-packages\\sklearn\\feature_selection\\_univariate_selection.py:116: RuntimeWarning: invalid value encountered in true_divide\n",
      "  f = msb / msw\n"
     ]
    },
    {
     "name": "stdout",
     "output_type": "stream",
     "text": [
      "[LibSVM]"
     ]
    },
    {
     "name": "stderr",
     "output_type": "stream",
     "text": [
      "C:\\ProgramData\\Anaconda3\\lib\\site-packages\\sklearn\\feature_selection\\_univariate_selection.py:114: UserWarning: Features [   1    2    3    4    5    6    7    8    9   10   15   18   20  113\n",
      "  114  116  117  118  119  120  121  122  123  124  125  127  259  266\n",
      "  270  271  272  273  274  276  277  278  279  280  281  282  283  284\n",
      "  285  286  287  288  289  290  291  292  293  294  295  296  297  298\n",
      "  299  300  301  302  303  304  305  306  307  308  309  310  311  312\n",
      "  313  314  315  316  317  423  425  427  428  430  431  432  433  434\n",
      "  435  436  437  438  439  440  441  442  443  444  445  446  447  448\n",
      "  449  450  451  452  453  454  455  456  457  458  459  460  461  462\n",
      "  463  464  465  466  467  468  469  529  982 1018 1019 1044 1046 1057\n",
      " 1063 1065 1071 1075 1076 1078 1081 1082 1083 1086 1088 1095 1098 1138\n",
      " 1157 1193 1194 1219 1221 1232 1238 1240 1246 1250 1251 1253 1256 1257\n",
      " 1258 1261 1263 1270 1273 1313 1332 1368 1369 1394 1396 1407 1413 1415\n",
      " 1421 1422 1425 1426 1428 1431 1432 1433 1436 1438 1445 1448] are constant.\n",
      "  warnings.warn(\"Features %s are constant.\" % constant_features_idx,\n",
      "C:\\ProgramData\\Anaconda3\\lib\\site-packages\\sklearn\\feature_selection\\_univariate_selection.py:116: RuntimeWarning: invalid value encountered in true_divide\n",
      "  f = msb / msw\n"
     ]
    },
    {
     "name": "stdout",
     "output_type": "stream",
     "text": [
      "[LibSVM]"
     ]
    },
    {
     "name": "stderr",
     "output_type": "stream",
     "text": [
      "C:\\ProgramData\\Anaconda3\\lib\\site-packages\\sklearn\\feature_selection\\_univariate_selection.py:114: UserWarning: Features [   1    2    3    4    5    6    7    8    9   10   15   18   20  113\n",
      "  114  116  117  118  119  120  121  122  123  124  125  127  259  266\n",
      "  270  271  272  273  274  276  277  278  279  280  281  282  283  284\n",
      "  285  286  287  288  289  290  291  292  293  294  295  296  297  298\n",
      "  299  300  301  302  303  304  305  306  307  308  309  310  311  312\n",
      "  313  314  315  316  317  423  425  427  428  430  431  432  433  434\n",
      "  435  436  437  438  439  440  441  442  443  444  445  446  447  448\n",
      "  449  450  451  452  453  454  455  456  457  458  459  460  461  462\n",
      "  463  464  465  466  467  468  469  529  982 1018 1019 1044 1046 1057\n",
      " 1063 1065 1071 1075 1076 1078 1081 1082 1083 1086 1088 1095 1098 1138\n",
      " 1157 1193 1194 1219 1221 1232 1238 1240 1246 1250 1251 1253 1256 1257\n",
      " 1258 1261 1263 1270 1273 1313 1332 1368 1369 1394 1396 1407 1413 1415\n",
      " 1421 1422 1425 1426 1428 1431 1432 1433 1436 1438 1445 1448] are constant.\n",
      "  warnings.warn(\"Features %s are constant.\" % constant_features_idx,\n",
      "C:\\ProgramData\\Anaconda3\\lib\\site-packages\\sklearn\\feature_selection\\_univariate_selection.py:116: RuntimeWarning: invalid value encountered in true_divide\n",
      "  f = msb / msw\n"
     ]
    },
    {
     "name": "stdout",
     "output_type": "stream",
     "text": [
      "[LibSVM]"
     ]
    },
    {
     "name": "stderr",
     "output_type": "stream",
     "text": [
      "C:\\ProgramData\\Anaconda3\\lib\\site-packages\\sklearn\\feature_selection\\_univariate_selection.py:114: UserWarning: Features [   1    2    3    4    5    6    7    8    9   10   15   18   20  113\n",
      "  114  116  117  118  119  120  121  122  123  124  125  127  259  266\n",
      "  270  271  272  273  274  276  277  278  279  280  281  282  283  284\n",
      "  285  286  287  288  289  290  291  292  293  294  295  296  297  298\n",
      "  299  300  301  302  303  304  305  306  307  308  309  310  311  312\n",
      "  313  314  315  316  317  423  425  427  428  430  431  432  433  434\n",
      "  435  436  437  438  439  440  441  442  443  444  445  446  447  448\n",
      "  449  450  451  452  453  454  455  456  457  458  459  460  461  462\n",
      "  463  464  465  466  467  468  469  529  982 1018 1019 1044 1046 1057\n",
      " 1063 1065 1071 1075 1076 1078 1081 1082 1083 1086 1088 1095 1098 1138\n",
      " 1157 1193 1194 1219 1221 1232 1238 1240 1246 1250 1251 1253 1256 1257\n",
      " 1258 1261 1263 1270 1273 1313 1332 1368 1369 1394 1396 1407 1413 1415\n",
      " 1421 1422 1425 1426 1428 1431 1432 1433 1436 1438 1445 1448] are constant.\n",
      "  warnings.warn(\"Features %s are constant.\" % constant_features_idx,\n",
      "C:\\ProgramData\\Anaconda3\\lib\\site-packages\\sklearn\\feature_selection\\_univariate_selection.py:116: RuntimeWarning: invalid value encountered in true_divide\n",
      "  f = msb / msw\n"
     ]
    },
    {
     "name": "stdout",
     "output_type": "stream",
     "text": [
      "[LibSVM]"
     ]
    },
    {
     "name": "stderr",
     "output_type": "stream",
     "text": [
      "C:\\ProgramData\\Anaconda3\\lib\\site-packages\\sklearn\\feature_selection\\_univariate_selection.py:114: UserWarning: Features [   1    2    3    4    5    6    7    8    9   10   15   18   20  113\n",
      "  114  116  117  118  119  120  121  122  123  124  125  127  259  266\n",
      "  270  271  272  273  274  276  277  278  279  280  281  282  283  284\n",
      "  285  286  287  288  289  290  291  292  293  294  295  296  297  298\n",
      "  299  300  301  302  303  304  305  306  307  308  309  310  311  312\n",
      "  313  314  315  316  317  423  425  427  428  430  431  432  433  434\n",
      "  435  436  437  438  439  440  441  442  443  444  445  446  447  448\n",
      "  449  450  451  452  453  454  455  456  457  458  459  460  461  462\n",
      "  463  464  465  466  467  468  469  529  982 1018 1019 1044 1046 1057\n",
      " 1063 1065 1071 1075 1076 1078 1081 1082 1083 1086 1088 1095 1098 1138\n",
      " 1157 1193 1194 1219 1221 1232 1238 1240 1246 1250 1251 1253 1256 1257\n",
      " 1258 1261 1263 1270 1273 1313 1332 1368 1369 1394 1396 1407 1413 1415\n",
      " 1421 1422 1425 1426 1428 1431 1432 1433 1436 1438 1445 1448] are constant.\n",
      "  warnings.warn(\"Features %s are constant.\" % constant_features_idx,\n",
      "C:\\ProgramData\\Anaconda3\\lib\\site-packages\\sklearn\\feature_selection\\_univariate_selection.py:116: RuntimeWarning: invalid value encountered in true_divide\n",
      "  f = msb / msw\n"
     ]
    },
    {
     "name": "stdout",
     "output_type": "stream",
     "text": [
      "[LibSVM]"
     ]
    },
    {
     "name": "stderr",
     "output_type": "stream",
     "text": [
      "C:\\ProgramData\\Anaconda3\\lib\\site-packages\\sklearn\\feature_selection\\_univariate_selection.py:114: UserWarning: Features [   1    2    3    4    5    6    7    8    9   10   15   18   20  113\n",
      "  114  116  117  118  119  120  121  122  123  124  125  127  259  266\n",
      "  270  271  272  273  274  276  277  278  279  280  281  282  283  284\n",
      "  285  286  287  288  289  290  291  292  293  294  295  296  297  298\n",
      "  299  300  301  302  303  304  305  306  307  308  309  310  311  312\n",
      "  313  314  315  316  317  423  425  427  428  430  431  432  433  434\n",
      "  435  436  437  438  439  440  441  442  443  444  445  446  447  448\n",
      "  449  450  451  452  453  454  455  456  457  458  459  460  461  462\n",
      "  463  464  465  466  467  468  469  529  982 1018 1019 1044 1046 1057\n",
      " 1063 1065 1071 1075 1076 1078 1081 1082 1083 1086 1088 1095 1098 1138\n",
      " 1157 1193 1194 1219 1221 1232 1238 1240 1246 1250 1251 1253 1256 1257\n",
      " 1258 1261 1263 1270 1273 1313 1332 1368 1369 1394 1396 1407 1413 1415\n",
      " 1421 1422 1425 1426 1428 1431 1432 1433 1436 1438 1445 1448] are constant.\n",
      "  warnings.warn(\"Features %s are constant.\" % constant_features_idx,\n",
      "C:\\ProgramData\\Anaconda3\\lib\\site-packages\\sklearn\\feature_selection\\_univariate_selection.py:116: RuntimeWarning: invalid value encountered in true_divide\n",
      "  f = msb / msw\n"
     ]
    },
    {
     "name": "stdout",
     "output_type": "stream",
     "text": [
      "[LibSVM]"
     ]
    },
    {
     "name": "stderr",
     "output_type": "stream",
     "text": [
      "C:\\ProgramData\\Anaconda3\\lib\\site-packages\\sklearn\\feature_selection\\_univariate_selection.py:114: UserWarning: Features [   1    2    3    4    5    6    7    8    9   10   15   18   20  113\n",
      "  114  116  117  118  119  120  121  122  123  124  125  127  259  266\n",
      "  270  271  272  273  274  276  277  278  279  280  281  282  283  284\n",
      "  285  286  287  288  289  290  291  292  293  294  295  296  297  298\n",
      "  299  300  301  302  303  304  305  306  307  308  309  310  311  312\n",
      "  313  314  315  316  317  423  425  427  428  430  431  432  433  434\n",
      "  435  436  437  438  439  440  441  442  443  444  445  446  447  448\n",
      "  449  450  451  452  453  454  455  456  457  458  459  460  461  462\n",
      "  463  464  465  466  467  468  469  529  982 1018 1019 1044 1046 1057\n",
      " 1063 1065 1071 1075 1076 1078 1081 1082 1083 1086 1088 1095 1098 1138\n",
      " 1157 1193 1194 1219 1221 1232 1238 1240 1246 1250 1251 1253 1256 1257\n",
      " 1258 1261 1263 1270 1273 1313 1332 1368 1369 1394 1396 1407 1413 1415\n",
      " 1421 1422 1425 1426 1428 1431 1432 1433 1436 1438 1445 1448] are constant.\n",
      "  warnings.warn(\"Features %s are constant.\" % constant_features_idx,\n",
      "C:\\ProgramData\\Anaconda3\\lib\\site-packages\\sklearn\\feature_selection\\_univariate_selection.py:116: RuntimeWarning: invalid value encountered in true_divide\n",
      "  f = msb / msw\n"
     ]
    },
    {
     "name": "stdout",
     "output_type": "stream",
     "text": [
      "[LibSVM]"
     ]
    },
    {
     "name": "stderr",
     "output_type": "stream",
     "text": [
      "C:\\ProgramData\\Anaconda3\\lib\\site-packages\\sklearn\\feature_selection\\_univariate_selection.py:114: UserWarning: Features [   1    2    3    4    5    6    7    8    9   10   15   18   20  113\n",
      "  114  116  117  118  119  120  121  122  123  124  125  127  259  266\n",
      "  270  271  272  273  274  276  277  278  279  280  281  282  283  284\n",
      "  285  286  287  288  289  290  291  292  293  294  295  296  297  298\n",
      "  299  300  301  302  303  304  305  306  307  308  309  310  311  312\n",
      "  313  314  315  316  317  423  425  427  428  430  431  432  433  434\n",
      "  435  436  437  438  439  440  441  442  443  444  445  446  447  448\n",
      "  449  450  451  452  453  454  455  456  457  458  459  460  461  462\n",
      "  463  464  465  466  467  468  469  529  982 1018 1019 1044 1046 1057\n",
      " 1063 1065 1071 1075 1076 1078 1081 1082 1083 1086 1088 1095 1098 1138\n",
      " 1157 1193 1194 1219 1221 1232 1238 1240 1246 1250 1251 1253 1256 1257\n",
      " 1258 1261 1263 1270 1273 1313 1332 1368 1369 1394 1396 1407 1413 1415\n",
      " 1421 1422 1425 1426 1428 1431 1432 1433 1436 1438 1445 1448] are constant.\n",
      "  warnings.warn(\"Features %s are constant.\" % constant_features_idx,\n",
      "C:\\ProgramData\\Anaconda3\\lib\\site-packages\\sklearn\\feature_selection\\_univariate_selection.py:116: RuntimeWarning: invalid value encountered in true_divide\n",
      "  f = msb / msw\n"
     ]
    },
    {
     "name": "stdout",
     "output_type": "stream",
     "text": [
      "[LibSVM]"
     ]
    },
    {
     "name": "stderr",
     "output_type": "stream",
     "text": [
      "C:\\ProgramData\\Anaconda3\\lib\\site-packages\\sklearn\\feature_selection\\_univariate_selection.py:114: UserWarning: Features [   1    2    3    4    5    6    7    8    9   10   15   18   20  113\n",
      "  114  116  117  118  119  120  121  122  123  124  125  127  259  266\n",
      "  270  271  272  273  274  276  277  278  279  280  281  282  283  284\n",
      "  285  286  287  288  289  290  291  292  293  294  295  296  297  298\n",
      "  299  300  301  302  303  304  305  306  307  308  309  310  311  312\n",
      "  313  314  315  316  317  423  425  427  428  430  431  432  433  434\n",
      "  435  436  437  438  439  440  441  442  443  444  445  446  447  448\n",
      "  449  450  451  452  453  454  455  456  457  458  459  460  461  462\n",
      "  463  464  465  466  467  468  469  529  982 1018 1019 1044 1046 1057\n",
      " 1063 1065 1071 1075 1076 1078 1081 1082 1083 1086 1088 1095 1098 1138\n",
      " 1157 1193 1194 1219 1221 1232 1238 1240 1246 1250 1251 1253 1256 1257\n",
      " 1258 1261 1263 1270 1273 1313 1332 1368 1369 1394 1396 1407 1413 1415\n",
      " 1421 1422 1425 1426 1428 1431 1432 1433 1436 1438 1445 1448] are constant.\n",
      "  warnings.warn(\"Features %s are constant.\" % constant_features_idx,\n",
      "C:\\ProgramData\\Anaconda3\\lib\\site-packages\\sklearn\\feature_selection\\_univariate_selection.py:116: RuntimeWarning: invalid value encountered in true_divide\n",
      "  f = msb / msw\n"
     ]
    },
    {
     "name": "stdout",
     "output_type": "stream",
     "text": [
      "[LibSVM]"
     ]
    },
    {
     "name": "stderr",
     "output_type": "stream",
     "text": [
      "C:\\ProgramData\\Anaconda3\\lib\\site-packages\\sklearn\\feature_selection\\_univariate_selection.py:114: UserWarning: Features [   1    2    3    4    5    6    7    8    9   10   15   18   20  113\n",
      "  114  116  117  118  119  120  121  122  123  124  125  127  259  266\n",
      "  270  271  272  273  274  276  277  278  279  280  281  282  283  284\n",
      "  285  286  287  288  289  290  291  292  293  294  295  296  297  298\n",
      "  299  300  301  302  303  304  305  306  307  308  309  310  311  312\n",
      "  313  314  315  316  317  423  425  427  428  430  431  432  433  434\n",
      "  435  436  437  438  439  440  441  442  443  444  445  446  447  448\n",
      "  449  450  451  452  453  454  455  456  457  458  459  460  461  462\n",
      "  463  464  465  466  467  468  469  529  982 1018 1019 1044 1046 1057\n",
      " 1063 1065 1071 1075 1076 1078 1081 1082 1083 1086 1088 1095 1098 1138\n",
      " 1157 1193 1194 1219 1221 1232 1238 1240 1246 1250 1251 1253 1256 1257\n",
      " 1258 1261 1263 1270 1273 1313 1332 1368 1369 1394 1396 1407 1413 1415\n",
      " 1421 1422 1425 1426 1428 1431 1432 1433 1436 1438 1445 1448] are constant.\n",
      "  warnings.warn(\"Features %s are constant.\" % constant_features_idx,\n",
      "C:\\ProgramData\\Anaconda3\\lib\\site-packages\\sklearn\\feature_selection\\_univariate_selection.py:116: RuntimeWarning: invalid value encountered in true_divide\n",
      "  f = msb / msw\n"
     ]
    },
    {
     "name": "stdout",
     "output_type": "stream",
     "text": [
      "[LibSVM]"
     ]
    },
    {
     "name": "stderr",
     "output_type": "stream",
     "text": [
      "C:\\ProgramData\\Anaconda3\\lib\\site-packages\\sklearn\\feature_selection\\_univariate_selection.py:114: UserWarning: Features [   1    2    3    4    5    6    7    8    9   10   15   18   20  113\n",
      "  114  116  117  118  119  120  121  122  123  124  125  127  259  266\n",
      "  270  271  272  273  274  276  277  278  279  280  281  282  283  284\n",
      "  285  286  287  288  289  290  291  292  293  294  295  296  297  298\n",
      "  299  300  301  302  303  304  305  306  307  308  309  310  311  312\n",
      "  313  314  315  316  317  423  425  427  428  430  431  432  433  434\n",
      "  435  436  437  438  439  440  441  442  443  444  445  446  447  448\n",
      "  449  450  451  452  453  454  455  456  457  458  459  460  461  462\n",
      "  463  464  465  466  467  468  469  529  982 1018 1019 1044 1046 1057\n",
      " 1063 1065 1071 1075 1076 1078 1081 1082 1083 1086 1088 1095 1098 1138\n",
      " 1157 1193 1194 1219 1221 1232 1238 1240 1246 1250 1251 1253 1256 1257\n",
      " 1258 1261 1263 1270 1273 1313 1332 1368 1369 1394 1396 1407 1413 1415\n",
      " 1421 1422 1425 1426 1428 1431 1432 1433 1436 1438 1445 1448] are constant.\n",
      "  warnings.warn(\"Features %s are constant.\" % constant_features_idx,\n",
      "C:\\ProgramData\\Anaconda3\\lib\\site-packages\\sklearn\\feature_selection\\_univariate_selection.py:116: RuntimeWarning: invalid value encountered in true_divide\n",
      "  f = msb / msw\n"
     ]
    },
    {
     "name": "stdout",
     "output_type": "stream",
     "text": [
      "[LibSVM]"
     ]
    },
    {
     "name": "stderr",
     "output_type": "stream",
     "text": [
      "C:\\ProgramData\\Anaconda3\\lib\\site-packages\\sklearn\\feature_selection\\_univariate_selection.py:114: UserWarning: Features [   1    2    3    4    5    6    7    8    9   10   15   18   20  113\n",
      "  114  116  117  118  119  120  121  122  123  124  125  127  259  266\n",
      "  270  271  272  273  274  276  277  278  279  280  281  282  283  284\n",
      "  285  286  287  288  289  290  291  292  293  294  295  296  297  298\n",
      "  299  300  301  302  303  304  305  306  307  308  309  310  311  312\n",
      "  313  314  315  316  317  423  425  427  428  430  431  432  433  434\n",
      "  435  436  437  438  439  440  441  442  443  444  445  446  447  448\n",
      "  449  450  451  452  453  454  455  456  457  458  459  460  461  462\n",
      "  463  464  465  466  467  468  469  529  982 1018 1019 1044 1046 1057\n",
      " 1063 1065 1071 1075 1076 1078 1081 1082 1083 1086 1088 1095 1098 1138\n",
      " 1157 1193 1194 1219 1221 1232 1238 1240 1246 1250 1251 1253 1256 1257\n",
      " 1258 1261 1263 1270 1273 1313 1332 1368 1369 1394 1396 1407 1413 1415\n",
      " 1421 1422 1425 1426 1428 1431 1432 1433 1436 1438 1445 1448] are constant.\n",
      "  warnings.warn(\"Features %s are constant.\" % constant_features_idx,\n",
      "C:\\ProgramData\\Anaconda3\\lib\\site-packages\\sklearn\\feature_selection\\_univariate_selection.py:116: RuntimeWarning: invalid value encountered in true_divide\n",
      "  f = msb / msw\n"
     ]
    },
    {
     "name": "stdout",
     "output_type": "stream",
     "text": [
      "[LibSVM]"
     ]
    },
    {
     "name": "stderr",
     "output_type": "stream",
     "text": [
      "C:\\ProgramData\\Anaconda3\\lib\\site-packages\\sklearn\\feature_selection\\_univariate_selection.py:114: UserWarning: Features [   1    2    3    4    5    6    7    8    9   10   15   18   20  113\n",
      "  114  116  117  118  119  120  121  122  123  124  125  127  259  266\n",
      "  270  271  272  273  274  276  277  278  279  280  281  282  283  284\n",
      "  285  286  287  288  289  290  291  292  293  294  295  296  297  298\n",
      "  299  300  301  302  303  304  305  306  307  308  309  310  311  312\n",
      "  313  314  315  316  317  423  425  427  428  430  431  432  433  434\n",
      "  435  436  437  438  439  440  441  442  443  444  445  446  447  448\n",
      "  449  450  451  452  453  454  455  456  457  458  459  460  461  462\n",
      "  463  464  465  466  467  468  469  529  982 1018 1019 1044 1046 1057\n",
      " 1063 1065 1071 1075 1076 1078 1081 1082 1083 1086 1088 1095 1098 1138\n",
      " 1157 1193 1194 1219 1221 1232 1238 1240 1246 1250 1251 1253 1256 1257\n",
      " 1258 1261 1263 1270 1273 1313 1332 1368 1369 1394 1396 1407 1413 1415\n",
      " 1421 1422 1425 1426 1428 1431 1432 1433 1436 1438 1445 1448] are constant.\n",
      "  warnings.warn(\"Features %s are constant.\" % constant_features_idx,\n",
      "C:\\ProgramData\\Anaconda3\\lib\\site-packages\\sklearn\\feature_selection\\_univariate_selection.py:116: RuntimeWarning: invalid value encountered in true_divide\n",
      "  f = msb / msw\n"
     ]
    },
    {
     "name": "stdout",
     "output_type": "stream",
     "text": [
      "[LibSVM]"
     ]
    },
    {
     "name": "stderr",
     "output_type": "stream",
     "text": [
      "C:\\ProgramData\\Anaconda3\\lib\\site-packages\\sklearn\\feature_selection\\_univariate_selection.py:114: UserWarning: Features [   1    2    3    4    5    6    7    8    9   10   15   18   20  113\n",
      "  114  116  117  118  119  120  121  122  123  124  125  127  259  266\n",
      "  270  271  272  273  274  276  277  278  279  280  281  282  283  284\n",
      "  285  286  287  288  289  290  291  292  293  294  295  296  297  298\n",
      "  299  300  301  302  303  304  305  306  307  308  309  310  311  312\n",
      "  313  314  315  316  317  423  425  427  428  430  431  432  433  434\n",
      "  435  436  437  438  439  440  441  442  443  444  445  446  447  448\n",
      "  449  450  451  452  453  454  455  456  457  458  459  460  461  462\n",
      "  463  464  465  466  467  468  469  529  982 1018 1019 1044 1046 1057\n",
      " 1063 1065 1071 1075 1076 1078 1081 1082 1083 1086 1088 1095 1098 1138\n",
      " 1157 1193 1194 1219 1221 1232 1238 1240 1246 1250 1251 1253 1256 1257\n",
      " 1258 1261 1263 1270 1273 1313 1332 1368 1369 1394 1396 1407 1413 1415\n",
      " 1421 1422 1425 1426 1428 1431 1432 1433 1436 1438 1445 1448] are constant.\n",
      "  warnings.warn(\"Features %s are constant.\" % constant_features_idx,\n",
      "C:\\ProgramData\\Anaconda3\\lib\\site-packages\\sklearn\\feature_selection\\_univariate_selection.py:116: RuntimeWarning: invalid value encountered in true_divide\n",
      "  f = msb / msw\n"
     ]
    },
    {
     "name": "stdout",
     "output_type": "stream",
     "text": [
      "[LibSVM]"
     ]
    },
    {
     "name": "stderr",
     "output_type": "stream",
     "text": [
      "C:\\ProgramData\\Anaconda3\\lib\\site-packages\\sklearn\\feature_selection\\_univariate_selection.py:114: UserWarning: Features [   1    2    3    4    5    6    7    8    9   10   15   18   20  113\n",
      "  114  116  117  118  119  120  121  122  123  124  125  127  259  266\n",
      "  270  271  272  273  274  276  277  278  279  280  281  282  283  284\n",
      "  285  286  287  288  289  290  291  292  293  294  295  296  297  298\n",
      "  299  300  301  302  303  304  305  306  307  308  309  310  311  312\n",
      "  313  314  315  316  317  423  425  427  428  430  431  432  433  434\n",
      "  435  436  437  438  439  440  441  442  443  444  445  446  447  448\n",
      "  449  450  451  452  453  454  455  456  457  458  459  460  461  462\n",
      "  463  464  465  466  467  468  469  529  982 1018 1019 1044 1046 1057\n",
      " 1063 1065 1071 1075 1076 1078 1081 1082 1083 1086 1088 1095 1098 1138\n",
      " 1157 1193 1194 1219 1221 1232 1238 1240 1246 1250 1251 1253 1256 1257\n",
      " 1258 1261 1263 1270 1273 1313 1332 1368 1369 1394 1396 1407 1413 1415\n",
      " 1421 1422 1425 1426 1428 1431 1432 1433 1436 1438 1445 1448] are constant.\n",
      "  warnings.warn(\"Features %s are constant.\" % constant_features_idx,\n",
      "C:\\ProgramData\\Anaconda3\\lib\\site-packages\\sklearn\\feature_selection\\_univariate_selection.py:116: RuntimeWarning: invalid value encountered in true_divide\n",
      "  f = msb / msw\n"
     ]
    },
    {
     "name": "stdout",
     "output_type": "stream",
     "text": [
      "[LibSVM]"
     ]
    },
    {
     "name": "stderr",
     "output_type": "stream",
     "text": [
      "C:\\ProgramData\\Anaconda3\\lib\\site-packages\\sklearn\\feature_selection\\_univariate_selection.py:114: UserWarning: Features [   1    2    3    4    5    6    7    8    9   10   15   18   20  113\n",
      "  114  116  117  118  119  120  121  122  123  124  125  127  259  266\n",
      "  270  271  272  273  274  276  277  278  279  280  281  282  283  284\n",
      "  285  286  287  288  289  290  291  292  293  294  295  296  297  298\n",
      "  299  300  301  302  303  304  305  306  307  308  309  310  311  312\n",
      "  313  314  315  316  317  423  425  427  428  430  431  432  433  434\n",
      "  435  436  437  438  439  440  441  442  443  444  445  446  447  448\n",
      "  449  450  451  452  453  454  455  456  457  458  459  460  461  462\n",
      "  463  464  465  466  467  468  469  529  982 1018 1019 1044 1046 1057\n",
      " 1063 1065 1071 1075 1076 1078 1081 1082 1083 1086 1088 1095 1098 1138\n",
      " 1157 1193 1194 1219 1221 1232 1238 1240 1246 1250 1251 1253 1256 1257\n",
      " 1258 1261 1263 1270 1273 1313 1332 1368 1369 1394 1396 1407 1413 1415\n",
      " 1421 1422 1425 1426 1428 1431 1432 1433 1436 1438 1445 1448] are constant.\n",
      "  warnings.warn(\"Features %s are constant.\" % constant_features_idx,\n",
      "C:\\ProgramData\\Anaconda3\\lib\\site-packages\\sklearn\\feature_selection\\_univariate_selection.py:116: RuntimeWarning: invalid value encountered in true_divide\n",
      "  f = msb / msw\n"
     ]
    },
    {
     "name": "stdout",
     "output_type": "stream",
     "text": [
      "[LibSVM]"
     ]
    },
    {
     "name": "stderr",
     "output_type": "stream",
     "text": [
      "C:\\ProgramData\\Anaconda3\\lib\\site-packages\\sklearn\\feature_selection\\_univariate_selection.py:114: UserWarning: Features [   1    2    3    4    5    6    7    8    9   10   15   18   20  113\n",
      "  114  116  117  118  119  120  121  122  123  124  125  127  259  266\n",
      "  270  271  272  273  274  276  277  278  279  280  281  282  283  284\n",
      "  285  286  287  288  289  290  291  292  293  294  295  296  297  298\n",
      "  299  300  301  302  303  304  305  306  307  308  309  310  311  312\n",
      "  313  314  315  316  317  423  425  427  428  430  431  432  433  434\n",
      "  435  436  437  438  439  440  441  442  443  444  445  446  447  448\n",
      "  449  450  451  452  453  454  455  456  457  458  459  460  461  462\n",
      "  463  464  465  466  467  468  469  529  982 1018 1019 1044 1046 1057\n",
      " 1063 1065 1071 1075 1076 1078 1081 1082 1083 1086 1088 1095 1098 1138\n",
      " 1157 1193 1194 1219 1221 1232 1238 1240 1246 1250 1251 1253 1256 1257\n",
      " 1258 1261 1263 1270 1273 1313 1332 1368 1369 1394 1396 1407 1413 1415\n",
      " 1421 1422 1425 1426 1428 1431 1432 1433 1436 1438 1445 1448] are constant.\n",
      "  warnings.warn(\"Features %s are constant.\" % constant_features_idx,\n",
      "C:\\ProgramData\\Anaconda3\\lib\\site-packages\\sklearn\\feature_selection\\_univariate_selection.py:116: RuntimeWarning: invalid value encountered in true_divide\n",
      "  f = msb / msw\n"
     ]
    },
    {
     "name": "stdout",
     "output_type": "stream",
     "text": [
      "[LibSVM]"
     ]
    },
    {
     "name": "stderr",
     "output_type": "stream",
     "text": [
      "C:\\ProgramData\\Anaconda3\\lib\\site-packages\\sklearn\\feature_selection\\_univariate_selection.py:114: UserWarning: Features [   1    2    3    4    5    6    7    8    9   10   15   18   20  113\n",
      "  114  116  117  118  119  120  121  122  123  124  125  127  259  266\n",
      "  270  271  272  273  274  276  277  278  279  280  281  282  283  284\n",
      "  285  286  287  288  289  290  291  292  293  294  295  296  297  298\n",
      "  299  300  301  302  303  304  305  306  307  308  309  310  311  312\n",
      "  313  314  315  316  317  423  425  427  428  430  431  432  433  434\n",
      "  435  436  437  438  439  440  441  442  443  444  445  446  447  448\n",
      "  449  450  451  452  453  454  455  456  457  458  459  460  461  462\n",
      "  463  464  465  466  467  468  469  529  982 1018 1019 1044 1046 1057\n",
      " 1063 1065 1071 1075 1076 1078 1081 1082 1083 1086 1088 1095 1098 1138\n",
      " 1157 1193 1194 1219 1221 1232 1238 1240 1246 1250 1251 1253 1256 1257\n",
      " 1258 1261 1263 1270 1273 1313 1332 1368 1369 1394 1396 1407 1413 1415\n",
      " 1421 1422 1425 1426 1428 1431 1432 1433 1436 1438 1445 1448] are constant.\n",
      "  warnings.warn(\"Features %s are constant.\" % constant_features_idx,\n",
      "C:\\ProgramData\\Anaconda3\\lib\\site-packages\\sklearn\\feature_selection\\_univariate_selection.py:116: RuntimeWarning: invalid value encountered in true_divide\n",
      "  f = msb / msw\n"
     ]
    },
    {
     "name": "stdout",
     "output_type": "stream",
     "text": [
      "[LibSVM]"
     ]
    },
    {
     "name": "stderr",
     "output_type": "stream",
     "text": [
      "C:\\ProgramData\\Anaconda3\\lib\\site-packages\\sklearn\\feature_selection\\_univariate_selection.py:114: UserWarning: Features [   1    2    3    4    5    6    7    8    9   10   15   18   20  113\n",
      "  114  116  117  118  119  120  121  122  123  124  125  127  259  266\n",
      "  270  271  272  273  274  276  277  278  279  280  281  282  283  284\n",
      "  285  286  287  288  289  290  291  292  293  294  295  296  297  298\n",
      "  299  300  301  302  303  304  305  306  307  308  309  310  311  312\n",
      "  313  314  315  316  317  423  425  427  428  430  431  432  433  434\n",
      "  435  436  437  438  439  440  441  442  443  444  445  446  447  448\n",
      "  449  450  451  452  453  454  455  456  457  458  459  460  461  462\n",
      "  463  464  465  466  467  468  469  529  982 1018 1019 1044 1046 1057\n",
      " 1063 1065 1071 1075 1076 1078 1081 1082 1083 1086 1088 1095 1098 1138\n",
      " 1157 1193 1194 1219 1221 1232 1238 1240 1246 1250 1251 1253 1256 1257\n",
      " 1258 1261 1263 1270 1273 1313 1332 1368 1369 1394 1396 1407 1413 1415\n",
      " 1421 1422 1425 1426 1428 1431 1432 1433 1436 1438 1445 1448] are constant.\n",
      "  warnings.warn(\"Features %s are constant.\" % constant_features_idx,\n",
      "C:\\ProgramData\\Anaconda3\\lib\\site-packages\\sklearn\\feature_selection\\_univariate_selection.py:116: RuntimeWarning: invalid value encountered in true_divide\n",
      "  f = msb / msw\n"
     ]
    },
    {
     "name": "stdout",
     "output_type": "stream",
     "text": [
      "[LibSVM]"
     ]
    },
    {
     "name": "stderr",
     "output_type": "stream",
     "text": [
      "C:\\ProgramData\\Anaconda3\\lib\\site-packages\\sklearn\\feature_selection\\_univariate_selection.py:114: UserWarning: Features [   1    2    3    4    5    6    7    8    9   10   15   18   20  113\n",
      "  114  116  117  118  119  120  121  122  123  124  125  127  259  266\n",
      "  270  271  272  273  274  276  277  278  279  280  281  282  283  284\n",
      "  285  286  287  288  289  290  291  292  293  294  295  296  297  298\n",
      "  299  300  301  302  303  304  305  306  307  308  309  310  311  312\n",
      "  313  314  315  316  317  423  425  427  428  430  431  432  433  434\n",
      "  435  436  437  438  439  440  441  442  443  444  445  446  447  448\n",
      "  449  450  451  452  453  454  455  456  457  458  459  460  461  462\n",
      "  463  464  465  466  467  468  469  529  982 1018 1019 1044 1046 1057\n",
      " 1063 1065 1071 1075 1076 1078 1081 1082 1083 1086 1088 1095 1098 1138\n",
      " 1157 1193 1194 1219 1221 1232 1238 1240 1246 1250 1251 1253 1256 1257\n",
      " 1258 1261 1263 1270 1273 1313 1332 1368 1369 1394 1396 1407 1413 1415\n",
      " 1421 1422 1425 1426 1428 1431 1432 1433 1436 1438 1445 1448] are constant.\n",
      "  warnings.warn(\"Features %s are constant.\" % constant_features_idx,\n",
      "C:\\ProgramData\\Anaconda3\\lib\\site-packages\\sklearn\\feature_selection\\_univariate_selection.py:116: RuntimeWarning: invalid value encountered in true_divide\n",
      "  f = msb / msw\n"
     ]
    },
    {
     "name": "stdout",
     "output_type": "stream",
     "text": [
      "[LibSVM]"
     ]
    },
    {
     "name": "stderr",
     "output_type": "stream",
     "text": [
      "C:\\ProgramData\\Anaconda3\\lib\\site-packages\\sklearn\\feature_selection\\_univariate_selection.py:114: UserWarning: Features [   1    2    3    4    5    6    7    8    9   10   15   18   20  113\n",
      "  114  116  117  118  119  120  121  122  123  124  125  127  259  266\n",
      "  270  271  272  273  274  276  277  278  279  280  281  282  283  284\n",
      "  285  286  287  288  289  290  291  292  293  294  295  296  297  298\n",
      "  299  300  301  302  303  304  305  306  307  308  309  310  311  312\n",
      "  313  314  315  316  317  423  425  427  428  430  431  432  433  434\n",
      "  435  436  437  438  439  440  441  442  443  444  445  446  447  448\n",
      "  449  450  451  452  453  454  455  456  457  458  459  460  461  462\n",
      "  463  464  465  466  467  468  469  529  982 1018 1019 1044 1046 1057\n",
      " 1063 1065 1071 1075 1076 1078 1081 1082 1083 1086 1088 1095 1098 1138\n",
      " 1157 1193 1194 1219 1221 1232 1238 1240 1246 1250 1251 1253 1256 1257\n",
      " 1258 1261 1263 1270 1273 1313 1332 1368 1369 1394 1396 1407 1413 1415\n",
      " 1421 1422 1425 1426 1428 1431 1432 1433 1436 1438 1445 1448] are constant.\n",
      "  warnings.warn(\"Features %s are constant.\" % constant_features_idx,\n",
      "C:\\ProgramData\\Anaconda3\\lib\\site-packages\\sklearn\\feature_selection\\_univariate_selection.py:116: RuntimeWarning: invalid value encountered in true_divide\n",
      "  f = msb / msw\n"
     ]
    },
    {
     "name": "stdout",
     "output_type": "stream",
     "text": [
      "[LibSVM]"
     ]
    },
    {
     "name": "stderr",
     "output_type": "stream",
     "text": [
      "C:\\ProgramData\\Anaconda3\\lib\\site-packages\\sklearn\\feature_selection\\_univariate_selection.py:114: UserWarning: Features [   1    2    3    4    5    6    7    8    9   10   15   18   20  113\n",
      "  114  116  117  118  119  120  121  122  123  124  125  127  259  266\n",
      "  270  271  272  273  274  276  277  278  279  280  281  282  283  284\n",
      "  285  286  287  288  289  290  291  292  293  294  295  296  297  298\n",
      "  299  300  301  302  303  304  305  306  307  308  309  310  311  312\n",
      "  313  314  315  316  317  423  425  427  428  430  431  432  433  434\n",
      "  435  436  437  438  439  440  441  442  443  444  445  446  447  448\n",
      "  449  450  451  452  453  454  455  456  457  458  459  460  461  462\n",
      "  463  464  465  466  467  468  469  529  982 1018 1019 1044 1046 1057\n",
      " 1063 1065 1071 1075 1076 1078 1081 1082 1083 1086 1088 1095 1098 1138\n",
      " 1157 1193 1194 1219 1221 1232 1238 1240 1246 1250 1251 1253 1256 1257\n",
      " 1258 1261 1263 1270 1273 1313 1332 1368 1369 1394 1396 1407 1413 1415\n",
      " 1421 1422 1425 1426 1428 1431 1432 1433 1436 1438 1445 1448] are constant.\n",
      "  warnings.warn(\"Features %s are constant.\" % constant_features_idx,\n",
      "C:\\ProgramData\\Anaconda3\\lib\\site-packages\\sklearn\\feature_selection\\_univariate_selection.py:116: RuntimeWarning: invalid value encountered in true_divide\n",
      "  f = msb / msw\n"
     ]
    },
    {
     "name": "stdout",
     "output_type": "stream",
     "text": [
      "[LibSVM]"
     ]
    },
    {
     "name": "stderr",
     "output_type": "stream",
     "text": [
      "C:\\ProgramData\\Anaconda3\\lib\\site-packages\\sklearn\\feature_selection\\_univariate_selection.py:114: UserWarning: Features [   1    2    3    4    5    6    7    8    9   10   15   18   20  113\n",
      "  114  116  117  118  119  120  121  122  123  124  125  127  259  266\n",
      "  270  271  272  273  274  276  277  278  279  280  281  282  283  284\n",
      "  285  286  287  288  289  290  291  292  293  294  295  296  297  298\n",
      "  299  300  301  302  303  304  305  306  307  308  309  310  311  312\n",
      "  313  314  315  316  317  423  425  427  428  430  431  432  433  434\n",
      "  435  436  437  438  439  440  441  442  443  444  445  446  447  448\n",
      "  449  450  451  452  453  454  455  456  457  458  459  460  461  462\n",
      "  463  464  465  466  467  468  469  529  982 1018 1019 1044 1046 1057\n",
      " 1063 1065 1071 1075 1076 1078 1081 1082 1083 1086 1088 1095 1098 1138\n",
      " 1157 1193 1194 1219 1221 1232 1238 1240 1246 1250 1251 1253 1256 1257\n",
      " 1258 1261 1263 1270 1273 1313 1332 1368 1369 1394 1396 1407 1413 1415\n",
      " 1421 1422 1425 1426 1428 1431 1432 1433 1436 1438 1445 1448] are constant.\n",
      "  warnings.warn(\"Features %s are constant.\" % constant_features_idx,\n",
      "C:\\ProgramData\\Anaconda3\\lib\\site-packages\\sklearn\\feature_selection\\_univariate_selection.py:116: RuntimeWarning: invalid value encountered in true_divide\n",
      "  f = msb / msw\n"
     ]
    },
    {
     "name": "stdout",
     "output_type": "stream",
     "text": [
      "[LibSVM]"
     ]
    },
    {
     "name": "stderr",
     "output_type": "stream",
     "text": [
      "C:\\ProgramData\\Anaconda3\\lib\\site-packages\\sklearn\\feature_selection\\_univariate_selection.py:114: UserWarning: Features [   1    2    3    4    5    6    7    8    9   10   15   18   20  113\n",
      "  114  116  117  118  119  120  121  122  123  124  125  127  259  266\n",
      "  270  271  272  273  274  276  277  278  279  280  281  282  283  284\n",
      "  285  286  287  288  289  290  291  292  293  294  295  296  297  298\n",
      "  299  300  301  302  303  304  305  306  307  308  309  310  311  312\n",
      "  313  314  315  316  317  423  425  427  428  430  431  432  433  434\n",
      "  435  436  437  438  439  440  441  442  443  444  445  446  447  448\n",
      "  449  450  451  452  453  454  455  456  457  458  459  460  461  462\n",
      "  463  464  465  466  467  468  469  529  982 1018 1019 1044 1046 1057\n",
      " 1063 1065 1071 1075 1076 1078 1081 1082 1083 1086 1088 1095 1098 1138\n",
      " 1157 1193 1194 1219 1221 1232 1238 1240 1246 1250 1251 1253 1256 1257\n",
      " 1258 1261 1263 1270 1273 1313 1332 1368 1369 1394 1396 1407 1413 1415\n",
      " 1421 1422 1425 1426 1428 1431 1432 1433 1436 1438 1445 1448] are constant.\n",
      "  warnings.warn(\"Features %s are constant.\" % constant_features_idx,\n",
      "C:\\ProgramData\\Anaconda3\\lib\\site-packages\\sklearn\\feature_selection\\_univariate_selection.py:116: RuntimeWarning: invalid value encountered in true_divide\n",
      "  f = msb / msw\n"
     ]
    },
    {
     "name": "stdout",
     "output_type": "stream",
     "text": [
      "[LibSVM]"
     ]
    },
    {
     "name": "stderr",
     "output_type": "stream",
     "text": [
      "C:\\ProgramData\\Anaconda3\\lib\\site-packages\\sklearn\\feature_selection\\_univariate_selection.py:114: UserWarning: Features [   1    2    3    4    5    6    7    8    9   10   15   18   20  113\n",
      "  114  116  117  118  119  120  121  122  123  124  125  127  259  266\n",
      "  270  271  272  273  274  276  277  278  279  280  281  282  283  284\n",
      "  285  286  287  288  289  290  291  292  293  294  295  296  297  298\n",
      "  299  300  301  302  303  304  305  306  307  308  309  310  311  312\n",
      "  313  314  315  316  317  423  425  427  428  430  431  432  433  434\n",
      "  435  436  437  438  439  440  441  442  443  444  445  446  447  448\n",
      "  449  450  451  452  453  454  455  456  457  458  459  460  461  462\n",
      "  463  464  465  466  467  468  469  529  982 1018 1019 1044 1046 1057\n",
      " 1063 1065 1071 1075 1076 1078 1081 1082 1083 1086 1088 1095 1098 1138\n",
      " 1157 1193 1194 1219 1221 1232 1238 1240 1246 1250 1251 1253 1256 1257\n",
      " 1258 1261 1263 1270 1273 1313 1332 1368 1369 1394 1396 1407 1413 1415\n",
      " 1421 1422 1425 1426 1428 1431 1432 1433 1436 1438 1445 1448] are constant.\n",
      "  warnings.warn(\"Features %s are constant.\" % constant_features_idx,\n",
      "C:\\ProgramData\\Anaconda3\\lib\\site-packages\\sklearn\\feature_selection\\_univariate_selection.py:116: RuntimeWarning: invalid value encountered in true_divide\n",
      "  f = msb / msw\n"
     ]
    },
    {
     "name": "stdout",
     "output_type": "stream",
     "text": [
      "[LibSVM]"
     ]
    },
    {
     "name": "stderr",
     "output_type": "stream",
     "text": [
      "C:\\ProgramData\\Anaconda3\\lib\\site-packages\\sklearn\\feature_selection\\_univariate_selection.py:114: UserWarning: Features [   1    2    3    4    5    6    7    8    9   10   15   18   20  113\n",
      "  114  116  117  118  119  120  121  122  123  124  125  127  259  266\n",
      "  270  271  272  273  274  276  277  278  279  280  281  282  283  284\n",
      "  285  286  287  288  289  290  291  292  293  294  295  296  297  298\n",
      "  299  300  301  302  303  304  305  306  307  308  309  310  311  312\n",
      "  313  314  315  316  317  423  425  427  428  430  431  432  433  434\n",
      "  435  436  437  438  439  440  441  442  443  444  445  446  447  448\n",
      "  449  450  451  452  453  454  455  456  457  458  459  460  461  462\n",
      "  463  464  465  466  467  468  469  529  982 1018 1019 1044 1046 1057\n",
      " 1063 1065 1071 1075 1076 1078 1081 1082 1083 1086 1088 1095 1098 1138\n",
      " 1157 1193 1194 1219 1221 1232 1238 1240 1246 1250 1251 1253 1256 1257\n",
      " 1258 1261 1263 1270 1273 1313 1332 1368 1369 1394 1396 1407 1413 1415\n",
      " 1421 1422 1425 1426 1428 1431 1432 1433 1436 1438 1445 1448] are constant.\n",
      "  warnings.warn(\"Features %s are constant.\" % constant_features_idx,\n",
      "C:\\ProgramData\\Anaconda3\\lib\\site-packages\\sklearn\\feature_selection\\_univariate_selection.py:116: RuntimeWarning: invalid value encountered in true_divide\n",
      "  f = msb / msw\n"
     ]
    },
    {
     "name": "stdout",
     "output_type": "stream",
     "text": [
      "[LibSVM]"
     ]
    },
    {
     "name": "stderr",
     "output_type": "stream",
     "text": [
      "C:\\ProgramData\\Anaconda3\\lib\\site-packages\\sklearn\\feature_selection\\_univariate_selection.py:114: UserWarning: Features [   1    2    3    4    5    6    7    8    9   10   15   18   20  113\n",
      "  114  116  117  118  119  120  121  122  123  124  125  127  259  266\n",
      "  270  271  272  273  274  276  277  278  279  280  281  282  283  284\n",
      "  285  286  287  288  289  290  291  292  293  294  295  296  297  298\n",
      "  299  300  301  302  303  304  305  306  307  308  309  310  311  312\n",
      "  313  314  315  316  317  423  425  427  428  430  431  432  433  434\n",
      "  435  436  437  438  439  440  441  442  443  444  445  446  447  448\n",
      "  449  450  451  452  453  454  455  456  457  458  459  460  461  462\n",
      "  463  464  465  466  467  468  469  529  982 1018 1019 1044 1046 1057\n",
      " 1063 1065 1071 1075 1076 1078 1081 1082 1083 1086 1088 1095 1098 1138\n",
      " 1157 1193 1194 1219 1221 1232 1238 1240 1246 1250 1251 1253 1256 1257\n",
      " 1258 1261 1263 1270 1273 1313 1332 1368 1369 1394 1396 1407 1413 1415\n",
      " 1421 1422 1425 1426 1428 1431 1432 1433 1436 1438 1445 1448] are constant.\n",
      "  warnings.warn(\"Features %s are constant.\" % constant_features_idx,\n",
      "C:\\ProgramData\\Anaconda3\\lib\\site-packages\\sklearn\\feature_selection\\_univariate_selection.py:116: RuntimeWarning: invalid value encountered in true_divide\n",
      "  f = msb / msw\n"
     ]
    },
    {
     "name": "stdout",
     "output_type": "stream",
     "text": [
      "[LibSVM]"
     ]
    },
    {
     "name": "stderr",
     "output_type": "stream",
     "text": [
      "C:\\ProgramData\\Anaconda3\\lib\\site-packages\\sklearn\\feature_selection\\_univariate_selection.py:114: UserWarning: Features [   1    2    3    4    5    6    7    8    9   10   15   18   20  113\n",
      "  114  116  117  118  119  120  121  122  123  124  125  127  259  266\n",
      "  270  271  272  273  274  276  277  278  279  280  281  282  283  284\n",
      "  285  286  287  288  289  290  291  292  293  294  295  296  297  298\n",
      "  299  300  301  302  303  304  305  306  307  308  309  310  311  312\n",
      "  313  314  315  316  317  423  425  427  428  430  431  432  433  434\n",
      "  435  436  437  438  439  440  441  442  443  444  445  446  447  448\n",
      "  449  450  451  452  453  454  455  456  457  458  459  460  461  462\n",
      "  463  464  465  466  467  468  469  529  982 1018 1019 1044 1046 1057\n",
      " 1063 1065 1071 1075 1076 1078 1081 1082 1083 1086 1088 1095 1098 1138\n",
      " 1157 1193 1194 1219 1221 1232 1238 1240 1246 1250 1251 1253 1256 1257\n",
      " 1258 1261 1263 1270 1273 1313 1332 1368 1369 1394 1396 1407 1413 1415\n",
      " 1421 1422 1425 1426 1428 1431 1432 1433 1436 1438 1445 1448] are constant.\n",
      "  warnings.warn(\"Features %s are constant.\" % constant_features_idx,\n",
      "C:\\ProgramData\\Anaconda3\\lib\\site-packages\\sklearn\\feature_selection\\_univariate_selection.py:116: RuntimeWarning: invalid value encountered in true_divide\n",
      "  f = msb / msw\n"
     ]
    },
    {
     "name": "stdout",
     "output_type": "stream",
     "text": [
      "[LibSVM]"
     ]
    },
    {
     "name": "stderr",
     "output_type": "stream",
     "text": [
      "C:\\ProgramData\\Anaconda3\\lib\\site-packages\\sklearn\\feature_selection\\_univariate_selection.py:114: UserWarning: Features [   1    2    3    4    5    6    7    8    9   10   15   18   20  113\n",
      "  114  116  117  118  119  120  121  122  123  124  125  127  259  266\n",
      "  270  271  272  273  274  276  277  278  279  280  281  282  283  284\n",
      "  285  286  287  288  289  290  291  292  293  294  295  296  297  298\n",
      "  299  300  301  302  303  304  305  306  307  308  309  310  311  312\n",
      "  313  314  315  316  317  423  425  427  428  430  431  432  433  434\n",
      "  435  436  437  438  439  440  441  442  443  444  445  446  447  448\n",
      "  449  450  451  452  453  454  455  456  457  458  459  460  461  462\n",
      "  463  464  465  466  467  468  469  529  982 1018 1019 1044 1046 1057\n",
      " 1063 1065 1071 1075 1076 1078 1081 1082 1083 1086 1088 1095 1098 1138\n",
      " 1157 1193 1194 1219 1221 1232 1238 1240 1246 1250 1251 1253 1256 1257\n",
      " 1258 1261 1263 1270 1273 1313 1332 1368 1369 1394 1396 1407 1413 1415\n",
      " 1421 1422 1425 1426 1428 1431 1432 1433 1436 1438 1445 1448] are constant.\n",
      "  warnings.warn(\"Features %s are constant.\" % constant_features_idx,\n",
      "C:\\ProgramData\\Anaconda3\\lib\\site-packages\\sklearn\\feature_selection\\_univariate_selection.py:116: RuntimeWarning: invalid value encountered in true_divide\n",
      "  f = msb / msw\n"
     ]
    },
    {
     "name": "stdout",
     "output_type": "stream",
     "text": [
      "[LibSVM]"
     ]
    },
    {
     "name": "stderr",
     "output_type": "stream",
     "text": [
      "C:\\ProgramData\\Anaconda3\\lib\\site-packages\\sklearn\\feature_selection\\_univariate_selection.py:114: UserWarning: Features [   1    2    3    4    5    6    7    8    9   10   15   18   20  113\n",
      "  114  116  117  118  119  120  121  122  123  124  125  127  259  266\n",
      "  270  271  272  273  274  276  277  278  279  280  281  282  283  284\n",
      "  285  286  287  288  289  290  291  292  293  294  295  296  297  298\n",
      "  299  300  301  302  303  304  305  306  307  308  309  310  311  312\n",
      "  313  314  315  316  317  423  425  427  428  430  431  432  433  434\n",
      "  435  436  437  438  439  440  441  442  443  444  445  446  447  448\n",
      "  449  450  451  452  453  454  455  456  457  458  459  460  461  462\n",
      "  463  464  465  466  467  468  469  529  982 1018 1019 1044 1046 1057\n",
      " 1063 1065 1071 1075 1076 1078 1081 1082 1083 1086 1088 1095 1098 1138\n",
      " 1157 1193 1194 1219 1221 1232 1238 1240 1246 1250 1251 1253 1256 1257\n",
      " 1258 1261 1263 1270 1273 1313 1332 1368 1369 1394 1396 1407 1413 1415\n",
      " 1421 1422 1425 1426 1428 1431 1432 1433 1436 1438 1445 1448] are constant.\n",
      "  warnings.warn(\"Features %s are constant.\" % constant_features_idx,\n",
      "C:\\ProgramData\\Anaconda3\\lib\\site-packages\\sklearn\\feature_selection\\_univariate_selection.py:116: RuntimeWarning: invalid value encountered in true_divide\n",
      "  f = msb / msw\n"
     ]
    },
    {
     "name": "stdout",
     "output_type": "stream",
     "text": [
      "[LibSVM]"
     ]
    },
    {
     "name": "stderr",
     "output_type": "stream",
     "text": [
      "C:\\ProgramData\\Anaconda3\\lib\\site-packages\\sklearn\\feature_selection\\_univariate_selection.py:114: UserWarning: Features [   1    2    3    4    5    6    7    8    9   10   15   18   20  113\n",
      "  114  116  117  118  119  120  121  122  123  124  125  127  259  266\n",
      "  270  271  272  273  274  276  277  278  279  280  281  282  283  284\n",
      "  285  286  287  288  289  290  291  292  293  294  295  296  297  298\n",
      "  299  300  301  302  303  304  305  306  307  308  309  310  311  312\n",
      "  313  314  315  316  317  423  425  427  428  430  431  432  433  434\n",
      "  435  436  437  438  439  440  441  442  443  444  445  446  447  448\n",
      "  449  450  451  452  453  454  455  456  457  458  459  460  461  462\n",
      "  463  464  465  466  467  468  469  529  982 1018 1019 1044 1046 1057\n",
      " 1063 1065 1071 1075 1076 1078 1081 1082 1083 1086 1088 1095 1098 1138\n",
      " 1157 1193 1194 1219 1221 1232 1238 1240 1246 1250 1251 1253 1256 1257\n",
      " 1258 1261 1263 1270 1273 1313 1332 1368 1369 1394 1396 1407 1413 1415\n",
      " 1421 1422 1425 1426 1428 1431 1432 1433 1436 1438 1445 1448] are constant.\n",
      "  warnings.warn(\"Features %s are constant.\" % constant_features_idx,\n",
      "C:\\ProgramData\\Anaconda3\\lib\\site-packages\\sklearn\\feature_selection\\_univariate_selection.py:116: RuntimeWarning: invalid value encountered in true_divide\n",
      "  f = msb / msw\n"
     ]
    },
    {
     "name": "stdout",
     "output_type": "stream",
     "text": [
      "[LibSVM]"
     ]
    },
    {
     "name": "stderr",
     "output_type": "stream",
     "text": [
      "C:\\ProgramData\\Anaconda3\\lib\\site-packages\\sklearn\\feature_selection\\_univariate_selection.py:114: UserWarning: Features [   1    2    3    4    5    6    7    8    9   10   15   18   20  113\n",
      "  114  116  117  118  119  120  121  122  123  124  125  127  259  266\n",
      "  270  271  272  273  274  276  277  278  279  280  281  282  283  284\n",
      "  285  286  287  288  289  290  291  292  293  294  295  296  297  298\n",
      "  299  300  301  302  303  304  305  306  307  308  309  310  311  312\n",
      "  313  314  315  316  317  423  425  427  428  430  431  432  433  434\n",
      "  435  436  437  438  439  440  441  442  443  444  445  446  447  448\n",
      "  449  450  451  452  453  454  455  456  457  458  459  460  461  462\n",
      "  463  464  465  466  467  468  469  529  982 1018 1019 1044 1046 1057\n",
      " 1063 1065 1071 1075 1076 1078 1081 1082 1083 1086 1088 1095 1098 1138\n",
      " 1157 1193 1194 1219 1221 1232 1238 1240 1246 1250 1251 1253 1256 1257\n",
      " 1258 1261 1263 1270 1273 1313 1332 1368 1369 1394 1396 1407 1413 1415\n",
      " 1421 1422 1425 1426 1428 1431 1432 1433 1436 1438 1445 1448] are constant.\n",
      "  warnings.warn(\"Features %s are constant.\" % constant_features_idx,\n",
      "C:\\ProgramData\\Anaconda3\\lib\\site-packages\\sklearn\\feature_selection\\_univariate_selection.py:116: RuntimeWarning: invalid value encountered in true_divide\n",
      "  f = msb / msw\n"
     ]
    },
    {
     "name": "stdout",
     "output_type": "stream",
     "text": [
      "[LibSVM]"
     ]
    },
    {
     "name": "stderr",
     "output_type": "stream",
     "text": [
      "C:\\ProgramData\\Anaconda3\\lib\\site-packages\\sklearn\\feature_selection\\_univariate_selection.py:114: UserWarning: Features [   1    2    3    4    5    6    7    8    9   10   15   18   20  113\n",
      "  114  116  117  118  119  120  121  122  123  124  125  127  259  266\n",
      "  270  271  272  273  274  276  277  278  279  280  281  282  283  284\n",
      "  285  286  287  288  289  290  291  292  293  294  295  296  297  298\n",
      "  299  300  301  302  303  304  305  306  307  308  309  310  311  312\n",
      "  313  314  315  316  317  423  425  427  428  430  431  432  433  434\n",
      "  435  436  437  438  439  440  441  442  443  444  445  446  447  448\n",
      "  449  450  451  452  453  454  455  456  457  458  459  460  461  462\n",
      "  463  464  465  466  467  468  469  529  982 1018 1019 1044 1046 1057\n",
      " 1063 1065 1071 1075 1076 1078 1081 1082 1083 1086 1088 1095 1098 1138\n",
      " 1157 1193 1194 1219 1221 1232 1238 1240 1246 1250 1251 1253 1256 1257\n",
      " 1258 1261 1263 1270 1273 1313 1332 1368 1369 1394 1396 1407 1413 1415\n",
      " 1421 1422 1425 1426 1428 1431 1432 1433 1436 1438 1445 1448] are constant.\n",
      "  warnings.warn(\"Features %s are constant.\" % constant_features_idx,\n",
      "C:\\ProgramData\\Anaconda3\\lib\\site-packages\\sklearn\\feature_selection\\_univariate_selection.py:116: RuntimeWarning: invalid value encountered in true_divide\n",
      "  f = msb / msw\n"
     ]
    },
    {
     "name": "stdout",
     "output_type": "stream",
     "text": [
      "[LibSVM]"
     ]
    },
    {
     "name": "stderr",
     "output_type": "stream",
     "text": [
      "C:\\ProgramData\\Anaconda3\\lib\\site-packages\\sklearn\\feature_selection\\_univariate_selection.py:114: UserWarning: Features [   1    2    3    4    5    6    7    8    9   10   15   18   20  113\n",
      "  114  116  117  118  119  120  121  122  123  124  125  127  259  266\n",
      "  270  271  272  273  274  276  277  278  279  280  281  282  283  284\n",
      "  285  286  287  288  289  290  291  292  293  294  295  296  297  298\n",
      "  299  300  301  302  303  304  305  306  307  308  309  310  311  312\n",
      "  313  314  315  316  317  423  425  427  428  430  431  432  433  434\n",
      "  435  436  437  438  439  440  441  442  443  444  445  446  447  448\n",
      "  449  450  451  452  453  454  455  456  457  458  459  460  461  462\n",
      "  463  464  465  466  467  468  469  529  982 1018 1019 1044 1046 1057\n",
      " 1063 1065 1071 1075 1076 1078 1081 1082 1083 1086 1088 1095 1098 1138\n",
      " 1157 1193 1194 1219 1221 1232 1238 1240 1246 1250 1251 1253 1256 1257\n",
      " 1258 1261 1263 1270 1273 1313 1332 1368 1369 1394 1396 1407 1413 1415\n",
      " 1421 1422 1425 1426 1428 1431 1432 1433 1436 1438 1445 1448] are constant.\n",
      "  warnings.warn(\"Features %s are constant.\" % constant_features_idx,\n",
      "C:\\ProgramData\\Anaconda3\\lib\\site-packages\\sklearn\\feature_selection\\_univariate_selection.py:116: RuntimeWarning: invalid value encountered in true_divide\n",
      "  f = msb / msw\n"
     ]
    },
    {
     "name": "stdout",
     "output_type": "stream",
     "text": [
      "[LibSVM]"
     ]
    },
    {
     "name": "stderr",
     "output_type": "stream",
     "text": [
      "C:\\ProgramData\\Anaconda3\\lib\\site-packages\\sklearn\\feature_selection\\_univariate_selection.py:114: UserWarning: Features [   1    2    3    4    5    6    7    8    9   10   15   18   20  113\n",
      "  114  116  117  118  119  120  121  122  123  124  125  127  259  266\n",
      "  270  271  272  273  274  276  277  278  279  280  281  282  283  284\n",
      "  285  286  287  288  289  290  291  292  293  294  295  296  297  298\n",
      "  299  300  301  302  303  304  305  306  307  308  309  310  311  312\n",
      "  313  314  315  316  317  423  425  427  428  430  431  432  433  434\n",
      "  435  436  437  438  439  440  441  442  443  444  445  446  447  448\n",
      "  449  450  451  452  453  454  455  456  457  458  459  460  461  462\n",
      "  463  464  465  466  467  468  469  529  982 1018 1019 1044 1046 1057\n",
      " 1063 1065 1071 1075 1076 1078 1081 1082 1083 1086 1088 1095 1098 1138\n",
      " 1157 1193 1194 1219 1221 1232 1238 1240 1246 1250 1251 1253 1256 1257\n",
      " 1258 1261 1263 1270 1273 1313 1332 1368 1369 1394 1396 1407 1413 1415\n",
      " 1421 1422 1425 1426 1428 1431 1432 1433 1436 1438 1445 1448] are constant.\n",
      "  warnings.warn(\"Features %s are constant.\" % constant_features_idx,\n",
      "C:\\ProgramData\\Anaconda3\\lib\\site-packages\\sklearn\\feature_selection\\_univariate_selection.py:116: RuntimeWarning: invalid value encountered in true_divide\n",
      "  f = msb / msw\n"
     ]
    },
    {
     "name": "stdout",
     "output_type": "stream",
     "text": [
      "[LibSVM]"
     ]
    },
    {
     "name": "stderr",
     "output_type": "stream",
     "text": [
      "C:\\ProgramData\\Anaconda3\\lib\\site-packages\\sklearn\\feature_selection\\_univariate_selection.py:114: UserWarning: Features [   1    2    3    4    5    6    7    8    9   10   15   18   20  113\n",
      "  114  116  117  118  119  120  121  122  123  124  125  127  259  266\n",
      "  270  271  272  273  274  276  277  278  279  280  281  282  283  284\n",
      "  285  286  287  288  289  290  291  292  293  294  295  296  297  298\n",
      "  299  300  301  302  303  304  305  306  307  308  309  310  311  312\n",
      "  313  314  315  316  317  423  425  427  428  430  431  432  433  434\n",
      "  435  436  437  438  439  440  441  442  443  444  445  446  447  448\n",
      "  449  450  451  452  453  454  455  456  457  458  459  460  461  462\n",
      "  463  464  465  466  467  468  469  529  982 1018 1019 1044 1046 1057\n",
      " 1063 1065 1071 1075 1076 1078 1081 1082 1083 1086 1088 1095 1098 1138\n",
      " 1157 1193 1194 1219 1221 1232 1238 1240 1246 1250 1251 1253 1256 1257\n",
      " 1258 1261 1263 1270 1273 1313 1332 1368 1369 1394 1396 1407 1413 1415\n",
      " 1421 1422 1425 1426 1428 1431 1432 1433 1436 1438 1445 1448] are constant.\n",
      "  warnings.warn(\"Features %s are constant.\" % constant_features_idx,\n",
      "C:\\ProgramData\\Anaconda3\\lib\\site-packages\\sklearn\\feature_selection\\_univariate_selection.py:116: RuntimeWarning: invalid value encountered in true_divide\n",
      "  f = msb / msw\n"
     ]
    },
    {
     "name": "stdout",
     "output_type": "stream",
     "text": [
      "[LibSVM]"
     ]
    },
    {
     "name": "stderr",
     "output_type": "stream",
     "text": [
      "C:\\ProgramData\\Anaconda3\\lib\\site-packages\\sklearn\\feature_selection\\_univariate_selection.py:114: UserWarning: Features [   1    2    3    4    5    6    7    8    9   10   15   18   20  113\n",
      "  114  116  117  118  119  120  121  122  123  124  125  127  259  266\n",
      "  270  271  272  273  274  276  277  278  279  280  281  282  283  284\n",
      "  285  286  287  288  289  290  291  292  293  294  295  296  297  298\n",
      "  299  300  301  302  303  304  305  306  307  308  309  310  311  312\n",
      "  313  314  315  316  317  423  425  427  428  430  431  432  433  434\n",
      "  435  436  437  438  439  440  441  442  443  444  445  446  447  448\n",
      "  449  450  451  452  453  454  455  456  457  458  459  460  461  462\n",
      "  463  464  465  466  467  468  469  529  982 1018 1019 1044 1046 1057\n",
      " 1063 1065 1071 1075 1076 1078 1081 1082 1083 1086 1088 1095 1098 1138\n",
      " 1157 1193 1194 1219 1221 1232 1238 1240 1246 1250 1251 1253 1256 1257\n",
      " 1258 1261 1263 1270 1273 1313 1332 1368 1369 1394 1396 1407 1413 1415\n",
      " 1421 1422 1425 1426 1428 1431 1432 1433 1436 1438 1445 1448] are constant.\n",
      "  warnings.warn(\"Features %s are constant.\" % constant_features_idx,\n",
      "C:\\ProgramData\\Anaconda3\\lib\\site-packages\\sklearn\\feature_selection\\_univariate_selection.py:116: RuntimeWarning: invalid value encountered in true_divide\n",
      "  f = msb / msw\n"
     ]
    },
    {
     "name": "stdout",
     "output_type": "stream",
     "text": [
      "[LibSVM]"
     ]
    },
    {
     "name": "stderr",
     "output_type": "stream",
     "text": [
      "C:\\ProgramData\\Anaconda3\\lib\\site-packages\\sklearn\\feature_selection\\_univariate_selection.py:114: UserWarning: Features [   1    2    3    4    5    6    7    8    9   10   15   18   20  113\n",
      "  114  116  117  118  119  120  121  122  123  124  125  127  259  266\n",
      "  270  271  272  273  274  276  277  278  279  280  281  282  283  284\n",
      "  285  286  287  288  289  290  291  292  293  294  295  296  297  298\n",
      "  299  300  301  302  303  304  305  306  307  308  309  310  311  312\n",
      "  313  314  315  316  317  423  425  427  428  430  431  432  433  434\n",
      "  435  436  437  438  439  440  441  442  443  444  445  446  447  448\n",
      "  449  450  451  452  453  454  455  456  457  458  459  460  461  462\n",
      "  463  464  465  466  467  468  469  529  982 1018 1019 1044 1046 1057\n",
      " 1063 1065 1071 1075 1076 1078 1081 1082 1083 1086 1088 1095 1098 1138\n",
      " 1157 1193 1194 1219 1221 1232 1238 1240 1246 1250 1251 1253 1256 1257\n",
      " 1258 1261 1263 1270 1273 1313 1332 1368 1369 1394 1396 1407 1413 1415\n",
      " 1421 1422 1425 1426 1428 1431 1432 1433 1436 1438 1445 1448] are constant.\n",
      "  warnings.warn(\"Features %s are constant.\" % constant_features_idx,\n",
      "C:\\ProgramData\\Anaconda3\\lib\\site-packages\\sklearn\\feature_selection\\_univariate_selection.py:116: RuntimeWarning: invalid value encountered in true_divide\n",
      "  f = msb / msw\n"
     ]
    },
    {
     "name": "stdout",
     "output_type": "stream",
     "text": [
      "[LibSVM]"
     ]
    },
    {
     "name": "stderr",
     "output_type": "stream",
     "text": [
      "C:\\ProgramData\\Anaconda3\\lib\\site-packages\\sklearn\\feature_selection\\_univariate_selection.py:114: UserWarning: Features [   1    2    3    4    5    6    7    8    9   10   15   18   20  113\n",
      "  114  116  117  118  119  120  121  122  123  124  125  127  259  266\n",
      "  270  271  272  273  274  276  277  278  279  280  281  282  283  284\n",
      "  285  286  287  288  289  290  291  292  293  294  295  296  297  298\n",
      "  299  300  301  302  303  304  305  306  307  308  309  310  311  312\n",
      "  313  314  315  316  317  423  425  427  428  430  431  432  433  434\n",
      "  435  436  437  438  439  440  441  442  443  444  445  446  447  448\n",
      "  449  450  451  452  453  454  455  456  457  458  459  460  461  462\n",
      "  463  464  465  466  467  468  469  529  982 1018 1019 1044 1046 1057\n",
      " 1063 1065 1071 1075 1076 1078 1081 1082 1083 1086 1088 1095 1098 1138\n",
      " 1157 1193 1194 1219 1221 1232 1238 1240 1246 1250 1251 1253 1256 1257\n",
      " 1258 1261 1263 1270 1273 1313 1332 1368 1369 1394 1396 1407 1413 1415\n",
      " 1421 1422 1425 1426 1428 1431 1432 1433 1436 1438 1445 1448] are constant.\n",
      "  warnings.warn(\"Features %s are constant.\" % constant_features_idx,\n",
      "C:\\ProgramData\\Anaconda3\\lib\\site-packages\\sklearn\\feature_selection\\_univariate_selection.py:116: RuntimeWarning: invalid value encountered in true_divide\n",
      "  f = msb / msw\n"
     ]
    },
    {
     "name": "stdout",
     "output_type": "stream",
     "text": [
      "[LibSVM]"
     ]
    },
    {
     "name": "stderr",
     "output_type": "stream",
     "text": [
      "C:\\ProgramData\\Anaconda3\\lib\\site-packages\\sklearn\\feature_selection\\_univariate_selection.py:114: UserWarning: Features [   1    2    3    4    5    6    7    8    9   10   15   18   20  113\n",
      "  114  116  117  118  119  120  121  122  123  124  125  127  259  266\n",
      "  270  271  272  273  274  276  277  278  279  280  281  282  283  284\n",
      "  285  286  287  288  289  290  291  292  293  294  295  296  297  298\n",
      "  299  300  301  302  303  304  305  306  307  308  309  310  311  312\n",
      "  313  314  315  316  317  423  425  427  428  430  431  432  433  434\n",
      "  435  436  437  438  439  440  441  442  443  444  445  446  447  448\n",
      "  449  450  451  452  453  454  455  456  457  458  459  460  461  462\n",
      "  463  464  465  466  467  468  469  529  982 1018 1019 1044 1046 1057\n",
      " 1063 1065 1071 1075 1076 1078 1081 1082 1083 1086 1088 1095 1098 1138\n",
      " 1157 1193 1194 1219 1221 1232 1238 1240 1246 1250 1251 1253 1256 1257\n",
      " 1258 1261 1263 1270 1273 1313 1332 1368 1369 1394 1396 1407 1413 1415\n",
      " 1421 1422 1425 1426 1428 1431 1432 1433 1436 1438 1445 1448] are constant.\n",
      "  warnings.warn(\"Features %s are constant.\" % constant_features_idx,\n",
      "C:\\ProgramData\\Anaconda3\\lib\\site-packages\\sklearn\\feature_selection\\_univariate_selection.py:116: RuntimeWarning: invalid value encountered in true_divide\n",
      "  f = msb / msw\n"
     ]
    },
    {
     "name": "stdout",
     "output_type": "stream",
     "text": [
      "[LibSVM]"
     ]
    },
    {
     "name": "stderr",
     "output_type": "stream",
     "text": [
      "C:\\ProgramData\\Anaconda3\\lib\\site-packages\\sklearn\\feature_selection\\_univariate_selection.py:114: UserWarning: Features [   1    2    3    4    5    6    7    8    9   10   15   18   20  113\n",
      "  114  116  117  118  119  120  121  122  123  124  125  127  259  266\n",
      "  270  271  272  273  274  276  277  278  279  280  281  282  283  284\n",
      "  285  286  287  288  289  290  291  292  293  294  295  296  297  298\n",
      "  299  300  301  302  303  304  305  306  307  308  309  310  311  312\n",
      "  313  314  315  316  317  423  425  427  428  430  431  432  433  434\n",
      "  435  436  437  438  439  440  441  442  443  444  445  446  447  448\n",
      "  449  450  451  452  453  454  455  456  457  458  459  460  461  462\n",
      "  463  464  465  466  467  468  469  529  982 1018 1019 1044 1046 1057\n",
      " 1063 1065 1071 1075 1076 1078 1081 1082 1083 1086 1088 1095 1098 1138\n",
      " 1157 1193 1194 1219 1221 1232 1238 1240 1246 1250 1251 1253 1256 1257\n",
      " 1258 1261 1263 1270 1273 1313 1332 1368 1369 1394 1396 1407 1413 1415\n",
      " 1421 1422 1425 1426 1428 1431 1432 1433 1436 1438 1445 1448] are constant.\n",
      "  warnings.warn(\"Features %s are constant.\" % constant_features_idx,\n",
      "C:\\ProgramData\\Anaconda3\\lib\\site-packages\\sklearn\\feature_selection\\_univariate_selection.py:116: RuntimeWarning: invalid value encountered in true_divide\n",
      "  f = msb / msw\n"
     ]
    },
    {
     "name": "stdout",
     "output_type": "stream",
     "text": [
      "[LibSVM]"
     ]
    },
    {
     "name": "stderr",
     "output_type": "stream",
     "text": [
      "C:\\ProgramData\\Anaconda3\\lib\\site-packages\\sklearn\\feature_selection\\_univariate_selection.py:114: UserWarning: Features [   1    2    3    4    5    6    7    8    9   10   15   18   20  113\n",
      "  114  116  117  118  119  120  121  122  123  124  125  127  259  266\n",
      "  270  271  272  273  274  276  277  278  279  280  281  282  283  284\n",
      "  285  286  287  288  289  290  291  292  293  294  295  296  297  298\n",
      "  299  300  301  302  303  304  305  306  307  308  309  310  311  312\n",
      "  313  314  315  316  317  423  425  427  428  430  431  432  433  434\n",
      "  435  436  437  438  439  440  441  442  443  444  445  446  447  448\n",
      "  449  450  451  452  453  454  455  456  457  458  459  460  461  462\n",
      "  463  464  465  466  467  468  469  529  982 1018 1019 1044 1046 1057\n",
      " 1063 1065 1071 1075 1076 1078 1081 1082 1083 1086 1088 1095 1098 1138\n",
      " 1157 1193 1194 1219 1221 1232 1238 1240 1246 1250 1251 1253 1256 1257\n",
      " 1258 1261 1263 1270 1273 1313 1332 1368 1369 1394 1396 1407 1413 1415\n",
      " 1421 1422 1425 1426 1428 1431 1432 1433 1436 1438 1445 1448] are constant.\n",
      "  warnings.warn(\"Features %s are constant.\" % constant_features_idx,\n",
      "C:\\ProgramData\\Anaconda3\\lib\\site-packages\\sklearn\\feature_selection\\_univariate_selection.py:116: RuntimeWarning: invalid value encountered in true_divide\n",
      "  f = msb / msw\n"
     ]
    },
    {
     "name": "stdout",
     "output_type": "stream",
     "text": [
      "[LibSVM]"
     ]
    },
    {
     "name": "stderr",
     "output_type": "stream",
     "text": [
      "C:\\ProgramData\\Anaconda3\\lib\\site-packages\\sklearn\\feature_selection\\_univariate_selection.py:114: UserWarning: Features [   1    2    3    4    5    6    7    8    9   10   15   18   20  113\n",
      "  114  116  117  118  119  120  121  122  123  124  125  127  259  266\n",
      "  270  271  272  273  274  276  277  278  279  280  281  282  283  284\n",
      "  285  286  287  288  289  290  291  292  293  294  295  296  297  298\n",
      "  299  300  301  302  303  304  305  306  307  308  309  310  311  312\n",
      "  313  314  315  316  317  423  425  427  428  430  431  432  433  434\n",
      "  435  436  437  438  439  440  441  442  443  444  445  446  447  448\n",
      "  449  450  451  452  453  454  455  456  457  458  459  460  461  462\n",
      "  463  464  465  466  467  468  469  529  982 1018 1019 1044 1046 1057\n",
      " 1063 1065 1071 1075 1076 1078 1081 1082 1083 1086 1088 1095 1098 1138\n",
      " 1157 1193 1194 1219 1221 1232 1238 1240 1246 1250 1251 1253 1256 1257\n",
      " 1258 1261 1263 1270 1273 1313 1332 1368 1369 1394 1396 1407 1413 1415\n",
      " 1421 1422 1425 1426 1428 1431 1432 1433 1436 1438 1445 1448] are constant.\n",
      "  warnings.warn(\"Features %s are constant.\" % constant_features_idx,\n",
      "C:\\ProgramData\\Anaconda3\\lib\\site-packages\\sklearn\\feature_selection\\_univariate_selection.py:116: RuntimeWarning: invalid value encountered in true_divide\n",
      "  f = msb / msw\n"
     ]
    },
    {
     "name": "stdout",
     "output_type": "stream",
     "text": [
      "[LibSVM]"
     ]
    },
    {
     "name": "stderr",
     "output_type": "stream",
     "text": [
      "C:\\ProgramData\\Anaconda3\\lib\\site-packages\\sklearn\\feature_selection\\_univariate_selection.py:114: UserWarning: Features [   1    2    3    4    5    6    7    8    9   10   15   18   20  113\n",
      "  114  116  117  118  119  120  121  122  123  124  125  127  259  266\n",
      "  270  271  272  273  274  276  277  278  279  280  281  282  283  284\n",
      "  285  286  287  288  289  290  291  292  293  294  295  296  297  298\n",
      "  299  300  301  302  303  304  305  306  307  308  309  310  311  312\n",
      "  313  314  315  316  317  423  425  427  428  430  431  432  433  434\n",
      "  435  436  437  438  439  440  441  442  443  444  445  446  447  448\n",
      "  449  450  451  452  453  454  455  456  457  458  459  460  461  462\n",
      "  463  464  465  466  467  468  469  529  982 1018 1019 1044 1046 1057\n",
      " 1063 1065 1071 1075 1076 1078 1081 1082 1083 1086 1088 1095 1098 1138\n",
      " 1157 1193 1194 1219 1221 1232 1238 1240 1246 1250 1251 1253 1256 1257\n",
      " 1258 1261 1263 1270 1273 1313 1332 1368 1369 1394 1396 1407 1413 1415\n",
      " 1421 1422 1425 1426 1428 1431 1432 1433 1436 1438 1445 1448] are constant.\n",
      "  warnings.warn(\"Features %s are constant.\" % constant_features_idx,\n",
      "C:\\ProgramData\\Anaconda3\\lib\\site-packages\\sklearn\\feature_selection\\_univariate_selection.py:116: RuntimeWarning: invalid value encountered in true_divide\n",
      "  f = msb / msw\n"
     ]
    },
    {
     "name": "stdout",
     "output_type": "stream",
     "text": [
      "[LibSVM]"
     ]
    },
    {
     "name": "stderr",
     "output_type": "stream",
     "text": [
      "C:\\ProgramData\\Anaconda3\\lib\\site-packages\\sklearn\\feature_selection\\_univariate_selection.py:114: UserWarning: Features [   1    2    3    4    5    6    7    8    9   10   15   18   20  113\n",
      "  114  116  117  118  119  120  121  122  123  124  125  127  259  266\n",
      "  270  271  272  273  274  276  277  278  279  280  281  282  283  284\n",
      "  285  286  287  288  289  290  291  292  293  294  295  296  297  298\n",
      "  299  300  301  302  303  304  305  306  307  308  309  310  311  312\n",
      "  313  314  315  316  317  423  425  427  428  430  431  432  433  434\n",
      "  435  436  437  438  439  440  441  442  443  444  445  446  447  448\n",
      "  449  450  451  452  453  454  455  456  457  458  459  460  461  462\n",
      "  463  464  465  466  467  468  469  529  982 1018 1019 1044 1046 1057\n",
      " 1063 1065 1071 1075 1076 1078 1081 1082 1083 1086 1088 1095 1098 1138\n",
      " 1157 1193 1194 1219 1221 1232 1238 1240 1246 1250 1251 1253 1256 1257\n",
      " 1258 1261 1263 1270 1273 1313 1332 1368 1369 1394 1396 1407 1413 1415\n",
      " 1421 1422 1425 1426 1428 1431 1432 1433 1436 1438 1445 1448] are constant.\n",
      "  warnings.warn(\"Features %s are constant.\" % constant_features_idx,\n",
      "C:\\ProgramData\\Anaconda3\\lib\\site-packages\\sklearn\\feature_selection\\_univariate_selection.py:116: RuntimeWarning: invalid value encountered in true_divide\n",
      "  f = msb / msw\n"
     ]
    },
    {
     "name": "stdout",
     "output_type": "stream",
     "text": [
      "[LibSVM]"
     ]
    },
    {
     "name": "stderr",
     "output_type": "stream",
     "text": [
      "C:\\ProgramData\\Anaconda3\\lib\\site-packages\\sklearn\\feature_selection\\_univariate_selection.py:114: UserWarning: Features [   1    2    3    4    5    6    7    8    9   10   15   18   20  113\n",
      "  114  116  117  118  119  120  121  122  123  124  125  127  259  266\n",
      "  270  271  272  273  274  276  277  278  279  280  281  282  283  284\n",
      "  285  286  287  288  289  290  291  292  293  294  295  296  297  298\n",
      "  299  300  301  302  303  304  305  306  307  308  309  310  311  312\n",
      "  313  314  315  316  317  423  425  427  428  430  431  432  433  434\n",
      "  435  436  437  438  439  440  441  442  443  444  445  446  447  448\n",
      "  449  450  451  452  453  454  455  456  457  458  459  460  461  462\n",
      "  463  464  465  466  467  468  469  529  982 1018 1019 1044 1046 1057\n",
      " 1063 1065 1071 1075 1076 1078 1081 1082 1083 1086 1088 1095 1098 1138\n",
      " 1157 1193 1194 1219 1221 1232 1238 1240 1246 1250 1251 1253 1256 1257\n",
      " 1258 1261 1263 1270 1273 1313 1332 1368 1369 1394 1396 1407 1413 1415\n",
      " 1421 1422 1425 1426 1428 1431 1432 1433 1436 1438 1445 1448] are constant.\n",
      "  warnings.warn(\"Features %s are constant.\" % constant_features_idx,\n",
      "C:\\ProgramData\\Anaconda3\\lib\\site-packages\\sklearn\\feature_selection\\_univariate_selection.py:116: RuntimeWarning: invalid value encountered in true_divide\n",
      "  f = msb / msw\n"
     ]
    },
    {
     "name": "stdout",
     "output_type": "stream",
     "text": [
      "[LibSVM]"
     ]
    },
    {
     "name": "stderr",
     "output_type": "stream",
     "text": [
      "C:\\ProgramData\\Anaconda3\\lib\\site-packages\\sklearn\\feature_selection\\_univariate_selection.py:114: UserWarning: Features [   1    2    3    4    5    6    7    8    9   10   15   18   20  113\n",
      "  114  116  117  118  119  120  121  122  123  124  125  127  259  266\n",
      "  270  271  272  273  274  276  277  278  279  280  281  282  283  284\n",
      "  285  286  287  288  289  290  291  292  293  294  295  296  297  298\n",
      "  299  300  301  302  303  304  305  306  307  308  309  310  311  312\n",
      "  313  314  315  316  317  423  425  427  428  430  431  432  433  434\n",
      "  435  436  437  438  439  440  441  442  443  444  445  446  447  448\n",
      "  449  450  451  452  453  454  455  456  457  458  459  460  461  462\n",
      "  463  464  465  466  467  468  469  529  982 1018 1019 1044 1046 1057\n",
      " 1063 1065 1071 1075 1076 1078 1081 1082 1083 1086 1088 1095 1098 1138\n",
      " 1157 1193 1194 1219 1221 1232 1238 1240 1246 1250 1251 1253 1256 1257\n",
      " 1258 1261 1263 1270 1273 1313 1332 1368 1369 1394 1396 1407 1413 1415\n",
      " 1421 1422 1425 1426 1428 1431 1432 1433 1436 1438 1445 1448] are constant.\n",
      "  warnings.warn(\"Features %s are constant.\" % constant_features_idx,\n",
      "C:\\ProgramData\\Anaconda3\\lib\\site-packages\\sklearn\\feature_selection\\_univariate_selection.py:116: RuntimeWarning: invalid value encountered in true_divide\n",
      "  f = msb / msw\n"
     ]
    },
    {
     "name": "stdout",
     "output_type": "stream",
     "text": [
      "[LibSVM]"
     ]
    },
    {
     "name": "stderr",
     "output_type": "stream",
     "text": [
      "C:\\ProgramData\\Anaconda3\\lib\\site-packages\\sklearn\\feature_selection\\_univariate_selection.py:114: UserWarning: Features [   1    2    3    4    5    6    7    8    9   10   15   18   20  113\n",
      "  114  116  117  118  119  120  121  122  123  124  125  127  259  266\n",
      "  270  271  272  273  274  276  277  278  279  280  281  282  283  284\n",
      "  285  286  287  288  289  290  291  292  293  294  295  296  297  298\n",
      "  299  300  301  302  303  304  305  306  307  308  309  310  311  312\n",
      "  313  314  315  316  317  423  425  427  428  430  431  432  433  434\n",
      "  435  436  437  438  439  440  441  442  443  444  445  446  447  448\n",
      "  449  450  451  452  453  454  455  456  457  458  459  460  461  462\n",
      "  463  464  465  466  467  468  469  529  982 1018 1019 1044 1046 1057\n",
      " 1063 1065 1071 1075 1076 1078 1081 1082 1083 1086 1088 1095 1098 1138\n",
      " 1157 1193 1194 1219 1221 1232 1238 1240 1246 1250 1251 1253 1256 1257\n",
      " 1258 1261 1263 1270 1273 1313 1332 1368 1369 1394 1396 1407 1413 1415\n",
      " 1421 1422 1425 1426 1428 1431 1432 1433 1436 1438 1445 1448] are constant.\n",
      "  warnings.warn(\"Features %s are constant.\" % constant_features_idx,\n",
      "C:\\ProgramData\\Anaconda3\\lib\\site-packages\\sklearn\\feature_selection\\_univariate_selection.py:116: RuntimeWarning: invalid value encountered in true_divide\n",
      "  f = msb / msw\n"
     ]
    },
    {
     "name": "stdout",
     "output_type": "stream",
     "text": [
      "[LibSVM]"
     ]
    },
    {
     "name": "stderr",
     "output_type": "stream",
     "text": [
      "C:\\ProgramData\\Anaconda3\\lib\\site-packages\\sklearn\\feature_selection\\_univariate_selection.py:114: UserWarning: Features [   1    2    3    4    5    6    7    8    9   10   15   18   20  113\n",
      "  114  116  117  118  119  120  121  122  123  124  125  127  259  266\n",
      "  270  271  272  273  274  276  277  278  279  280  281  282  283  284\n",
      "  285  286  287  288  289  290  291  292  293  294  295  296  297  298\n",
      "  299  300  301  302  303  304  305  306  307  308  309  310  311  312\n",
      "  313  314  315  316  317  423  425  427  428  430  431  432  433  434\n",
      "  435  436  437  438  439  440  441  442  443  444  445  446  447  448\n",
      "  449  450  451  452  453  454  455  456  457  458  459  460  461  462\n",
      "  463  464  465  466  467  468  469  529  982 1018 1019 1044 1046 1057\n",
      " 1063 1065 1071 1075 1076 1078 1081 1082 1083 1086 1088 1095 1098 1138\n",
      " 1157 1193 1194 1219 1221 1232 1238 1240 1246 1250 1251 1253 1256 1257\n",
      " 1258 1261 1263 1270 1273 1313 1332 1368 1369 1394 1396 1407 1413 1415\n",
      " 1421 1422 1425 1426 1428 1431 1432 1433 1436 1438 1445 1448] are constant.\n",
      "  warnings.warn(\"Features %s are constant.\" % constant_features_idx,\n",
      "C:\\ProgramData\\Anaconda3\\lib\\site-packages\\sklearn\\feature_selection\\_univariate_selection.py:116: RuntimeWarning: invalid value encountered in true_divide\n",
      "  f = msb / msw\n"
     ]
    },
    {
     "name": "stdout",
     "output_type": "stream",
     "text": [
      "[LibSVM]"
     ]
    },
    {
     "name": "stderr",
     "output_type": "stream",
     "text": [
      "C:\\ProgramData\\Anaconda3\\lib\\site-packages\\sklearn\\feature_selection\\_univariate_selection.py:114: UserWarning: Features [   1    2    3    4    5    6    7    8    9   10   15   18   20  113\n",
      "  114  116  117  118  119  120  121  122  123  124  125  127  259  266\n",
      "  270  271  272  273  274  276  277  278  279  280  281  282  283  284\n",
      "  285  286  287  288  289  290  291  292  293  294  295  296  297  298\n",
      "  299  300  301  302  303  304  305  306  307  308  309  310  311  312\n",
      "  313  314  315  316  317  423  425  427  428  430  431  432  433  434\n",
      "  435  436  437  438  439  440  441  442  443  444  445  446  447  448\n",
      "  449  450  451  452  453  454  455  456  457  458  459  460  461  462\n",
      "  463  464  465  466  467  468  469  529  982 1018 1019 1044 1046 1057\n",
      " 1063 1065 1071 1075 1076 1078 1081 1082 1083 1086 1088 1095 1098 1138\n",
      " 1157 1193 1194 1219 1221 1232 1238 1240 1246 1250 1251 1253 1256 1257\n",
      " 1258 1261 1263 1270 1273 1313 1332 1368 1369 1394 1396 1407 1413 1415\n",
      " 1421 1422 1425 1426 1428 1431 1432 1433 1436 1438 1445 1448] are constant.\n",
      "  warnings.warn(\"Features %s are constant.\" % constant_features_idx,\n",
      "C:\\ProgramData\\Anaconda3\\lib\\site-packages\\sklearn\\feature_selection\\_univariate_selection.py:116: RuntimeWarning: invalid value encountered in true_divide\n",
      "  f = msb / msw\n"
     ]
    },
    {
     "name": "stdout",
     "output_type": "stream",
     "text": [
      "[LibSVM]"
     ]
    },
    {
     "name": "stderr",
     "output_type": "stream",
     "text": [
      "C:\\ProgramData\\Anaconda3\\lib\\site-packages\\sklearn\\feature_selection\\_univariate_selection.py:114: UserWarning: Features [   1    2    3    4    5    6    7    8    9   10   15   18   20  113\n",
      "  114  116  117  118  119  120  121  122  123  124  125  127  259  266\n",
      "  270  271  272  273  274  276  277  278  279  280  281  282  283  284\n",
      "  285  286  287  288  289  290  291  292  293  294  295  296  297  298\n",
      "  299  300  301  302  303  304  305  306  307  308  309  310  311  312\n",
      "  313  314  315  316  317  423  425  427  428  430  431  432  433  434\n",
      "  435  436  437  438  439  440  441  442  443  444  445  446  447  448\n",
      "  449  450  451  452  453  454  455  456  457  458  459  460  461  462\n",
      "  463  464  465  466  467  468  469  529  982 1018 1019 1044 1046 1057\n",
      " 1063 1065 1071 1075 1076 1078 1081 1082 1083 1086 1088 1095 1098 1138\n",
      " 1157 1193 1194 1219 1221 1232 1238 1240 1246 1250 1251 1253 1256 1257\n",
      " 1258 1261 1263 1270 1273 1313 1332 1368 1369 1394 1396 1407 1413 1415\n",
      " 1421 1422 1425 1426 1428 1431 1432 1433 1436 1438 1445 1448] are constant.\n",
      "  warnings.warn(\"Features %s are constant.\" % constant_features_idx,\n",
      "C:\\ProgramData\\Anaconda3\\lib\\site-packages\\sklearn\\feature_selection\\_univariate_selection.py:116: RuntimeWarning: invalid value encountered in true_divide\n",
      "  f = msb / msw\n"
     ]
    },
    {
     "name": "stdout",
     "output_type": "stream",
     "text": [
      "[LibSVM]"
     ]
    },
    {
     "name": "stderr",
     "output_type": "stream",
     "text": [
      "C:\\ProgramData\\Anaconda3\\lib\\site-packages\\sklearn\\feature_selection\\_univariate_selection.py:114: UserWarning: Features [   1    2    3    4    5    6    7    8    9   10   15   18   20  113\n",
      "  114  116  117  118  119  120  121  122  123  124  125  127  259  266\n",
      "  270  271  272  273  274  276  277  278  279  280  281  282  283  284\n",
      "  285  286  287  288  289  290  291  292  293  294  295  296  297  298\n",
      "  299  300  301  302  303  304  305  306  307  308  309  310  311  312\n",
      "  313  314  315  316  317  423  425  427  428  430  431  432  433  434\n",
      "  435  436  437  438  439  440  441  442  443  444  445  446  447  448\n",
      "  449  450  451  452  453  454  455  456  457  458  459  460  461  462\n",
      "  463  464  465  466  467  468  469  529  982 1018 1019 1044 1046 1057\n",
      " 1063 1065 1071 1075 1076 1078 1081 1082 1083 1086 1088 1095 1098 1138\n",
      " 1157 1193 1194 1219 1221 1232 1238 1240 1246 1250 1251 1253 1256 1257\n",
      " 1258 1261 1263 1270 1273 1313 1332 1368 1369 1394 1396 1407 1413 1415\n",
      " 1421 1422 1425 1426 1428 1431 1432 1433 1436 1438 1445 1448] are constant.\n",
      "  warnings.warn(\"Features %s are constant.\" % constant_features_idx,\n",
      "C:\\ProgramData\\Anaconda3\\lib\\site-packages\\sklearn\\feature_selection\\_univariate_selection.py:116: RuntimeWarning: invalid value encountered in true_divide\n",
      "  f = msb / msw\n"
     ]
    },
    {
     "name": "stdout",
     "output_type": "stream",
     "text": [
      "[LibSVM]"
     ]
    },
    {
     "name": "stderr",
     "output_type": "stream",
     "text": [
      "C:\\ProgramData\\Anaconda3\\lib\\site-packages\\sklearn\\feature_selection\\_univariate_selection.py:114: UserWarning: Features [   1    2    3    4    5    6    7    8    9   10   15   18   20  113\n",
      "  114  116  117  118  119  120  121  122  123  124  125  127  259  266\n",
      "  270  271  272  273  274  276  277  278  279  280  281  282  283  284\n",
      "  285  286  287  288  289  290  291  292  293  294  295  296  297  298\n",
      "  299  300  301  302  303  304  305  306  307  308  309  310  311  312\n",
      "  313  314  315  316  317  423  425  427  428  430  431  432  433  434\n",
      "  435  436  437  438  439  440  441  442  443  444  445  446  447  448\n",
      "  449  450  451  452  453  454  455  456  457  458  459  460  461  462\n",
      "  463  464  465  466  467  468  469  529  982 1018 1019 1044 1046 1057\n",
      " 1063 1065 1071 1075 1076 1078 1081 1082 1083 1086 1088 1095 1098 1138\n",
      " 1157 1193 1194 1219 1221 1232 1238 1240 1246 1250 1251 1253 1256 1257\n",
      " 1258 1261 1263 1270 1273 1313 1332 1368 1369 1394 1396 1407 1413 1415\n",
      " 1421 1422 1425 1426 1428 1431 1432 1433 1436 1438 1445 1448] are constant.\n",
      "  warnings.warn(\"Features %s are constant.\" % constant_features_idx,\n",
      "C:\\ProgramData\\Anaconda3\\lib\\site-packages\\sklearn\\feature_selection\\_univariate_selection.py:116: RuntimeWarning: invalid value encountered in true_divide\n",
      "  f = msb / msw\n"
     ]
    },
    {
     "name": "stdout",
     "output_type": "stream",
     "text": [
      "[LibSVM]"
     ]
    },
    {
     "name": "stderr",
     "output_type": "stream",
     "text": [
      "C:\\ProgramData\\Anaconda3\\lib\\site-packages\\sklearn\\feature_selection\\_univariate_selection.py:114: UserWarning: Features [   1    2    3    4    5    6    7    8    9   10   15   18   20  113\n",
      "  114  116  117  118  119  120  121  122  123  124  125  127  259  266\n",
      "  270  271  272  273  274  276  277  278  279  280  281  282  283  284\n",
      "  285  286  287  288  289  290  291  292  293  294  295  296  297  298\n",
      "  299  300  301  302  303  304  305  306  307  308  309  310  311  312\n",
      "  313  314  315  316  317  423  425  427  428  430  431  432  433  434\n",
      "  435  436  437  438  439  440  441  442  443  444  445  446  447  448\n",
      "  449  450  451  452  453  454  455  456  457  458  459  460  461  462\n",
      "  463  464  465  466  467  468  469  529  982 1018 1019 1044 1046 1057\n",
      " 1063 1065 1071 1075 1076 1078 1081 1082 1083 1086 1088 1095 1098 1138\n",
      " 1157 1193 1194 1219 1221 1232 1238 1240 1246 1250 1251 1253 1256 1257\n",
      " 1258 1261 1263 1270 1273 1313 1332 1368 1369 1394 1396 1407 1413 1415\n",
      " 1421 1422 1425 1426 1428 1431 1432 1433 1436 1438 1445 1448] are constant.\n",
      "  warnings.warn(\"Features %s are constant.\" % constant_features_idx,\n",
      "C:\\ProgramData\\Anaconda3\\lib\\site-packages\\sklearn\\feature_selection\\_univariate_selection.py:116: RuntimeWarning: invalid value encountered in true_divide\n",
      "  f = msb / msw\n"
     ]
    },
    {
     "name": "stdout",
     "output_type": "stream",
     "text": [
      "[LibSVM]"
     ]
    },
    {
     "name": "stderr",
     "output_type": "stream",
     "text": [
      "C:\\ProgramData\\Anaconda3\\lib\\site-packages\\sklearn\\feature_selection\\_univariate_selection.py:114: UserWarning: Features [   1    2    3    4    5    6    7    8    9   10   15   18   20  113\n",
      "  114  116  117  118  119  120  121  122  123  124  125  127  259  266\n",
      "  270  271  272  273  274  276  277  278  279  280  281  282  283  284\n",
      "  285  286  287  288  289  290  291  292  293  294  295  296  297  298\n",
      "  299  300  301  302  303  304  305  306  307  308  309  310  311  312\n",
      "  313  314  315  316  317  423  425  427  428  430  431  432  433  434\n",
      "  435  436  437  438  439  440  441  442  443  444  445  446  447  448\n",
      "  449  450  451  452  453  454  455  456  457  458  459  460  461  462\n",
      "  463  464  465  466  467  468  469  529  982 1018 1019 1044 1046 1057\n",
      " 1063 1065 1071 1075 1076 1078 1081 1082 1083 1086 1088 1095 1098 1138\n",
      " 1157 1193 1194 1219 1221 1232 1238 1240 1246 1250 1251 1253 1256 1257\n",
      " 1258 1261 1263 1270 1273 1313 1332 1368 1369 1394 1396 1407 1413 1415\n",
      " 1421 1422 1425 1426 1428 1431 1432 1433 1436 1438 1445 1448] are constant.\n",
      "  warnings.warn(\"Features %s are constant.\" % constant_features_idx,\n",
      "C:\\ProgramData\\Anaconda3\\lib\\site-packages\\sklearn\\feature_selection\\_univariate_selection.py:116: RuntimeWarning: invalid value encountered in true_divide\n",
      "  f = msb / msw\n"
     ]
    },
    {
     "name": "stdout",
     "output_type": "stream",
     "text": [
      "[LibSVM]"
     ]
    },
    {
     "name": "stderr",
     "output_type": "stream",
     "text": [
      "C:\\ProgramData\\Anaconda3\\lib\\site-packages\\sklearn\\feature_selection\\_univariate_selection.py:114: UserWarning: Features [   1    2    3    4    5    6    7    8    9   10   15   18   20  113\n",
      "  114  116  117  118  119  120  121  122  123  124  125  127  259  266\n",
      "  270  271  272  273  274  276  277  278  279  280  281  282  283  284\n",
      "  285  286  287  288  289  290  291  292  293  294  295  296  297  298\n",
      "  299  300  301  302  303  304  305  306  307  308  309  310  311  312\n",
      "  313  314  315  316  317  423  425  427  428  430  431  432  433  434\n",
      "  435  436  437  438  439  440  441  442  443  444  445  446  447  448\n",
      "  449  450  451  452  453  454  455  456  457  458  459  460  461  462\n",
      "  463  464  465  466  467  468  469  529  982 1018 1019 1044 1046 1057\n",
      " 1063 1065 1071 1075 1076 1078 1081 1082 1083 1086 1088 1095 1098 1138\n",
      " 1157 1193 1194 1219 1221 1232 1238 1240 1246 1250 1251 1253 1256 1257\n",
      " 1258 1261 1263 1270 1273 1313 1332 1368 1369 1394 1396 1407 1413 1415\n",
      " 1421 1422 1425 1426 1428 1431 1432 1433 1436 1438 1445 1448] are constant.\n",
      "  warnings.warn(\"Features %s are constant.\" % constant_features_idx,\n",
      "C:\\ProgramData\\Anaconda3\\lib\\site-packages\\sklearn\\feature_selection\\_univariate_selection.py:116: RuntimeWarning: invalid value encountered in true_divide\n",
      "  f = msb / msw\n"
     ]
    },
    {
     "name": "stdout",
     "output_type": "stream",
     "text": [
      "[LibSVM]"
     ]
    },
    {
     "name": "stderr",
     "output_type": "stream",
     "text": [
      "C:\\ProgramData\\Anaconda3\\lib\\site-packages\\sklearn\\feature_selection\\_univariate_selection.py:114: UserWarning: Features [   1    2    3    4    5    6    7    8    9   10   15   18   20  113\n",
      "  114  116  117  118  119  120  121  122  123  124  125  127  259  266\n",
      "  270  271  272  273  274  276  277  278  279  280  281  282  283  284\n",
      "  285  286  287  288  289  290  291  292  293  294  295  296  297  298\n",
      "  299  300  301  302  303  304  305  306  307  308  309  310  311  312\n",
      "  313  314  315  316  317  423  425  427  428  430  431  432  433  434\n",
      "  435  436  437  438  439  440  441  442  443  444  445  446  447  448\n",
      "  449  450  451  452  453  454  455  456  457  458  459  460  461  462\n",
      "  463  464  465  466  467  468  469  529  982 1018 1019 1044 1046 1057\n",
      " 1063 1065 1071 1075 1076 1078 1081 1082 1083 1086 1088 1095 1098 1138\n",
      " 1157 1193 1194 1219 1221 1232 1238 1240 1246 1250 1251 1253 1256 1257\n",
      " 1258 1261 1263 1270 1273 1313 1332 1368 1369 1394 1396 1407 1413 1415\n",
      " 1421 1422 1425 1426 1428 1431 1432 1433 1436 1438 1445 1448] are constant.\n",
      "  warnings.warn(\"Features %s are constant.\" % constant_features_idx,\n",
      "C:\\ProgramData\\Anaconda3\\lib\\site-packages\\sklearn\\feature_selection\\_univariate_selection.py:116: RuntimeWarning: invalid value encountered in true_divide\n",
      "  f = msb / msw\n"
     ]
    },
    {
     "name": "stdout",
     "output_type": "stream",
     "text": [
      "[LibSVM]"
     ]
    },
    {
     "name": "stderr",
     "output_type": "stream",
     "text": [
      "C:\\ProgramData\\Anaconda3\\lib\\site-packages\\sklearn\\feature_selection\\_univariate_selection.py:114: UserWarning: Features [   1    2    3    4    5    6    7    8    9   10   15   18   20  113\n",
      "  114  116  117  118  119  120  121  122  123  124  125  127  259  266\n",
      "  270  271  272  273  274  276  277  278  279  280  281  282  283  284\n",
      "  285  286  287  288  289  290  291  292  293  294  295  296  297  298\n",
      "  299  300  301  302  303  304  305  306  307  308  309  310  311  312\n",
      "  313  314  315  316  317  423  425  427  428  430  431  432  433  434\n",
      "  435  436  437  438  439  440  441  442  443  444  445  446  447  448\n",
      "  449  450  451  452  453  454  455  456  457  458  459  460  461  462\n",
      "  463  464  465  466  467  468  469  529  982 1018 1019 1044 1046 1057\n",
      " 1063 1065 1071 1075 1076 1078 1081 1082 1083 1086 1088 1095 1098 1138\n",
      " 1157 1193 1194 1219 1221 1232 1238 1240 1246 1250 1251 1253 1256 1257\n",
      " 1258 1261 1263 1270 1273 1313 1332 1368 1369 1394 1396 1407 1413 1415\n",
      " 1421 1422 1425 1426 1428 1431 1432 1433 1436 1438 1445 1448] are constant.\n",
      "  warnings.warn(\"Features %s are constant.\" % constant_features_idx,\n",
      "C:\\ProgramData\\Anaconda3\\lib\\site-packages\\sklearn\\feature_selection\\_univariate_selection.py:116: RuntimeWarning: invalid value encountered in true_divide\n",
      "  f = msb / msw\n"
     ]
    },
    {
     "name": "stdout",
     "output_type": "stream",
     "text": [
      "[LibSVM]"
     ]
    },
    {
     "name": "stderr",
     "output_type": "stream",
     "text": [
      "C:\\ProgramData\\Anaconda3\\lib\\site-packages\\sklearn\\feature_selection\\_univariate_selection.py:114: UserWarning: Features [   1    2    3    4    5    6    7    8    9   10   15   18   20  113\n",
      "  114  116  117  118  119  120  121  122  123  124  125  127  259  266\n",
      "  270  271  272  273  274  276  277  278  279  280  281  282  283  284\n",
      "  285  286  287  288  289  290  291  292  293  294  295  296  297  298\n",
      "  299  300  301  302  303  304  305  306  307  308  309  310  311  312\n",
      "  313  314  315  316  317  423  425  427  428  430  431  432  433  434\n",
      "  435  436  437  438  439  440  441  442  443  444  445  446  447  448\n",
      "  449  450  451  452  453  454  455  456  457  458  459  460  461  462\n",
      "  463  464  465  466  467  468  469  529  982 1018 1019 1044 1046 1057\n",
      " 1063 1065 1071 1075 1076 1078 1081 1082 1083 1086 1088 1095 1098 1138\n",
      " 1157 1193 1194 1219 1221 1232 1238 1240 1246 1250 1251 1253 1256 1257\n",
      " 1258 1261 1263 1270 1273 1313 1332 1368 1369 1394 1396 1407 1413 1415\n",
      " 1421 1422 1425 1426 1428 1431 1432 1433 1436 1438 1445 1448] are constant.\n",
      "  warnings.warn(\"Features %s are constant.\" % constant_features_idx,\n",
      "C:\\ProgramData\\Anaconda3\\lib\\site-packages\\sklearn\\feature_selection\\_univariate_selection.py:116: RuntimeWarning: invalid value encountered in true_divide\n",
      "  f = msb / msw\n"
     ]
    },
    {
     "name": "stdout",
     "output_type": "stream",
     "text": [
      "[LibSVM]"
     ]
    },
    {
     "name": "stderr",
     "output_type": "stream",
     "text": [
      "C:\\ProgramData\\Anaconda3\\lib\\site-packages\\sklearn\\feature_selection\\_univariate_selection.py:114: UserWarning: Features [   1    2    3    4    5    6    7    8    9   10   15   18   20  113\n",
      "  114  116  117  118  119  120  121  122  123  124  125  127  259  266\n",
      "  270  271  272  273  274  276  277  278  279  280  281  282  283  284\n",
      "  285  286  287  288  289  290  291  292  293  294  295  296  297  298\n",
      "  299  300  301  302  303  304  305  306  307  308  309  310  311  312\n",
      "  313  314  315  316  317  423  425  427  428  430  431  432  433  434\n",
      "  435  436  437  438  439  440  441  442  443  444  445  446  447  448\n",
      "  449  450  451  452  453  454  455  456  457  458  459  460  461  462\n",
      "  463  464  465  466  467  468  469  529  982 1018 1019 1044 1046 1057\n",
      " 1063 1065 1071 1075 1076 1078 1081 1082 1083 1086 1088 1095 1098 1138\n",
      " 1157 1193 1194 1219 1221 1232 1238 1240 1246 1250 1251 1253 1256 1257\n",
      " 1258 1261 1263 1270 1273 1313 1332 1368 1369 1394 1396 1407 1413 1415\n",
      " 1421 1422 1425 1426 1428 1431 1432 1433 1436 1438 1445 1448] are constant.\n",
      "  warnings.warn(\"Features %s are constant.\" % constant_features_idx,\n",
      "C:\\ProgramData\\Anaconda3\\lib\\site-packages\\sklearn\\feature_selection\\_univariate_selection.py:116: RuntimeWarning: invalid value encountered in true_divide\n",
      "  f = msb / msw\n"
     ]
    },
    {
     "name": "stdout",
     "output_type": "stream",
     "text": [
      "[LibSVM]"
     ]
    },
    {
     "name": "stderr",
     "output_type": "stream",
     "text": [
      "C:\\ProgramData\\Anaconda3\\lib\\site-packages\\sklearn\\feature_selection\\_univariate_selection.py:114: UserWarning: Features [   1    2    3    4    5    6    7    8    9   10   15   18   20  113\n",
      "  114  116  117  118  119  120  121  122  123  124  125  127  259  266\n",
      "  270  271  272  273  274  276  277  278  279  280  281  282  283  284\n",
      "  285  286  287  288  289  290  291  292  293  294  295  296  297  298\n",
      "  299  300  301  302  303  304  305  306  307  308  309  310  311  312\n",
      "  313  314  315  316  317  423  425  427  428  430  431  432  433  434\n",
      "  435  436  437  438  439  440  441  442  443  444  445  446  447  448\n",
      "  449  450  451  452  453  454  455  456  457  458  459  460  461  462\n",
      "  463  464  465  466  467  468  469  529  982 1018 1019 1044 1046 1057\n",
      " 1063 1065 1071 1075 1076 1078 1081 1082 1083 1086 1088 1095 1098 1138\n",
      " 1157 1193 1194 1219 1221 1232 1238 1240 1246 1250 1251 1253 1256 1257\n",
      " 1258 1261 1263 1270 1273 1313 1332 1368 1369 1394 1396 1407 1413 1415\n",
      " 1421 1422 1425 1426 1428 1431 1432 1433 1436 1438 1445 1448] are constant.\n",
      "  warnings.warn(\"Features %s are constant.\" % constant_features_idx,\n",
      "C:\\ProgramData\\Anaconda3\\lib\\site-packages\\sklearn\\feature_selection\\_univariate_selection.py:116: RuntimeWarning: invalid value encountered in true_divide\n",
      "  f = msb / msw\n"
     ]
    },
    {
     "name": "stdout",
     "output_type": "stream",
     "text": [
      "[LibSVM]"
     ]
    },
    {
     "name": "stderr",
     "output_type": "stream",
     "text": [
      "C:\\ProgramData\\Anaconda3\\lib\\site-packages\\sklearn\\feature_selection\\_univariate_selection.py:114: UserWarning: Features [   1    2    3    4    5    6    7    8    9   10   15   18   20  113\n",
      "  114  116  117  118  119  120  121  122  123  124  125  127  259  266\n",
      "  270  271  272  273  274  276  277  278  279  280  281  282  283  284\n",
      "  285  286  287  288  289  290  291  292  293  294  295  296  297  298\n",
      "  299  300  301  302  303  304  305  306  307  308  309  310  311  312\n",
      "  313  314  315  316  317  423  425  427  428  430  431  432  433  434\n",
      "  435  436  437  438  439  440  441  442  443  444  445  446  447  448\n",
      "  449  450  451  452  453  454  455  456  457  458  459  460  461  462\n",
      "  463  464  465  466  467  468  469  529  982 1018 1019 1044 1046 1057\n",
      " 1063 1065 1071 1075 1076 1078 1081 1082 1083 1086 1088 1095 1098 1138\n",
      " 1157 1193 1194 1219 1221 1232 1238 1240 1246 1250 1251 1253 1256 1257\n",
      " 1258 1261 1263 1270 1273 1313 1332 1368 1369 1394 1396 1407 1413 1415\n",
      " 1421 1422 1425 1426 1428 1431 1432 1433 1436 1438 1445 1448] are constant.\n",
      "  warnings.warn(\"Features %s are constant.\" % constant_features_idx,\n",
      "C:\\ProgramData\\Anaconda3\\lib\\site-packages\\sklearn\\feature_selection\\_univariate_selection.py:116: RuntimeWarning: invalid value encountered in true_divide\n",
      "  f = msb / msw\n"
     ]
    },
    {
     "name": "stdout",
     "output_type": "stream",
     "text": [
      "[LibSVM]"
     ]
    },
    {
     "name": "stderr",
     "output_type": "stream",
     "text": [
      "C:\\ProgramData\\Anaconda3\\lib\\site-packages\\sklearn\\feature_selection\\_univariate_selection.py:114: UserWarning: Features [   1    2    3    4    5    6    7    8    9   10   15   18   20  113\n",
      "  114  116  117  118  119  120  121  122  123  124  125  127  259  266\n",
      "  270  271  272  273  274  276  277  278  279  280  281  282  283  284\n",
      "  285  286  287  288  289  290  291  292  293  294  295  296  297  298\n",
      "  299  300  301  302  303  304  305  306  307  308  309  310  311  312\n",
      "  313  314  315  316  317  423  425  427  428  430  431  432  433  434\n",
      "  435  436  437  438  439  440  441  442  443  444  445  446  447  448\n",
      "  449  450  451  452  453  454  455  456  457  458  459  460  461  462\n",
      "  463  464  465  466  467  468  469  529  982 1018 1019 1044 1046 1057\n",
      " 1063 1065 1071 1075 1076 1078 1081 1082 1083 1086 1088 1095 1098 1138\n",
      " 1157 1193 1194 1219 1221 1232 1238 1240 1246 1250 1251 1253 1256 1257\n",
      " 1258 1261 1263 1270 1273 1313 1332 1368 1369 1394 1396 1407 1413 1415\n",
      " 1421 1422 1425 1426 1428 1431 1432 1433 1436 1438 1445 1448] are constant.\n",
      "  warnings.warn(\"Features %s are constant.\" % constant_features_idx,\n",
      "C:\\ProgramData\\Anaconda3\\lib\\site-packages\\sklearn\\feature_selection\\_univariate_selection.py:116: RuntimeWarning: invalid value encountered in true_divide\n",
      "  f = msb / msw\n"
     ]
    },
    {
     "name": "stdout",
     "output_type": "stream",
     "text": [
      "[LibSVM]"
     ]
    },
    {
     "name": "stderr",
     "output_type": "stream",
     "text": [
      "C:\\ProgramData\\Anaconda3\\lib\\site-packages\\sklearn\\feature_selection\\_univariate_selection.py:114: UserWarning: Features [   1    2    3    4    5    6    7    8    9   10   15   18   20  113\n",
      "  114  116  117  118  119  120  121  122  123  124  125  127  259  266\n",
      "  270  271  272  273  274  276  277  278  279  280  281  282  283  284\n",
      "  285  286  287  288  289  290  291  292  293  294  295  296  297  298\n",
      "  299  300  301  302  303  304  305  306  307  308  309  310  311  312\n",
      "  313  314  315  316  317  423  425  427  428  430  431  432  433  434\n",
      "  435  436  437  438  439  440  441  442  443  444  445  446  447  448\n",
      "  449  450  451  452  453  454  455  456  457  458  459  460  461  462\n",
      "  463  464  465  466  467  468  469  529  982 1018 1019 1044 1046 1057\n",
      " 1063 1065 1071 1075 1076 1078 1081 1082 1083 1086 1088 1095 1098 1138\n",
      " 1157 1193 1194 1219 1221 1232 1238 1240 1246 1250 1251 1253 1256 1257\n",
      " 1258 1261 1263 1270 1273 1313 1332 1368 1369 1394 1396 1407 1413 1415\n",
      " 1421 1422 1425 1426 1428 1431 1432 1433 1436 1438 1445 1448] are constant.\n",
      "  warnings.warn(\"Features %s are constant.\" % constant_features_idx,\n",
      "C:\\ProgramData\\Anaconda3\\lib\\site-packages\\sklearn\\feature_selection\\_univariate_selection.py:116: RuntimeWarning: invalid value encountered in true_divide\n",
      "  f = msb / msw\n"
     ]
    },
    {
     "name": "stdout",
     "output_type": "stream",
     "text": [
      "[LibSVM]"
     ]
    },
    {
     "name": "stderr",
     "output_type": "stream",
     "text": [
      "C:\\ProgramData\\Anaconda3\\lib\\site-packages\\sklearn\\feature_selection\\_univariate_selection.py:114: UserWarning: Features [   1    2    3    4    5    6    7    8    9   10   15   18   20  113\n",
      "  114  116  117  118  119  120  121  122  123  124  125  127  259  266\n",
      "  270  271  272  273  274  276  277  278  279  280  281  282  283  284\n",
      "  285  286  287  288  289  290  291  292  293  294  295  296  297  298\n",
      "  299  300  301  302  303  304  305  306  307  308  309  310  311  312\n",
      "  313  314  315  316  317  423  425  427  428  430  431  432  433  434\n",
      "  435  436  437  438  439  440  441  442  443  444  445  446  447  448\n",
      "  449  450  451  452  453  454  455  456  457  458  459  460  461  462\n",
      "  463  464  465  466  467  468  469  529  982 1018 1019 1044 1046 1057\n",
      " 1063 1065 1071 1075 1076 1078 1081 1082 1083 1086 1088 1095 1098 1138\n",
      " 1157 1193 1194 1219 1221 1232 1238 1240 1246 1250 1251 1253 1256 1257\n",
      " 1258 1261 1263 1270 1273 1313 1332 1368 1369 1394 1396 1407 1413 1415\n",
      " 1421 1422 1425 1426 1428 1431 1432 1433 1436 1438 1445 1448] are constant.\n",
      "  warnings.warn(\"Features %s are constant.\" % constant_features_idx,\n",
      "C:\\ProgramData\\Anaconda3\\lib\\site-packages\\sklearn\\feature_selection\\_univariate_selection.py:116: RuntimeWarning: invalid value encountered in true_divide\n",
      "  f = msb / msw\n"
     ]
    },
    {
     "name": "stdout",
     "output_type": "stream",
     "text": [
      "[LibSVM]"
     ]
    },
    {
     "name": "stderr",
     "output_type": "stream",
     "text": [
      "C:\\ProgramData\\Anaconda3\\lib\\site-packages\\sklearn\\feature_selection\\_univariate_selection.py:114: UserWarning: Features [   1    2    3    4    5    6    7    8    9   10   15   18   20  113\n",
      "  114  116  117  118  119  120  121  122  123  124  125  127  259  266\n",
      "  270  271  272  273  274  276  277  278  279  280  281  282  283  284\n",
      "  285  286  287  288  289  290  291  292  293  294  295  296  297  298\n",
      "  299  300  301  302  303  304  305  306  307  308  309  310  311  312\n",
      "  313  314  315  316  317  423  425  427  428  430  431  432  433  434\n",
      "  435  436  437  438  439  440  441  442  443  444  445  446  447  448\n",
      "  449  450  451  452  453  454  455  456  457  458  459  460  461  462\n",
      "  463  464  465  466  467  468  469  529  982 1018 1019 1044 1046 1057\n",
      " 1063 1065 1071 1075 1076 1078 1081 1082 1083 1086 1088 1095 1098 1138\n",
      " 1157 1193 1194 1219 1221 1232 1238 1240 1246 1250 1251 1253 1256 1257\n",
      " 1258 1261 1263 1270 1273 1313 1332 1368 1369 1394 1396 1407 1413 1415\n",
      " 1421 1422 1425 1426 1428 1431 1432 1433 1436 1438 1445 1448] are constant.\n",
      "  warnings.warn(\"Features %s are constant.\" % constant_features_idx,\n",
      "C:\\ProgramData\\Anaconda3\\lib\\site-packages\\sklearn\\feature_selection\\_univariate_selection.py:116: RuntimeWarning: invalid value encountered in true_divide\n",
      "  f = msb / msw\n"
     ]
    },
    {
     "name": "stdout",
     "output_type": "stream",
     "text": [
      "[LibSVM]"
     ]
    },
    {
     "name": "stderr",
     "output_type": "stream",
     "text": [
      "C:\\ProgramData\\Anaconda3\\lib\\site-packages\\sklearn\\feature_selection\\_univariate_selection.py:114: UserWarning: Features [   1    2    3    4    5    6    7    8    9   10   15   18   20  113\n",
      "  114  116  117  118  119  120  121  122  123  124  125  127  259  266\n",
      "  270  271  272  273  274  276  277  278  279  280  281  282  283  284\n",
      "  285  286  287  288  289  290  291  292  293  294  295  296  297  298\n",
      "  299  300  301  302  303  304  305  306  307  308  309  310  311  312\n",
      "  313  314  315  316  317  423  425  427  428  430  431  432  433  434\n",
      "  435  436  437  438  439  440  441  442  443  444  445  446  447  448\n",
      "  449  450  451  452  453  454  455  456  457  458  459  460  461  462\n",
      "  463  464  465  466  467  468  469  529  982 1018 1019 1044 1046 1057\n",
      " 1063 1065 1071 1075 1076 1078 1081 1082 1083 1086 1088 1095 1098 1138\n",
      " 1157 1193 1194 1219 1221 1232 1238 1240 1246 1250 1251 1253 1256 1257\n",
      " 1258 1261 1263 1270 1273 1313 1332 1368 1369 1394 1396 1407 1413 1415\n",
      " 1421 1422 1425 1426 1428 1431 1432 1433 1436 1438 1445 1448] are constant.\n",
      "  warnings.warn(\"Features %s are constant.\" % constant_features_idx,\n",
      "C:\\ProgramData\\Anaconda3\\lib\\site-packages\\sklearn\\feature_selection\\_univariate_selection.py:116: RuntimeWarning: invalid value encountered in true_divide\n",
      "  f = msb / msw\n"
     ]
    },
    {
     "name": "stdout",
     "output_type": "stream",
     "text": [
      "[LibSVM]"
     ]
    },
    {
     "name": "stderr",
     "output_type": "stream",
     "text": [
      "C:\\ProgramData\\Anaconda3\\lib\\site-packages\\sklearn\\feature_selection\\_univariate_selection.py:114: UserWarning: Features [   1    2    3    4    5    6    7    8    9   10   15   18   20  113\n",
      "  114  116  117  118  119  120  121  122  123  124  125  127  259  266\n",
      "  270  271  272  273  274  276  277  278  279  280  281  282  283  284\n",
      "  285  286  287  288  289  290  291  292  293  294  295  296  297  298\n",
      "  299  300  301  302  303  304  305  306  307  308  309  310  311  312\n",
      "  313  314  315  316  317  423  425  427  428  430  431  432  433  434\n",
      "  435  436  437  438  439  440  441  442  443  444  445  446  447  448\n",
      "  449  450  451  452  453  454  455  456  457  458  459  460  461  462\n",
      "  463  464  465  466  467  468  469  529  982 1018 1019 1044 1046 1057\n",
      " 1063 1065 1071 1075 1076 1078 1081 1082 1083 1086 1088 1095 1098 1138\n",
      " 1157 1193 1194 1219 1221 1232 1238 1240 1246 1250 1251 1253 1256 1257\n",
      " 1258 1261 1263 1270 1273 1313 1332 1368 1369 1394 1396 1407 1413 1415\n",
      " 1421 1422 1425 1426 1428 1431 1432 1433 1436 1438 1445 1448] are constant.\n",
      "  warnings.warn(\"Features %s are constant.\" % constant_features_idx,\n",
      "C:\\ProgramData\\Anaconda3\\lib\\site-packages\\sklearn\\feature_selection\\_univariate_selection.py:116: RuntimeWarning: invalid value encountered in true_divide\n",
      "  f = msb / msw\n"
     ]
    },
    {
     "name": "stdout",
     "output_type": "stream",
     "text": [
      "[LibSVM]"
     ]
    },
    {
     "name": "stderr",
     "output_type": "stream",
     "text": [
      "C:\\ProgramData\\Anaconda3\\lib\\site-packages\\sklearn\\feature_selection\\_univariate_selection.py:114: UserWarning: Features [   1    2    3    4    5    6    7    8    9   10   15   18   20  113\n",
      "  114  116  117  118  119  120  121  122  123  124  125  127  259  266\n",
      "  270  271  272  273  274  276  277  278  279  280  281  282  283  284\n",
      "  285  286  287  288  289  290  291  292  293  294  295  296  297  298\n",
      "  299  300  301  302  303  304  305  306  307  308  309  310  311  312\n",
      "  313  314  315  316  317  423  425  427  428  430  431  432  433  434\n",
      "  435  436  437  438  439  440  441  442  443  444  445  446  447  448\n",
      "  449  450  451  452  453  454  455  456  457  458  459  460  461  462\n",
      "  463  464  465  466  467  468  469  529  982 1018 1019 1044 1046 1057\n",
      " 1063 1065 1071 1075 1076 1078 1081 1082 1083 1086 1088 1095 1098 1138\n",
      " 1157 1193 1194 1219 1221 1232 1238 1240 1246 1250 1251 1253 1256 1257\n",
      " 1258 1261 1263 1270 1273 1313 1332 1368 1369 1394 1396 1407 1413 1415\n",
      " 1421 1422 1425 1426 1428 1431 1432 1433 1436 1438 1445 1448] are constant.\n",
      "  warnings.warn(\"Features %s are constant.\" % constant_features_idx,\n",
      "C:\\ProgramData\\Anaconda3\\lib\\site-packages\\sklearn\\feature_selection\\_univariate_selection.py:116: RuntimeWarning: invalid value encountered in true_divide\n",
      "  f = msb / msw\n"
     ]
    },
    {
     "name": "stdout",
     "output_type": "stream",
     "text": [
      "[LibSVM]"
     ]
    },
    {
     "name": "stderr",
     "output_type": "stream",
     "text": [
      "C:\\ProgramData\\Anaconda3\\lib\\site-packages\\sklearn\\feature_selection\\_univariate_selection.py:114: UserWarning: Features [   1    2    3    4    5    6    7    8    9   10   15   18   20  113\n",
      "  114  116  117  118  119  120  121  122  123  124  125  127  259  266\n",
      "  270  271  272  273  274  276  277  278  279  280  281  282  283  284\n",
      "  285  286  287  288  289  290  291  292  293  294  295  296  297  298\n",
      "  299  300  301  302  303  304  305  306  307  308  309  310  311  312\n",
      "  313  314  315  316  317  423  425  427  428  430  431  432  433  434\n",
      "  435  436  437  438  439  440  441  442  443  444  445  446  447  448\n",
      "  449  450  451  452  453  454  455  456  457  458  459  460  461  462\n",
      "  463  464  465  466  467  468  469  529  982 1018 1019 1044 1046 1057\n",
      " 1063 1065 1071 1075 1076 1078 1081 1082 1083 1086 1088 1095 1098 1138\n",
      " 1157 1193 1194 1219 1221 1232 1238 1240 1246 1250 1251 1253 1256 1257\n",
      " 1258 1261 1263 1270 1273 1313 1332 1368 1369 1394 1396 1407 1413 1415\n",
      " 1421 1422 1425 1426 1428 1431 1432 1433 1436 1438 1445 1448] are constant.\n",
      "  warnings.warn(\"Features %s are constant.\" % constant_features_idx,\n",
      "C:\\ProgramData\\Anaconda3\\lib\\site-packages\\sklearn\\feature_selection\\_univariate_selection.py:116: RuntimeWarning: invalid value encountered in true_divide\n",
      "  f = msb / msw\n"
     ]
    },
    {
     "name": "stdout",
     "output_type": "stream",
     "text": [
      "[LibSVM]"
     ]
    },
    {
     "name": "stderr",
     "output_type": "stream",
     "text": [
      "C:\\ProgramData\\Anaconda3\\lib\\site-packages\\sklearn\\feature_selection\\_univariate_selection.py:114: UserWarning: Features [   1    2    3    4    5    6    7    8    9   10   15   18   20  113\n",
      "  114  116  117  118  119  120  121  122  123  124  125  127  259  266\n",
      "  270  271  272  273  274  276  277  278  279  280  281  282  283  284\n",
      "  285  286  287  288  289  290  291  292  293  294  295  296  297  298\n",
      "  299  300  301  302  303  304  305  306  307  308  309  310  311  312\n",
      "  313  314  315  316  317  423  425  427  428  430  431  432  433  434\n",
      "  435  436  437  438  439  440  441  442  443  444  445  446  447  448\n",
      "  449  450  451  452  453  454  455  456  457  458  459  460  461  462\n",
      "  463  464  465  466  467  468  469  529  982 1018 1019 1044 1046 1057\n",
      " 1063 1065 1071 1075 1076 1078 1081 1082 1083 1086 1088 1095 1098 1138\n",
      " 1157 1193 1194 1219 1221 1232 1238 1240 1246 1250 1251 1253 1256 1257\n",
      " 1258 1261 1263 1270 1273 1313 1332 1368 1369 1394 1396 1407 1413 1415\n",
      " 1421 1422 1425 1426 1428 1431 1432 1433 1436 1438 1445 1448] are constant.\n",
      "  warnings.warn(\"Features %s are constant.\" % constant_features_idx,\n",
      "C:\\ProgramData\\Anaconda3\\lib\\site-packages\\sklearn\\feature_selection\\_univariate_selection.py:116: RuntimeWarning: invalid value encountered in true_divide\n",
      "  f = msb / msw\n"
     ]
    },
    {
     "name": "stdout",
     "output_type": "stream",
     "text": [
      "[LibSVM]"
     ]
    },
    {
     "name": "stderr",
     "output_type": "stream",
     "text": [
      "C:\\ProgramData\\Anaconda3\\lib\\site-packages\\sklearn\\feature_selection\\_univariate_selection.py:114: UserWarning: Features [   1    2    3    4    5    6    7    8    9   10   15   18   20  113\n",
      "  114  116  117  118  119  120  121  122  123  124  125  127  259  266\n",
      "  270  271  272  273  274  276  277  278  279  280  281  282  283  284\n",
      "  285  286  287  288  289  290  291  292  293  294  295  296  297  298\n",
      "  299  300  301  302  303  304  305  306  307  308  309  310  311  312\n",
      "  313  314  315  316  317  423  425  427  428  430  431  432  433  434\n",
      "  435  436  437  438  439  440  441  442  443  444  445  446  447  448\n",
      "  449  450  451  452  453  454  455  456  457  458  459  460  461  462\n",
      "  463  464  465  466  467  468  469  529  982 1018 1019 1044 1046 1057\n",
      " 1063 1065 1071 1075 1076 1078 1081 1082 1083 1086 1088 1095 1098 1138\n",
      " 1157 1193 1194 1219 1221 1232 1238 1240 1246 1250 1251 1253 1256 1257\n",
      " 1258 1261 1263 1270 1273 1313 1332 1368 1369 1394 1396 1407 1413 1415\n",
      " 1421 1422 1425 1426 1428 1431 1432 1433 1436 1438 1445 1448] are constant.\n",
      "  warnings.warn(\"Features %s are constant.\" % constant_features_idx,\n",
      "C:\\ProgramData\\Anaconda3\\lib\\site-packages\\sklearn\\feature_selection\\_univariate_selection.py:116: RuntimeWarning: invalid value encountered in true_divide\n",
      "  f = msb / msw\n"
     ]
    },
    {
     "name": "stdout",
     "output_type": "stream",
     "text": [
      "[LibSVM]"
     ]
    },
    {
     "name": "stderr",
     "output_type": "stream",
     "text": [
      "C:\\ProgramData\\Anaconda3\\lib\\site-packages\\sklearn\\feature_selection\\_univariate_selection.py:114: UserWarning: Features [   1    2    3    4    5    6    7    8    9   10   15   18   20  113\n",
      "  114  116  117  118  119  120  121  122  123  124  125  127  259  266\n",
      "  270  271  272  273  274  276  277  278  279  280  281  282  283  284\n",
      "  285  286  287  288  289  290  291  292  293  294  295  296  297  298\n",
      "  299  300  301  302  303  304  305  306  307  308  309  310  311  312\n",
      "  313  314  315  316  317  423  425  427  428  430  431  432  433  434\n",
      "  435  436  437  438  439  440  441  442  443  444  445  446  447  448\n",
      "  449  450  451  452  453  454  455  456  457  458  459  460  461  462\n",
      "  463  464  465  466  467  468  469  529  982 1018 1019 1044 1046 1057\n",
      " 1063 1065 1071 1075 1076 1078 1081 1082 1083 1086 1088 1095 1098 1138\n",
      " 1157 1193 1194 1219 1221 1232 1238 1240 1246 1250 1251 1253 1256 1257\n",
      " 1258 1261 1263 1270 1273 1313 1332 1368 1369 1394 1396 1407 1413 1415\n",
      " 1421 1422 1425 1426 1428 1431 1432 1433 1436 1438 1445 1448] are constant.\n",
      "  warnings.warn(\"Features %s are constant.\" % constant_features_idx,\n",
      "C:\\ProgramData\\Anaconda3\\lib\\site-packages\\sklearn\\feature_selection\\_univariate_selection.py:116: RuntimeWarning: invalid value encountered in true_divide\n",
      "  f = msb / msw\n"
     ]
    },
    {
     "name": "stdout",
     "output_type": "stream",
     "text": [
      "[LibSVM]"
     ]
    },
    {
     "name": "stderr",
     "output_type": "stream",
     "text": [
      "C:\\ProgramData\\Anaconda3\\lib\\site-packages\\sklearn\\feature_selection\\_univariate_selection.py:114: UserWarning: Features [   1    2    3    4    5    6    7    8    9   10   15   18   20  113\n",
      "  114  116  117  118  119  120  121  122  123  124  125  127  259  266\n",
      "  270  271  272  273  274  276  277  278  279  280  281  282  283  284\n",
      "  285  286  287  288  289  290  291  292  293  294  295  296  297  298\n",
      "  299  300  301  302  303  304  305  306  307  308  309  310  311  312\n",
      "  313  314  315  316  317  423  425  427  428  430  431  432  433  434\n",
      "  435  436  437  438  439  440  441  442  443  444  445  446  447  448\n",
      "  449  450  451  452  453  454  455  456  457  458  459  460  461  462\n",
      "  463  464  465  466  467  468  469  529  982 1018 1019 1044 1046 1057\n",
      " 1063 1065 1071 1075 1076 1078 1081 1082 1083 1086 1088 1095 1098 1138\n",
      " 1157 1193 1194 1219 1221 1232 1238 1240 1246 1250 1251 1253 1256 1257\n",
      " 1258 1261 1263 1270 1273 1313 1332 1368 1369 1394 1396 1407 1413 1415\n",
      " 1421 1422 1425 1426 1428 1431 1432 1433 1436 1438 1445 1448] are constant.\n",
      "  warnings.warn(\"Features %s are constant.\" % constant_features_idx,\n",
      "C:\\ProgramData\\Anaconda3\\lib\\site-packages\\sklearn\\feature_selection\\_univariate_selection.py:116: RuntimeWarning: invalid value encountered in true_divide\n",
      "  f = msb / msw\n"
     ]
    },
    {
     "name": "stdout",
     "output_type": "stream",
     "text": [
      "[LibSVM]"
     ]
    },
    {
     "name": "stderr",
     "output_type": "stream",
     "text": [
      "C:\\ProgramData\\Anaconda3\\lib\\site-packages\\sklearn\\feature_selection\\_univariate_selection.py:114: UserWarning: Features [   1    2    3    4    5    6    7    8    9   10   15   18   20  113\n",
      "  114  116  117  118  119  120  121  122  123  124  125  127  259  266\n",
      "  270  271  272  273  274  276  277  278  279  280  281  282  283  284\n",
      "  285  286  287  288  289  290  291  292  293  294  295  296  297  298\n",
      "  299  300  301  302  303  304  305  306  307  308  309  310  311  312\n",
      "  313  314  315  316  317  423  425  427  428  430  431  432  433  434\n",
      "  435  436  437  438  439  440  441  442  443  444  445  446  447  448\n",
      "  449  450  451  452  453  454  455  456  457  458  459  460  461  462\n",
      "  463  464  465  466  467  468  469  529  982 1018 1019 1044 1046 1057\n",
      " 1063 1065 1071 1075 1076 1078 1081 1082 1083 1086 1088 1095 1098 1138\n",
      " 1157 1193 1194 1219 1221 1232 1238 1240 1246 1250 1251 1253 1256 1257\n",
      " 1258 1261 1263 1270 1273 1313 1332 1368 1369 1394 1396 1407 1413 1415\n",
      " 1421 1422 1425 1426 1428 1431 1432 1433 1436 1438 1445 1448] are constant.\n",
      "  warnings.warn(\"Features %s are constant.\" % constant_features_idx,\n",
      "C:\\ProgramData\\Anaconda3\\lib\\site-packages\\sklearn\\feature_selection\\_univariate_selection.py:116: RuntimeWarning: invalid value encountered in true_divide\n",
      "  f = msb / msw\n"
     ]
    },
    {
     "name": "stdout",
     "output_type": "stream",
     "text": [
      "[LibSVM]"
     ]
    },
    {
     "name": "stderr",
     "output_type": "stream",
     "text": [
      "C:\\ProgramData\\Anaconda3\\lib\\site-packages\\sklearn\\feature_selection\\_univariate_selection.py:114: UserWarning: Features [   1    2    3    4    5    6    7    8    9   10   15   18   20  113\n",
      "  114  116  117  118  119  120  121  122  123  124  125  127  259  266\n",
      "  270  271  272  273  274  276  277  278  279  280  281  282  283  284\n",
      "  285  286  287  288  289  290  291  292  293  294  295  296  297  298\n",
      "  299  300  301  302  303  304  305  306  307  308  309  310  311  312\n",
      "  313  314  315  316  317  423  425  427  428  430  431  432  433  434\n",
      "  435  436  437  438  439  440  441  442  443  444  445  446  447  448\n",
      "  449  450  451  452  453  454  455  456  457  458  459  460  461  462\n",
      "  463  464  465  466  467  468  469  529  982 1018 1019 1044 1046 1057\n",
      " 1063 1065 1071 1075 1076 1078 1081 1082 1083 1086 1088 1095 1098 1138\n",
      " 1157 1193 1194 1219 1221 1232 1238 1240 1246 1250 1251 1253 1256 1257\n",
      " 1258 1261 1263 1270 1273 1313 1332 1368 1369 1394 1396 1407 1413 1415\n",
      " 1421 1422 1425 1426 1428 1431 1432 1433 1436 1438 1445 1448] are constant.\n",
      "  warnings.warn(\"Features %s are constant.\" % constant_features_idx,\n",
      "C:\\ProgramData\\Anaconda3\\lib\\site-packages\\sklearn\\feature_selection\\_univariate_selection.py:116: RuntimeWarning: invalid value encountered in true_divide\n",
      "  f = msb / msw\n"
     ]
    },
    {
     "name": "stdout",
     "output_type": "stream",
     "text": [
      "[LibSVM]"
     ]
    },
    {
     "name": "stderr",
     "output_type": "stream",
     "text": [
      "C:\\ProgramData\\Anaconda3\\lib\\site-packages\\sklearn\\feature_selection\\_univariate_selection.py:114: UserWarning: Features [   1    2    3    4    5    6    7    8    9   10   15   18   20  113\n",
      "  114  116  117  118  119  120  121  122  123  124  125  127  259  266\n",
      "  270  271  272  273  274  276  277  278  279  280  281  282  283  284\n",
      "  285  286  287  288  289  290  291  292  293  294  295  296  297  298\n",
      "  299  300  301  302  303  304  305  306  307  308  309  310  311  312\n",
      "  313  314  315  316  317  423  425  427  428  430  431  432  433  434\n",
      "  435  436  437  438  439  440  441  442  443  444  445  446  447  448\n",
      "  449  450  451  452  453  454  455  456  457  458  459  460  461  462\n",
      "  463  464  465  466  467  468  469  529  982 1018 1019 1044 1046 1057\n",
      " 1063 1065 1071 1075 1076 1078 1081 1082 1083 1086 1088 1095 1098 1138\n",
      " 1157 1193 1194 1219 1221 1232 1238 1240 1246 1250 1251 1253 1256 1257\n",
      " 1258 1261 1263 1270 1273 1313 1332 1368 1369 1394 1396 1407 1413 1415\n",
      " 1421 1422 1425 1426 1428 1431 1432 1433 1436 1438 1445 1448] are constant.\n",
      "  warnings.warn(\"Features %s are constant.\" % constant_features_idx,\n",
      "C:\\ProgramData\\Anaconda3\\lib\\site-packages\\sklearn\\feature_selection\\_univariate_selection.py:116: RuntimeWarning: invalid value encountered in true_divide\n",
      "  f = msb / msw\n"
     ]
    },
    {
     "name": "stdout",
     "output_type": "stream",
     "text": [
      "[LibSVM]"
     ]
    },
    {
     "name": "stderr",
     "output_type": "stream",
     "text": [
      "C:\\ProgramData\\Anaconda3\\lib\\site-packages\\sklearn\\feature_selection\\_univariate_selection.py:114: UserWarning: Features [   1    2    3    4    5    6    7    8    9   10   15   18   20  113\n",
      "  114  116  117  118  119  120  121  122  123  124  125  127  259  266\n",
      "  270  271  272  273  274  276  277  278  279  280  281  282  283  284\n",
      "  285  286  287  288  289  290  291  292  293  294  295  296  297  298\n",
      "  299  300  301  302  303  304  305  306  307  308  309  310  311  312\n",
      "  313  314  315  316  317  423  425  427  428  430  431  432  433  434\n",
      "  435  436  437  438  439  440  441  442  443  444  445  446  447  448\n",
      "  449  450  451  452  453  454  455  456  457  458  459  460  461  462\n",
      "  463  464  465  466  467  468  469  529  982 1018 1019 1044 1046 1057\n",
      " 1063 1065 1071 1075 1076 1078 1081 1082 1083 1086 1088 1095 1098 1138\n",
      " 1157 1193 1194 1219 1221 1232 1238 1240 1246 1250 1251 1253 1256 1257\n",
      " 1258 1261 1263 1270 1273 1313 1332 1368 1369 1394 1396 1407 1413 1415\n",
      " 1421 1422 1425 1426 1428 1431 1432 1433 1436 1438 1445 1448] are constant.\n",
      "  warnings.warn(\"Features %s are constant.\" % constant_features_idx,\n",
      "C:\\ProgramData\\Anaconda3\\lib\\site-packages\\sklearn\\feature_selection\\_univariate_selection.py:116: RuntimeWarning: invalid value encountered in true_divide\n",
      "  f = msb / msw\n"
     ]
    },
    {
     "name": "stdout",
     "output_type": "stream",
     "text": [
      "[LibSVM]"
     ]
    },
    {
     "name": "stderr",
     "output_type": "stream",
     "text": [
      "C:\\ProgramData\\Anaconda3\\lib\\site-packages\\sklearn\\feature_selection\\_univariate_selection.py:114: UserWarning: Features [   1    2    3    4    5    6    7    8    9   10   15   18   20  113\n",
      "  114  116  117  118  119  120  121  122  123  124  125  127  259  266\n",
      "  270  271  272  273  274  276  277  278  279  280  281  282  283  284\n",
      "  285  286  287  288  289  290  291  292  293  294  295  296  297  298\n",
      "  299  300  301  302  303  304  305  306  307  308  309  310  311  312\n",
      "  313  314  315  316  317  423  425  427  428  430  431  432  433  434\n",
      "  435  436  437  438  439  440  441  442  443  444  445  446  447  448\n",
      "  449  450  451  452  453  454  455  456  457  458  459  460  461  462\n",
      "  463  464  465  466  467  468  469  529  982 1018 1019 1044 1046 1057\n",
      " 1063 1065 1071 1075 1076 1078 1081 1082 1083 1086 1088 1095 1098 1138\n",
      " 1157 1193 1194 1219 1221 1232 1238 1240 1246 1250 1251 1253 1256 1257\n",
      " 1258 1261 1263 1270 1273 1313 1332 1368 1369 1394 1396 1407 1413 1415\n",
      " 1421 1422 1425 1426 1428 1431 1432 1433 1436 1438 1445 1448] are constant.\n",
      "  warnings.warn(\"Features %s are constant.\" % constant_features_idx,\n",
      "C:\\ProgramData\\Anaconda3\\lib\\site-packages\\sklearn\\feature_selection\\_univariate_selection.py:116: RuntimeWarning: invalid value encountered in true_divide\n",
      "  f = msb / msw\n"
     ]
    },
    {
     "name": "stdout",
     "output_type": "stream",
     "text": [
      "[LibSVM]"
     ]
    },
    {
     "name": "stderr",
     "output_type": "stream",
     "text": [
      "C:\\ProgramData\\Anaconda3\\lib\\site-packages\\sklearn\\feature_selection\\_univariate_selection.py:114: UserWarning: Features [   1    2    3    4    5    6    7    8    9   10   15   18   20  113\n",
      "  114  116  117  118  119  120  121  122  123  124  125  127  259  266\n",
      "  270  271  272  273  274  276  277  278  279  280  281  282  283  284\n",
      "  285  286  287  288  289  290  291  292  293  294  295  296  297  298\n",
      "  299  300  301  302  303  304  305  306  307  308  309  310  311  312\n",
      "  313  314  315  316  317  423  425  427  428  430  431  432  433  434\n",
      "  435  436  437  438  439  440  441  442  443  444  445  446  447  448\n",
      "  449  450  451  452  453  454  455  456  457  458  459  460  461  462\n",
      "  463  464  465  466  467  468  469  529  982 1018 1019 1044 1046 1057\n",
      " 1063 1065 1071 1075 1076 1078 1081 1082 1083 1086 1088 1095 1098 1138\n",
      " 1157 1193 1194 1219 1221 1232 1238 1240 1246 1250 1251 1253 1256 1257\n",
      " 1258 1261 1263 1270 1273 1313 1332 1368 1369 1394 1396 1407 1413 1415\n",
      " 1421 1422 1425 1426 1428 1431 1432 1433 1436 1438 1445 1448] are constant.\n",
      "  warnings.warn(\"Features %s are constant.\" % constant_features_idx,\n",
      "C:\\ProgramData\\Anaconda3\\lib\\site-packages\\sklearn\\feature_selection\\_univariate_selection.py:116: RuntimeWarning: invalid value encountered in true_divide\n",
      "  f = msb / msw\n"
     ]
    },
    {
     "name": "stdout",
     "output_type": "stream",
     "text": [
      "[LibSVM]"
     ]
    },
    {
     "name": "stderr",
     "output_type": "stream",
     "text": [
      "C:\\ProgramData\\Anaconda3\\lib\\site-packages\\sklearn\\feature_selection\\_univariate_selection.py:114: UserWarning: Features [   1    2    3    4    5    6    7    8    9   10   15   18   20  113\n",
      "  114  116  117  118  119  120  121  122  123  124  125  127  259  266\n",
      "  270  271  272  273  274  276  277  278  279  280  281  282  283  284\n",
      "  285  286  287  288  289  290  291  292  293  294  295  296  297  298\n",
      "  299  300  301  302  303  304  305  306  307  308  309  310  311  312\n",
      "  313  314  315  316  317  423  425  427  428  430  431  432  433  434\n",
      "  435  436  437  438  439  440  441  442  443  444  445  446  447  448\n",
      "  449  450  451  452  453  454  455  456  457  458  459  460  461  462\n",
      "  463  464  465  466  467  468  469  529  982 1018 1019 1044 1046 1057\n",
      " 1063 1065 1071 1075 1076 1078 1081 1082 1083 1086 1088 1095 1098 1138\n",
      " 1157 1193 1194 1219 1221 1232 1238 1240 1246 1250 1251 1253 1256 1257\n",
      " 1258 1261 1263 1270 1273 1313 1332 1368 1369 1394 1396 1407 1413 1415\n",
      " 1421 1422 1425 1426 1428 1431 1432 1433 1436 1438 1445 1448] are constant.\n",
      "  warnings.warn(\"Features %s are constant.\" % constant_features_idx,\n",
      "C:\\ProgramData\\Anaconda3\\lib\\site-packages\\sklearn\\feature_selection\\_univariate_selection.py:116: RuntimeWarning: invalid value encountered in true_divide\n",
      "  f = msb / msw\n"
     ]
    },
    {
     "name": "stdout",
     "output_type": "stream",
     "text": [
      "[LibSVM]"
     ]
    },
    {
     "name": "stderr",
     "output_type": "stream",
     "text": [
      "C:\\ProgramData\\Anaconda3\\lib\\site-packages\\sklearn\\feature_selection\\_univariate_selection.py:114: UserWarning: Features [   1    2    3    4    5    6    7    8    9   10   15   18   20  113\n",
      "  114  116  117  118  119  120  121  122  123  124  125  127  259  266\n",
      "  270  271  272  273  274  276  277  278  279  280  281  282  283  284\n",
      "  285  286  287  288  289  290  291  292  293  294  295  296  297  298\n",
      "  299  300  301  302  303  304  305  306  307  308  309  310  311  312\n",
      "  313  314  315  316  317  423  425  427  428  430  431  432  433  434\n",
      "  435  436  437  438  439  440  441  442  443  444  445  446  447  448\n",
      "  449  450  451  452  453  454  455  456  457  458  459  460  461  462\n",
      "  463  464  465  466  467  468  469  529  982 1018 1019 1044 1046 1057\n",
      " 1063 1065 1071 1075 1076 1078 1081 1082 1083 1086 1088 1095 1098 1138\n",
      " 1157 1193 1194 1219 1221 1232 1238 1240 1246 1250 1251 1253 1256 1257\n",
      " 1258 1261 1263 1270 1273 1313 1332 1368 1369 1394 1396 1407 1413 1415\n",
      " 1421 1422 1425 1426 1428 1431 1432 1433 1436 1438 1445 1448] are constant.\n",
      "  warnings.warn(\"Features %s are constant.\" % constant_features_idx,\n",
      "C:\\ProgramData\\Anaconda3\\lib\\site-packages\\sklearn\\feature_selection\\_univariate_selection.py:116: RuntimeWarning: invalid value encountered in true_divide\n",
      "  f = msb / msw\n"
     ]
    },
    {
     "name": "stdout",
     "output_type": "stream",
     "text": [
      "[LibSVM]"
     ]
    },
    {
     "name": "stderr",
     "output_type": "stream",
     "text": [
      "C:\\ProgramData\\Anaconda3\\lib\\site-packages\\sklearn\\feature_selection\\_univariate_selection.py:114: UserWarning: Features [   1    2    3    4    5    6    7    8    9   10   15   18   20  113\n",
      "  114  116  117  118  119  120  121  122  123  124  125  127  259  266\n",
      "  270  271  272  273  274  276  277  278  279  280  281  282  283  284\n",
      "  285  286  287  288  289  290  291  292  293  294  295  296  297  298\n",
      "  299  300  301  302  303  304  305  306  307  308  309  310  311  312\n",
      "  313  314  315  316  317  423  425  427  428  430  431  432  433  434\n",
      "  435  436  437  438  439  440  441  442  443  444  445  446  447  448\n",
      "  449  450  451  452  453  454  455  456  457  458  459  460  461  462\n",
      "  463  464  465  466  467  468  469  529  982 1018 1019 1044 1046 1057\n",
      " 1063 1065 1071 1075 1076 1078 1081 1082 1083 1086 1088 1095 1098 1138\n",
      " 1157 1193 1194 1219 1221 1232 1238 1240 1246 1250 1251 1253 1256 1257\n",
      " 1258 1261 1263 1270 1273 1313 1332 1368 1369 1394 1396 1407 1413 1415\n",
      " 1421 1422 1425 1426 1428 1431 1432 1433 1436 1438 1445 1448] are constant.\n",
      "  warnings.warn(\"Features %s are constant.\" % constant_features_idx,\n",
      "C:\\ProgramData\\Anaconda3\\lib\\site-packages\\sklearn\\feature_selection\\_univariate_selection.py:116: RuntimeWarning: invalid value encountered in true_divide\n",
      "  f = msb / msw\n"
     ]
    },
    {
     "name": "stdout",
     "output_type": "stream",
     "text": [
      "[LibSVM]"
     ]
    },
    {
     "name": "stderr",
     "output_type": "stream",
     "text": [
      "C:\\ProgramData\\Anaconda3\\lib\\site-packages\\sklearn\\feature_selection\\_univariate_selection.py:114: UserWarning: Features [   1    2    3    4    5    6    7    8    9   10   15   18   20  113\n",
      "  114  116  117  118  119  120  121  122  123  124  125  127  259  266\n",
      "  270  271  272  273  274  276  277  278  279  280  281  282  283  284\n",
      "  285  286  287  288  289  290  291  292  293  294  295  296  297  298\n",
      "  299  300  301  302  303  304  305  306  307  308  309  310  311  312\n",
      "  313  314  315  316  317  423  425  427  428  430  431  432  433  434\n",
      "  435  436  437  438  439  440  441  442  443  444  445  446  447  448\n",
      "  449  450  451  452  453  454  455  456  457  458  459  460  461  462\n",
      "  463  464  465  466  467  468  469  529  982 1018 1019 1044 1046 1057\n",
      " 1063 1065 1071 1075 1076 1078 1081 1082 1083 1086 1088 1095 1098 1138\n",
      " 1157 1193 1194 1219 1221 1232 1238 1240 1246 1250 1251 1253 1256 1257\n",
      " 1258 1261 1263 1270 1273 1313 1332 1368 1369 1394 1396 1407 1413 1415\n",
      " 1421 1422 1425 1426 1428 1431 1432 1433 1436 1438 1445 1448] are constant.\n",
      "  warnings.warn(\"Features %s are constant.\" % constant_features_idx,\n",
      "C:\\ProgramData\\Anaconda3\\lib\\site-packages\\sklearn\\feature_selection\\_univariate_selection.py:116: RuntimeWarning: invalid value encountered in true_divide\n",
      "  f = msb / msw\n"
     ]
    },
    {
     "name": "stdout",
     "output_type": "stream",
     "text": [
      "[LibSVM]"
     ]
    },
    {
     "name": "stderr",
     "output_type": "stream",
     "text": [
      "C:\\ProgramData\\Anaconda3\\lib\\site-packages\\sklearn\\feature_selection\\_univariate_selection.py:114: UserWarning: Features [   1    2    3    4    5    6    7    8    9   10   15   18   20  113\n",
      "  114  116  117  118  119  120  121  122  123  124  125  127  259  266\n",
      "  270  271  272  273  274  276  277  278  279  280  281  282  283  284\n",
      "  285  286  287  288  289  290  291  292  293  294  295  296  297  298\n",
      "  299  300  301  302  303  304  305  306  307  308  309  310  311  312\n",
      "  313  314  315  316  317  423  425  427  428  430  431  432  433  434\n",
      "  435  436  437  438  439  440  441  442  443  444  445  446  447  448\n",
      "  449  450  451  452  453  454  455  456  457  458  459  460  461  462\n",
      "  463  464  465  466  467  468  469  529  982 1018 1019 1044 1046 1057\n",
      " 1063 1065 1071 1075 1076 1078 1081 1082 1083 1086 1088 1095 1098 1138\n",
      " 1157 1193 1194 1219 1221 1232 1238 1240 1246 1250 1251 1253 1256 1257\n",
      " 1258 1261 1263 1270 1273 1313 1332 1368 1369 1394 1396 1407 1413 1415\n",
      " 1421 1422 1425 1426 1428 1431 1432 1433 1436 1438 1445 1448] are constant.\n",
      "  warnings.warn(\"Features %s are constant.\" % constant_features_idx,\n",
      "C:\\ProgramData\\Anaconda3\\lib\\site-packages\\sklearn\\feature_selection\\_univariate_selection.py:116: RuntimeWarning: invalid value encountered in true_divide\n",
      "  f = msb / msw\n"
     ]
    },
    {
     "name": "stdout",
     "output_type": "stream",
     "text": [
      "[LibSVM]"
     ]
    },
    {
     "name": "stderr",
     "output_type": "stream",
     "text": [
      "C:\\ProgramData\\Anaconda3\\lib\\site-packages\\sklearn\\feature_selection\\_univariate_selection.py:114: UserWarning: Features [   1    2    3    4    5    6    7    8    9   10   15   18   20  113\n",
      "  114  116  117  118  119  120  121  122  123  124  125  127  259  266\n",
      "  270  271  272  273  274  276  277  278  279  280  281  282  283  284\n",
      "  285  286  287  288  289  290  291  292  293  294  295  296  297  298\n",
      "  299  300  301  302  303  304  305  306  307  308  309  310  311  312\n",
      "  313  314  315  316  317  423  425  427  428  430  431  432  433  434\n",
      "  435  436  437  438  439  440  441  442  443  444  445  446  447  448\n",
      "  449  450  451  452  453  454  455  456  457  458  459  460  461  462\n",
      "  463  464  465  466  467  468  469  529  982 1018 1019 1044 1046 1057\n",
      " 1063 1065 1071 1075 1076 1078 1081 1082 1083 1086 1088 1095 1098 1138\n",
      " 1157 1193 1194 1219 1221 1232 1238 1240 1246 1250 1251 1253 1256 1257\n",
      " 1258 1261 1263 1270 1273 1313 1332 1368 1369 1394 1396 1407 1413 1415\n",
      " 1421 1422 1425 1426 1428 1431 1432 1433 1436 1438 1445 1448] are constant.\n",
      "  warnings.warn(\"Features %s are constant.\" % constant_features_idx,\n",
      "C:\\ProgramData\\Anaconda3\\lib\\site-packages\\sklearn\\feature_selection\\_univariate_selection.py:116: RuntimeWarning: invalid value encountered in true_divide\n",
      "  f = msb / msw\n"
     ]
    },
    {
     "name": "stdout",
     "output_type": "stream",
     "text": [
      "[LibSVM]"
     ]
    },
    {
     "name": "stderr",
     "output_type": "stream",
     "text": [
      "C:\\ProgramData\\Anaconda3\\lib\\site-packages\\sklearn\\feature_selection\\_univariate_selection.py:114: UserWarning: Features [   1    2    3    4    5    6    7    8    9   10   15   18   20  113\n",
      "  114  116  117  118  119  120  121  122  123  124  125  127  259  266\n",
      "  270  271  272  273  274  276  277  278  279  280  281  282  283  284\n",
      "  285  286  287  288  289  290  291  292  293  294  295  296  297  298\n",
      "  299  300  301  302  303  304  305  306  307  308  309  310  311  312\n",
      "  313  314  315  316  317  423  425  427  428  430  431  432  433  434\n",
      "  435  436  437  438  439  440  441  442  443  444  445  446  447  448\n",
      "  449  450  451  452  453  454  455  456  457  458  459  460  461  462\n",
      "  463  464  465  466  467  468  469  529  982 1018 1019 1044 1046 1057\n",
      " 1063 1065 1071 1075 1076 1078 1081 1082 1083 1086 1088 1095 1098 1138\n",
      " 1157 1193 1194 1219 1221 1232 1238 1240 1246 1250 1251 1253 1256 1257\n",
      " 1258 1261 1263 1270 1273 1313 1332 1368 1369 1394 1396 1407 1413 1415\n",
      " 1421 1422 1425 1426 1428 1431 1432 1433 1436 1438 1445 1448] are constant.\n",
      "  warnings.warn(\"Features %s are constant.\" % constant_features_idx,\n",
      "C:\\ProgramData\\Anaconda3\\lib\\site-packages\\sklearn\\feature_selection\\_univariate_selection.py:116: RuntimeWarning: invalid value encountered in true_divide\n",
      "  f = msb / msw\n"
     ]
    },
    {
     "name": "stdout",
     "output_type": "stream",
     "text": [
      "[LibSVM]"
     ]
    },
    {
     "name": "stderr",
     "output_type": "stream",
     "text": [
      "C:\\ProgramData\\Anaconda3\\lib\\site-packages\\sklearn\\feature_selection\\_univariate_selection.py:114: UserWarning: Features [   1    2    3    4    5    6    7    8    9   10   15   18   20  113\n",
      "  114  116  117  118  119  120  121  122  123  124  125  127  259  266\n",
      "  270  271  272  273  274  276  277  278  279  280  281  282  283  284\n",
      "  285  286  287  288  289  290  291  292  293  294  295  296  297  298\n",
      "  299  300  301  302  303  304  305  306  307  308  309  310  311  312\n",
      "  313  314  315  316  317  423  425  427  428  430  431  432  433  434\n",
      "  435  436  437  438  439  440  441  442  443  444  445  446  447  448\n",
      "  449  450  451  452  453  454  455  456  457  458  459  460  461  462\n",
      "  463  464  465  466  467  468  469  529  982 1018 1019 1044 1046 1057\n",
      " 1063 1065 1071 1075 1076 1078 1081 1082 1083 1086 1088 1095 1098 1138\n",
      " 1157 1193 1194 1219 1221 1232 1238 1240 1246 1250 1251 1253 1256 1257\n",
      " 1258 1261 1263 1270 1273 1313 1332 1368 1369 1394 1396 1407 1413 1415\n",
      " 1421 1422 1425 1426 1428 1431 1432 1433 1436 1438 1445 1448] are constant.\n",
      "  warnings.warn(\"Features %s are constant.\" % constant_features_idx,\n",
      "C:\\ProgramData\\Anaconda3\\lib\\site-packages\\sklearn\\feature_selection\\_univariate_selection.py:116: RuntimeWarning: invalid value encountered in true_divide\n",
      "  f = msb / msw\n"
     ]
    },
    {
     "name": "stdout",
     "output_type": "stream",
     "text": [
      "[LibSVM]"
     ]
    },
    {
     "name": "stderr",
     "output_type": "stream",
     "text": [
      "C:\\ProgramData\\Anaconda3\\lib\\site-packages\\sklearn\\feature_selection\\_univariate_selection.py:114: UserWarning: Features [   1    2    3    4    5    6    7    8    9   10   15   18   20  113\n",
      "  114  116  117  118  119  120  121  122  123  124  125  127  259  266\n",
      "  270  271  272  273  274  276  277  278  279  280  281  282  283  284\n",
      "  285  286  287  288  289  290  291  292  293  294  295  296  297  298\n",
      "  299  300  301  302  303  304  305  306  307  308  309  310  311  312\n",
      "  313  314  315  316  317  423  425  427  428  430  431  432  433  434\n",
      "  435  436  437  438  439  440  441  442  443  444  445  446  447  448\n",
      "  449  450  451  452  453  454  455  456  457  458  459  460  461  462\n",
      "  463  464  465  466  467  468  469  529  982 1018 1019 1044 1046 1057\n",
      " 1063 1065 1071 1075 1076 1078 1081 1082 1083 1086 1088 1095 1098 1138\n",
      " 1157 1193 1194 1219 1221 1232 1238 1240 1246 1250 1251 1253 1256 1257\n",
      " 1258 1261 1263 1270 1273 1313 1332 1368 1369 1394 1396 1407 1413 1415\n",
      " 1421 1422 1425 1426 1428 1431 1432 1433 1436 1438 1445 1448] are constant.\n",
      "  warnings.warn(\"Features %s are constant.\" % constant_features_idx,\n",
      "C:\\ProgramData\\Anaconda3\\lib\\site-packages\\sklearn\\feature_selection\\_univariate_selection.py:116: RuntimeWarning: invalid value encountered in true_divide\n",
      "  f = msb / msw\n"
     ]
    },
    {
     "name": "stdout",
     "output_type": "stream",
     "text": [
      "[LibSVM]"
     ]
    },
    {
     "name": "stderr",
     "output_type": "stream",
     "text": [
      "C:\\ProgramData\\Anaconda3\\lib\\site-packages\\sklearn\\feature_selection\\_univariate_selection.py:114: UserWarning: Features [   1    2    3    4    5    6    7    8    9   10   15   18   20  113\n",
      "  114  116  117  118  119  120  121  122  123  124  125  127  259  266\n",
      "  270  271  272  273  274  276  277  278  279  280  281  282  283  284\n",
      "  285  286  287  288  289  290  291  292  293  294  295  296  297  298\n",
      "  299  300  301  302  303  304  305  306  307  308  309  310  311  312\n",
      "  313  314  315  316  317  423  425  427  428  430  431  432  433  434\n",
      "  435  436  437  438  439  440  441  442  443  444  445  446  447  448\n",
      "  449  450  451  452  453  454  455  456  457  458  459  460  461  462\n",
      "  463  464  465  466  467  468  469  529  982 1018 1019 1044 1046 1057\n",
      " 1063 1065 1071 1075 1076 1078 1081 1082 1083 1086 1088 1095 1098 1138\n",
      " 1157 1193 1194 1219 1221 1232 1238 1240 1246 1250 1251 1253 1256 1257\n",
      " 1258 1261 1263 1270 1273 1313 1332 1368 1369 1394 1396 1407 1413 1415\n",
      " 1421 1422 1425 1426 1428 1431 1432 1433 1436 1438 1445 1448] are constant.\n",
      "  warnings.warn(\"Features %s are constant.\" % constant_features_idx,\n",
      "C:\\ProgramData\\Anaconda3\\lib\\site-packages\\sklearn\\feature_selection\\_univariate_selection.py:116: RuntimeWarning: invalid value encountered in true_divide\n",
      "  f = msb / msw\n"
     ]
    },
    {
     "name": "stdout",
     "output_type": "stream",
     "text": [
      "[LibSVM]"
     ]
    },
    {
     "name": "stderr",
     "output_type": "stream",
     "text": [
      "C:\\ProgramData\\Anaconda3\\lib\\site-packages\\sklearn\\feature_selection\\_univariate_selection.py:114: UserWarning: Features [   1    2    3    4    5    6    7    8    9   10   15   18   20  113\n",
      "  114  116  117  118  119  120  121  122  123  124  125  127  259  266\n",
      "  270  271  272  273  274  276  277  278  279  280  281  282  283  284\n",
      "  285  286  287  288  289  290  291  292  293  294  295  296  297  298\n",
      "  299  300  301  302  303  304  305  306  307  308  309  310  311  312\n",
      "  313  314  315  316  317  423  425  427  428  430  431  432  433  434\n",
      "  435  436  437  438  439  440  441  442  443  444  445  446  447  448\n",
      "  449  450  451  452  453  454  455  456  457  458  459  460  461  462\n",
      "  463  464  465  466  467  468  469  529  982 1018 1019 1044 1046 1057\n",
      " 1063 1065 1071 1075 1076 1078 1081 1082 1083 1086 1088 1095 1098 1138\n",
      " 1157 1193 1194 1219 1221 1232 1238 1240 1246 1250 1251 1253 1256 1257\n",
      " 1258 1261 1263 1270 1273 1313 1332 1368 1369 1394 1396 1407 1413 1415\n",
      " 1421 1422 1425 1426 1428 1431 1432 1433 1436 1438 1445 1448] are constant.\n",
      "  warnings.warn(\"Features %s are constant.\" % constant_features_idx,\n",
      "C:\\ProgramData\\Anaconda3\\lib\\site-packages\\sklearn\\feature_selection\\_univariate_selection.py:116: RuntimeWarning: invalid value encountered in true_divide\n",
      "  f = msb / msw\n"
     ]
    },
    {
     "name": "stdout",
     "output_type": "stream",
     "text": [
      "[LibSVM]"
     ]
    },
    {
     "name": "stderr",
     "output_type": "stream",
     "text": [
      "C:\\ProgramData\\Anaconda3\\lib\\site-packages\\sklearn\\feature_selection\\_univariate_selection.py:114: UserWarning: Features [   1    2    3    4    5    6    7    8    9   10   15   18   20  113\n",
      "  114  116  117  118  119  120  121  122  123  124  125  127  259  266\n",
      "  270  271  272  273  274  276  277  278  279  280  281  282  283  284\n",
      "  285  286  287  288  289  290  291  292  293  294  295  296  297  298\n",
      "  299  300  301  302  303  304  305  306  307  308  309  310  311  312\n",
      "  313  314  315  316  317  423  425  427  428  430  431  432  433  434\n",
      "  435  436  437  438  439  440  441  442  443  444  445  446  447  448\n",
      "  449  450  451  452  453  454  455  456  457  458  459  460  461  462\n",
      "  463  464  465  466  467  468  469  529  982 1018 1019 1044 1046 1057\n",
      " 1063 1065 1071 1075 1076 1078 1081 1082 1083 1086 1088 1095 1098 1138\n",
      " 1157 1193 1194 1219 1221 1232 1238 1240 1246 1250 1251 1253 1256 1257\n",
      " 1258 1261 1263 1270 1273 1313 1332 1368 1369 1394 1396 1407 1413 1415\n",
      " 1421 1422 1425 1426 1428 1431 1432 1433 1436 1438 1445 1448] are constant.\n",
      "  warnings.warn(\"Features %s are constant.\" % constant_features_idx,\n",
      "C:\\ProgramData\\Anaconda3\\lib\\site-packages\\sklearn\\feature_selection\\_univariate_selection.py:116: RuntimeWarning: invalid value encountered in true_divide\n",
      "  f = msb / msw\n"
     ]
    },
    {
     "name": "stdout",
     "output_type": "stream",
     "text": [
      "[LibSVM]"
     ]
    },
    {
     "name": "stderr",
     "output_type": "stream",
     "text": [
      "C:\\ProgramData\\Anaconda3\\lib\\site-packages\\sklearn\\feature_selection\\_univariate_selection.py:114: UserWarning: Features [   1    2    3    4    5    6    7    8    9   10   15   18   20  113\n",
      "  114  116  117  118  119  120  121  122  123  124  125  127  259  266\n",
      "  270  271  272  273  274  276  277  278  279  280  281  282  283  284\n",
      "  285  286  287  288  289  290  291  292  293  294  295  296  297  298\n",
      "  299  300  301  302  303  304  305  306  307  308  309  310  311  312\n",
      "  313  314  315  316  317  423  425  427  428  430  431  432  433  434\n",
      "  435  436  437  438  439  440  441  442  443  444  445  446  447  448\n",
      "  449  450  451  452  453  454  455  456  457  458  459  460  461  462\n",
      "  463  464  465  466  467  468  469  529  982 1018 1019 1044 1046 1057\n",
      " 1063 1065 1071 1075 1076 1078 1081 1082 1083 1086 1088 1095 1098 1138\n",
      " 1157 1193 1194 1219 1221 1232 1238 1240 1246 1250 1251 1253 1256 1257\n",
      " 1258 1261 1263 1270 1273 1313 1332 1368 1369 1394 1396 1407 1413 1415\n",
      " 1421 1422 1425 1426 1428 1431 1432 1433 1436 1438 1445 1448] are constant.\n",
      "  warnings.warn(\"Features %s are constant.\" % constant_features_idx,\n",
      "C:\\ProgramData\\Anaconda3\\lib\\site-packages\\sklearn\\feature_selection\\_univariate_selection.py:116: RuntimeWarning: invalid value encountered in true_divide\n",
      "  f = msb / msw\n"
     ]
    },
    {
     "name": "stdout",
     "output_type": "stream",
     "text": [
      "[LibSVM]"
     ]
    },
    {
     "name": "stderr",
     "output_type": "stream",
     "text": [
      "C:\\ProgramData\\Anaconda3\\lib\\site-packages\\sklearn\\feature_selection\\_univariate_selection.py:114: UserWarning: Features [   1    2    3    4    5    6    7    8    9   10   15   18   20  113\n",
      "  114  116  117  118  119  120  121  122  123  124  125  127  259  266\n",
      "  270  271  272  273  274  276  277  278  279  280  281  282  283  284\n",
      "  285  286  287  288  289  290  291  292  293  294  295  296  297  298\n",
      "  299  300  301  302  303  304  305  306  307  308  309  310  311  312\n",
      "  313  314  315  316  317  423  425  427  428  430  431  432  433  434\n",
      "  435  436  437  438  439  440  441  442  443  444  445  446  447  448\n",
      "  449  450  451  452  453  454  455  456  457  458  459  460  461  462\n",
      "  463  464  465  466  467  468  469  529  982 1018 1019 1044 1046 1057\n",
      " 1063 1065 1071 1075 1076 1078 1081 1082 1083 1086 1088 1095 1098 1138\n",
      " 1157 1193 1194 1219 1221 1232 1238 1240 1246 1250 1251 1253 1256 1257\n",
      " 1258 1261 1263 1270 1273 1313 1332 1368 1369 1394 1396 1407 1413 1415\n",
      " 1421 1422 1425 1426 1428 1431 1432 1433 1436 1438 1445 1448] are constant.\n",
      "  warnings.warn(\"Features %s are constant.\" % constant_features_idx,\n",
      "C:\\ProgramData\\Anaconda3\\lib\\site-packages\\sklearn\\feature_selection\\_univariate_selection.py:116: RuntimeWarning: invalid value encountered in true_divide\n",
      "  f = msb / msw\n"
     ]
    },
    {
     "name": "stdout",
     "output_type": "stream",
     "text": [
      "[LibSVM]"
     ]
    },
    {
     "name": "stderr",
     "output_type": "stream",
     "text": [
      "C:\\ProgramData\\Anaconda3\\lib\\site-packages\\sklearn\\feature_selection\\_univariate_selection.py:114: UserWarning: Features [   1    2    3    4    5    6    7    8    9   10   15   18   20  113\n",
      "  114  116  117  118  119  120  121  122  123  124  125  127  259  266\n",
      "  270  271  272  273  274  276  277  278  279  280  281  282  283  284\n",
      "  285  286  287  288  289  290  291  292  293  294  295  296  297  298\n",
      "  299  300  301  302  303  304  305  306  307  308  309  310  311  312\n",
      "  313  314  315  316  317  423  425  427  428  430  431  432  433  434\n",
      "  435  436  437  438  439  440  441  442  443  444  445  446  447  448\n",
      "  449  450  451  452  453  454  455  456  457  458  459  460  461  462\n",
      "  463  464  465  466  467  468  469  529  982 1018 1019 1044 1046 1057\n",
      " 1063 1065 1071 1075 1076 1078 1081 1082 1083 1086 1088 1095 1098 1138\n",
      " 1157 1193 1194 1219 1221 1232 1238 1240 1246 1250 1251 1253 1256 1257\n",
      " 1258 1261 1263 1270 1273 1313 1332 1368 1369 1394 1396 1407 1413 1415\n",
      " 1421 1422 1425 1426 1428 1431 1432 1433 1436 1438 1445 1448] are constant.\n",
      "  warnings.warn(\"Features %s are constant.\" % constant_features_idx,\n",
      "C:\\ProgramData\\Anaconda3\\lib\\site-packages\\sklearn\\feature_selection\\_univariate_selection.py:116: RuntimeWarning: invalid value encountered in true_divide\n",
      "  f = msb / msw\n"
     ]
    },
    {
     "name": "stdout",
     "output_type": "stream",
     "text": [
      "[LibSVM]"
     ]
    },
    {
     "name": "stderr",
     "output_type": "stream",
     "text": [
      "C:\\ProgramData\\Anaconda3\\lib\\site-packages\\sklearn\\feature_selection\\_univariate_selection.py:114: UserWarning: Features [   1    2    3    4    5    6    7    8    9   10   15   18   20  113\n",
      "  114  116  117  118  119  120  121  122  123  124  125  127  259  266\n",
      "  270  271  272  273  274  276  277  278  279  280  281  282  283  284\n",
      "  285  286  287  288  289  290  291  292  293  294  295  296  297  298\n",
      "  299  300  301  302  303  304  305  306  307  308  309  310  311  312\n",
      "  313  314  315  316  317  423  425  427  428  430  431  432  433  434\n",
      "  435  436  437  438  439  440  441  442  443  444  445  446  447  448\n",
      "  449  450  451  452  453  454  455  456  457  458  459  460  461  462\n",
      "  463  464  465  466  467  468  469  529  982 1018 1019 1044 1046 1057\n",
      " 1063 1065 1071 1075 1076 1078 1081 1082 1083 1086 1088 1095 1098 1138\n",
      " 1157 1193 1194 1219 1221 1232 1238 1240 1246 1250 1251 1253 1256 1257\n",
      " 1258 1261 1263 1270 1273 1313 1332 1368 1369 1394 1396 1407 1413 1415\n",
      " 1421 1422 1425 1426 1428 1431 1432 1433 1436 1438 1445 1448] are constant.\n",
      "  warnings.warn(\"Features %s are constant.\" % constant_features_idx,\n",
      "C:\\ProgramData\\Anaconda3\\lib\\site-packages\\sklearn\\feature_selection\\_univariate_selection.py:116: RuntimeWarning: invalid value encountered in true_divide\n",
      "  f = msb / msw\n"
     ]
    },
    {
     "name": "stdout",
     "output_type": "stream",
     "text": [
      "[LibSVM]"
     ]
    },
    {
     "name": "stderr",
     "output_type": "stream",
     "text": [
      "C:\\ProgramData\\Anaconda3\\lib\\site-packages\\sklearn\\feature_selection\\_univariate_selection.py:114: UserWarning: Features [   1    2    3    4    5    6    7    8    9   10   15   18   20  113\n",
      "  114  116  117  118  119  120  121  122  123  124  125  127  259  266\n",
      "  270  271  272  273  274  276  277  278  279  280  281  282  283  284\n",
      "  285  286  287  288  289  290  291  292  293  294  295  296  297  298\n",
      "  299  300  301  302  303  304  305  306  307  308  309  310  311  312\n",
      "  313  314  315  316  317  423  425  427  428  430  431  432  433  434\n",
      "  435  436  437  438  439  440  441  442  443  444  445  446  447  448\n",
      "  449  450  451  452  453  454  455  456  457  458  459  460  461  462\n",
      "  463  464  465  466  467  468  469  529  982 1018 1019 1044 1046 1057\n",
      " 1063 1065 1071 1075 1076 1078 1081 1082 1083 1086 1088 1095 1098 1138\n",
      " 1157 1193 1194 1219 1221 1232 1238 1240 1246 1250 1251 1253 1256 1257\n",
      " 1258 1261 1263 1270 1273 1313 1332 1368 1369 1394 1396 1407 1413 1415\n",
      " 1421 1422 1425 1426 1428 1431 1432 1433 1436 1438 1445 1448] are constant.\n",
      "  warnings.warn(\"Features %s are constant.\" % constant_features_idx,\n",
      "C:\\ProgramData\\Anaconda3\\lib\\site-packages\\sklearn\\feature_selection\\_univariate_selection.py:116: RuntimeWarning: invalid value encountered in true_divide\n",
      "  f = msb / msw\n"
     ]
    },
    {
     "name": "stdout",
     "output_type": "stream",
     "text": [
      "[LibSVM]"
     ]
    },
    {
     "name": "stderr",
     "output_type": "stream",
     "text": [
      "C:\\ProgramData\\Anaconda3\\lib\\site-packages\\sklearn\\feature_selection\\_univariate_selection.py:114: UserWarning: Features [   1    2    3    4    5    6    7    8    9   10   15   18   20  113\n",
      "  114  116  117  118  119  120  121  122  123  124  125  127  259  266\n",
      "  270  271  272  273  274  276  277  278  279  280  281  282  283  284\n",
      "  285  286  287  288  289  290  291  292  293  294  295  296  297  298\n",
      "  299  300  301  302  303  304  305  306  307  308  309  310  311  312\n",
      "  313  314  315  316  317  423  425  427  428  430  431  432  433  434\n",
      "  435  436  437  438  439  440  441  442  443  444  445  446  447  448\n",
      "  449  450  451  452  453  454  455  456  457  458  459  460  461  462\n",
      "  463  464  465  466  467  468  469  529  982 1018 1019 1044 1046 1057\n",
      " 1063 1065 1071 1075 1076 1078 1081 1082 1083 1086 1088 1095 1098 1138\n",
      " 1157 1193 1194 1219 1221 1232 1238 1240 1246 1250 1251 1253 1256 1257\n",
      " 1258 1261 1263 1270 1273 1313 1332 1368 1369 1394 1396 1407 1413 1415\n",
      " 1421 1422 1425 1426 1428 1431 1432 1433 1436 1438 1445 1448] are constant.\n",
      "  warnings.warn(\"Features %s are constant.\" % constant_features_idx,\n",
      "C:\\ProgramData\\Anaconda3\\lib\\site-packages\\sklearn\\feature_selection\\_univariate_selection.py:116: RuntimeWarning: invalid value encountered in true_divide\n",
      "  f = msb / msw\n"
     ]
    },
    {
     "name": "stdout",
     "output_type": "stream",
     "text": [
      "[LibSVM]"
     ]
    },
    {
     "name": "stderr",
     "output_type": "stream",
     "text": [
      "C:\\ProgramData\\Anaconda3\\lib\\site-packages\\sklearn\\feature_selection\\_univariate_selection.py:114: UserWarning: Features [   1    2    3    4    5    6    7    8    9   10   15   18   20  113\n",
      "  114  116  117  118  119  120  121  122  123  124  125  127  259  266\n",
      "  270  271  272  273  274  276  277  278  279  280  281  282  283  284\n",
      "  285  286  287  288  289  290  291  292  293  294  295  296  297  298\n",
      "  299  300  301  302  303  304  305  306  307  308  309  310  311  312\n",
      "  313  314  315  316  317  423  425  427  428  430  431  432  433  434\n",
      "  435  436  437  438  439  440  441  442  443  444  445  446  447  448\n",
      "  449  450  451  452  453  454  455  456  457  458  459  460  461  462\n",
      "  463  464  465  466  467  468  469  529  982 1018 1019 1044 1046 1057\n",
      " 1063 1065 1071 1075 1076 1078 1081 1082 1083 1086 1088 1095 1098 1138\n",
      " 1157 1193 1194 1219 1221 1232 1238 1240 1246 1250 1251 1253 1256 1257\n",
      " 1258 1261 1263 1270 1273 1313 1332 1368 1369 1394 1396 1407 1413 1415\n",
      " 1421 1422 1425 1426 1428 1431 1432 1433 1436 1438 1445 1448] are constant.\n",
      "  warnings.warn(\"Features %s are constant.\" % constant_features_idx,\n",
      "C:\\ProgramData\\Anaconda3\\lib\\site-packages\\sklearn\\feature_selection\\_univariate_selection.py:116: RuntimeWarning: invalid value encountered in true_divide\n",
      "  f = msb / msw\n"
     ]
    },
    {
     "name": "stdout",
     "output_type": "stream",
     "text": [
      "[LibSVM]"
     ]
    },
    {
     "name": "stderr",
     "output_type": "stream",
     "text": [
      "C:\\ProgramData\\Anaconda3\\lib\\site-packages\\sklearn\\feature_selection\\_univariate_selection.py:114: UserWarning: Features [   1    2    3    4    5    6    7    8    9   10   15   18   20  113\n",
      "  114  116  117  118  119  120  121  122  123  124  125  127  259  266\n",
      "  270  271  272  273  274  276  277  278  279  280  281  282  283  284\n",
      "  285  286  287  288  289  290  291  292  293  294  295  296  297  298\n",
      "  299  300  301  302  303  304  305  306  307  308  309  310  311  312\n",
      "  313  314  315  316  317  423  425  427  428  430  431  432  433  434\n",
      "  435  436  437  438  439  440  441  442  443  444  445  446  447  448\n",
      "  449  450  451  452  453  454  455  456  457  458  459  460  461  462\n",
      "  463  464  465  466  467  468  469  529  982 1018 1019 1044 1046 1057\n",
      " 1063 1065 1071 1075 1076 1078 1081 1082 1083 1086 1088 1095 1098 1138\n",
      " 1157 1193 1194 1219 1221 1232 1238 1240 1246 1250 1251 1253 1256 1257\n",
      " 1258 1261 1263 1270 1273 1313 1332 1368 1369 1394 1396 1407 1413 1415\n",
      " 1421 1422 1425 1426 1428 1431 1432 1433 1436 1438 1445 1448] are constant.\n",
      "  warnings.warn(\"Features %s are constant.\" % constant_features_idx,\n",
      "C:\\ProgramData\\Anaconda3\\lib\\site-packages\\sklearn\\feature_selection\\_univariate_selection.py:116: RuntimeWarning: invalid value encountered in true_divide\n",
      "  f = msb / msw\n"
     ]
    },
    {
     "name": "stdout",
     "output_type": "stream",
     "text": [
      "[LibSVM]"
     ]
    },
    {
     "name": "stderr",
     "output_type": "stream",
     "text": [
      "C:\\ProgramData\\Anaconda3\\lib\\site-packages\\sklearn\\feature_selection\\_univariate_selection.py:114: UserWarning: Features [   1    2    3    4    5    6    7    8    9   10   15   18   20  113\n",
      "  114  116  117  118  119  120  121  122  123  124  125  127  259  266\n",
      "  270  271  272  273  274  276  277  278  279  280  281  282  283  284\n",
      "  285  286  287  288  289  290  291  292  293  294  295  296  297  298\n",
      "  299  300  301  302  303  304  305  306  307  308  309  310  311  312\n",
      "  313  314  315  316  317  423  425  427  428  430  431  432  433  434\n",
      "  435  436  437  438  439  440  441  442  443  444  445  446  447  448\n",
      "  449  450  451  452  453  454  455  456  457  458  459  460  461  462\n",
      "  463  464  465  466  467  468  469  529  982 1018 1019 1044 1046 1057\n",
      " 1063 1065 1071 1075 1076 1078 1081 1082 1083 1086 1088 1095 1098 1138\n",
      " 1157 1193 1194 1219 1221 1232 1238 1240 1246 1250 1251 1253 1256 1257\n",
      " 1258 1261 1263 1270 1273 1313 1332 1368 1369 1394 1396 1407 1413 1415\n",
      " 1421 1422 1425 1426 1428 1431 1432 1433 1436 1438 1445 1448] are constant.\n",
      "  warnings.warn(\"Features %s are constant.\" % constant_features_idx,\n",
      "C:\\ProgramData\\Anaconda3\\lib\\site-packages\\sklearn\\feature_selection\\_univariate_selection.py:116: RuntimeWarning: invalid value encountered in true_divide\n",
      "  f = msb / msw\n"
     ]
    },
    {
     "name": "stdout",
     "output_type": "stream",
     "text": [
      "[LibSVM]"
     ]
    },
    {
     "name": "stderr",
     "output_type": "stream",
     "text": [
      "C:\\ProgramData\\Anaconda3\\lib\\site-packages\\sklearn\\feature_selection\\_univariate_selection.py:114: UserWarning: Features [   1    2    3    4    5    6    7    8    9   10   15   18   20  113\n",
      "  114  116  117  118  119  120  121  122  123  124  125  127  259  266\n",
      "  270  271  272  273  274  276  277  278  279  280  281  282  283  284\n",
      "  285  286  287  288  289  290  291  292  293  294  295  296  297  298\n",
      "  299  300  301  302  303  304  305  306  307  308  309  310  311  312\n",
      "  313  314  315  316  317  423  425  427  428  430  431  432  433  434\n",
      "  435  436  437  438  439  440  441  442  443  444  445  446  447  448\n",
      "  449  450  451  452  453  454  455  456  457  458  459  460  461  462\n",
      "  463  464  465  466  467  468  469  529  982 1018 1019 1044 1046 1057\n",
      " 1063 1065 1071 1075 1076 1078 1081 1082 1083 1086 1088 1095 1098 1138\n",
      " 1157 1193 1194 1219 1221 1232 1238 1240 1246 1250 1251 1253 1256 1257\n",
      " 1258 1261 1263 1270 1273 1313 1332 1368 1369 1394 1396 1407 1413 1415\n",
      " 1421 1422 1425 1426 1428 1431 1432 1433 1436 1438 1445 1448] are constant.\n",
      "  warnings.warn(\"Features %s are constant.\" % constant_features_idx,\n",
      "C:\\ProgramData\\Anaconda3\\lib\\site-packages\\sklearn\\feature_selection\\_univariate_selection.py:116: RuntimeWarning: invalid value encountered in true_divide\n",
      "  f = msb / msw\n"
     ]
    },
    {
     "name": "stdout",
     "output_type": "stream",
     "text": [
      "[LibSVM]"
     ]
    },
    {
     "name": "stderr",
     "output_type": "stream",
     "text": [
      "C:\\ProgramData\\Anaconda3\\lib\\site-packages\\sklearn\\feature_selection\\_univariate_selection.py:114: UserWarning: Features [   1    2    3    4    5    6    7    8    9   10   15   18   20  113\n",
      "  114  116  117  118  119  120  121  122  123  124  125  127  259  266\n",
      "  270  271  272  273  274  276  277  278  279  280  281  282  283  284\n",
      "  285  286  287  288  289  290  291  292  293  294  295  296  297  298\n",
      "  299  300  301  302  303  304  305  306  307  308  309  310  311  312\n",
      "  313  314  315  316  317  423  425  427  428  430  431  432  433  434\n",
      "  435  436  437  438  439  440  441  442  443  444  445  446  447  448\n",
      "  449  450  451  452  453  454  455  456  457  458  459  460  461  462\n",
      "  463  464  465  466  467  468  469  529  982 1018 1019 1044 1046 1057\n",
      " 1063 1065 1071 1075 1076 1078 1081 1082 1083 1086 1088 1095 1098 1138\n",
      " 1157 1193 1194 1219 1221 1232 1238 1240 1246 1250 1251 1253 1256 1257\n",
      " 1258 1261 1263 1270 1273 1313 1332 1368 1369 1394 1396 1407 1413 1415\n",
      " 1421 1422 1425 1426 1428 1431 1432 1433 1436 1438 1445 1448] are constant.\n",
      "  warnings.warn(\"Features %s are constant.\" % constant_features_idx,\n",
      "C:\\ProgramData\\Anaconda3\\lib\\site-packages\\sklearn\\feature_selection\\_univariate_selection.py:116: RuntimeWarning: invalid value encountered in true_divide\n",
      "  f = msb / msw\n"
     ]
    },
    {
     "name": "stdout",
     "output_type": "stream",
     "text": [
      "[LibSVM]"
     ]
    },
    {
     "name": "stderr",
     "output_type": "stream",
     "text": [
      "C:\\ProgramData\\Anaconda3\\lib\\site-packages\\sklearn\\feature_selection\\_univariate_selection.py:114: UserWarning: Features [   1    2    3    4    5    6    7    8    9   10   15   18   20  113\n",
      "  114  116  117  118  119  120  121  122  123  124  125  127  259  266\n",
      "  270  271  272  273  274  276  277  278  279  280  281  282  283  284\n",
      "  285  286  287  288  289  290  291  292  293  294  295  296  297  298\n",
      "  299  300  301  302  303  304  305  306  307  308  309  310  311  312\n",
      "  313  314  315  316  317  423  425  427  428  430  431  432  433  434\n",
      "  435  436  437  438  439  440  441  442  443  444  445  446  447  448\n",
      "  449  450  451  452  453  454  455  456  457  458  459  460  461  462\n",
      "  463  464  465  466  467  468  469  529  982 1018 1019 1044 1046 1057\n",
      " 1063 1065 1071 1075 1076 1078 1081 1082 1083 1086 1088 1095 1098 1138\n",
      " 1157 1193 1194 1219 1221 1232 1238 1240 1246 1250 1251 1253 1256 1257\n",
      " 1258 1261 1263 1270 1273 1313 1332 1368 1369 1394 1396 1407 1413 1415\n",
      " 1421 1422 1425 1426 1428 1431 1432 1433 1436 1438 1445 1448] are constant.\n",
      "  warnings.warn(\"Features %s are constant.\" % constant_features_idx,\n",
      "C:\\ProgramData\\Anaconda3\\lib\\site-packages\\sklearn\\feature_selection\\_univariate_selection.py:116: RuntimeWarning: invalid value encountered in true_divide\n",
      "  f = msb / msw\n"
     ]
    },
    {
     "name": "stdout",
     "output_type": "stream",
     "text": [
      "[LibSVM]"
     ]
    },
    {
     "name": "stderr",
     "output_type": "stream",
     "text": [
      "C:\\ProgramData\\Anaconda3\\lib\\site-packages\\sklearn\\feature_selection\\_univariate_selection.py:114: UserWarning: Features [   1    2    3    4    5    6    7    8    9   10   15   18   20  113\n",
      "  114  116  117  118  119  120  121  122  123  124  125  127  259  266\n",
      "  270  271  272  273  274  276  277  278  279  280  281  282  283  284\n",
      "  285  286  287  288  289  290  291  292  293  294  295  296  297  298\n",
      "  299  300  301  302  303  304  305  306  307  308  309  310  311  312\n",
      "  313  314  315  316  317  423  425  427  428  430  431  432  433  434\n",
      "  435  436  437  438  439  440  441  442  443  444  445  446  447  448\n",
      "  449  450  451  452  453  454  455  456  457  458  459  460  461  462\n",
      "  463  464  465  466  467  468  469  529  982 1018 1019 1044 1046 1057\n",
      " 1063 1065 1071 1075 1076 1078 1081 1082 1083 1086 1088 1095 1098 1138\n",
      " 1157 1193 1194 1219 1221 1232 1238 1240 1246 1250 1251 1253 1256 1257\n",
      " 1258 1261 1263 1270 1273 1313 1332 1368 1369 1394 1396 1407 1413 1415\n",
      " 1421 1422 1425 1426 1428 1431 1432 1433 1436 1438 1445 1448] are constant.\n",
      "  warnings.warn(\"Features %s are constant.\" % constant_features_idx,\n",
      "C:\\ProgramData\\Anaconda3\\lib\\site-packages\\sklearn\\feature_selection\\_univariate_selection.py:116: RuntimeWarning: invalid value encountered in true_divide\n",
      "  f = msb / msw\n"
     ]
    },
    {
     "name": "stdout",
     "output_type": "stream",
     "text": [
      "[LibSVM]"
     ]
    },
    {
     "name": "stderr",
     "output_type": "stream",
     "text": [
      "C:\\ProgramData\\Anaconda3\\lib\\site-packages\\sklearn\\feature_selection\\_univariate_selection.py:114: UserWarning: Features [   1    2    3    4    5    6    7    8    9   10   15   18   20  113\n",
      "  114  116  117  118  119  120  121  122  123  124  125  127  259  266\n",
      "  270  271  272  273  274  276  277  278  279  280  281  282  283  284\n",
      "  285  286  287  288  289  290  291  292  293  294  295  296  297  298\n",
      "  299  300  301  302  303  304  305  306  307  308  309  310  311  312\n",
      "  313  314  315  316  317  423  425  427  428  430  431  432  433  434\n",
      "  435  436  437  438  439  440  441  442  443  444  445  446  447  448\n",
      "  449  450  451  452  453  454  455  456  457  458  459  460  461  462\n",
      "  463  464  465  466  467  468  469  529  982 1018 1019 1044 1046 1057\n",
      " 1063 1065 1071 1075 1076 1078 1081 1082 1083 1086 1088 1095 1098 1138\n",
      " 1157 1193 1194 1219 1221 1232 1238 1240 1246 1250 1251 1253 1256 1257\n",
      " 1258 1261 1263 1270 1273 1313 1332 1368 1369 1394 1396 1407 1413 1415\n",
      " 1421 1422 1425 1426 1428 1431 1432 1433 1436 1438 1445 1448] are constant.\n",
      "  warnings.warn(\"Features %s are constant.\" % constant_features_idx,\n",
      "C:\\ProgramData\\Anaconda3\\lib\\site-packages\\sklearn\\feature_selection\\_univariate_selection.py:116: RuntimeWarning: invalid value encountered in true_divide\n",
      "  f = msb / msw\n"
     ]
    },
    {
     "name": "stdout",
     "output_type": "stream",
     "text": [
      "[LibSVM]"
     ]
    },
    {
     "name": "stderr",
     "output_type": "stream",
     "text": [
      "C:\\ProgramData\\Anaconda3\\lib\\site-packages\\sklearn\\feature_selection\\_univariate_selection.py:114: UserWarning: Features [   1    2    3    4    5    6    7    8    9   10   15   18   20  113\n",
      "  114  116  117  118  119  120  121  122  123  124  125  127  259  266\n",
      "  270  271  272  273  274  276  277  278  279  280  281  282  283  284\n",
      "  285  286  287  288  289  290  291  292  293  294  295  296  297  298\n",
      "  299  300  301  302  303  304  305  306  307  308  309  310  311  312\n",
      "  313  314  315  316  317  423  425  427  428  430  431  432  433  434\n",
      "  435  436  437  438  439  440  441  442  443  444  445  446  447  448\n",
      "  449  450  451  452  453  454  455  456  457  458  459  460  461  462\n",
      "  463  464  465  466  467  468  469  529  982 1018 1019 1044 1046 1057\n",
      " 1063 1065 1071 1075 1076 1078 1081 1082 1083 1086 1088 1095 1098 1138\n",
      " 1157 1193 1194 1219 1221 1232 1238 1240 1246 1250 1251 1253 1256 1257\n",
      " 1258 1261 1263 1270 1273 1313 1332 1368 1369 1394 1396 1407 1413 1415\n",
      " 1421 1422 1425 1426 1428 1431 1432 1433 1436 1438 1445 1448] are constant.\n",
      "  warnings.warn(\"Features %s are constant.\" % constant_features_idx,\n",
      "C:\\ProgramData\\Anaconda3\\lib\\site-packages\\sklearn\\feature_selection\\_univariate_selection.py:116: RuntimeWarning: invalid value encountered in true_divide\n",
      "  f = msb / msw\n"
     ]
    },
    {
     "name": "stdout",
     "output_type": "stream",
     "text": [
      "[LibSVM]"
     ]
    },
    {
     "name": "stderr",
     "output_type": "stream",
     "text": [
      "C:\\ProgramData\\Anaconda3\\lib\\site-packages\\sklearn\\feature_selection\\_univariate_selection.py:114: UserWarning: Features [   1    2    3    4    5    6    7    8    9   10   15   18   20  113\n",
      "  114  116  117  118  119  120  121  122  123  124  125  127  259  266\n",
      "  270  271  272  273  274  276  277  278  279  280  281  282  283  284\n",
      "  285  286  287  288  289  290  291  292  293  294  295  296  297  298\n",
      "  299  300  301  302  303  304  305  306  307  308  309  310  311  312\n",
      "  313  314  315  316  317  423  425  427  428  430  431  432  433  434\n",
      "  435  436  437  438  439  440  441  442  443  444  445  446  447  448\n",
      "  449  450  451  452  453  454  455  456  457  458  459  460  461  462\n",
      "  463  464  465  466  467  468  469  529  982 1018 1019 1044 1046 1057\n",
      " 1063 1065 1071 1075 1076 1078 1081 1082 1083 1086 1088 1095 1098 1138\n",
      " 1157 1193 1194 1219 1221 1232 1238 1240 1246 1250 1251 1253 1256 1257\n",
      " 1258 1261 1263 1270 1273 1313 1332 1368 1369 1394 1396 1407 1413 1415\n",
      " 1421 1422 1425 1426 1428 1431 1432 1433 1436 1438 1445 1448] are constant.\n",
      "  warnings.warn(\"Features %s are constant.\" % constant_features_idx,\n",
      "C:\\ProgramData\\Anaconda3\\lib\\site-packages\\sklearn\\feature_selection\\_univariate_selection.py:116: RuntimeWarning: invalid value encountered in true_divide\n",
      "  f = msb / msw\n"
     ]
    },
    {
     "name": "stdout",
     "output_type": "stream",
     "text": [
      "[LibSVM]"
     ]
    },
    {
     "name": "stderr",
     "output_type": "stream",
     "text": [
      "C:\\ProgramData\\Anaconda3\\lib\\site-packages\\sklearn\\feature_selection\\_univariate_selection.py:114: UserWarning: Features [   1    2    3    4    5    6    7    8    9   10   15   18   20  113\n",
      "  114  116  117  118  119  120  121  122  123  124  125  127  259  266\n",
      "  270  271  272  273  274  276  277  278  279  280  281  282  283  284\n",
      "  285  286  287  288  289  290  291  292  293  294  295  296  297  298\n",
      "  299  300  301  302  303  304  305  306  307  308  309  310  311  312\n",
      "  313  314  315  316  317  423  425  427  428  430  431  432  433  434\n",
      "  435  436  437  438  439  440  441  442  443  444  445  446  447  448\n",
      "  449  450  451  452  453  454  455  456  457  458  459  460  461  462\n",
      "  463  464  465  466  467  468  469  529  982 1018 1019 1044 1046 1057\n",
      " 1063 1065 1071 1075 1076 1078 1081 1082 1083 1086 1088 1095 1098 1138\n",
      " 1157 1193 1194 1219 1221 1232 1238 1240 1246 1250 1251 1253 1256 1257\n",
      " 1258 1261 1263 1270 1273 1313 1332 1368 1369 1394 1396 1407 1413 1415\n",
      " 1421 1422 1425 1426 1428 1431 1432 1433 1436 1438 1445 1448] are constant.\n",
      "  warnings.warn(\"Features %s are constant.\" % constant_features_idx,\n",
      "C:\\ProgramData\\Anaconda3\\lib\\site-packages\\sklearn\\feature_selection\\_univariate_selection.py:116: RuntimeWarning: invalid value encountered in true_divide\n",
      "  f = msb / msw\n"
     ]
    },
    {
     "name": "stdout",
     "output_type": "stream",
     "text": [
      "[LibSVM]"
     ]
    },
    {
     "name": "stderr",
     "output_type": "stream",
     "text": [
      "C:\\ProgramData\\Anaconda3\\lib\\site-packages\\sklearn\\feature_selection\\_univariate_selection.py:114: UserWarning: Features [   1    2    3    4    5    6    7    8    9   10   15   18   20  113\n",
      "  114  116  117  118  119  120  121  122  123  124  125  127  259  266\n",
      "  270  271  272  273  274  276  277  278  279  280  281  282  283  284\n",
      "  285  286  287  288  289  290  291  292  293  294  295  296  297  298\n",
      "  299  300  301  302  303  304  305  306  307  308  309  310  311  312\n",
      "  313  314  315  316  317  423  425  427  428  430  431  432  433  434\n",
      "  435  436  437  438  439  440  441  442  443  444  445  446  447  448\n",
      "  449  450  451  452  453  454  455  456  457  458  459  460  461  462\n",
      "  463  464  465  466  467  468  469  529  982 1018 1019 1044 1046 1057\n",
      " 1063 1065 1071 1075 1076 1078 1081 1082 1083 1086 1088 1095 1098 1138\n",
      " 1157 1193 1194 1219 1221 1232 1238 1240 1246 1250 1251 1253 1256 1257\n",
      " 1258 1261 1263 1270 1273 1313 1332 1368 1369 1394 1396 1407 1413 1415\n",
      " 1421 1422 1425 1426 1428 1431 1432 1433 1436 1438 1445 1448] are constant.\n",
      "  warnings.warn(\"Features %s are constant.\" % constant_features_idx,\n",
      "C:\\ProgramData\\Anaconda3\\lib\\site-packages\\sklearn\\feature_selection\\_univariate_selection.py:116: RuntimeWarning: invalid value encountered in true_divide\n",
      "  f = msb / msw\n"
     ]
    },
    {
     "name": "stdout",
     "output_type": "stream",
     "text": [
      "[LibSVM]"
     ]
    },
    {
     "name": "stderr",
     "output_type": "stream",
     "text": [
      "C:\\ProgramData\\Anaconda3\\lib\\site-packages\\sklearn\\feature_selection\\_univariate_selection.py:114: UserWarning: Features [   1    2    3    4    5    6    7    8    9   10   15   18   20  113\n",
      "  114  116  117  118  119  120  121  122  123  124  125  127  259  266\n",
      "  270  271  272  273  274  276  277  278  279  280  281  282  283  284\n",
      "  285  286  287  288  289  290  291  292  293  294  295  296  297  298\n",
      "  299  300  301  302  303  304  305  306  307  308  309  310  311  312\n",
      "  313  314  315  316  317  423  425  427  428  430  431  432  433  434\n",
      "  435  436  437  438  439  440  441  442  443  444  445  446  447  448\n",
      "  449  450  451  452  453  454  455  456  457  458  459  460  461  462\n",
      "  463  464  465  466  467  468  469  529  982 1018 1019 1044 1046 1057\n",
      " 1063 1065 1071 1075 1076 1078 1081 1082 1083 1086 1088 1095 1098 1138\n",
      " 1157 1193 1194 1219 1221 1232 1238 1240 1246 1250 1251 1253 1256 1257\n",
      " 1258 1261 1263 1270 1273 1313 1332 1368 1369 1394 1396 1407 1413 1415\n",
      " 1421 1422 1425 1426 1428 1431 1432 1433 1436 1438 1445 1448] are constant.\n",
      "  warnings.warn(\"Features %s are constant.\" % constant_features_idx,\n",
      "C:\\ProgramData\\Anaconda3\\lib\\site-packages\\sklearn\\feature_selection\\_univariate_selection.py:116: RuntimeWarning: invalid value encountered in true_divide\n",
      "  f = msb / msw\n"
     ]
    },
    {
     "name": "stdout",
     "output_type": "stream",
     "text": [
      "[LibSVM]"
     ]
    },
    {
     "name": "stderr",
     "output_type": "stream",
     "text": [
      "C:\\ProgramData\\Anaconda3\\lib\\site-packages\\sklearn\\feature_selection\\_univariate_selection.py:114: UserWarning: Features [   1    2    3    4    5    6    7    8    9   10   15   18   20  113\n",
      "  114  116  117  118  119  120  121  122  123  124  125  127  259  266\n",
      "  270  271  272  273  274  276  277  278  279  280  281  282  283  284\n",
      "  285  286  287  288  289  290  291  292  293  294  295  296  297  298\n",
      "  299  300  301  302  303  304  305  306  307  308  309  310  311  312\n",
      "  313  314  315  316  317  423  425  427  428  430  431  432  433  434\n",
      "  435  436  437  438  439  440  441  442  443  444  445  446  447  448\n",
      "  449  450  451  452  453  454  455  456  457  458  459  460  461  462\n",
      "  463  464  465  466  467  468  469  529  982 1018 1019 1044 1046 1057\n",
      " 1063 1065 1071 1075 1076 1078 1081 1082 1083 1086 1088 1095 1098 1138\n",
      " 1157 1193 1194 1219 1221 1232 1238 1240 1246 1250 1251 1253 1256 1257\n",
      " 1258 1261 1263 1270 1273 1313 1332 1368 1369 1394 1396 1407 1413 1415\n",
      " 1421 1422 1425 1426 1428 1431 1432 1433 1436 1438 1445 1448] are constant.\n",
      "  warnings.warn(\"Features %s are constant.\" % constant_features_idx,\n",
      "C:\\ProgramData\\Anaconda3\\lib\\site-packages\\sklearn\\feature_selection\\_univariate_selection.py:116: RuntimeWarning: invalid value encountered in true_divide\n",
      "  f = msb / msw\n"
     ]
    },
    {
     "name": "stdout",
     "output_type": "stream",
     "text": [
      "[LibSVM]"
     ]
    },
    {
     "name": "stderr",
     "output_type": "stream",
     "text": [
      "C:\\ProgramData\\Anaconda3\\lib\\site-packages\\sklearn\\feature_selection\\_univariate_selection.py:114: UserWarning: Features [   1    2    3    4    5    6    7    8    9   10   15   18   20  113\n",
      "  114  116  117  118  119  120  121  122  123  124  125  127  259  266\n",
      "  270  271  272  273  274  276  277  278  279  280  281  282  283  284\n",
      "  285  286  287  288  289  290  291  292  293  294  295  296  297  298\n",
      "  299  300  301  302  303  304  305  306  307  308  309  310  311  312\n",
      "  313  314  315  316  317  423  425  427  428  430  431  432  433  434\n",
      "  435  436  437  438  439  440  441  442  443  444  445  446  447  448\n",
      "  449  450  451  452  453  454  455  456  457  458  459  460  461  462\n",
      "  463  464  465  466  467  468  469  529  982 1018 1019 1044 1046 1057\n",
      " 1063 1065 1071 1075 1076 1078 1081 1082 1083 1086 1088 1095 1098 1138\n",
      " 1157 1193 1194 1219 1221 1232 1238 1240 1246 1250 1251 1253 1256 1257\n",
      " 1258 1261 1263 1270 1273 1313 1332 1368 1369 1394 1396 1407 1413 1415\n",
      " 1421 1422 1425 1426 1428 1431 1432 1433 1436 1438 1445 1448] are constant.\n",
      "  warnings.warn(\"Features %s are constant.\" % constant_features_idx,\n",
      "C:\\ProgramData\\Anaconda3\\lib\\site-packages\\sklearn\\feature_selection\\_univariate_selection.py:116: RuntimeWarning: invalid value encountered in true_divide\n",
      "  f = msb / msw\n"
     ]
    },
    {
     "name": "stdout",
     "output_type": "stream",
     "text": [
      "[LibSVM]"
     ]
    },
    {
     "name": "stderr",
     "output_type": "stream",
     "text": [
      "C:\\ProgramData\\Anaconda3\\lib\\site-packages\\sklearn\\feature_selection\\_univariate_selection.py:114: UserWarning: Features [   1    2    3    4    5    6    7    8    9   10   15   18   20  113\n",
      "  114  116  117  118  119  120  121  122  123  124  125  127  259  266\n",
      "  270  271  272  273  274  276  277  278  279  280  281  282  283  284\n",
      "  285  286  287  288  289  290  291  292  293  294  295  296  297  298\n",
      "  299  300  301  302  303  304  305  306  307  308  309  310  311  312\n",
      "  313  314  315  316  317  423  425  427  428  430  431  432  433  434\n",
      "  435  436  437  438  439  440  441  442  443  444  445  446  447  448\n",
      "  449  450  451  452  453  454  455  456  457  458  459  460  461  462\n",
      "  463  464  465  466  467  468  469  529  982 1018 1019 1044 1046 1057\n",
      " 1063 1065 1071 1075 1076 1078 1081 1082 1083 1086 1088 1095 1098 1138\n",
      " 1157 1193 1194 1219 1221 1232 1238 1240 1246 1250 1251 1253 1256 1257\n",
      " 1258 1261 1263 1270 1273 1313 1332 1368 1369 1394 1396 1407 1413 1415\n",
      " 1421 1422 1425 1426 1428 1431 1432 1433 1436 1438 1445 1448] are constant.\n",
      "  warnings.warn(\"Features %s are constant.\" % constant_features_idx,\n",
      "C:\\ProgramData\\Anaconda3\\lib\\site-packages\\sklearn\\feature_selection\\_univariate_selection.py:116: RuntimeWarning: invalid value encountered in true_divide\n",
      "  f = msb / msw\n"
     ]
    },
    {
     "name": "stdout",
     "output_type": "stream",
     "text": [
      "[LibSVM]"
     ]
    },
    {
     "name": "stderr",
     "output_type": "stream",
     "text": [
      "C:\\ProgramData\\Anaconda3\\lib\\site-packages\\sklearn\\feature_selection\\_univariate_selection.py:114: UserWarning: Features [   1    2    3    4    5    6    7    8    9   10   15   18   20  113\n",
      "  114  116  117  118  119  120  121  122  123  124  125  127  259  266\n",
      "  270  271  272  273  274  276  277  278  279  280  281  282  283  284\n",
      "  285  286  287  288  289  290  291  292  293  294  295  296  297  298\n",
      "  299  300  301  302  303  304  305  306  307  308  309  310  311  312\n",
      "  313  314  315  316  317  423  425  427  428  430  431  432  433  434\n",
      "  435  436  437  438  439  440  441  442  443  444  445  446  447  448\n",
      "  449  450  451  452  453  454  455  456  457  458  459  460  461  462\n",
      "  463  464  465  466  467  468  469  529  982 1018 1019 1044 1046 1057\n",
      " 1063 1065 1071 1075 1076 1078 1081 1082 1083 1086 1088 1095 1098 1138\n",
      " 1157 1193 1194 1219 1221 1232 1238 1240 1246 1250 1251 1253 1256 1257\n",
      " 1258 1261 1263 1270 1273 1313 1332 1368 1369 1394 1396 1407 1413 1415\n",
      " 1421 1422 1425 1426 1428 1431 1432 1433 1436 1438 1445 1448] are constant.\n",
      "  warnings.warn(\"Features %s are constant.\" % constant_features_idx,\n",
      "C:\\ProgramData\\Anaconda3\\lib\\site-packages\\sklearn\\feature_selection\\_univariate_selection.py:116: RuntimeWarning: invalid value encountered in true_divide\n",
      "  f = msb / msw\n"
     ]
    },
    {
     "name": "stdout",
     "output_type": "stream",
     "text": [
      "[LibSVM]"
     ]
    },
    {
     "name": "stderr",
     "output_type": "stream",
     "text": [
      "C:\\ProgramData\\Anaconda3\\lib\\site-packages\\sklearn\\feature_selection\\_univariate_selection.py:114: UserWarning: Features [   1    2    3    4    5    6    7    8    9   10   15   18   20  113\n",
      "  114  116  117  118  119  120  121  122  123  124  125  127  259  266\n",
      "  270  271  272  273  274  276  277  278  279  280  281  282  283  284\n",
      "  285  286  287  288  289  290  291  292  293  294  295  296  297  298\n",
      "  299  300  301  302  303  304  305  306  307  308  309  310  311  312\n",
      "  313  314  315  316  317  423  425  427  428  430  431  432  433  434\n",
      "  435  436  437  438  439  440  441  442  443  444  445  446  447  448\n",
      "  449  450  451  452  453  454  455  456  457  458  459  460  461  462\n",
      "  463  464  465  466  467  468  469  529  982 1018 1019 1044 1046 1057\n",
      " 1063 1065 1071 1075 1076 1078 1081 1082 1083 1086 1088 1095 1098 1138\n",
      " 1157 1193 1194 1219 1221 1232 1238 1240 1246 1250 1251 1253 1256 1257\n",
      " 1258 1261 1263 1270 1273 1313 1332 1368 1369 1394 1396 1407 1413 1415\n",
      " 1421 1422 1425 1426 1428 1431 1432 1433 1436 1438 1445 1448] are constant.\n",
      "  warnings.warn(\"Features %s are constant.\" % constant_features_idx,\n",
      "C:\\ProgramData\\Anaconda3\\lib\\site-packages\\sklearn\\feature_selection\\_univariate_selection.py:116: RuntimeWarning: invalid value encountered in true_divide\n",
      "  f = msb / msw\n"
     ]
    },
    {
     "name": "stdout",
     "output_type": "stream",
     "text": [
      "[LibSVM]"
     ]
    },
    {
     "name": "stderr",
     "output_type": "stream",
     "text": [
      "C:\\ProgramData\\Anaconda3\\lib\\site-packages\\sklearn\\feature_selection\\_univariate_selection.py:114: UserWarning: Features [   1    2    3    4    5    6    7    8    9   10   15   18   20  113\n",
      "  114  116  117  118  119  120  121  122  123  124  125  127  259  266\n",
      "  270  271  272  273  274  276  277  278  279  280  281  282  283  284\n",
      "  285  286  287  288  289  290  291  292  293  294  295  296  297  298\n",
      "  299  300  301  302  303  304  305  306  307  308  309  310  311  312\n",
      "  313  314  315  316  317  423  425  427  428  430  431  432  433  434\n",
      "  435  436  437  438  439  440  441  442  443  444  445  446  447  448\n",
      "  449  450  451  452  453  454  455  456  457  458  459  460  461  462\n",
      "  463  464  465  466  467  468  469  529  982 1018 1019 1044 1046 1057\n",
      " 1063 1065 1071 1075 1076 1078 1081 1082 1083 1086 1088 1095 1098 1138\n",
      " 1157 1193 1194 1219 1221 1232 1238 1240 1246 1250 1251 1253 1256 1257\n",
      " 1258 1261 1263 1270 1273 1313 1332 1368 1369 1394 1396 1407 1413 1415\n",
      " 1421 1422 1425 1426 1428 1431 1432 1433 1436 1438 1445 1448] are constant.\n",
      "  warnings.warn(\"Features %s are constant.\" % constant_features_idx,\n",
      "C:\\ProgramData\\Anaconda3\\lib\\site-packages\\sklearn\\feature_selection\\_univariate_selection.py:116: RuntimeWarning: invalid value encountered in true_divide\n",
      "  f = msb / msw\n"
     ]
    },
    {
     "name": "stdout",
     "output_type": "stream",
     "text": [
      "[LibSVM]"
     ]
    },
    {
     "name": "stderr",
     "output_type": "stream",
     "text": [
      "C:\\ProgramData\\Anaconda3\\lib\\site-packages\\sklearn\\feature_selection\\_univariate_selection.py:114: UserWarning: Features [   1    2    3    4    5    6    7    8    9   10   15   18   20  113\n",
      "  114  116  117  118  119  120  121  122  123  124  125  127  259  266\n",
      "  270  271  272  273  274  276  277  278  279  280  281  282  283  284\n",
      "  285  286  287  288  289  290  291  292  293  294  295  296  297  298\n",
      "  299  300  301  302  303  304  305  306  307  308  309  310  311  312\n",
      "  313  314  315  316  317  423  425  427  428  430  431  432  433  434\n",
      "  435  436  437  438  439  440  441  442  443  444  445  446  447  448\n",
      "  449  450  451  452  453  454  455  456  457  458  459  460  461  462\n",
      "  463  464  465  466  467  468  469  529  982 1018 1019 1044 1046 1057\n",
      " 1063 1065 1071 1075 1076 1078 1081 1082 1083 1086 1088 1095 1098 1138\n",
      " 1157 1193 1194 1219 1221 1232 1238 1240 1246 1250 1251 1253 1256 1257\n",
      " 1258 1261 1263 1270 1273 1313 1332 1368 1369 1394 1396 1407 1413 1415\n",
      " 1421 1422 1425 1426 1428 1431 1432 1433 1436 1438 1445 1448] are constant.\n",
      "  warnings.warn(\"Features %s are constant.\" % constant_features_idx,\n",
      "C:\\ProgramData\\Anaconda3\\lib\\site-packages\\sklearn\\feature_selection\\_univariate_selection.py:116: RuntimeWarning: invalid value encountered in true_divide\n",
      "  f = msb / msw\n"
     ]
    },
    {
     "name": "stdout",
     "output_type": "stream",
     "text": [
      "[LibSVM]"
     ]
    },
    {
     "name": "stderr",
     "output_type": "stream",
     "text": [
      "C:\\ProgramData\\Anaconda3\\lib\\site-packages\\sklearn\\feature_selection\\_univariate_selection.py:114: UserWarning: Features [   1    2    3    4    5    6    7    8    9   10   15   18   20  113\n",
      "  114  116  117  118  119  120  121  122  123  124  125  127  259  266\n",
      "  270  271  272  273  274  276  277  278  279  280  281  282  283  284\n",
      "  285  286  287  288  289  290  291  292  293  294  295  296  297  298\n",
      "  299  300  301  302  303  304  305  306  307  308  309  310  311  312\n",
      "  313  314  315  316  317  423  425  427  428  430  431  432  433  434\n",
      "  435  436  437  438  439  440  441  442  443  444  445  446  447  448\n",
      "  449  450  451  452  453  454  455  456  457  458  459  460  461  462\n",
      "  463  464  465  466  467  468  469  529  982 1018 1019 1044 1046 1057\n",
      " 1063 1065 1071 1075 1076 1078 1081 1082 1083 1086 1088 1095 1098 1138\n",
      " 1157 1193 1194 1219 1221 1232 1238 1240 1246 1250 1251 1253 1256 1257\n",
      " 1258 1261 1263 1270 1273 1313 1332 1368 1369 1394 1396 1407 1413 1415\n",
      " 1421 1422 1425 1426 1428 1431 1432 1433 1436 1438 1445 1448] are constant.\n",
      "  warnings.warn(\"Features %s are constant.\" % constant_features_idx,\n",
      "C:\\ProgramData\\Anaconda3\\lib\\site-packages\\sklearn\\feature_selection\\_univariate_selection.py:116: RuntimeWarning: invalid value encountered in true_divide\n",
      "  f = msb / msw\n"
     ]
    },
    {
     "name": "stdout",
     "output_type": "stream",
     "text": [
      "[LibSVM]"
     ]
    },
    {
     "name": "stderr",
     "output_type": "stream",
     "text": [
      "C:\\ProgramData\\Anaconda3\\lib\\site-packages\\sklearn\\feature_selection\\_univariate_selection.py:114: UserWarning: Features [   1    2    3    4    5    6    7    8    9   10   15   18   20  113\n",
      "  114  116  117  118  119  120  121  122  123  124  125  127  259  266\n",
      "  270  271  272  273  274  276  277  278  279  280  281  282  283  284\n",
      "  285  286  287  288  289  290  291  292  293  294  295  296  297  298\n",
      "  299  300  301  302  303  304  305  306  307  308  309  310  311  312\n",
      "  313  314  315  316  317  423  425  427  428  430  431  432  433  434\n",
      "  435  436  437  438  439  440  441  442  443  444  445  446  447  448\n",
      "  449  450  451  452  453  454  455  456  457  458  459  460  461  462\n",
      "  463  464  465  466  467  468  469  529  982 1018 1019 1044 1046 1057\n",
      " 1063 1065 1071 1075 1076 1078 1081 1082 1083 1086 1088 1095 1098 1138\n",
      " 1157 1193 1194 1219 1221 1232 1238 1240 1246 1250 1251 1253 1256 1257\n",
      " 1258 1261 1263 1270 1273 1313 1332 1368 1369 1394 1396 1407 1413 1415\n",
      " 1421 1422 1425 1426 1428 1431 1432 1433 1436 1438 1445 1448] are constant.\n",
      "  warnings.warn(\"Features %s are constant.\" % constant_features_idx,\n",
      "C:\\ProgramData\\Anaconda3\\lib\\site-packages\\sklearn\\feature_selection\\_univariate_selection.py:116: RuntimeWarning: invalid value encountered in true_divide\n",
      "  f = msb / msw\n"
     ]
    },
    {
     "name": "stdout",
     "output_type": "stream",
     "text": [
      "[LibSVM]"
     ]
    },
    {
     "name": "stderr",
     "output_type": "stream",
     "text": [
      "C:\\ProgramData\\Anaconda3\\lib\\site-packages\\sklearn\\feature_selection\\_univariate_selection.py:114: UserWarning: Features [   1    2    3    4    5    6    7    8    9   10   15   18   20  113\n",
      "  114  116  117  118  119  120  121  122  123  124  125  127  259  266\n",
      "  270  271  272  273  274  276  277  278  279  280  281  282  283  284\n",
      "  285  286  287  288  289  290  291  292  293  294  295  296  297  298\n",
      "  299  300  301  302  303  304  305  306  307  308  309  310  311  312\n",
      "  313  314  315  316  317  423  425  427  428  430  431  432  433  434\n",
      "  435  436  437  438  439  440  441  442  443  444  445  446  447  448\n",
      "  449  450  451  452  453  454  455  456  457  458  459  460  461  462\n",
      "  463  464  465  466  467  468  469  529  982 1018 1019 1044 1046 1057\n",
      " 1063 1065 1071 1075 1076 1078 1081 1082 1083 1086 1088 1095 1098 1138\n",
      " 1157 1193 1194 1219 1221 1232 1238 1240 1246 1250 1251 1253 1256 1257\n",
      " 1258 1261 1263 1270 1273 1313 1332 1368 1369 1394 1396 1407 1413 1415\n",
      " 1421 1422 1425 1426 1428 1431 1432 1433 1436 1438 1445 1448] are constant.\n",
      "  warnings.warn(\"Features %s are constant.\" % constant_features_idx,\n",
      "C:\\ProgramData\\Anaconda3\\lib\\site-packages\\sklearn\\feature_selection\\_univariate_selection.py:116: RuntimeWarning: invalid value encountered in true_divide\n",
      "  f = msb / msw\n"
     ]
    },
    {
     "name": "stdout",
     "output_type": "stream",
     "text": [
      "[LibSVM]"
     ]
    },
    {
     "name": "stderr",
     "output_type": "stream",
     "text": [
      "C:\\ProgramData\\Anaconda3\\lib\\site-packages\\sklearn\\feature_selection\\_univariate_selection.py:114: UserWarning: Features [   1    2    3    4    5    6    7    8    9   10   15   18   20  113\n",
      "  114  116  117  118  119  120  121  122  123  124  125  127  259  266\n",
      "  270  271  272  273  274  276  277  278  279  280  281  282  283  284\n",
      "  285  286  287  288  289  290  291  292  293  294  295  296  297  298\n",
      "  299  300  301  302  303  304  305  306  307  308  309  310  311  312\n",
      "  313  314  315  316  317  423  425  427  428  430  431  432  433  434\n",
      "  435  436  437  438  439  440  441  442  443  444  445  446  447  448\n",
      "  449  450  451  452  453  454  455  456  457  458  459  460  461  462\n",
      "  463  464  465  466  467  468  469  529  982 1018 1019 1044 1046 1057\n",
      " 1063 1065 1071 1075 1076 1078 1081 1082 1083 1086 1088 1095 1098 1138\n",
      " 1157 1193 1194 1219 1221 1232 1238 1240 1246 1250 1251 1253 1256 1257\n",
      " 1258 1261 1263 1270 1273 1313 1332 1368 1369 1394 1396 1407 1413 1415\n",
      " 1421 1422 1425 1426 1428 1431 1432 1433 1436 1438 1445 1448] are constant.\n",
      "  warnings.warn(\"Features %s are constant.\" % constant_features_idx,\n",
      "C:\\ProgramData\\Anaconda3\\lib\\site-packages\\sklearn\\feature_selection\\_univariate_selection.py:116: RuntimeWarning: invalid value encountered in true_divide\n",
      "  f = msb / msw\n"
     ]
    },
    {
     "name": "stdout",
     "output_type": "stream",
     "text": [
      "[LibSVM]"
     ]
    },
    {
     "name": "stderr",
     "output_type": "stream",
     "text": [
      "C:\\ProgramData\\Anaconda3\\lib\\site-packages\\sklearn\\feature_selection\\_univariate_selection.py:114: UserWarning: Features [   1    2    3    4    5    6    7    8    9   10   15   18   20  113\n",
      "  114  116  117  118  119  120  121  122  123  124  125  127  259  266\n",
      "  270  271  272  273  274  276  277  278  279  280  281  282  283  284\n",
      "  285  286  287  288  289  290  291  292  293  294  295  296  297  298\n",
      "  299  300  301  302  303  304  305  306  307  308  309  310  311  312\n",
      "  313  314  315  316  317  423  425  427  428  430  431  432  433  434\n",
      "  435  436  437  438  439  440  441  442  443  444  445  446  447  448\n",
      "  449  450  451  452  453  454  455  456  457  458  459  460  461  462\n",
      "  463  464  465  466  467  468  469  529  982 1018 1019 1044 1046 1057\n",
      " 1063 1065 1071 1075 1076 1078 1081 1082 1083 1086 1088 1095 1098 1138\n",
      " 1157 1193 1194 1219 1221 1232 1238 1240 1246 1250 1251 1253 1256 1257\n",
      " 1258 1261 1263 1270 1273 1313 1332 1368 1369 1394 1396 1407 1413 1415\n",
      " 1421 1422 1425 1426 1428 1431 1432 1433 1436 1438 1445 1448] are constant.\n",
      "  warnings.warn(\"Features %s are constant.\" % constant_features_idx,\n",
      "C:\\ProgramData\\Anaconda3\\lib\\site-packages\\sklearn\\feature_selection\\_univariate_selection.py:116: RuntimeWarning: invalid value encountered in true_divide\n",
      "  f = msb / msw\n"
     ]
    },
    {
     "name": "stdout",
     "output_type": "stream",
     "text": [
      "[LibSVM]"
     ]
    },
    {
     "name": "stderr",
     "output_type": "stream",
     "text": [
      "C:\\ProgramData\\Anaconda3\\lib\\site-packages\\sklearn\\feature_selection\\_univariate_selection.py:114: UserWarning: Features [   1    2    3    4    5    6    7    8    9   10   15   18   20  113\n",
      "  114  116  117  118  119  120  121  122  123  124  125  127  259  266\n",
      "  270  271  272  273  274  276  277  278  279  280  281  282  283  284\n",
      "  285  286  287  288  289  290  291  292  293  294  295  296  297  298\n",
      "  299  300  301  302  303  304  305  306  307  308  309  310  311  312\n",
      "  313  314  315  316  317  423  425  427  428  430  431  432  433  434\n",
      "  435  436  437  438  439  440  441  442  443  444  445  446  447  448\n",
      "  449  450  451  452  453  454  455  456  457  458  459  460  461  462\n",
      "  463  464  465  466  467  468  469  529  982 1018 1019 1044 1046 1057\n",
      " 1063 1065 1071 1075 1076 1078 1081 1082 1083 1086 1088 1095 1098 1138\n",
      " 1157 1193 1194 1219 1221 1232 1238 1240 1246 1250 1251 1253 1256 1257\n",
      " 1258 1261 1263 1270 1273 1313 1332 1368 1369 1394 1396 1407 1413 1415\n",
      " 1421 1422 1425 1426 1428 1431 1432 1433 1436 1438 1445 1448] are constant.\n",
      "  warnings.warn(\"Features %s are constant.\" % constant_features_idx,\n",
      "C:\\ProgramData\\Anaconda3\\lib\\site-packages\\sklearn\\feature_selection\\_univariate_selection.py:116: RuntimeWarning: invalid value encountered in true_divide\n",
      "  f = msb / msw\n"
     ]
    },
    {
     "name": "stdout",
     "output_type": "stream",
     "text": [
      "[LibSVM]"
     ]
    },
    {
     "name": "stderr",
     "output_type": "stream",
     "text": [
      "C:\\ProgramData\\Anaconda3\\lib\\site-packages\\sklearn\\feature_selection\\_univariate_selection.py:114: UserWarning: Features [   1    2    3    4    5    6    7    8    9   10   15   18   20  113\n",
      "  114  116  117  118  119  120  121  122  123  124  125  127  259  266\n",
      "  270  271  272  273  274  276  277  278  279  280  281  282  283  284\n",
      "  285  286  287  288  289  290  291  292  293  294  295  296  297  298\n",
      "  299  300  301  302  303  304  305  306  307  308  309  310  311  312\n",
      "  313  314  315  316  317  423  425  427  428  430  431  432  433  434\n",
      "  435  436  437  438  439  440  441  442  443  444  445  446  447  448\n",
      "  449  450  451  452  453  454  455  456  457  458  459  460  461  462\n",
      "  463  464  465  466  467  468  469  529  982 1018 1019 1044 1046 1057\n",
      " 1063 1065 1071 1075 1076 1078 1081 1082 1083 1086 1088 1095 1098 1138\n",
      " 1157 1193 1194 1219 1221 1232 1238 1240 1246 1250 1251 1253 1256 1257\n",
      " 1258 1261 1263 1270 1273 1313 1332 1368 1369 1394 1396 1407 1413 1415\n",
      " 1421 1422 1425 1426 1428 1431 1432 1433 1436 1438 1445 1448] are constant.\n",
      "  warnings.warn(\"Features %s are constant.\" % constant_features_idx,\n",
      "C:\\ProgramData\\Anaconda3\\lib\\site-packages\\sklearn\\feature_selection\\_univariate_selection.py:116: RuntimeWarning: invalid value encountered in true_divide\n",
      "  f = msb / msw\n"
     ]
    },
    {
     "name": "stdout",
     "output_type": "stream",
     "text": [
      "[LibSVM]"
     ]
    },
    {
     "name": "stderr",
     "output_type": "stream",
     "text": [
      "C:\\ProgramData\\Anaconda3\\lib\\site-packages\\sklearn\\feature_selection\\_univariate_selection.py:114: UserWarning: Features [   1    2    3    4    5    6    7    8    9   10   15   18   20  113\n",
      "  114  116  117  118  119  120  121  122  123  124  125  127  259  266\n",
      "  270  271  272  273  274  276  277  278  279  280  281  282  283  284\n",
      "  285  286  287  288  289  290  291  292  293  294  295  296  297  298\n",
      "  299  300  301  302  303  304  305  306  307  308  309  310  311  312\n",
      "  313  314  315  316  317  423  425  427  428  430  431  432  433  434\n",
      "  435  436  437  438  439  440  441  442  443  444  445  446  447  448\n",
      "  449  450  451  452  453  454  455  456  457  458  459  460  461  462\n",
      "  463  464  465  466  467  468  469  529  982 1018 1019 1044 1046 1057\n",
      " 1063 1065 1071 1075 1076 1078 1081 1082 1083 1086 1088 1095 1098 1138\n",
      " 1157 1193 1194 1219 1221 1232 1238 1240 1246 1250 1251 1253 1256 1257\n",
      " 1258 1261 1263 1270 1273 1313 1332 1368 1369 1394 1396 1407 1413 1415\n",
      " 1421 1422 1425 1426 1428 1431 1432 1433 1436 1438 1445 1448] are constant.\n",
      "  warnings.warn(\"Features %s are constant.\" % constant_features_idx,\n",
      "C:\\ProgramData\\Anaconda3\\lib\\site-packages\\sklearn\\feature_selection\\_univariate_selection.py:116: RuntimeWarning: invalid value encountered in true_divide\n",
      "  f = msb / msw\n"
     ]
    },
    {
     "name": "stdout",
     "output_type": "stream",
     "text": [
      "[LibSVM]"
     ]
    },
    {
     "name": "stderr",
     "output_type": "stream",
     "text": [
      "C:\\ProgramData\\Anaconda3\\lib\\site-packages\\sklearn\\feature_selection\\_univariate_selection.py:114: UserWarning: Features [   1    2    3    4    5    6    7    8    9   10   15   18   20  113\n",
      "  114  116  117  118  119  120  121  122  123  124  125  127  259  266\n",
      "  270  271  272  273  274  276  277  278  279  280  281  282  283  284\n",
      "  285  286  287  288  289  290  291  292  293  294  295  296  297  298\n",
      "  299  300  301  302  303  304  305  306  307  308  309  310  311  312\n",
      "  313  314  315  316  317  423  425  427  428  430  431  432  433  434\n",
      "  435  436  437  438  439  440  441  442  443  444  445  446  447  448\n",
      "  449  450  451  452  453  454  455  456  457  458  459  460  461  462\n",
      "  463  464  465  466  467  468  469  529  982 1018 1019 1044 1046 1057\n",
      " 1063 1065 1071 1075 1076 1078 1081 1082 1083 1086 1088 1095 1098 1138\n",
      " 1157 1193 1194 1219 1221 1232 1238 1240 1246 1250 1251 1253 1256 1257\n",
      " 1258 1261 1263 1270 1273 1313 1332 1368 1369 1394 1396 1407 1413 1415\n",
      " 1421 1422 1425 1426 1428 1431 1432 1433 1436 1438 1445 1448] are constant.\n",
      "  warnings.warn(\"Features %s are constant.\" % constant_features_idx,\n",
      "C:\\ProgramData\\Anaconda3\\lib\\site-packages\\sklearn\\feature_selection\\_univariate_selection.py:116: RuntimeWarning: invalid value encountered in true_divide\n",
      "  f = msb / msw\n"
     ]
    },
    {
     "name": "stdout",
     "output_type": "stream",
     "text": [
      "[LibSVM]"
     ]
    },
    {
     "name": "stderr",
     "output_type": "stream",
     "text": [
      "C:\\ProgramData\\Anaconda3\\lib\\site-packages\\sklearn\\feature_selection\\_univariate_selection.py:114: UserWarning: Features [   1    2    3    4    5    6    7    8    9   10   15   18   20  113\n",
      "  114  116  117  118  119  120  121  122  123  124  125  127  259  266\n",
      "  270  271  272  273  274  276  277  278  279  280  281  282  283  284\n",
      "  285  286  287  288  289  290  291  292  293  294  295  296  297  298\n",
      "  299  300  301  302  303  304  305  306  307  308  309  310  311  312\n",
      "  313  314  315  316  317  423  425  427  428  430  431  432  433  434\n",
      "  435  436  437  438  439  440  441  442  443  444  445  446  447  448\n",
      "  449  450  451  452  453  454  455  456  457  458  459  460  461  462\n",
      "  463  464  465  466  467  468  469  529  982 1018 1019 1044 1046 1057\n",
      " 1063 1065 1071 1075 1076 1078 1081 1082 1083 1086 1088 1095 1098 1138\n",
      " 1157 1193 1194 1219 1221 1232 1238 1240 1246 1250 1251 1253 1256 1257\n",
      " 1258 1261 1263 1270 1273 1313 1332 1368 1369 1394 1396 1407 1413 1415\n",
      " 1421 1422 1425 1426 1428 1431 1432 1433 1436 1438 1445 1448] are constant.\n",
      "  warnings.warn(\"Features %s are constant.\" % constant_features_idx,\n",
      "C:\\ProgramData\\Anaconda3\\lib\\site-packages\\sklearn\\feature_selection\\_univariate_selection.py:116: RuntimeWarning: invalid value encountered in true_divide\n",
      "  f = msb / msw\n"
     ]
    },
    {
     "name": "stdout",
     "output_type": "stream",
     "text": [
      "[LibSVM]"
     ]
    },
    {
     "name": "stderr",
     "output_type": "stream",
     "text": [
      "C:\\ProgramData\\Anaconda3\\lib\\site-packages\\sklearn\\feature_selection\\_univariate_selection.py:114: UserWarning: Features [   1    2    3    4    5    6    7    8    9   10   15   18   20  113\n",
      "  114  116  117  118  119  120  121  122  123  124  125  127  259  266\n",
      "  270  271  272  273  274  276  277  278  279  280  281  282  283  284\n",
      "  285  286  287  288  289  290  291  292  293  294  295  296  297  298\n",
      "  299  300  301  302  303  304  305  306  307  308  309  310  311  312\n",
      "  313  314  315  316  317  423  425  427  428  430  431  432  433  434\n",
      "  435  436  437  438  439  440  441  442  443  444  445  446  447  448\n",
      "  449  450  451  452  453  454  455  456  457  458  459  460  461  462\n",
      "  463  464  465  466  467  468  469  529  982 1018 1019 1044 1046 1057\n",
      " 1063 1065 1071 1075 1076 1078 1081 1082 1083 1086 1088 1095 1098 1138\n",
      " 1157 1193 1194 1219 1221 1232 1238 1240 1246 1250 1251 1253 1256 1257\n",
      " 1258 1261 1263 1270 1273 1313 1332 1368 1369 1394 1396 1407 1413 1415\n",
      " 1421 1422 1425 1426 1428 1431 1432 1433 1436 1438 1445 1448] are constant.\n",
      "  warnings.warn(\"Features %s are constant.\" % constant_features_idx,\n",
      "C:\\ProgramData\\Anaconda3\\lib\\site-packages\\sklearn\\feature_selection\\_univariate_selection.py:116: RuntimeWarning: invalid value encountered in true_divide\n",
      "  f = msb / msw\n"
     ]
    },
    {
     "name": "stdout",
     "output_type": "stream",
     "text": [
      "[LibSVM]"
     ]
    },
    {
     "name": "stderr",
     "output_type": "stream",
     "text": [
      "C:\\ProgramData\\Anaconda3\\lib\\site-packages\\sklearn\\feature_selection\\_univariate_selection.py:114: UserWarning: Features [   1    2    3    4    5    6    7    8    9   10   15   18   20  113\n",
      "  114  116  117  118  119  120  121  122  123  124  125  127  259  266\n",
      "  270  271  272  273  274  276  277  278  279  280  281  282  283  284\n",
      "  285  286  287  288  289  290  291  292  293  294  295  296  297  298\n",
      "  299  300  301  302  303  304  305  306  307  308  309  310  311  312\n",
      "  313  314  315  316  317  423  425  427  428  430  431  432  433  434\n",
      "  435  436  437  438  439  440  441  442  443  444  445  446  447  448\n",
      "  449  450  451  452  453  454  455  456  457  458  459  460  461  462\n",
      "  463  464  465  466  467  468  469  529  982 1018 1019 1044 1046 1057\n",
      " 1063 1065 1071 1075 1076 1078 1081 1082 1083 1086 1088 1095 1098 1138\n",
      " 1157 1193 1194 1219 1221 1232 1238 1240 1246 1250 1251 1253 1256 1257\n",
      " 1258 1261 1263 1270 1273 1313 1332 1368 1369 1394 1396 1407 1413 1415\n",
      " 1421 1422 1425 1426 1428 1431 1432 1433 1436 1438 1445 1448] are constant.\n",
      "  warnings.warn(\"Features %s are constant.\" % constant_features_idx,\n",
      "C:\\ProgramData\\Anaconda3\\lib\\site-packages\\sklearn\\feature_selection\\_univariate_selection.py:116: RuntimeWarning: invalid value encountered in true_divide\n",
      "  f = msb / msw\n"
     ]
    },
    {
     "name": "stdout",
     "output_type": "stream",
     "text": [
      "[LibSVM]"
     ]
    },
    {
     "name": "stderr",
     "output_type": "stream",
     "text": [
      "C:\\ProgramData\\Anaconda3\\lib\\site-packages\\sklearn\\feature_selection\\_univariate_selection.py:114: UserWarning: Features [   1    2    3    4    5    6    7    8    9   10   15   18   20  113\n",
      "  114  116  117  118  119  120  121  122  123  124  125  127  259  266\n",
      "  270  271  272  273  274  276  277  278  279  280  281  282  283  284\n",
      "  285  286  287  288  289  290  291  292  293  294  295  296  297  298\n",
      "  299  300  301  302  303  304  305  306  307  308  309  310  311  312\n",
      "  313  314  315  316  317  423  425  427  428  430  431  432  433  434\n",
      "  435  436  437  438  439  440  441  442  443  444  445  446  447  448\n",
      "  449  450  451  452  453  454  455  456  457  458  459  460  461  462\n",
      "  463  464  465  466  467  468  469  529  982 1018 1019 1044 1046 1057\n",
      " 1063 1065 1071 1075 1076 1078 1081 1082 1083 1086 1088 1095 1098 1138\n",
      " 1157 1193 1194 1219 1221 1232 1238 1240 1246 1250 1251 1253 1256 1257\n",
      " 1258 1261 1263 1270 1273 1313 1332 1368 1369 1394 1396 1407 1413 1415\n",
      " 1421 1422 1425 1426 1428 1431 1432 1433 1436 1438 1445 1448] are constant.\n",
      "  warnings.warn(\"Features %s are constant.\" % constant_features_idx,\n",
      "C:\\ProgramData\\Anaconda3\\lib\\site-packages\\sklearn\\feature_selection\\_univariate_selection.py:116: RuntimeWarning: invalid value encountered in true_divide\n",
      "  f = msb / msw\n"
     ]
    },
    {
     "name": "stdout",
     "output_type": "stream",
     "text": [
      "[LibSVM]"
     ]
    },
    {
     "name": "stderr",
     "output_type": "stream",
     "text": [
      "C:\\ProgramData\\Anaconda3\\lib\\site-packages\\sklearn\\feature_selection\\_univariate_selection.py:114: UserWarning: Features [   1    2    3    4    5    6    7    8    9   10   15   18   20  113\n",
      "  114  116  117  118  119  120  121  122  123  124  125  127  259  266\n",
      "  270  271  272  273  274  276  277  278  279  280  281  282  283  284\n",
      "  285  286  287  288  289  290  291  292  293  294  295  296  297  298\n",
      "  299  300  301  302  303  304  305  306  307  308  309  310  311  312\n",
      "  313  314  315  316  317  423  425  427  428  430  431  432  433  434\n",
      "  435  436  437  438  439  440  441  442  443  444  445  446  447  448\n",
      "  449  450  451  452  453  454  455  456  457  458  459  460  461  462\n",
      "  463  464  465  466  467  468  469  529  982 1018 1019 1044 1046 1057\n",
      " 1063 1065 1071 1075 1076 1078 1081 1082 1083 1086 1088 1095 1098 1138\n",
      " 1157 1193 1194 1219 1221 1232 1238 1240 1246 1250 1251 1253 1256 1257\n",
      " 1258 1261 1263 1270 1273 1313 1332 1368 1369 1394 1396 1407 1413 1415\n",
      " 1421 1422 1425 1426 1428 1431 1432 1433 1436 1438 1445 1448] are constant.\n",
      "  warnings.warn(\"Features %s are constant.\" % constant_features_idx,\n",
      "C:\\ProgramData\\Anaconda3\\lib\\site-packages\\sklearn\\feature_selection\\_univariate_selection.py:116: RuntimeWarning: invalid value encountered in true_divide\n",
      "  f = msb / msw\n"
     ]
    },
    {
     "name": "stdout",
     "output_type": "stream",
     "text": [
      "[LibSVM]"
     ]
    },
    {
     "name": "stderr",
     "output_type": "stream",
     "text": [
      "C:\\ProgramData\\Anaconda3\\lib\\site-packages\\sklearn\\feature_selection\\_univariate_selection.py:114: UserWarning: Features [   1    2    3    4    5    6    7    8    9   10   15   18   20  113\n",
      "  114  116  117  118  119  120  121  122  123  124  125  127  259  266\n",
      "  270  271  272  273  274  276  277  278  279  280  281  282  283  284\n",
      "  285  286  287  288  289  290  291  292  293  294  295  296  297  298\n",
      "  299  300  301  302  303  304  305  306  307  308  309  310  311  312\n",
      "  313  314  315  316  317  423  425  427  428  430  431  432  433  434\n",
      "  435  436  437  438  439  440  441  442  443  444  445  446  447  448\n",
      "  449  450  451  452  453  454  455  456  457  458  459  460  461  462\n",
      "  463  464  465  466  467  468  469  529  982 1018 1019 1044 1046 1057\n",
      " 1063 1065 1071 1075 1076 1078 1081 1082 1083 1086 1088 1095 1098 1138\n",
      " 1157 1193 1194 1219 1221 1232 1238 1240 1246 1250 1251 1253 1256 1257\n",
      " 1258 1261 1263 1270 1273 1313 1332 1368 1369 1394 1396 1407 1413 1415\n",
      " 1421 1422 1425 1426 1428 1431 1432 1433 1436 1438 1445 1448] are constant.\n",
      "  warnings.warn(\"Features %s are constant.\" % constant_features_idx,\n",
      "C:\\ProgramData\\Anaconda3\\lib\\site-packages\\sklearn\\feature_selection\\_univariate_selection.py:116: RuntimeWarning: invalid value encountered in true_divide\n",
      "  f = msb / msw\n"
     ]
    },
    {
     "name": "stdout",
     "output_type": "stream",
     "text": [
      "[LibSVM]"
     ]
    },
    {
     "name": "stderr",
     "output_type": "stream",
     "text": [
      "C:\\ProgramData\\Anaconda3\\lib\\site-packages\\sklearn\\feature_selection\\_univariate_selection.py:114: UserWarning: Features [   1    2    3    4    5    6    7    8    9   10   15   18   20  113\n",
      "  114  116  117  118  119  120  121  122  123  124  125  127  259  266\n",
      "  270  271  272  273  274  276  277  278  279  280  281  282  283  284\n",
      "  285  286  287  288  289  290  291  292  293  294  295  296  297  298\n",
      "  299  300  301  302  303  304  305  306  307  308  309  310  311  312\n",
      "  313  314  315  316  317  423  425  427  428  430  431  432  433  434\n",
      "  435  436  437  438  439  440  441  442  443  444  445  446  447  448\n",
      "  449  450  451  452  453  454  455  456  457  458  459  460  461  462\n",
      "  463  464  465  466  467  468  469  529  982 1018 1019 1044 1046 1057\n",
      " 1063 1065 1071 1075 1076 1078 1081 1082 1083 1086 1088 1095 1098 1138\n",
      " 1157 1193 1194 1219 1221 1232 1238 1240 1246 1250 1251 1253 1256 1257\n",
      " 1258 1261 1263 1270 1273 1313 1332 1368 1369 1394 1396 1407 1413 1415\n",
      " 1421 1422 1425 1426 1428 1431 1432 1433 1436 1438 1445 1448] are constant.\n",
      "  warnings.warn(\"Features %s are constant.\" % constant_features_idx,\n",
      "C:\\ProgramData\\Anaconda3\\lib\\site-packages\\sklearn\\feature_selection\\_univariate_selection.py:116: RuntimeWarning: invalid value encountered in true_divide\n",
      "  f = msb / msw\n"
     ]
    },
    {
     "name": "stdout",
     "output_type": "stream",
     "text": [
      "[LibSVM]"
     ]
    },
    {
     "name": "stderr",
     "output_type": "stream",
     "text": [
      "C:\\ProgramData\\Anaconda3\\lib\\site-packages\\sklearn\\feature_selection\\_univariate_selection.py:114: UserWarning: Features [   1    2    3    4    5    6    7    8    9   10   15   18   20  113\n",
      "  114  116  117  118  119  120  121  122  123  124  125  127  259  266\n",
      "  270  271  272  273  274  276  277  278  279  280  281  282  283  284\n",
      "  285  286  287  288  289  290  291  292  293  294  295  296  297  298\n",
      "  299  300  301  302  303  304  305  306  307  308  309  310  311  312\n",
      "  313  314  315  316  317  423  425  427  428  430  431  432  433  434\n",
      "  435  436  437  438  439  440  441  442  443  444  445  446  447  448\n",
      "  449  450  451  452  453  454  455  456  457  458  459  460  461  462\n",
      "  463  464  465  466  467  468  469  529  982 1018 1019 1044 1046 1057\n",
      " 1063 1065 1071 1075 1076 1078 1081 1082 1083 1086 1088 1095 1098 1138\n",
      " 1157 1193 1194 1219 1221 1232 1238 1240 1246 1250 1251 1253 1256 1257\n",
      " 1258 1261 1263 1270 1273 1313 1332 1368 1369 1394 1396 1407 1413 1415\n",
      " 1421 1422 1425 1426 1428 1431 1432 1433 1436 1438 1445 1448] are constant.\n",
      "  warnings.warn(\"Features %s are constant.\" % constant_features_idx,\n",
      "C:\\ProgramData\\Anaconda3\\lib\\site-packages\\sklearn\\feature_selection\\_univariate_selection.py:116: RuntimeWarning: invalid value encountered in true_divide\n",
      "  f = msb / msw\n"
     ]
    },
    {
     "name": "stdout",
     "output_type": "stream",
     "text": [
      "[LibSVM]"
     ]
    },
    {
     "name": "stderr",
     "output_type": "stream",
     "text": [
      "C:\\ProgramData\\Anaconda3\\lib\\site-packages\\sklearn\\feature_selection\\_univariate_selection.py:114: UserWarning: Features [   1    2    3    4    5    6    7    8    9   10   15   18   20  113\n",
      "  114  116  117  118  119  120  121  122  123  124  125  127  259  266\n",
      "  270  271  272  273  274  276  277  278  279  280  281  282  283  284\n",
      "  285  286  287  288  289  290  291  292  293  294  295  296  297  298\n",
      "  299  300  301  302  303  304  305  306  307  308  309  310  311  312\n",
      "  313  314  315  316  317  423  425  427  428  430  431  432  433  434\n",
      "  435  436  437  438  439  440  441  442  443  444  445  446  447  448\n",
      "  449  450  451  452  453  454  455  456  457  458  459  460  461  462\n",
      "  463  464  465  466  467  468  469  529  982 1018 1019 1044 1046 1057\n",
      " 1063 1065 1071 1075 1076 1078 1081 1082 1083 1086 1088 1095 1098 1138\n",
      " 1157 1193 1194 1219 1221 1232 1238 1240 1246 1250 1251 1253 1256 1257\n",
      " 1258 1261 1263 1270 1273 1313 1332 1368 1369 1394 1396 1407 1413 1415\n",
      " 1421 1422 1425 1426 1428 1431 1432 1433 1436 1438 1445 1448] are constant.\n",
      "  warnings.warn(\"Features %s are constant.\" % constant_features_idx,\n",
      "C:\\ProgramData\\Anaconda3\\lib\\site-packages\\sklearn\\feature_selection\\_univariate_selection.py:116: RuntimeWarning: invalid value encountered in true_divide\n",
      "  f = msb / msw\n"
     ]
    },
    {
     "name": "stdout",
     "output_type": "stream",
     "text": [
      "[LibSVM]"
     ]
    },
    {
     "name": "stderr",
     "output_type": "stream",
     "text": [
      "C:\\ProgramData\\Anaconda3\\lib\\site-packages\\sklearn\\feature_selection\\_univariate_selection.py:114: UserWarning: Features [   1    2    3    4    5    6    7    8    9   10   15   18   20  113\n",
      "  114  116  117  118  119  120  121  122  123  124  125  127  259  266\n",
      "  270  271  272  273  274  276  277  278  279  280  281  282  283  284\n",
      "  285  286  287  288  289  290  291  292  293  294  295  296  297  298\n",
      "  299  300  301  302  303  304  305  306  307  308  309  310  311  312\n",
      "  313  314  315  316  317  423  425  427  428  430  431  432  433  434\n",
      "  435  436  437  438  439  440  441  442  443  444  445  446  447  448\n",
      "  449  450  451  452  453  454  455  456  457  458  459  460  461  462\n",
      "  463  464  465  466  467  468  469  529  982 1018 1019 1044 1046 1057\n",
      " 1063 1065 1071 1075 1076 1078 1081 1082 1083 1086 1088 1095 1098 1138\n",
      " 1157 1193 1194 1219 1221 1232 1238 1240 1246 1250 1251 1253 1256 1257\n",
      " 1258 1261 1263 1270 1273 1313 1332 1368 1369 1394 1396 1407 1413 1415\n",
      " 1421 1422 1425 1426 1428 1431 1432 1433 1436 1438 1445 1448] are constant.\n",
      "  warnings.warn(\"Features %s are constant.\" % constant_features_idx,\n",
      "C:\\ProgramData\\Anaconda3\\lib\\site-packages\\sklearn\\feature_selection\\_univariate_selection.py:116: RuntimeWarning: invalid value encountered in true_divide\n",
      "  f = msb / msw\n"
     ]
    },
    {
     "name": "stdout",
     "output_type": "stream",
     "text": [
      "[LibSVM]"
     ]
    },
    {
     "name": "stderr",
     "output_type": "stream",
     "text": [
      "C:\\ProgramData\\Anaconda3\\lib\\site-packages\\sklearn\\feature_selection\\_univariate_selection.py:114: UserWarning: Features [   1    2    3    4    5    6    7    8    9   10   15   18   20  113\n",
      "  114  116  117  118  119  120  121  122  123  124  125  127  259  266\n",
      "  270  271  272  273  274  276  277  278  279  280  281  282  283  284\n",
      "  285  286  287  288  289  290  291  292  293  294  295  296  297  298\n",
      "  299  300  301  302  303  304  305  306  307  308  309  310  311  312\n",
      "  313  314  315  316  317  423  425  427  428  430  431  432  433  434\n",
      "  435  436  437  438  439  440  441  442  443  444  445  446  447  448\n",
      "  449  450  451  452  453  454  455  456  457  458  459  460  461  462\n",
      "  463  464  465  466  467  468  469  529  982 1018 1019 1044 1046 1057\n",
      " 1063 1065 1071 1075 1076 1078 1081 1082 1083 1086 1088 1095 1098 1138\n",
      " 1157 1193 1194 1219 1221 1232 1238 1240 1246 1250 1251 1253 1256 1257\n",
      " 1258 1261 1263 1270 1273 1313 1332 1368 1369 1394 1396 1407 1413 1415\n",
      " 1421 1422 1425 1426 1428 1431 1432 1433 1436 1438 1445 1448] are constant.\n",
      "  warnings.warn(\"Features %s are constant.\" % constant_features_idx,\n",
      "C:\\ProgramData\\Anaconda3\\lib\\site-packages\\sklearn\\feature_selection\\_univariate_selection.py:116: RuntimeWarning: invalid value encountered in true_divide\n",
      "  f = msb / msw\n"
     ]
    },
    {
     "name": "stdout",
     "output_type": "stream",
     "text": [
      "[LibSVM]"
     ]
    },
    {
     "name": "stderr",
     "output_type": "stream",
     "text": [
      "C:\\ProgramData\\Anaconda3\\lib\\site-packages\\sklearn\\feature_selection\\_univariate_selection.py:114: UserWarning: Features [   1    2    3    4    5    6    7    8    9   10   15   18   20  113\n",
      "  114  116  117  118  119  120  121  122  123  124  125  127  259  266\n",
      "  270  271  272  273  274  276  277  278  279  280  281  282  283  284\n",
      "  285  286  287  288  289  290  291  292  293  294  295  296  297  298\n",
      "  299  300  301  302  303  304  305  306  307  308  309  310  311  312\n",
      "  313  314  315  316  317  423  425  427  428  430  431  432  433  434\n",
      "  435  436  437  438  439  440  441  442  443  444  445  446  447  448\n",
      "  449  450  451  452  453  454  455  456  457  458  459  460  461  462\n",
      "  463  464  465  466  467  468  469  529  982 1018 1019 1044 1046 1057\n",
      " 1063 1065 1071 1075 1076 1078 1081 1082 1083 1086 1088 1095 1098 1138\n",
      " 1157 1193 1194 1219 1221 1232 1238 1240 1246 1250 1251 1253 1256 1257\n",
      " 1258 1261 1263 1270 1273 1313 1332 1368 1369 1394 1396 1407 1413 1415\n",
      " 1421 1422 1425 1426 1428 1431 1432 1433 1436 1438 1445 1448] are constant.\n",
      "  warnings.warn(\"Features %s are constant.\" % constant_features_idx,\n",
      "C:\\ProgramData\\Anaconda3\\lib\\site-packages\\sklearn\\feature_selection\\_univariate_selection.py:116: RuntimeWarning: invalid value encountered in true_divide\n",
      "  f = msb / msw\n"
     ]
    },
    {
     "name": "stdout",
     "output_type": "stream",
     "text": [
      "[LibSVM]"
     ]
    },
    {
     "name": "stderr",
     "output_type": "stream",
     "text": [
      "C:\\ProgramData\\Anaconda3\\lib\\site-packages\\sklearn\\feature_selection\\_univariate_selection.py:114: UserWarning: Features [   1    2    3    4    5    6    7    8    9   10   15   18   20  113\n",
      "  114  116  117  118  119  120  121  122  123  124  125  127  259  266\n",
      "  270  271  272  273  274  276  277  278  279  280  281  282  283  284\n",
      "  285  286  287  288  289  290  291  292  293  294  295  296  297  298\n",
      "  299  300  301  302  303  304  305  306  307  308  309  310  311  312\n",
      "  313  314  315  316  317  423  425  427  428  430  431  432  433  434\n",
      "  435  436  437  438  439  440  441  442  443  444  445  446  447  448\n",
      "  449  450  451  452  453  454  455  456  457  458  459  460  461  462\n",
      "  463  464  465  466  467  468  469  529  982 1018 1019 1044 1046 1057\n",
      " 1063 1065 1071 1075 1076 1078 1081 1082 1083 1086 1088 1095 1098 1138\n",
      " 1157 1193 1194 1219 1221 1232 1238 1240 1246 1250 1251 1253 1256 1257\n",
      " 1258 1261 1263 1270 1273 1313 1332 1368 1369 1394 1396 1407 1413 1415\n",
      " 1421 1422 1425 1426 1428 1431 1432 1433 1436 1438 1445 1448] are constant.\n",
      "  warnings.warn(\"Features %s are constant.\" % constant_features_idx,\n",
      "C:\\ProgramData\\Anaconda3\\lib\\site-packages\\sklearn\\feature_selection\\_univariate_selection.py:116: RuntimeWarning: invalid value encountered in true_divide\n",
      "  f = msb / msw\n"
     ]
    },
    {
     "name": "stdout",
     "output_type": "stream",
     "text": [
      "[LibSVM]"
     ]
    },
    {
     "name": "stderr",
     "output_type": "stream",
     "text": [
      "C:\\ProgramData\\Anaconda3\\lib\\site-packages\\sklearn\\feature_selection\\_univariate_selection.py:114: UserWarning: Features [   1    2    3    4    5    6    7    8    9   10   15   18   20  113\n",
      "  114  116  117  118  119  120  121  122  123  124  125  127  259  266\n",
      "  270  271  272  273  274  276  277  278  279  280  281  282  283  284\n",
      "  285  286  287  288  289  290  291  292  293  294  295  296  297  298\n",
      "  299  300  301  302  303  304  305  306  307  308  309  310  311  312\n",
      "  313  314  315  316  317  423  425  427  428  430  431  432  433  434\n",
      "  435  436  437  438  439  440  441  442  443  444  445  446  447  448\n",
      "  449  450  451  452  453  454  455  456  457  458  459  460  461  462\n",
      "  463  464  465  466  467  468  469  529  982 1018 1019 1044 1046 1057\n",
      " 1063 1065 1071 1075 1076 1078 1081 1082 1083 1086 1088 1095 1098 1138\n",
      " 1157 1193 1194 1219 1221 1232 1238 1240 1246 1250 1251 1253 1256 1257\n",
      " 1258 1261 1263 1270 1273 1313 1332 1368 1369 1394 1396 1407 1413 1415\n",
      " 1421 1422 1425 1426 1428 1431 1432 1433 1436 1438 1445 1448] are constant.\n",
      "  warnings.warn(\"Features %s are constant.\" % constant_features_idx,\n",
      "C:\\ProgramData\\Anaconda3\\lib\\site-packages\\sklearn\\feature_selection\\_univariate_selection.py:116: RuntimeWarning: invalid value encountered in true_divide\n",
      "  f = msb / msw\n"
     ]
    },
    {
     "name": "stdout",
     "output_type": "stream",
     "text": [
      "[LibSVM]"
     ]
    },
    {
     "name": "stderr",
     "output_type": "stream",
     "text": [
      "C:\\ProgramData\\Anaconda3\\lib\\site-packages\\sklearn\\feature_selection\\_univariate_selection.py:114: UserWarning: Features [   1    2    3    4    5    6    7    8    9   10   15   18   20  113\n",
      "  114  116  117  118  119  120  121  122  123  124  125  127  259  266\n",
      "  270  271  272  273  274  276  277  278  279  280  281  282  283  284\n",
      "  285  286  287  288  289  290  291  292  293  294  295  296  297  298\n",
      "  299  300  301  302  303  304  305  306  307  308  309  310  311  312\n",
      "  313  314  315  316  317  423  425  427  428  430  431  432  433  434\n",
      "  435  436  437  438  439  440  441  442  443  444  445  446  447  448\n",
      "  449  450  451  452  453  454  455  456  457  458  459  460  461  462\n",
      "  463  464  465  466  467  468  469  529  982 1018 1019 1044 1046 1057\n",
      " 1063 1065 1071 1075 1076 1078 1081 1082 1083 1086 1088 1095 1098 1138\n",
      " 1157 1193 1194 1219 1221 1232 1238 1240 1246 1250 1251 1253 1256 1257\n",
      " 1258 1261 1263 1270 1273 1313 1332 1368 1369 1394 1396 1407 1413 1415\n",
      " 1421 1422 1425 1426 1428 1431 1432 1433 1436 1438 1445 1448] are constant.\n",
      "  warnings.warn(\"Features %s are constant.\" % constant_features_idx,\n",
      "C:\\ProgramData\\Anaconda3\\lib\\site-packages\\sklearn\\feature_selection\\_univariate_selection.py:116: RuntimeWarning: invalid value encountered in true_divide\n",
      "  f = msb / msw\n"
     ]
    },
    {
     "name": "stdout",
     "output_type": "stream",
     "text": [
      "[LibSVM]"
     ]
    },
    {
     "name": "stderr",
     "output_type": "stream",
     "text": [
      "C:\\ProgramData\\Anaconda3\\lib\\site-packages\\sklearn\\feature_selection\\_univariate_selection.py:114: UserWarning: Features [   1    2    3    4    5    6    7    8    9   10   15   18   20  113\n",
      "  114  116  117  118  119  120  121  122  123  124  125  127  259  266\n",
      "  270  271  272  273  274  276  277  278  279  280  281  282  283  284\n",
      "  285  286  287  288  289  290  291  292  293  294  295  296  297  298\n",
      "  299  300  301  302  303  304  305  306  307  308  309  310  311  312\n",
      "  313  314  315  316  317  423  425  427  428  430  431  432  433  434\n",
      "  435  436  437  438  439  440  441  442  443  444  445  446  447  448\n",
      "  449  450  451  452  453  454  455  456  457  458  459  460  461  462\n",
      "  463  464  465  466  467  468  469  529  982 1018 1019 1044 1046 1057\n",
      " 1063 1065 1071 1075 1076 1078 1081 1082 1083 1086 1088 1095 1098 1138\n",
      " 1157 1193 1194 1219 1221 1232 1238 1240 1246 1250 1251 1253 1256 1257\n",
      " 1258 1261 1263 1270 1273 1313 1332 1368 1369 1394 1396 1407 1413 1415\n",
      " 1421 1422 1425 1426 1428 1431 1432 1433 1436 1438 1445 1448] are constant.\n",
      "  warnings.warn(\"Features %s are constant.\" % constant_features_idx,\n",
      "C:\\ProgramData\\Anaconda3\\lib\\site-packages\\sklearn\\feature_selection\\_univariate_selection.py:116: RuntimeWarning: invalid value encountered in true_divide\n",
      "  f = msb / msw\n"
     ]
    },
    {
     "name": "stdout",
     "output_type": "stream",
     "text": [
      "[LibSVM]"
     ]
    },
    {
     "name": "stderr",
     "output_type": "stream",
     "text": [
      "C:\\ProgramData\\Anaconda3\\lib\\site-packages\\sklearn\\feature_selection\\_univariate_selection.py:114: UserWarning: Features [   1    2    3    4    5    6    7    8    9   10   15   18   20  113\n",
      "  114  116  117  118  119  120  121  122  123  124  125  127  259  266\n",
      "  270  271  272  273  274  276  277  278  279  280  281  282  283  284\n",
      "  285  286  287  288  289  290  291  292  293  294  295  296  297  298\n",
      "  299  300  301  302  303  304  305  306  307  308  309  310  311  312\n",
      "  313  314  315  316  317  423  425  427  428  430  431  432  433  434\n",
      "  435  436  437  438  439  440  441  442  443  444  445  446  447  448\n",
      "  449  450  451  452  453  454  455  456  457  458  459  460  461  462\n",
      "  463  464  465  466  467  468  469  529  982 1018 1019 1044 1046 1057\n",
      " 1063 1065 1071 1075 1076 1078 1081 1082 1083 1086 1088 1095 1098 1138\n",
      " 1157 1193 1194 1219 1221 1232 1238 1240 1246 1250 1251 1253 1256 1257\n",
      " 1258 1261 1263 1270 1273 1313 1332 1368 1369 1394 1396 1407 1413 1415\n",
      " 1421 1422 1425 1426 1428 1431 1432 1433 1436 1438 1445 1448] are constant.\n",
      "  warnings.warn(\"Features %s are constant.\" % constant_features_idx,\n",
      "C:\\ProgramData\\Anaconda3\\lib\\site-packages\\sklearn\\feature_selection\\_univariate_selection.py:116: RuntimeWarning: invalid value encountered in true_divide\n",
      "  f = msb / msw\n"
     ]
    },
    {
     "name": "stdout",
     "output_type": "stream",
     "text": [
      "[LibSVM]"
     ]
    },
    {
     "name": "stderr",
     "output_type": "stream",
     "text": [
      "C:\\ProgramData\\Anaconda3\\lib\\site-packages\\sklearn\\feature_selection\\_univariate_selection.py:114: UserWarning: Features [   1    2    3    4    5    6    7    8    9   10   15   18   20  113\n",
      "  114  116  117  118  119  120  121  122  123  124  125  127  259  266\n",
      "  270  271  272  273  274  276  277  278  279  280  281  282  283  284\n",
      "  285  286  287  288  289  290  291  292  293  294  295  296  297  298\n",
      "  299  300  301  302  303  304  305  306  307  308  309  310  311  312\n",
      "  313  314  315  316  317  423  425  427  428  430  431  432  433  434\n",
      "  435  436  437  438  439  440  441  442  443  444  445  446  447  448\n",
      "  449  450  451  452  453  454  455  456  457  458  459  460  461  462\n",
      "  463  464  465  466  467  468  469  529  982 1018 1019 1044 1046 1057\n",
      " 1063 1065 1071 1075 1076 1078 1081 1082 1083 1086 1088 1095 1098 1138\n",
      " 1157 1193 1194 1219 1221 1232 1238 1240 1246 1250 1251 1253 1256 1257\n",
      " 1258 1261 1263 1270 1273 1313 1332 1368 1369 1394 1396 1407 1413 1415\n",
      " 1421 1422 1425 1426 1428 1431 1432 1433 1436 1438 1445 1448] are constant.\n",
      "  warnings.warn(\"Features %s are constant.\" % constant_features_idx,\n",
      "C:\\ProgramData\\Anaconda3\\lib\\site-packages\\sklearn\\feature_selection\\_univariate_selection.py:116: RuntimeWarning: invalid value encountered in true_divide\n",
      "  f = msb / msw\n"
     ]
    },
    {
     "name": "stdout",
     "output_type": "stream",
     "text": [
      "[LibSVM]Wall time: 4min 21s\n"
     ]
    }
   ],
   "source": [
    "%%time\n",
    "clf = svm.SVC(C=0.1, kernel='linear', verbose = True)\n",
    "num_features = []\n",
    "train_acc_F_measure = []\n",
    "test_acc_F_measure = []\n",
    "xcols = np.array(xcols)\n",
    "for count in range(5,1496,5):\n",
    "    cv = RepeatedStratifiedKFold(n_splits=10, n_repeats=20)\n",
    "    test = SelectKBest(score_func=f_classif, k = count)\n",
    "    X_F_measure = test.fit_transform(normalized_X,Y.values.ravel())\n",
    "    f_xcols = xcols[test.get_support()]\n",
    "    X_F_measure = pd.DataFrame(X_F_measure, columns=f_xcols)\n",
    "    X_train2, X_test2, Y_train2, Y_test2 = train_test_split(X_F_measure, Y, test_size=0.3)\n",
    "    clf.fit(X_train2, Y_train2.values.ravel())\n",
    "    train_accuracy_svm_f = cross_val_score(clf, X_train2, Y_train2.values.ravel(), cv=cv, n_jobs=15).mean()\n",
    "    test_accuracy_svm_f = clf.score(X_test2, Y_test2.values.ravel())\n",
    "    \n",
    "    num_features.append(count)\n",
    "    train_acc_F_measure.append(train_accuracy_svm_f)\n",
    "    test_acc_F_measure.append(test_accuracy_svm_f)\n",
    "    \n",
    "    "
   ]
  },
  {
   "cell_type": "code",
   "execution_count": 16,
   "id": "ba86fb66",
   "metadata": {},
   "outputs": [
    {
     "name": "stdout",
     "output_type": "stream",
     "text": [
      "Number of features: 365\n",
      "Train Accuracy: 0.5160164835164835\n",
      "Test Accuracy: 0.6440677966101694\n"
     ]
    }
   ],
   "source": [
    "best_tacc_f = max(test_acc_F_measure)\n",
    "nfeats = num_features[test_acc_F_measure.index(best_tacc_f)]\n",
    "corr_train_f = train_acc_F_measure[test_acc_F_measure.index(best_tacc_f)]\n",
    "\n",
    "print(\"Number of features: \" + str(nfeats))\n",
    "print(\"Train Accuracy: \" + str(corr_train_f))\n",
    "print(\"Test Accuracy: \" + str(best_tacc_f))"
   ]
  },
  {
   "cell_type": "markdown",
   "id": "6772d287",
   "metadata": {},
   "source": [
    "#  Graph Maker"
   ]
  },
  {
   "cell_type": "code",
   "execution_count": 17,
   "id": "2bbb915c",
   "metadata": {},
   "outputs": [
    {
     "name": "stdout",
     "output_type": "stream",
     "text": [
      "['None', 'Random Forest', 'RFE', 'ANOVA F Measure']\n",
      "[0.3042307692307692, 0.3857967032967033, 0.6853021978021977, 0.5160164835164835]\n",
      "[0.3389830508474576, 0.3559322033898305, 0.4745762711864407, 0.6440677966101694]\n"
     ]
    },
    {
     "data": {
      "image/png": "[encoded data removed]",
      "text/plain": [
       "<Figure size 432x288 with 1 Axes>"
      ]
     },
     "metadata": {
      "needs_background": "light"
     },
     "output_type": "display_data"
    },
    {
     "data": {
      "image/png": "[encoded data removed]",
      "text/plain": [
       "<Figure size 432x288 with 1 Axes>"
      ]
     },
     "metadata": {
      "needs_background": "light"
     },
     "output_type": "display_data"
    }
   ],
   "source": [
    "train_accuracy_list = [train_accuracy_svm_norm, train_accuracy_svm_rf, train_accuracy_svm_rfe, corr_train_f ]\n",
    "test_accuracy_list = [test_accuracy_svm_norm, test_accuracy_svm_rf, test_accuracy_svm_rfe, best_tacc_f ]\n",
    "labels = ['None', 'Random Forest', 'RFE', 'ANOVA F Measure']\n",
    "\n",
    "print(labels)\n",
    "print(train_accuracy_list)\n",
    "print(test_accuracy_list)\n",
    "\n",
    "fig1,ax1 = plt.subplots()\n",
    "ax1.set_title(\"Training Accuracy for SVM Classifier with feature selection\")\n",
    "ax1.bar(labels, train_accuracy_list)\n",
    "plt.savefig(\"Train_Accuracy.png\")\n",
    "\n",
    "fig2,ax2 = plt.subplots()\n",
    "ax2.set_title(\"Testing Accuracy for SVM Classifier with feature selection\")\n",
    "ax2.bar(labels, test_accuracy_list, color='r')\n",
    "plt.savefig(\"Test_Accuracy.png\")"
   ]
  },
  {
   "cell_type": "code",
   "execution_count": null,
   "id": "5dfd4120",
   "metadata": {},
   "outputs": [],
   "source": []
  }
 ],
 "metadata": {
  "kernelspec": {
   "display_name": "Python 3 (ipykernel)",
   "language": "python",
   "name": "python3"
  },
  "language_info": {
   "codemirror_mode": {
    "name": "ipython",
    "version": 3
   },
   "file_extension": ".py",
   "mimetype": "text/x-python",
   "name": "python",
   "nbconvert_exporter": "python",
   "pygments_lexer": "ipython3",
   "version": "3.9.7"
  }
 },
 "nbformat": 4,
 "nbformat_minor": 5
}
