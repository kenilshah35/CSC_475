{
 "cells": [
  {
   "cell_type": "code",
   "execution_count": 1,
   "id": "1b3e2206",
   "metadata": {},
   "outputs": [],
   "source": [
    "import os\n",
    "import matplotlib.pyplot as plt\n",
    "import pandas as pd\n",
    "import numpy as np\n",
    "from sklearn.model_selection import train_test_split\n",
    "from sklearn.svm import LinearSVC\n",
    "from sklearn import preprocessing\n",
    "from sklearn.model_selection import cross_val_score\n",
    "from sklearn import svm\n",
    "from sklearn.feature_selection import RFECV\n",
    "from sklearn.feature_selection import RFE\n",
    "from sklearn.ensemble import RandomForestClassifier\n",
    "from sklearn.model_selection import StratifiedKFold\n",
    "from sklearn.model_selection import GridSearchCV\n",
    "from sklearn.feature_selection import SelectFromModel\n",
    "from sklearn.metrics import accuracy_score\n",
    "from sklearn.model_selection import RepeatedStratifiedKFold\n",
    "from sklearn.feature_selection import SelectKBest\n",
    "from sklearn.feature_selection import f_classif\n",
    "from sklearn.feature_selection import chi2\n",
    "import nltk\n",
    "import re\n",
    "from sklearn.feature_extraction.text import CountVectorizer\n",
    "from sklearn.feature_extraction.text import TfidfTransformer\n",
    "from sklearn.feature_extraction.text import TfidfVectorizer\n",
    "from sklearn import metrics\n",
    "from sklearn.model_selection import GridSearchCV\n",
    "from sklearn.decomposition import PCA\n",
    "from sklearn.decomposition import TruncatedSVD"
   ]
  },
  {
   "cell_type": "code",
   "execution_count": 2,
   "id": "9f1f07ce",
   "metadata": {},
   "outputs": [],
   "source": [
    "# this text preprocessor function was originally written by Mauro Di Pietro\n",
    "def utils_preprocess_text(text, flg_stemm=False, flg_lemm=True, lst_stopwords=None):\n",
    "    # clean (convert to lowercase and remove punctuations and   \n",
    "    # characters and then strip)\n",
    "    text = re.sub(r'[^\\w\\s]', '', str(text).lower().strip())\n",
    "            \n",
    "    ## Tokenize (convert from string to list)\n",
    "    lst_text = text.split()\n",
    "    ## remove Stopwords\n",
    "    if lst_stopwords is not None:\n",
    "        lst_text = [word for word in lst_text if word not in \n",
    "                    lst_stopwords]\n",
    "                \n",
    "    ## Stemming (remove -ing, -ly, ...)\n",
    "    if flg_stemm == True:\n",
    "        ps = nltk.stem.porter.PorterStemmer()\n",
    "        lst_text = [ps.stem(word) for word in lst_text]\n",
    "                \n",
    "    ## Lemmatisation (convert the word into root word)\n",
    "    if flg_lemm == True:\n",
    "        lem = nltk.stem.wordnet.WordNetLemmatizer()\n",
    "        lst_text = [lem.lemmatize(word) for word in lst_text]\n",
    "            \n",
    "    ## back to string from list\n",
    "    text = \" \".join(lst_text)\n",
    "    return text"
   ]
  },
  {
   "cell_type": "code",
   "execution_count": 3,
   "id": "191bd67f",
   "metadata": {},
   "outputs": [],
   "source": [
    "df = pd.read_csv(\"lyric_bag.csv\")\n",
    "lst_stopwords = nltk.corpus.stopwords.words(\"english\")\n",
    "\n",
    "df[\"text_clean\"] = df[\"text\"].apply(lambda x: \n",
    "          utils_preprocess_text(x, flg_stemm=False, flg_lemm=True, \n",
    "          lst_stopwords=lst_stopwords))"
   ]
  },
  {
   "cell_type": "code",
   "execution_count": 4,
   "id": "3c3d8dc9",
   "metadata": {},
   "outputs": [
    {
     "name": "stdout",
     "output_type": "stream",
     "text": [
      "(534,) (534, 1)\n",
      "(230,) (230, 1)\n"
     ]
    }
   ],
   "source": [
    "le = preprocessing.LabelEncoder()\n",
    "X = df['text_clean']\n",
    "Y = df['cluster']\n",
    "Y = pd.DataFrame(Y)\n",
    "# X = pd.DataFrame(X)\n",
    "Y = Y.apply(lambda col: le.fit_transform(col.astype(str)), axis=0, result_type='expand')\n",
    "\n",
    "X_train, X_test, Y_train, Y_test = train_test_split(X, Y, test_size=0.3, stratify=Y)\n",
    "print(X_train.shape, Y_train.shape)\n",
    "print(X_test.shape, Y_test.shape)"
   ]
  },
  {
   "cell_type": "code",
   "execution_count": 5,
   "id": "fea006d2",
   "metadata": {},
   "outputs": [
    {
     "name": "stdout",
     "output_type": "stream",
     "text": [
      "(534, 94846) (230, 94846)\n",
      "<class 'scipy.sparse.csr.csr_matrix'> <class 'scipy.sparse.csr.csr_matrix'>\n"
     ]
    }
   ],
   "source": [
    "vectorizer = TfidfVectorizer(ngram_range=(1,3))\n",
    "#vectorizer = CountVectorizer(ngram_range=(1,3))\n",
    "X_train = vectorizer.fit_transform(X_train.values)\n",
    "X_test = vectorizer.transform(X_test.values)\n",
    "print(X_train.shape, X_test.shape)\n",
    "print(type(X_train),type(X_test))"
   ]
  },
  {
   "cell_type": "code",
   "execution_count": 6,
   "id": "b8532696",
   "metadata": {},
   "outputs": [
    {
     "data": {
      "text/plain": [
       "2    134\n",
       "3    121\n",
       "1     97\n",
       "0     94\n",
       "4     88\n",
       "Name: cluster, dtype: int64"
      ]
     },
     "execution_count": 6,
     "metadata": {},
     "output_type": "execute_result"
    }
   ],
   "source": [
    "Y_train['cluster'].value_counts()"
   ]
  },
  {
   "cell_type": "code",
   "execution_count": 7,
   "id": "ef1b35d2",
   "metadata": {},
   "outputs": [],
   "source": [
    "# %%time\n",
    "# clf = svm.SVC(C=1, kernel='linear', verbose = True)\n",
    "# #clf = LinearSVC(C=0.1, max_iter = 10000000)\n",
    "# cv = RepeatedStratifiedKFold(n_splits=10, n_repeats=20)\n",
    "\n",
    "# clf.fit(X_train, Y_train.values.ravel())\n",
    "\n",
    "# train_acc = cross_val_score(clf, X_train, Y_train.values.ravel(), cv=cv, n_jobs=15).mean()\n",
    "\n",
    "# Y_predict = clf.predict(X_test)\n",
    "# test_acc = metrics.accuracy_score(Y_test,Y_predict)\n",
    "\n",
    "# #test_acc = clf.score(X_test, Y_test.values.ravel())\n",
    "\n",
    "# print(\"Training accuracy \" + str(train_acc))\n",
    "# print(\"Test accuracy \" + str(test_acc))"
   ]
  },
  {
   "cell_type": "code",
   "execution_count": 8,
   "id": "dc2b3f00",
   "metadata": {},
   "outputs": [
    {
     "name": "stdout",
     "output_type": "stream",
     "text": [
      "Fitting 200 folds for each of 4 candidates, totalling 800 fits\n",
      "Wall time: 1min 4s\n"
     ]
    },
    {
     "data": {
      "text/plain": [
       "GridSearchCV(cv=RepeatedStratifiedKFold(n_repeats=20, n_splits=10, random_state=None),\n",
       "             estimator=SVC(), n_jobs=15,\n",
       "             param_grid={'C': [1, 10, 100, 1000], 'kernel': ['linear']},\n",
       "             return_train_score=True, verbose=3)"
      ]
     },
     "execution_count": 8,
     "metadata": {},
     "output_type": "execute_result"
    }
   ],
   "source": [
    "%%time\n",
    "param = {'C': [1, 10, 100,1000],\n",
    "              'kernel': ['linear']}\n",
    "\n",
    "cv = RepeatedStratifiedKFold(n_splits=10, n_repeats=20)\n",
    "\n",
    "grid = GridSearchCV(svm.SVC(), param, verbose = 3, cv=cv, return_train_score=True, n_jobs=15)\n",
    "grid.fit(X_train, Y_train.values.ravel())"
   ]
  },
  {
   "cell_type": "code",
   "execution_count": 9,
   "id": "71240629",
   "metadata": {},
   "outputs": [
    {
     "name": "stdout",
     "output_type": "stream",
     "text": [
      "{'C': 10, 'kernel': 'linear'}\n",
      "SVC(C=10, kernel='linear')\n",
      "0.3676729559748428\n"
     ]
    }
   ],
   "source": [
    "print(grid.best_params_)\n",
    "print(grid.best_estimator_)\n",
    "print(grid.best_score_)"
   ]
  },
  {
   "cell_type": "code",
   "execution_count": 10,
   "id": "e7b22020",
   "metadata": {},
   "outputs": [
    {
     "name": "stdout",
     "output_type": "stream",
     "text": [
      "0.3739130434782609\n",
      "              precision    recall  f1-score   support\n",
      "\n",
      "           0       0.30      0.24      0.27        41\n",
      "           1       0.30      0.20      0.24        41\n",
      "           2       0.43      0.78      0.55        58\n",
      "           3       0.33      0.33      0.33        52\n",
      "           4       0.46      0.16      0.24        38\n",
      "\n",
      "    accuracy                           0.37       230\n",
      "   macro avg       0.36      0.34      0.32       230\n",
      "weighted avg       0.37      0.37      0.34       230\n",
      "\n"
     ]
    }
   ],
   "source": [
    "grid_predict = grid.predict(X_test)\n",
    "print(metrics.accuracy_score(Y_test,grid_predict))\n",
    "print(metrics.classification_report(Y_test, grid_predict))"
   ]
  },
  {
   "cell_type": "code",
   "execution_count": 11,
   "id": "25a8c31d",
   "metadata": {},
   "outputs": [],
   "source": [
    "# rf_clf = RandomForestClassifier()\n",
    "# rf_clf = rf_clf.fit(X_train, Y_train.values.ravel())\n",
    "# model = SelectFromModel(rf_clf, prefit=True)\n",
    "\n",
    "# # rf_X_train = X_train.loc[:, model.get_support()]\n",
    "# # rf_X_test = X_test.loc[:, model.get_support()]\n",
    "# rf_X_train = X_train[:,model.get_support()]\n",
    "# rf_X_test = X_test[:,model.get_support()]\n",
    "# print(type(rf_X_train))\n",
    "# print(rf_X_train.shape)\n",
    "# #rf_X_train.head()"
   ]
  },
  {
   "cell_type": "code",
   "execution_count": 12,
   "id": "b5a830ad",
   "metadata": {},
   "outputs": [],
   "source": [
    "# %%time\n",
    "# param = {'C': [1, 10, 100,1000],\n",
    "#               'kernel': ['linear']}\n",
    "# cv = RepeatedStratifiedKFold(n_splits=10, n_repeats=20)\n",
    "# grid = GridSearchCV(svm.SVC(), param, verbose = 3, cv=cv, return_train_score=True, n_jobs=15)\n",
    "# grid.fit(rf_X_train, Y_train.values.ravel())\n",
    "    \n",
    "# train_accuracy_svm_rf = grid.best_score_\n",
    "    \n",
    "# grid_predict = grid.predict(rf_X_test)\n",
    "# test_accuracy_svm_rf  = metrics.accuracy_score(Y_test,grid_predict)\n",
    "\n",
    "# print(\"Training accuracy \" + str(train_accuracy_svm_rf))\n",
    "# print(\"Test accuracy \" + str(test_accuracy_svm_rf))\n",
    "# print(grid.best_params_)\n",
    "# print(metrics.classification_report(Y_test, grid_predict))"
   ]
  },
  {
   "cell_type": "code",
   "execution_count": 13,
   "id": "31516701",
   "metadata": {},
   "outputs": [
    {
     "name": "stderr",
     "output_type": "stream",
     "text": [
      "C:\\ProgramData\\Anaconda3\\lib\\site-packages\\sklearn\\utils\\deprecation.py:87: FutureWarning: Function get_feature_names is deprecated; get_feature_names is deprecated in 1.0 and will be removed in 1.2. Please use get_feature_names_out instead.\n",
      "  warnings.warn(msg, category=FutureWarning)\n"
     ]
    },
    {
     "name": "stdout",
     "output_type": "stream",
     "text": [
      "(534, 94846) (230, 94846)\n",
      "(534, 534) (230, 534)\n",
      "<class 'numpy.ndarray'> <class 'numpy.ndarray'>\n"
     ]
    }
   ],
   "source": [
    "X_train2 = pd.DataFrame(X_train.todense(),columns=vectorizer.get_feature_names())\n",
    "X_test2 = pd.DataFrame(X_test.todense(),columns=vectorizer.get_feature_names())\n",
    "print(X_train2.shape,X_test2.shape)\n",
    "pca = PCA()\n",
    "X_train3 = pca.fit_transform(X_train2)\n",
    "X_test3 = pca.transform(X_test2)\n",
    "print(X_train3.shape,X_test3.shape)\n",
    "print(type(X_train3),type(X_test3))"
   ]
  },
  {
   "cell_type": "code",
   "execution_count": 14,
   "id": "609961e0",
   "metadata": {},
   "outputs": [
    {
     "name": "stdout",
     "output_type": "stream",
     "text": [
      "534\n"
     ]
    }
   ],
   "source": [
    "print(pca.n_components_)\n",
    "#print(pca.explained_variance_)\n",
    "#print(pca.explained_variance_ratio_)"
   ]
  },
  {
   "cell_type": "code",
   "execution_count": 15,
   "id": "33125a3b",
   "metadata": {},
   "outputs": [
    {
     "data": {
      "text/plain": [
       "Text(0, 0.5, 'cumulative explained variance')"
      ]
     },
     "execution_count": 15,
     "metadata": {},
     "output_type": "execute_result"
    },
    {
     "data": {
      "image/png": "[encoded data removed]",
      "text/plain": [
       "<Figure size 432x288 with 1 Axes>"
      ]
     },
     "metadata": {
      "needs_background": "light"
     },
     "output_type": "display_data"
    }
   ],
   "source": [
    "plt.plot(np.cumsum(pca.explained_variance_ratio_))\n",
    "plt.xlabel('number of components')\n",
    "plt.ylabel('cumulative explained variance')\n"
   ]
  },
  {
   "cell_type": "code",
   "execution_count": 16,
   "id": "b9c99602",
   "metadata": {},
   "outputs": [],
   "source": [
    "components = np.where(np.cumsum(pca.explained_variance_ratio_) == max(np.cumsum(pca.explained_variance_ratio_)))[0][0]"
   ]
  },
  {
   "cell_type": "code",
   "execution_count": 17,
   "id": "3aeb6350",
   "metadata": {},
   "outputs": [
    {
     "name": "stdout",
     "output_type": "stream",
     "text": [
      "(534, 527) (230, 527)\n",
      "<class 'numpy.ndarray'> <class 'numpy.ndarray'>\n",
      "Fitting 200 folds for each of 6 candidates, totalling 1200 fits\n",
      "{'C': 10, 'kernel': 'linear'}\n",
      "SVC(C=10, kernel='linear')\n",
      "0.365798392732355\n",
      "0.3739130434782609\n",
      "              precision    recall  f1-score   support\n",
      "\n",
      "           0       0.30      0.24      0.27        41\n",
      "           1       0.30      0.20      0.24        41\n",
      "           2       0.43      0.78      0.55        58\n",
      "           3       0.33      0.33      0.33        52\n",
      "           4       0.46      0.16      0.24        38\n",
      "\n",
      "    accuracy                           0.37       230\n",
      "   macro avg       0.36      0.34      0.32       230\n",
      "weighted avg       0.37      0.37      0.34       230\n",
      "\n",
      "Wall time: 42.4 s\n"
     ]
    }
   ],
   "source": [
    "%%time\n",
    "pca = PCA(n_components=components)\n",
    "X_train3 = pca.fit_transform(X_train2)\n",
    "X_test3 = pca.transform(X_test2)\n",
    "print(X_train3.shape,X_test3.shape)\n",
    "print(type(X_train3),type(X_test3))\n",
    "\n",
    "param = {'C': [0.01,0.1,1, 10, 100,1000],\n",
    "              'kernel': ['linear']}\n",
    "\n",
    "cv = RepeatedStratifiedKFold(n_splits=10, n_repeats=20)\n",
    "\n",
    "grid = GridSearchCV(svm.SVC(), param, verbose = 3, cv=cv, return_train_score=True, n_jobs=15)\n",
    "grid.fit(X_train3, Y_train.values.ravel())\n",
    "\n",
    "print(grid.best_params_)\n",
    "print(grid.best_estimator_)\n",
    "print(grid.best_score_)\n",
    "\n",
    "\n",
    "grid_predict = grid.predict(X_test3)\n",
    "print(metrics.accuracy_score(Y_test,grid_predict))\n",
    "print(metrics.classification_report(Y_test, grid_predict))"
   ]
  },
  {
   "cell_type": "code",
   "execution_count": null,
   "id": "26391c01",
   "metadata": {},
   "outputs": [],
   "source": []
  },
  {
   "cell_type": "code",
   "execution_count": null,
   "id": "1e3fa634",
   "metadata": {},
   "outputs": [],
   "source": []
  },
  {
   "cell_type": "code",
   "execution_count": null,
   "id": "5e6c7b54",
   "metadata": {},
   "outputs": [],
   "source": []
  },
  {
   "cell_type": "code",
   "execution_count": null,
   "id": "135e1556",
   "metadata": {},
   "outputs": [],
   "source": []
  }
 ],
 "metadata": {
  "kernelspec": {
   "display_name": "Python 3 (ipykernel)",
   "language": "python",
   "name": "python3"
  },
  "language_info": {
   "codemirror_mode": {
    "name": "ipython",
    "version": 3
   },
   "file_extension": ".py",
   "mimetype": "text/x-python",
   "name": "python",
   "nbconvert_exporter": "python",
   "pygments_lexer": "ipython3",
   "version": "3.9.7"
  }
 },
 "nbformat": 4,
 "nbformat_minor": 5
}
